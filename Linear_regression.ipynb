{
  "nbformat": 4,
  "nbformat_minor": 0,
  "metadata": {
    "colab": {
      "provenance": []
    },
    "kernelspec": {
      "name": "python3",
      "display_name": "Python 3"
    }
  },
  "cells": [
    {
      "cell_type": "code",
      "metadata": {
        "id": "F1f4kxx8PGI1"
      },
      "source": [
        "import pandas as pd\n",
        "import numpy as np\n",
        "# Plotting.\n",
        "import matplotlib.pyplot as plt\n",
        "plt.style.use('fivethirtyeight')\n",
        "plt.rcParams['figure.figsize'] = (10, 6)\n",
        "%config InlineBackend.figure_formats = ['svg']"
      ],
      "execution_count": null,
      "outputs": []
    },
    {
      "cell_type": "markdown",
      "metadata": {
        "id": "2h84j9lvVycx"
      },
      "source": [
        "## Fitting a linear regression model with Gradient Descent."
      ]
    },
    {
      "cell_type": "code",
      "metadata": {
        "id": "O9hvb-4IV-G7",
        "outputId": "51282390-7f51-4fb6-f4c9-9039efa33d2b",
        "colab": {
          "base_uri": "https://localhost:8080/",
          "height": 529
        }
      },
      "source": [
        "#@title We generate datapoints from a polynomial function.\n",
        "n_points = 10\n",
        "noise_magnitude = 0.2\n",
        "\n",
        "x = np.linspace(0.0, 1.0, n_points)\n",
        "x.sort()\n",
        "\n",
        "y_real = 1.5 * x ** 1.8 - 0.3\n",
        "\n",
        "# We add some artificial noise, as it is quite common to train on noisy data.\n",
        "y = y_real + noise_magnitude * np.random.normal(size=n_points)\n",
        "\n",
        "plt.plot(x, y_real, '--', label='Real function')\n",
        "plt.scatter(x, y, s=100, c='g', label='Data points observed')\n",
        "_ = plt.legend(loc='best')"
      ],
      "execution_count": null,
      "outputs": [
        {
          "output_type": "display_data",
          "data": {
            "text/plain": [
              "<Figure size 1000x600 with 1 Axes>"
            ],
            "image/svg+xml": "<?xml version=\"1.0\" encoding=\"utf-8\" standalone=\"no\"?>\n<!DOCTYPE svg PUBLIC \"-//W3C//DTD SVG 1.1//EN\"\n  \"http://www.w3.org/Graphics/SVG/1.1/DTD/svg11.dtd\">\n<svg xmlns:xlink=\"http://www.w3.org/1999/xlink\" width=\"678.295937pt\" height=\"381.369375pt\" viewBox=\"0 0 678.295937 381.369375\" xmlns=\"http://www.w3.org/2000/svg\" version=\"1.1\">\n <metadata>\n  <rdf:RDF xmlns:dc=\"http://purl.org/dc/elements/1.1/\" xmlns:cc=\"http://creativecommons.org/ns#\" xmlns:rdf=\"http://www.w3.org/1999/02/22-rdf-syntax-ns#\">\n   <cc:Work>\n    <dc:type rdf:resource=\"http://purl.org/dc/dcmitype/StillImage\"/>\n    <dc:date>2023-11-27T11:49:15.073374</dc:date>\n    <dc:format>image/svg+xml</dc:format>\n    <dc:creator>\n     <cc:Agent>\n      <dc:title>Matplotlib v3.7.1, https://matplotlib.org/</dc:title>\n     </cc:Agent>\n    </dc:creator>\n   </cc:Work>\n  </rdf:RDF>\n </metadata>\n <defs>\n  <style type=\"text/css\">*{stroke-linejoin: round; stroke-linecap: butt}</style>\n </defs>\n <g id=\"figure_1\">\n  <g id=\"patch_1\">\n   <path d=\"M -0 381.369375 \nL 678.295937 381.369375 \nL 678.295937 0 \nL -0 0 \nz\n\" style=\"fill: #f0f0f0\"/>\n  </g>\n  <g id=\"axes_1\">\n   <g id=\"patch_2\">\n    <path d=\"M 44.695937 357.12 \nL 671.095937 357.12 \nL 671.095937 7.2 \nL 44.695937 7.2 \nz\n\" style=\"fill: #f0f0f0\"/>\n   </g>\n   <g id=\"matplotlib.axis_1\">\n    <g id=\"xtick_1\">\n     <g id=\"line2d_1\">\n      <path d=\"M 73.168665 357.12 \nL 73.168665 7.2 \n\" clip-path=\"url(#pc1cecca810)\" style=\"fill: none; stroke: #cbcbcb\"/>\n     </g>\n     <g id=\"line2d_2\"/>\n     <g id=\"text_1\">\n      <!-- 0.0 -->\n      <g transform=\"translate(62.036477 371.257813) scale(0.14 -0.14)\">\n       <defs>\n        <path id=\"DejaVuSans-30\" d=\"M 2034 4250 \nQ 1547 4250 1301 3770 \nQ 1056 3291 1056 2328 \nQ 1056 1369 1301 889 \nQ 1547 409 2034 409 \nQ 2525 409 2770 889 \nQ 3016 1369 3016 2328 \nQ 3016 3291 2770 3770 \nQ 2525 4250 2034 4250 \nz\nM 2034 4750 \nQ 2819 4750 3233 4129 \nQ 3647 3509 3647 2328 \nQ 3647 1150 3233 529 \nQ 2819 -91 2034 -91 \nQ 1250 -91 836 529 \nQ 422 1150 422 2328 \nQ 422 3509 836 4129 \nQ 1250 4750 2034 4750 \nz\n\" transform=\"scale(0.015625)\"/>\n        <path id=\"DejaVuSans-2e\" d=\"M 684 794 \nL 1344 794 \nL 1344 0 \nL 684 0 \nL 684 794 \nz\n\" transform=\"scale(0.015625)\"/>\n       </defs>\n       <use xlink:href=\"#DejaVuSans-30\"/>\n       <use xlink:href=\"#DejaVuSans-2e\" x=\"63.623047\"/>\n       <use xlink:href=\"#DejaVuSans-30\" x=\"95.410156\"/>\n      </g>\n     </g>\n    </g>\n    <g id=\"xtick_2\">\n     <g id=\"line2d_3\">\n      <path d=\"M 187.059574 357.12 \nL 187.059574 7.2 \n\" clip-path=\"url(#pc1cecca810)\" style=\"fill: none; stroke: #cbcbcb\"/>\n     </g>\n     <g id=\"line2d_4\"/>\n     <g id=\"text_2\">\n      <!-- 0.2 -->\n      <g transform=\"translate(175.927386 371.257813) scale(0.14 -0.14)\">\n       <defs>\n        <path id=\"DejaVuSans-32\" d=\"M 1228 531 \nL 3431 531 \nL 3431 0 \nL 469 0 \nL 469 531 \nQ 828 903 1448 1529 \nQ 2069 2156 2228 2338 \nQ 2531 2678 2651 2914 \nQ 2772 3150 2772 3378 \nQ 2772 3750 2511 3984 \nQ 2250 4219 1831 4219 \nQ 1534 4219 1204 4116 \nQ 875 4013 500 3803 \nL 500 4441 \nQ 881 4594 1212 4672 \nQ 1544 4750 1819 4750 \nQ 2544 4750 2975 4387 \nQ 3406 4025 3406 3419 \nQ 3406 3131 3298 2873 \nQ 3191 2616 2906 2266 \nQ 2828 2175 2409 1742 \nQ 1991 1309 1228 531 \nz\n\" transform=\"scale(0.015625)\"/>\n       </defs>\n       <use xlink:href=\"#DejaVuSans-30\"/>\n       <use xlink:href=\"#DejaVuSans-2e\" x=\"63.623047\"/>\n       <use xlink:href=\"#DejaVuSans-32\" x=\"95.410156\"/>\n      </g>\n     </g>\n    </g>\n    <g id=\"xtick_3\">\n     <g id=\"line2d_5\">\n      <path d=\"M 300.950483 357.12 \nL 300.950483 7.2 \n\" clip-path=\"url(#pc1cecca810)\" style=\"fill: none; stroke: #cbcbcb\"/>\n     </g>\n     <g id=\"line2d_6\"/>\n     <g id=\"text_3\">\n      <!-- 0.4 -->\n      <g transform=\"translate(289.818295 371.257813) scale(0.14 -0.14)\">\n       <defs>\n        <path id=\"DejaVuSans-34\" d=\"M 2419 4116 \nL 825 1625 \nL 2419 1625 \nL 2419 4116 \nz\nM 2253 4666 \nL 3047 4666 \nL 3047 1625 \nL 3713 1625 \nL 3713 1100 \nL 3047 1100 \nL 3047 0 \nL 2419 0 \nL 2419 1100 \nL 313 1100 \nL 313 1709 \nL 2253 4666 \nz\n\" transform=\"scale(0.015625)\"/>\n       </defs>\n       <use xlink:href=\"#DejaVuSans-30\"/>\n       <use xlink:href=\"#DejaVuSans-2e\" x=\"63.623047\"/>\n       <use xlink:href=\"#DejaVuSans-34\" x=\"95.410156\"/>\n      </g>\n     </g>\n    </g>\n    <g id=\"xtick_4\">\n     <g id=\"line2d_7\">\n      <path d=\"M 414.841392 357.12 \nL 414.841392 7.2 \n\" clip-path=\"url(#pc1cecca810)\" style=\"fill: none; stroke: #cbcbcb\"/>\n     </g>\n     <g id=\"line2d_8\"/>\n     <g id=\"text_4\">\n      <!-- 0.6 -->\n      <g transform=\"translate(403.709205 371.257813) scale(0.14 -0.14)\">\n       <defs>\n        <path id=\"DejaVuSans-36\" d=\"M 2113 2584 \nQ 1688 2584 1439 2293 \nQ 1191 2003 1191 1497 \nQ 1191 994 1439 701 \nQ 1688 409 2113 409 \nQ 2538 409 2786 701 \nQ 3034 994 3034 1497 \nQ 3034 2003 2786 2293 \nQ 2538 2584 2113 2584 \nz\nM 3366 4563 \nL 3366 3988 \nQ 3128 4100 2886 4159 \nQ 2644 4219 2406 4219 \nQ 1781 4219 1451 3797 \nQ 1122 3375 1075 2522 \nQ 1259 2794 1537 2939 \nQ 1816 3084 2150 3084 \nQ 2853 3084 3261 2657 \nQ 3669 2231 3669 1497 \nQ 3669 778 3244 343 \nQ 2819 -91 2113 -91 \nQ 1303 -91 875 529 \nQ 447 1150 447 2328 \nQ 447 3434 972 4092 \nQ 1497 4750 2381 4750 \nQ 2619 4750 2861 4703 \nQ 3103 4656 3366 4563 \nz\n\" transform=\"scale(0.015625)\"/>\n       </defs>\n       <use xlink:href=\"#DejaVuSans-30\"/>\n       <use xlink:href=\"#DejaVuSans-2e\" x=\"63.623047\"/>\n       <use xlink:href=\"#DejaVuSans-36\" x=\"95.410156\"/>\n      </g>\n     </g>\n    </g>\n    <g id=\"xtick_5\">\n     <g id=\"line2d_9\">\n      <path d=\"M 528.732301 357.12 \nL 528.732301 7.2 \n\" clip-path=\"url(#pc1cecca810)\" style=\"fill: none; stroke: #cbcbcb\"/>\n     </g>\n     <g id=\"line2d_10\"/>\n     <g id=\"text_5\">\n      <!-- 0.8 -->\n      <g transform=\"translate(517.600114 371.257813) scale(0.14 -0.14)\">\n       <defs>\n        <path id=\"DejaVuSans-38\" d=\"M 2034 2216 \nQ 1584 2216 1326 1975 \nQ 1069 1734 1069 1313 \nQ 1069 891 1326 650 \nQ 1584 409 2034 409 \nQ 2484 409 2743 651 \nQ 3003 894 3003 1313 \nQ 3003 1734 2745 1975 \nQ 2488 2216 2034 2216 \nz\nM 1403 2484 \nQ 997 2584 770 2862 \nQ 544 3141 544 3541 \nQ 544 4100 942 4425 \nQ 1341 4750 2034 4750 \nQ 2731 4750 3128 4425 \nQ 3525 4100 3525 3541 \nQ 3525 3141 3298 2862 \nQ 3072 2584 2669 2484 \nQ 3125 2378 3379 2068 \nQ 3634 1759 3634 1313 \nQ 3634 634 3220 271 \nQ 2806 -91 2034 -91 \nQ 1263 -91 848 271 \nQ 434 634 434 1313 \nQ 434 1759 690 2068 \nQ 947 2378 1403 2484 \nz\nM 1172 3481 \nQ 1172 3119 1398 2916 \nQ 1625 2713 2034 2713 \nQ 2441 2713 2670 2916 \nQ 2900 3119 2900 3481 \nQ 2900 3844 2670 4047 \nQ 2441 4250 2034 4250 \nQ 1625 4250 1398 4047 \nQ 1172 3844 1172 3481 \nz\n\" transform=\"scale(0.015625)\"/>\n       </defs>\n       <use xlink:href=\"#DejaVuSans-30\"/>\n       <use xlink:href=\"#DejaVuSans-2e\" x=\"63.623047\"/>\n       <use xlink:href=\"#DejaVuSans-38\" x=\"95.410156\"/>\n      </g>\n     </g>\n    </g>\n    <g id=\"xtick_6\">\n     <g id=\"line2d_11\">\n      <path d=\"M 642.62321 357.12 \nL 642.62321 7.2 \n\" clip-path=\"url(#pc1cecca810)\" style=\"fill: none; stroke: #cbcbcb\"/>\n     </g>\n     <g id=\"line2d_12\"/>\n     <g id=\"text_6\">\n      <!-- 1.0 -->\n      <g transform=\"translate(631.491023 371.257813) scale(0.14 -0.14)\">\n       <defs>\n        <path id=\"DejaVuSans-31\" d=\"M 794 531 \nL 1825 531 \nL 1825 4091 \nL 703 3866 \nL 703 4441 \nL 1819 4666 \nL 2450 4666 \nL 2450 531 \nL 3481 531 \nL 3481 0 \nL 794 0 \nL 794 531 \nz\n\" transform=\"scale(0.015625)\"/>\n       </defs>\n       <use xlink:href=\"#DejaVuSans-31\"/>\n       <use xlink:href=\"#DejaVuSans-2e\" x=\"63.623047\"/>\n       <use xlink:href=\"#DejaVuSans-30\" x=\"95.410156\"/>\n      </g>\n     </g>\n    </g>\n   </g>\n   <g id=\"matplotlib.axis_2\">\n    <g id=\"ytick_1\">\n     <g id=\"line2d_13\">\n      <path d=\"M 44.695937 320.007273 \nL 671.095937 320.007273 \n\" clip-path=\"url(#pc1cecca810)\" style=\"fill: none; stroke: #cbcbcb\"/>\n     </g>\n     <g id=\"line2d_14\"/>\n     <g id=\"text_7\">\n      <!-- −0.2 -->\n      <g transform=\"translate(7.2 325.326179) scale(0.14 -0.14)\">\n       <defs>\n        <path id=\"DejaVuSans-2212\" d=\"M 678 2272 \nL 4684 2272 \nL 4684 1741 \nL 678 1741 \nL 678 2272 \nz\n\" transform=\"scale(0.015625)\"/>\n       </defs>\n       <use xlink:href=\"#DejaVuSans-2212\"/>\n       <use xlink:href=\"#DejaVuSans-30\" x=\"83.789062\"/>\n       <use xlink:href=\"#DejaVuSans-2e\" x=\"147.412109\"/>\n       <use xlink:href=\"#DejaVuSans-32\" x=\"179.199219\"/>\n      </g>\n     </g>\n    </g>\n    <g id=\"ytick_2\">\n     <g id=\"line2d_15\">\n      <path d=\"M 44.695937 277.592727 \nL 671.095937 277.592727 \n\" clip-path=\"url(#pc1cecca810)\" style=\"fill: none; stroke: #cbcbcb\"/>\n     </g>\n     <g id=\"line2d_16\"/>\n     <g id=\"text_8\">\n      <!-- 0.0 -->\n      <g transform=\"translate(18.931562 282.911634) scale(0.14 -0.14)\">\n       <use xlink:href=\"#DejaVuSans-30\"/>\n       <use xlink:href=\"#DejaVuSans-2e\" x=\"63.623047\"/>\n       <use xlink:href=\"#DejaVuSans-30\" x=\"95.410156\"/>\n      </g>\n     </g>\n    </g>\n    <g id=\"ytick_3\">\n     <g id=\"line2d_17\">\n      <path d=\"M 44.695937 235.178182 \nL 671.095937 235.178182 \n\" clip-path=\"url(#pc1cecca810)\" style=\"fill: none; stroke: #cbcbcb\"/>\n     </g>\n     <g id=\"line2d_18\"/>\n     <g id=\"text_9\">\n      <!-- 0.2 -->\n      <g transform=\"translate(18.931562 240.497088) scale(0.14 -0.14)\">\n       <use xlink:href=\"#DejaVuSans-30\"/>\n       <use xlink:href=\"#DejaVuSans-2e\" x=\"63.623047\"/>\n       <use xlink:href=\"#DejaVuSans-32\" x=\"95.410156\"/>\n      </g>\n     </g>\n    </g>\n    <g id=\"ytick_4\">\n     <g id=\"line2d_19\">\n      <path d=\"M 44.695937 192.763636 \nL 671.095937 192.763636 \n\" clip-path=\"url(#pc1cecca810)\" style=\"fill: none; stroke: #cbcbcb\"/>\n     </g>\n     <g id=\"line2d_20\"/>\n     <g id=\"text_10\">\n      <!-- 0.4 -->\n      <g transform=\"translate(18.931562 198.082543) scale(0.14 -0.14)\">\n       <use xlink:href=\"#DejaVuSans-30\"/>\n       <use xlink:href=\"#DejaVuSans-2e\" x=\"63.623047\"/>\n       <use xlink:href=\"#DejaVuSans-34\" x=\"95.410156\"/>\n      </g>\n     </g>\n    </g>\n    <g id=\"ytick_5\">\n     <g id=\"line2d_21\">\n      <path d=\"M 44.695937 150.349091 \nL 671.095937 150.349091 \n\" clip-path=\"url(#pc1cecca810)\" style=\"fill: none; stroke: #cbcbcb\"/>\n     </g>\n     <g id=\"line2d_22\"/>\n     <g id=\"text_11\">\n      <!-- 0.6 -->\n      <g transform=\"translate(18.931562 155.667997) scale(0.14 -0.14)\">\n       <use xlink:href=\"#DejaVuSans-30\"/>\n       <use xlink:href=\"#DejaVuSans-2e\" x=\"63.623047\"/>\n       <use xlink:href=\"#DejaVuSans-36\" x=\"95.410156\"/>\n      </g>\n     </g>\n    </g>\n    <g id=\"ytick_6\">\n     <g id=\"line2d_23\">\n      <path d=\"M 44.695937 107.934545 \nL 671.095937 107.934545 \n\" clip-path=\"url(#pc1cecca810)\" style=\"fill: none; stroke: #cbcbcb\"/>\n     </g>\n     <g id=\"line2d_24\"/>\n     <g id=\"text_12\">\n      <!-- 0.8 -->\n      <g transform=\"translate(18.931562 113.253452) scale(0.14 -0.14)\">\n       <use xlink:href=\"#DejaVuSans-30\"/>\n       <use xlink:href=\"#DejaVuSans-2e\" x=\"63.623047\"/>\n       <use xlink:href=\"#DejaVuSans-38\" x=\"95.410156\"/>\n      </g>\n     </g>\n    </g>\n    <g id=\"ytick_7\">\n     <g id=\"line2d_25\">\n      <path d=\"M 44.695937 65.52 \nL 671.095937 65.52 \n\" clip-path=\"url(#pc1cecca810)\" style=\"fill: none; stroke: #cbcbcb\"/>\n     </g>\n     <g id=\"line2d_26\"/>\n     <g id=\"text_13\">\n      <!-- 1.0 -->\n      <g transform=\"translate(18.931562 70.838906) scale(0.14 -0.14)\">\n       <use xlink:href=\"#DejaVuSans-31\"/>\n       <use xlink:href=\"#DejaVuSans-2e\" x=\"63.623047\"/>\n       <use xlink:href=\"#DejaVuSans-30\" x=\"95.410156\"/>\n      </g>\n     </g>\n    </g>\n    <g id=\"ytick_8\">\n     <g id=\"line2d_27\">\n      <path d=\"M 44.695937 23.105455 \nL 671.095937 23.105455 \n\" clip-path=\"url(#pc1cecca810)\" style=\"fill: none; stroke: #cbcbcb\"/>\n     </g>\n     <g id=\"line2d_28\"/>\n     <g id=\"text_14\">\n      <!-- 1.2 -->\n      <g transform=\"translate(18.931562 28.424361) scale(0.14 -0.14)\">\n       <use xlink:href=\"#DejaVuSans-31\"/>\n       <use xlink:href=\"#DejaVuSans-2e\" x=\"63.623047\"/>\n       <use xlink:href=\"#DejaVuSans-32\" x=\"95.410156\"/>\n      </g>\n     </g>\n    </g>\n   </g>\n   <g id=\"PathCollection_1\">\n    <defs>\n     <path id=\"m1f6324c058\" d=\"M 0 5 \nC 1.326016 5 2.597899 4.473168 3.535534 3.535534 \nC 4.473168 2.597899 5 1.326016 5 0 \nC 5 -1.326016 4.473168 -2.597899 3.535534 -3.535534 \nC 2.597899 -4.473168 1.326016 -5 0 -5 \nC -1.326016 -5 -2.597899 -4.473168 -3.535534 -3.535534 \nC -4.473168 -2.597899 -5 -1.326016 -5 0 \nC -5 1.326016 -4.473168 2.597899 -3.535534 3.535534 \nC -2.597899 4.473168 -1.326016 5 0 5 \nz\n\" style=\"stroke: #008000; stroke-width: 0.5\"/>\n    </defs>\n    <g clip-path=\"url(#pc1cecca810)\">\n     <use xlink:href=\"#m1f6324c058\" x=\"73.168665\" y=\"339.187379\" style=\"fill: #008000; stroke: #008000; stroke-width: 0.5\"/>\n     <use xlink:href=\"#m1f6324c058\" x=\"136.441392\" y=\"289.499263\" style=\"fill: #008000; stroke: #008000; stroke-width: 0.5\"/>\n     <use xlink:href=\"#m1f6324c058\" x=\"199.714119\" y=\"293.366475\" style=\"fill: #008000; stroke: #008000; stroke-width: 0.5\"/>\n     <use xlink:href=\"#m1f6324c058\" x=\"262.986847\" y=\"326.460439\" style=\"fill: #008000; stroke: #008000; stroke-width: 0.5\"/>\n     <use xlink:href=\"#m1f6324c058\" x=\"326.259574\" y=\"198.446353\" style=\"fill: #008000; stroke: #008000; stroke-width: 0.5\"/>\n     <use xlink:href=\"#m1f6324c058\" x=\"389.532301\" y=\"130.715271\" style=\"fill: #008000; stroke: #008000; stroke-width: 0.5\"/>\n     <use xlink:href=\"#m1f6324c058\" x=\"452.805028\" y=\"161.699729\" style=\"fill: #008000; stroke: #008000; stroke-width: 0.5\"/>\n     <use xlink:href=\"#m1f6324c058\" x=\"516.077756\" y=\"201.530511\" style=\"fill: #008000; stroke: #008000; stroke-width: 0.5\"/>\n     <use xlink:href=\"#m1f6324c058\" x=\"579.350483\" y=\"62.045826\" style=\"fill: #008000; stroke: #008000; stroke-width: 0.5\"/>\n     <use xlink:href=\"#m1f6324c058\" x=\"642.62321\" y=\"37.70717\" style=\"fill: #008000; stroke: #008000; stroke-width: 0.5\"/>\n    </g>\n   </g>\n   <g id=\"line2d_29\">\n    <path d=\"M 73.168665 341.214545 \nL 136.441392 335.120025 \nL 199.714119 319.992191 \nL 262.986847 297.183619 \nL 326.259574 267.314016 \nL 389.532301 230.784927 \nL 452.805028 187.889955 \nL 516.077756 138.858569 \nL 579.350483 83.877956 \nL 642.62321 23.105455 \n\" clip-path=\"url(#pc1cecca810)\" style=\"fill: none; stroke-dasharray: 14.8,6.4; stroke-dashoffset: 0; stroke: #008fd5; stroke-width: 4\"/>\n   </g>\n   <g id=\"patch_3\">\n    <path d=\"M 44.695937 357.12 \nL 44.695937 7.2 \n\" style=\"fill: none; stroke: #f0f0f0; stroke-width: 3; stroke-linejoin: miter; stroke-linecap: square\"/>\n   </g>\n   <g id=\"patch_4\">\n    <path d=\"M 671.095937 357.12 \nL 671.095937 7.2 \n\" style=\"fill: none; stroke: #f0f0f0; stroke-width: 3; stroke-linejoin: miter; stroke-linecap: square\"/>\n   </g>\n   <g id=\"patch_5\">\n    <path d=\"M 44.695937 357.12 \nL 671.095937 357.12 \n\" style=\"fill: none; stroke: #f0f0f0; stroke-width: 3; stroke-linejoin: miter; stroke-linecap: square\"/>\n   </g>\n   <g id=\"patch_6\">\n    <path d=\"M 44.695937 7.2 \nL 671.095937 7.2 \n\" style=\"fill: none; stroke: #f0f0f0; stroke-width: 3; stroke-linejoin: miter; stroke-linecap: square\"/>\n   </g>\n   <g id=\"legend_1\">\n    <g id=\"patch_7\">\n     <path d=\"M 54.495937 59.49875 \nL 249.524688 59.49875 \nQ 252.324688 59.49875 252.324688 56.69875 \nL 252.324688 17 \nQ 252.324688 14.2 249.524688 14.2 \nL 54.495937 14.2 \nQ 51.695937 14.2 51.695937 17 \nL 51.695937 56.69875 \nQ 51.695937 59.49875 54.495937 59.49875 \nz\n\" style=\"fill: #f0f0f0; opacity: 0.8; stroke: #cccccc; stroke-width: 0.5; stroke-linejoin: miter\"/>\n    </g>\n    <g id=\"line2d_30\">\n     <path d=\"M 57.295938 25.537812 \nL 71.295938 25.537812 \nL 85.295938 25.537812 \n\" style=\"fill: none; stroke-dasharray: 14.8,6.4; stroke-dashoffset: 0; stroke: #008fd5; stroke-width: 4\"/>\n    </g>\n    <g id=\"text_15\">\n     <!-- Real function -->\n     <g transform=\"translate(96.495937 30.437812) scale(0.14 -0.14)\">\n      <defs>\n       <path id=\"DejaVuSans-52\" d=\"M 2841 2188 \nQ 3044 2119 3236 1894 \nQ 3428 1669 3622 1275 \nL 4263 0 \nL 3584 0 \nL 2988 1197 \nQ 2756 1666 2539 1819 \nQ 2322 1972 1947 1972 \nL 1259 1972 \nL 1259 0 \nL 628 0 \nL 628 4666 \nL 2053 4666 \nQ 2853 4666 3247 4331 \nQ 3641 3997 3641 3322 \nQ 3641 2881 3436 2590 \nQ 3231 2300 2841 2188 \nz\nM 1259 4147 \nL 1259 2491 \nL 2053 2491 \nQ 2509 2491 2742 2702 \nQ 2975 2913 2975 3322 \nQ 2975 3731 2742 3939 \nQ 2509 4147 2053 4147 \nL 1259 4147 \nz\n\" transform=\"scale(0.015625)\"/>\n       <path id=\"DejaVuSans-65\" d=\"M 3597 1894 \nL 3597 1613 \nL 953 1613 \nQ 991 1019 1311 708 \nQ 1631 397 2203 397 \nQ 2534 397 2845 478 \nQ 3156 559 3463 722 \nL 3463 178 \nQ 3153 47 2828 -22 \nQ 2503 -91 2169 -91 \nQ 1331 -91 842 396 \nQ 353 884 353 1716 \nQ 353 2575 817 3079 \nQ 1281 3584 2069 3584 \nQ 2775 3584 3186 3129 \nQ 3597 2675 3597 1894 \nz\nM 3022 2063 \nQ 3016 2534 2758 2815 \nQ 2500 3097 2075 3097 \nQ 1594 3097 1305 2825 \nQ 1016 2553 972 2059 \nL 3022 2063 \nz\n\" transform=\"scale(0.015625)\"/>\n       <path id=\"DejaVuSans-61\" d=\"M 2194 1759 \nQ 1497 1759 1228 1600 \nQ 959 1441 959 1056 \nQ 959 750 1161 570 \nQ 1363 391 1709 391 \nQ 2188 391 2477 730 \nQ 2766 1069 2766 1631 \nL 2766 1759 \nL 2194 1759 \nz\nM 3341 1997 \nL 3341 0 \nL 2766 0 \nL 2766 531 \nQ 2569 213 2275 61 \nQ 1981 -91 1556 -91 \nQ 1019 -91 701 211 \nQ 384 513 384 1019 \nQ 384 1609 779 1909 \nQ 1175 2209 1959 2209 \nL 2766 2209 \nL 2766 2266 \nQ 2766 2663 2505 2880 \nQ 2244 3097 1772 3097 \nQ 1472 3097 1187 3025 \nQ 903 2953 641 2809 \nL 641 3341 \nQ 956 3463 1253 3523 \nQ 1550 3584 1831 3584 \nQ 2591 3584 2966 3190 \nQ 3341 2797 3341 1997 \nz\n\" transform=\"scale(0.015625)\"/>\n       <path id=\"DejaVuSans-6c\" d=\"M 603 4863 \nL 1178 4863 \nL 1178 0 \nL 603 0 \nL 603 4863 \nz\n\" transform=\"scale(0.015625)\"/>\n       <path id=\"DejaVuSans-20\" transform=\"scale(0.015625)\"/>\n       <path id=\"DejaVuSans-66\" d=\"M 2375 4863 \nL 2375 4384 \nL 1825 4384 \nQ 1516 4384 1395 4259 \nQ 1275 4134 1275 3809 \nL 1275 3500 \nL 2222 3500 \nL 2222 3053 \nL 1275 3053 \nL 1275 0 \nL 697 0 \nL 697 3053 \nL 147 3053 \nL 147 3500 \nL 697 3500 \nL 697 3744 \nQ 697 4328 969 4595 \nQ 1241 4863 1831 4863 \nL 2375 4863 \nz\n\" transform=\"scale(0.015625)\"/>\n       <path id=\"DejaVuSans-75\" d=\"M 544 1381 \nL 544 3500 \nL 1119 3500 \nL 1119 1403 \nQ 1119 906 1312 657 \nQ 1506 409 1894 409 \nQ 2359 409 2629 706 \nQ 2900 1003 2900 1516 \nL 2900 3500 \nL 3475 3500 \nL 3475 0 \nL 2900 0 \nL 2900 538 \nQ 2691 219 2414 64 \nQ 2138 -91 1772 -91 \nQ 1169 -91 856 284 \nQ 544 659 544 1381 \nz\nM 1991 3584 \nL 1991 3584 \nz\n\" transform=\"scale(0.015625)\"/>\n       <path id=\"DejaVuSans-6e\" d=\"M 3513 2113 \nL 3513 0 \nL 2938 0 \nL 2938 2094 \nQ 2938 2591 2744 2837 \nQ 2550 3084 2163 3084 \nQ 1697 3084 1428 2787 \nQ 1159 2491 1159 1978 \nL 1159 0 \nL 581 0 \nL 581 3500 \nL 1159 3500 \nL 1159 2956 \nQ 1366 3272 1645 3428 \nQ 1925 3584 2291 3584 \nQ 2894 3584 3203 3211 \nQ 3513 2838 3513 2113 \nz\n\" transform=\"scale(0.015625)\"/>\n       <path id=\"DejaVuSans-63\" d=\"M 3122 3366 \nL 3122 2828 \nQ 2878 2963 2633 3030 \nQ 2388 3097 2138 3097 \nQ 1578 3097 1268 2742 \nQ 959 2388 959 1747 \nQ 959 1106 1268 751 \nQ 1578 397 2138 397 \nQ 2388 397 2633 464 \nQ 2878 531 3122 666 \nL 3122 134 \nQ 2881 22 2623 -34 \nQ 2366 -91 2075 -91 \nQ 1284 -91 818 406 \nQ 353 903 353 1747 \nQ 353 2603 823 3093 \nQ 1294 3584 2113 3584 \nQ 2378 3584 2631 3529 \nQ 2884 3475 3122 3366 \nz\n\" transform=\"scale(0.015625)\"/>\n       <path id=\"DejaVuSans-74\" d=\"M 1172 4494 \nL 1172 3500 \nL 2356 3500 \nL 2356 3053 \nL 1172 3053 \nL 1172 1153 \nQ 1172 725 1289 603 \nQ 1406 481 1766 481 \nL 2356 481 \nL 2356 0 \nL 1766 0 \nQ 1100 0 847 248 \nQ 594 497 594 1153 \nL 594 3053 \nL 172 3053 \nL 172 3500 \nL 594 3500 \nL 594 4494 \nL 1172 4494 \nz\n\" transform=\"scale(0.015625)\"/>\n       <path id=\"DejaVuSans-69\" d=\"M 603 3500 \nL 1178 3500 \nL 1178 0 \nL 603 0 \nL 603 3500 \nz\nM 603 4863 \nL 1178 4863 \nL 1178 4134 \nL 603 4134 \nL 603 4863 \nz\n\" transform=\"scale(0.015625)\"/>\n       <path id=\"DejaVuSans-6f\" d=\"M 1959 3097 \nQ 1497 3097 1228 2736 \nQ 959 2375 959 1747 \nQ 959 1119 1226 758 \nQ 1494 397 1959 397 \nQ 2419 397 2687 759 \nQ 2956 1122 2956 1747 \nQ 2956 2369 2687 2733 \nQ 2419 3097 1959 3097 \nz\nM 1959 3584 \nQ 2709 3584 3137 3096 \nQ 3566 2609 3566 1747 \nQ 3566 888 3137 398 \nQ 2709 -91 1959 -91 \nQ 1206 -91 779 398 \nQ 353 888 353 1747 \nQ 353 2609 779 3096 \nQ 1206 3584 1959 3584 \nz\n\" transform=\"scale(0.015625)\"/>\n      </defs>\n      <use xlink:href=\"#DejaVuSans-52\"/>\n      <use xlink:href=\"#DejaVuSans-65\" x=\"64.982422\"/>\n      <use xlink:href=\"#DejaVuSans-61\" x=\"126.505859\"/>\n      <use xlink:href=\"#DejaVuSans-6c\" x=\"187.785156\"/>\n      <use xlink:href=\"#DejaVuSans-20\" x=\"215.568359\"/>\n      <use xlink:href=\"#DejaVuSans-66\" x=\"247.355469\"/>\n      <use xlink:href=\"#DejaVuSans-75\" x=\"282.560547\"/>\n      <use xlink:href=\"#DejaVuSans-6e\" x=\"345.939453\"/>\n      <use xlink:href=\"#DejaVuSans-63\" x=\"409.318359\"/>\n      <use xlink:href=\"#DejaVuSans-74\" x=\"464.298828\"/>\n      <use xlink:href=\"#DejaVuSans-69\" x=\"503.507812\"/>\n      <use xlink:href=\"#DejaVuSans-6f\" x=\"531.291016\"/>\n      <use xlink:href=\"#DejaVuSans-6e\" x=\"592.472656\"/>\n     </g>\n    </g>\n    <g id=\"PathCollection_2\">\n     <g>\n      <use xlink:href=\"#m1f6324c058\" x=\"71.295938\" y=\"47.312187\" style=\"fill: #008000; stroke: #008000; stroke-width: 0.5\"/>\n     </g>\n    </g>\n    <g id=\"text_16\">\n     <!-- Data points observed -->\n     <g transform=\"translate(96.495937 50.987187) scale(0.14 -0.14)\">\n      <defs>\n       <path id=\"DejaVuSans-44\" d=\"M 1259 4147 \nL 1259 519 \nL 2022 519 \nQ 2988 519 3436 956 \nQ 3884 1394 3884 2338 \nQ 3884 3275 3436 3711 \nQ 2988 4147 2022 4147 \nL 1259 4147 \nz\nM 628 4666 \nL 1925 4666 \nQ 3281 4666 3915 4102 \nQ 4550 3538 4550 2338 \nQ 4550 1131 3912 565 \nQ 3275 0 1925 0 \nL 628 0 \nL 628 4666 \nz\n\" transform=\"scale(0.015625)\"/>\n       <path id=\"DejaVuSans-70\" d=\"M 1159 525 \nL 1159 -1331 \nL 581 -1331 \nL 581 3500 \nL 1159 3500 \nL 1159 2969 \nQ 1341 3281 1617 3432 \nQ 1894 3584 2278 3584 \nQ 2916 3584 3314 3078 \nQ 3713 2572 3713 1747 \nQ 3713 922 3314 415 \nQ 2916 -91 2278 -91 \nQ 1894 -91 1617 61 \nQ 1341 213 1159 525 \nz\nM 3116 1747 \nQ 3116 2381 2855 2742 \nQ 2594 3103 2138 3103 \nQ 1681 3103 1420 2742 \nQ 1159 2381 1159 1747 \nQ 1159 1113 1420 752 \nQ 1681 391 2138 391 \nQ 2594 391 2855 752 \nQ 3116 1113 3116 1747 \nz\n\" transform=\"scale(0.015625)\"/>\n       <path id=\"DejaVuSans-73\" d=\"M 2834 3397 \nL 2834 2853 \nQ 2591 2978 2328 3040 \nQ 2066 3103 1784 3103 \nQ 1356 3103 1142 2972 \nQ 928 2841 928 2578 \nQ 928 2378 1081 2264 \nQ 1234 2150 1697 2047 \nL 1894 2003 \nQ 2506 1872 2764 1633 \nQ 3022 1394 3022 966 \nQ 3022 478 2636 193 \nQ 2250 -91 1575 -91 \nQ 1294 -91 989 -36 \nQ 684 19 347 128 \nL 347 722 \nQ 666 556 975 473 \nQ 1284 391 1588 391 \nQ 1994 391 2212 530 \nQ 2431 669 2431 922 \nQ 2431 1156 2273 1281 \nQ 2116 1406 1581 1522 \nL 1381 1569 \nQ 847 1681 609 1914 \nQ 372 2147 372 2553 \nQ 372 3047 722 3315 \nQ 1072 3584 1716 3584 \nQ 2034 3584 2315 3537 \nQ 2597 3491 2834 3397 \nz\n\" transform=\"scale(0.015625)\"/>\n       <path id=\"DejaVuSans-62\" d=\"M 3116 1747 \nQ 3116 2381 2855 2742 \nQ 2594 3103 2138 3103 \nQ 1681 3103 1420 2742 \nQ 1159 2381 1159 1747 \nQ 1159 1113 1420 752 \nQ 1681 391 2138 391 \nQ 2594 391 2855 752 \nQ 3116 1113 3116 1747 \nz\nM 1159 2969 \nQ 1341 3281 1617 3432 \nQ 1894 3584 2278 3584 \nQ 2916 3584 3314 3078 \nQ 3713 2572 3713 1747 \nQ 3713 922 3314 415 \nQ 2916 -91 2278 -91 \nQ 1894 -91 1617 61 \nQ 1341 213 1159 525 \nL 1159 0 \nL 581 0 \nL 581 4863 \nL 1159 4863 \nL 1159 2969 \nz\n\" transform=\"scale(0.015625)\"/>\n       <path id=\"DejaVuSans-72\" d=\"M 2631 2963 \nQ 2534 3019 2420 3045 \nQ 2306 3072 2169 3072 \nQ 1681 3072 1420 2755 \nQ 1159 2438 1159 1844 \nL 1159 0 \nL 581 0 \nL 581 3500 \nL 1159 3500 \nL 1159 2956 \nQ 1341 3275 1631 3429 \nQ 1922 3584 2338 3584 \nQ 2397 3584 2469 3576 \nQ 2541 3569 2628 3553 \nL 2631 2963 \nz\n\" transform=\"scale(0.015625)\"/>\n       <path id=\"DejaVuSans-76\" d=\"M 191 3500 \nL 800 3500 \nL 1894 563 \nL 2988 3500 \nL 3597 3500 \nL 2284 0 \nL 1503 0 \nL 191 3500 \nz\n\" transform=\"scale(0.015625)\"/>\n       <path id=\"DejaVuSans-64\" d=\"M 2906 2969 \nL 2906 4863 \nL 3481 4863 \nL 3481 0 \nL 2906 0 \nL 2906 525 \nQ 2725 213 2448 61 \nQ 2172 -91 1784 -91 \nQ 1150 -91 751 415 \nQ 353 922 353 1747 \nQ 353 2572 751 3078 \nQ 1150 3584 1784 3584 \nQ 2172 3584 2448 3432 \nQ 2725 3281 2906 2969 \nz\nM 947 1747 \nQ 947 1113 1208 752 \nQ 1469 391 1925 391 \nQ 2381 391 2643 752 \nQ 2906 1113 2906 1747 \nQ 2906 2381 2643 2742 \nQ 2381 3103 1925 3103 \nQ 1469 3103 1208 2742 \nQ 947 2381 947 1747 \nz\n\" transform=\"scale(0.015625)\"/>\n      </defs>\n      <use xlink:href=\"#DejaVuSans-44\"/>\n      <use xlink:href=\"#DejaVuSans-61\" x=\"77.001953\"/>\n      <use xlink:href=\"#DejaVuSans-74\" x=\"138.28125\"/>\n      <use xlink:href=\"#DejaVuSans-61\" x=\"177.490234\"/>\n      <use xlink:href=\"#DejaVuSans-20\" x=\"238.769531\"/>\n      <use xlink:href=\"#DejaVuSans-70\" x=\"270.556641\"/>\n      <use xlink:href=\"#DejaVuSans-6f\" x=\"334.033203\"/>\n      <use xlink:href=\"#DejaVuSans-69\" x=\"395.214844\"/>\n      <use xlink:href=\"#DejaVuSans-6e\" x=\"422.998047\"/>\n      <use xlink:href=\"#DejaVuSans-74\" x=\"486.376953\"/>\n      <use xlink:href=\"#DejaVuSans-73\" x=\"525.585938\"/>\n      <use xlink:href=\"#DejaVuSans-20\" x=\"577.685547\"/>\n      <use xlink:href=\"#DejaVuSans-6f\" x=\"609.472656\"/>\n      <use xlink:href=\"#DejaVuSans-62\" x=\"670.654297\"/>\n      <use xlink:href=\"#DejaVuSans-73\" x=\"734.130859\"/>\n      <use xlink:href=\"#DejaVuSans-65\" x=\"786.230469\"/>\n      <use xlink:href=\"#DejaVuSans-72\" x=\"847.753906\"/>\n      <use xlink:href=\"#DejaVuSans-76\" x=\"888.867188\"/>\n      <use xlink:href=\"#DejaVuSans-65\" x=\"948.046875\"/>\n      <use xlink:href=\"#DejaVuSans-64\" x=\"1009.570312\"/>\n     </g>\n    </g>\n   </g>\n  </g>\n </g>\n <defs>\n  <clipPath id=\"pc1cecca810\">\n   <rect x=\"44.695937\" y=\"7.2\" width=\"626.4\" height=\"349.92\"/>\n  </clipPath>\n </defs>\n</svg>\n"
          },
          "metadata": {}
        }
      ]
    },
    {
      "cell_type": "code",
      "metadata": {
        "id": "-sCruPJ7V1N2"
      },
      "source": [
        "#@title Defining our linear model, its cost function, and a way to display its predictions.\n",
        "def linear_regression(x, w, b):\n",
        "  return x * w + b\n",
        "\n",
        "def mean_squared_error(y, y_pred):\n",
        "  return ((y - y_pred)**2).mean() / 2.0\n",
        "\n",
        "def plot_linear_regression(x, y, y_pred):\n",
        "  plt.ylim((-2.0, 2.0))\n",
        "  error = y - y_pred\n",
        "  mse = mean_squared_error(y, y_pred).round(2)\n",
        "  plt.fill_between(x, y, y_pred, color='r', alpha=0.25, label=f'Error (MSE = {mse})')\n",
        "  plt.bar(x, error, width=0.005, bottom=y_pred, color='red', alpha=0.25)\n",
        "  plt.scatter(x, y, s=100, c='g', label='Data points')\n",
        "  plt.plot(x, y_pred, '--', label='Linear regression')\n",
        "  _ = plt.legend(loc='best')"
      ],
      "execution_count": null,
      "outputs": []
    },
    {
      "cell_type": "code",
      "metadata": {
        "id": "bIfPqgLEb79L",
        "outputId": "91cc521f-23ed-449c-a98a-930d3f0c42cf",
        "colab": {
          "base_uri": "https://localhost:8080/",
          "height": 536
        }
      },
      "source": [
        "#@title Initializing weights randomly.\n",
        "w_0 = np.random.normal()\n",
        "b_0 = np.random.normal()\n",
        "\n",
        "# Display the initial model.\n",
        "y_pred = linear_regression(x, w_0, b_0)\n",
        "plot_linear_regression(x, y, y_pred)"
      ],
      "execution_count": null,
      "outputs": [
        {
          "output_type": "display_data",
          "data": {
            "text/plain": [
              "<Figure size 1000x600 with 1 Axes>"
            ],
            "image/svg+xml": "<?xml version=\"1.0\" encoding=\"utf-8\" standalone=\"no\"?>\n<!DOCTYPE svg PUBLIC \"-//W3C//DTD SVG 1.1//EN\"\n  \"http://www.w3.org/Graphics/SVG/1.1/DTD/svg11.dtd\">\n<svg xmlns:xlink=\"http://www.w3.org/1999/xlink\" width=\"678.295937pt\" height=\"386.688281pt\" viewBox=\"0 0 678.295937 386.688281\" xmlns=\"http://www.w3.org/2000/svg\" version=\"1.1\">\n <metadata>\n  <rdf:RDF xmlns:dc=\"http://purl.org/dc/elements/1.1/\" xmlns:cc=\"http://creativecommons.org/ns#\" xmlns:rdf=\"http://www.w3.org/1999/02/22-rdf-syntax-ns#\">\n   <cc:Work>\n    <dc:type rdf:resource=\"http://purl.org/dc/dcmitype/StillImage\"/>\n    <dc:date>2023-11-27T11:50:00.964072</dc:date>\n    <dc:format>image/svg+xml</dc:format>\n    <dc:creator>\n     <cc:Agent>\n      <dc:title>Matplotlib v3.7.1, https://matplotlib.org/</dc:title>\n     </cc:Agent>\n    </dc:creator>\n   </cc:Work>\n  </rdf:RDF>\n </metadata>\n <defs>\n  <style type=\"text/css\">*{stroke-linejoin: round; stroke-linecap: butt}</style>\n </defs>\n <g id=\"figure_1\">\n  <g id=\"patch_1\">\n   <path d=\"M -0 386.688281 \nL 678.295937 386.688281 \nL 678.295937 0 \nL -0 0 \nz\n\" style=\"fill: #f0f0f0\"/>\n  </g>\n  <g id=\"axes_1\">\n   <g id=\"patch_2\">\n    <path d=\"M 44.695937 362.438906 \nL 671.095937 362.438906 \nL 671.095937 12.518906 \nL 44.695937 12.518906 \nz\n\" style=\"fill: #f0f0f0\"/>\n   </g>\n   <g id=\"matplotlib.axis_1\">\n    <g id=\"xtick_1\">\n     <g id=\"line2d_1\">\n      <path d=\"M 74.585218 362.438906 \nL 74.585218 12.518906 \n\" clip-path=\"url(#p884dde0ebe)\" style=\"fill: none; stroke: #cbcbcb\"/>\n     </g>\n     <g id=\"line2d_2\"/>\n     <g id=\"text_1\">\n      <!-- 0.0 -->\n      <g transform=\"translate(63.453031 376.576719) scale(0.14 -0.14)\">\n       <defs>\n        <path id=\"DejaVuSans-30\" d=\"M 2034 4250 \nQ 1547 4250 1301 3770 \nQ 1056 3291 1056 2328 \nQ 1056 1369 1301 889 \nQ 1547 409 2034 409 \nQ 2525 409 2770 889 \nQ 3016 1369 3016 2328 \nQ 3016 3291 2770 3770 \nQ 2525 4250 2034 4250 \nz\nM 2034 4750 \nQ 2819 4750 3233 4129 \nQ 3647 3509 3647 2328 \nQ 3647 1150 3233 529 \nQ 2819 -91 2034 -91 \nQ 1250 -91 836 529 \nQ 422 1150 422 2328 \nQ 422 3509 836 4129 \nQ 1250 4750 2034 4750 \nz\n\" transform=\"scale(0.015625)\"/>\n        <path id=\"DejaVuSans-2e\" d=\"M 684 794 \nL 1344 794 \nL 1344 0 \nL 684 0 \nL 684 794 \nz\n\" transform=\"scale(0.015625)\"/>\n       </defs>\n       <use xlink:href=\"#DejaVuSans-30\"/>\n       <use xlink:href=\"#DejaVuSans-2e\" x=\"63.623047\"/>\n       <use xlink:href=\"#DejaVuSans-30\" x=\"95.410156\"/>\n      </g>\n     </g>\n    </g>\n    <g id=\"xtick_2\">\n     <g id=\"line2d_3\">\n      <path d=\"M 187.909506 362.438906 \nL 187.909506 12.518906 \n\" clip-path=\"url(#p884dde0ebe)\" style=\"fill: none; stroke: #cbcbcb\"/>\n     </g>\n     <g id=\"line2d_4\"/>\n     <g id=\"text_2\">\n      <!-- 0.2 -->\n      <g transform=\"translate(176.777319 376.576719) scale(0.14 -0.14)\">\n       <defs>\n        <path id=\"DejaVuSans-32\" d=\"M 1228 531 \nL 3431 531 \nL 3431 0 \nL 469 0 \nL 469 531 \nQ 828 903 1448 1529 \nQ 2069 2156 2228 2338 \nQ 2531 2678 2651 2914 \nQ 2772 3150 2772 3378 \nQ 2772 3750 2511 3984 \nQ 2250 4219 1831 4219 \nQ 1534 4219 1204 4116 \nQ 875 4013 500 3803 \nL 500 4441 \nQ 881 4594 1212 4672 \nQ 1544 4750 1819 4750 \nQ 2544 4750 2975 4387 \nQ 3406 4025 3406 3419 \nQ 3406 3131 3298 2873 \nQ 3191 2616 2906 2266 \nQ 2828 2175 2409 1742 \nQ 1991 1309 1228 531 \nz\n\" transform=\"scale(0.015625)\"/>\n       </defs>\n       <use xlink:href=\"#DejaVuSans-30\"/>\n       <use xlink:href=\"#DejaVuSans-2e\" x=\"63.623047\"/>\n       <use xlink:href=\"#DejaVuSans-32\" x=\"95.410156\"/>\n      </g>\n     </g>\n    </g>\n    <g id=\"xtick_3\">\n     <g id=\"line2d_5\">\n      <path d=\"M 301.233794 362.438906 \nL 301.233794 12.518906 \n\" clip-path=\"url(#p884dde0ebe)\" style=\"fill: none; stroke: #cbcbcb\"/>\n     </g>\n     <g id=\"line2d_6\"/>\n     <g id=\"text_3\">\n      <!-- 0.4 -->\n      <g transform=\"translate(290.101606 376.576719) scale(0.14 -0.14)\">\n       <defs>\n        <path id=\"DejaVuSans-34\" d=\"M 2419 4116 \nL 825 1625 \nL 2419 1625 \nL 2419 4116 \nz\nM 2253 4666 \nL 3047 4666 \nL 3047 1625 \nL 3713 1625 \nL 3713 1100 \nL 3047 1100 \nL 3047 0 \nL 2419 0 \nL 2419 1100 \nL 313 1100 \nL 313 1709 \nL 2253 4666 \nz\n\" transform=\"scale(0.015625)\"/>\n       </defs>\n       <use xlink:href=\"#DejaVuSans-30\"/>\n       <use xlink:href=\"#DejaVuSans-2e\" x=\"63.623047\"/>\n       <use xlink:href=\"#DejaVuSans-34\" x=\"95.410156\"/>\n      </g>\n     </g>\n    </g>\n    <g id=\"xtick_4\">\n     <g id=\"line2d_7\">\n      <path d=\"M 414.558081 362.438906 \nL 414.558081 12.518906 \n\" clip-path=\"url(#p884dde0ebe)\" style=\"fill: none; stroke: #cbcbcb\"/>\n     </g>\n     <g id=\"line2d_8\"/>\n     <g id=\"text_4\">\n      <!-- 0.6 -->\n      <g transform=\"translate(403.425894 376.576719) scale(0.14 -0.14)\">\n       <defs>\n        <path id=\"DejaVuSans-36\" d=\"M 2113 2584 \nQ 1688 2584 1439 2293 \nQ 1191 2003 1191 1497 \nQ 1191 994 1439 701 \nQ 1688 409 2113 409 \nQ 2538 409 2786 701 \nQ 3034 994 3034 1497 \nQ 3034 2003 2786 2293 \nQ 2538 2584 2113 2584 \nz\nM 3366 4563 \nL 3366 3988 \nQ 3128 4100 2886 4159 \nQ 2644 4219 2406 4219 \nQ 1781 4219 1451 3797 \nQ 1122 3375 1075 2522 \nQ 1259 2794 1537 2939 \nQ 1816 3084 2150 3084 \nQ 2853 3084 3261 2657 \nQ 3669 2231 3669 1497 \nQ 3669 778 3244 343 \nQ 2819 -91 2113 -91 \nQ 1303 -91 875 529 \nQ 447 1150 447 2328 \nQ 447 3434 972 4092 \nQ 1497 4750 2381 4750 \nQ 2619 4750 2861 4703 \nQ 3103 4656 3366 4563 \nz\n\" transform=\"scale(0.015625)\"/>\n       </defs>\n       <use xlink:href=\"#DejaVuSans-30\"/>\n       <use xlink:href=\"#DejaVuSans-2e\" x=\"63.623047\"/>\n       <use xlink:href=\"#DejaVuSans-36\" x=\"95.410156\"/>\n      </g>\n     </g>\n    </g>\n    <g id=\"xtick_5\">\n     <g id=\"line2d_9\">\n      <path d=\"M 527.882369 362.438906 \nL 527.882369 12.518906 \n\" clip-path=\"url(#p884dde0ebe)\" style=\"fill: none; stroke: #cbcbcb\"/>\n     </g>\n     <g id=\"line2d_10\"/>\n     <g id=\"text_5\">\n      <!-- 0.8 -->\n      <g transform=\"translate(516.750181 376.576719) scale(0.14 -0.14)\">\n       <defs>\n        <path id=\"DejaVuSans-38\" d=\"M 2034 2216 \nQ 1584 2216 1326 1975 \nQ 1069 1734 1069 1313 \nQ 1069 891 1326 650 \nQ 1584 409 2034 409 \nQ 2484 409 2743 651 \nQ 3003 894 3003 1313 \nQ 3003 1734 2745 1975 \nQ 2488 2216 2034 2216 \nz\nM 1403 2484 \nQ 997 2584 770 2862 \nQ 544 3141 544 3541 \nQ 544 4100 942 4425 \nQ 1341 4750 2034 4750 \nQ 2731 4750 3128 4425 \nQ 3525 4100 3525 3541 \nQ 3525 3141 3298 2862 \nQ 3072 2584 2669 2484 \nQ 3125 2378 3379 2068 \nQ 3634 1759 3634 1313 \nQ 3634 634 3220 271 \nQ 2806 -91 2034 -91 \nQ 1263 -91 848 271 \nQ 434 634 434 1313 \nQ 434 1759 690 2068 \nQ 947 2378 1403 2484 \nz\nM 1172 3481 \nQ 1172 3119 1398 2916 \nQ 1625 2713 2034 2713 \nQ 2441 2713 2670 2916 \nQ 2900 3119 2900 3481 \nQ 2900 3844 2670 4047 \nQ 2441 4250 2034 4250 \nQ 1625 4250 1398 4047 \nQ 1172 3844 1172 3481 \nz\n\" transform=\"scale(0.015625)\"/>\n       </defs>\n       <use xlink:href=\"#DejaVuSans-30\"/>\n       <use xlink:href=\"#DejaVuSans-2e\" x=\"63.623047\"/>\n       <use xlink:href=\"#DejaVuSans-38\" x=\"95.410156\"/>\n      </g>\n     </g>\n    </g>\n    <g id=\"xtick_6\">\n     <g id=\"line2d_11\">\n      <path d=\"M 641.206657 362.438906 \nL 641.206657 12.518906 \n\" clip-path=\"url(#p884dde0ebe)\" style=\"fill: none; stroke: #cbcbcb\"/>\n     </g>\n     <g id=\"line2d_12\"/>\n     <g id=\"text_6\">\n      <!-- 1.0 -->\n      <g transform=\"translate(630.074469 376.576719) scale(0.14 -0.14)\">\n       <defs>\n        <path id=\"DejaVuSans-31\" d=\"M 794 531 \nL 1825 531 \nL 1825 4091 \nL 703 3866 \nL 703 4441 \nL 1819 4666 \nL 2450 4666 \nL 2450 531 \nL 3481 531 \nL 3481 0 \nL 794 0 \nL 794 531 \nz\n\" transform=\"scale(0.015625)\"/>\n       </defs>\n       <use xlink:href=\"#DejaVuSans-31\"/>\n       <use xlink:href=\"#DejaVuSans-2e\" x=\"63.623047\"/>\n       <use xlink:href=\"#DejaVuSans-30\" x=\"95.410156\"/>\n      </g>\n     </g>\n    </g>\n   </g>\n   <g id=\"matplotlib.axis_2\">\n    <g id=\"ytick_1\">\n     <g id=\"line2d_13\">\n      <path d=\"M 44.695937 362.438906 \nL 671.095937 362.438906 \n\" clip-path=\"url(#p884dde0ebe)\" style=\"fill: none; stroke: #cbcbcb\"/>\n     </g>\n     <g id=\"line2d_14\"/>\n     <g id=\"text_7\">\n      <!-- −2.0 -->\n      <g transform=\"translate(7.2 367.757813) scale(0.14 -0.14)\">\n       <defs>\n        <path id=\"DejaVuSans-2212\" d=\"M 678 2272 \nL 4684 2272 \nL 4684 1741 \nL 678 1741 \nL 678 2272 \nz\n\" transform=\"scale(0.015625)\"/>\n       </defs>\n       <use xlink:href=\"#DejaVuSans-2212\"/>\n       <use xlink:href=\"#DejaVuSans-32\" x=\"83.789062\"/>\n       <use xlink:href=\"#DejaVuSans-2e\" x=\"147.412109\"/>\n       <use xlink:href=\"#DejaVuSans-30\" x=\"179.199219\"/>\n      </g>\n     </g>\n    </g>\n    <g id=\"ytick_2\">\n     <g id=\"line2d_15\">\n      <path d=\"M 44.695937 318.698906 \nL 671.095937 318.698906 \n\" clip-path=\"url(#p884dde0ebe)\" style=\"fill: none; stroke: #cbcbcb\"/>\n     </g>\n     <g id=\"line2d_16\"/>\n     <g id=\"text_8\">\n      <!-- −1.5 -->\n      <g transform=\"translate(7.2 324.017813) scale(0.14 -0.14)\">\n       <defs>\n        <path id=\"DejaVuSans-35\" d=\"M 691 4666 \nL 3169 4666 \nL 3169 4134 \nL 1269 4134 \nL 1269 2991 \nQ 1406 3038 1543 3061 \nQ 1681 3084 1819 3084 \nQ 2600 3084 3056 2656 \nQ 3513 2228 3513 1497 \nQ 3513 744 3044 326 \nQ 2575 -91 1722 -91 \nQ 1428 -91 1123 -41 \nQ 819 9 494 109 \nL 494 744 \nQ 775 591 1075 516 \nQ 1375 441 1709 441 \nQ 2250 441 2565 725 \nQ 2881 1009 2881 1497 \nQ 2881 1984 2565 2268 \nQ 2250 2553 1709 2553 \nQ 1456 2553 1204 2497 \nQ 953 2441 691 2322 \nL 691 4666 \nz\n\" transform=\"scale(0.015625)\"/>\n       </defs>\n       <use xlink:href=\"#DejaVuSans-2212\"/>\n       <use xlink:href=\"#DejaVuSans-31\" x=\"83.789062\"/>\n       <use xlink:href=\"#DejaVuSans-2e\" x=\"147.412109\"/>\n       <use xlink:href=\"#DejaVuSans-35\" x=\"179.199219\"/>\n      </g>\n     </g>\n    </g>\n    <g id=\"ytick_3\">\n     <g id=\"line2d_17\">\n      <path d=\"M 44.695937 274.958906 \nL 671.095937 274.958906 \n\" clip-path=\"url(#p884dde0ebe)\" style=\"fill: none; stroke: #cbcbcb\"/>\n     </g>\n     <g id=\"line2d_18\"/>\n     <g id=\"text_9\">\n      <!-- −1.0 -->\n      <g transform=\"translate(7.2 280.277813) scale(0.14 -0.14)\">\n       <use xlink:href=\"#DejaVuSans-2212\"/>\n       <use xlink:href=\"#DejaVuSans-31\" x=\"83.789062\"/>\n       <use xlink:href=\"#DejaVuSans-2e\" x=\"147.412109\"/>\n       <use xlink:href=\"#DejaVuSans-30\" x=\"179.199219\"/>\n      </g>\n     </g>\n    </g>\n    <g id=\"ytick_4\">\n     <g id=\"line2d_19\">\n      <path d=\"M 44.695937 231.218906 \nL 671.095937 231.218906 \n\" clip-path=\"url(#p884dde0ebe)\" style=\"fill: none; stroke: #cbcbcb\"/>\n     </g>\n     <g id=\"line2d_20\"/>\n     <g id=\"text_10\">\n      <!-- −0.5 -->\n      <g transform=\"translate(7.2 236.537813) scale(0.14 -0.14)\">\n       <use xlink:href=\"#DejaVuSans-2212\"/>\n       <use xlink:href=\"#DejaVuSans-30\" x=\"83.789062\"/>\n       <use xlink:href=\"#DejaVuSans-2e\" x=\"147.412109\"/>\n       <use xlink:href=\"#DejaVuSans-35\" x=\"179.199219\"/>\n      </g>\n     </g>\n    </g>\n    <g id=\"ytick_5\">\n     <g id=\"line2d_21\">\n      <path d=\"M 44.695937 187.478906 \nL 671.095937 187.478906 \n\" clip-path=\"url(#p884dde0ebe)\" style=\"fill: none; stroke: #cbcbcb\"/>\n     </g>\n     <g id=\"line2d_22\"/>\n     <g id=\"text_11\">\n      <!-- 0.0 -->\n      <g transform=\"translate(18.931562 192.797813) scale(0.14 -0.14)\">\n       <use xlink:href=\"#DejaVuSans-30\"/>\n       <use xlink:href=\"#DejaVuSans-2e\" x=\"63.623047\"/>\n       <use xlink:href=\"#DejaVuSans-30\" x=\"95.410156\"/>\n      </g>\n     </g>\n    </g>\n    <g id=\"ytick_6\">\n     <g id=\"line2d_23\">\n      <path d=\"M 44.695937 143.738906 \nL 671.095937 143.738906 \n\" clip-path=\"url(#p884dde0ebe)\" style=\"fill: none; stroke: #cbcbcb\"/>\n     </g>\n     <g id=\"line2d_24\"/>\n     <g id=\"text_12\">\n      <!-- 0.5 -->\n      <g transform=\"translate(18.931562 149.057813) scale(0.14 -0.14)\">\n       <use xlink:href=\"#DejaVuSans-30\"/>\n       <use xlink:href=\"#DejaVuSans-2e\" x=\"63.623047\"/>\n       <use xlink:href=\"#DejaVuSans-35\" x=\"95.410156\"/>\n      </g>\n     </g>\n    </g>\n    <g id=\"ytick_7\">\n     <g id=\"line2d_25\">\n      <path d=\"M 44.695937 99.998906 \nL 671.095937 99.998906 \n\" clip-path=\"url(#p884dde0ebe)\" style=\"fill: none; stroke: #cbcbcb\"/>\n     </g>\n     <g id=\"line2d_26\"/>\n     <g id=\"text_13\">\n      <!-- 1.0 -->\n      <g transform=\"translate(18.931562 105.317813) scale(0.14 -0.14)\">\n       <use xlink:href=\"#DejaVuSans-31\"/>\n       <use xlink:href=\"#DejaVuSans-2e\" x=\"63.623047\"/>\n       <use xlink:href=\"#DejaVuSans-30\" x=\"95.410156\"/>\n      </g>\n     </g>\n    </g>\n    <g id=\"ytick_8\">\n     <g id=\"line2d_27\">\n      <path d=\"M 44.695937 56.258906 \nL 671.095937 56.258906 \n\" clip-path=\"url(#p884dde0ebe)\" style=\"fill: none; stroke: #cbcbcb\"/>\n     </g>\n     <g id=\"line2d_28\"/>\n     <g id=\"text_14\">\n      <!-- 1.5 -->\n      <g transform=\"translate(18.931562 61.577812) scale(0.14 -0.14)\">\n       <use xlink:href=\"#DejaVuSans-31\"/>\n       <use xlink:href=\"#DejaVuSans-2e\" x=\"63.623047\"/>\n       <use xlink:href=\"#DejaVuSans-35\" x=\"95.410156\"/>\n      </g>\n     </g>\n    </g>\n    <g id=\"ytick_9\">\n     <g id=\"line2d_29\">\n      <path d=\"M 44.695937 12.518906 \nL 671.095937 12.518906 \n\" clip-path=\"url(#p884dde0ebe)\" style=\"fill: none; stroke: #cbcbcb\"/>\n     </g>\n     <g id=\"line2d_30\"/>\n     <g id=\"text_15\">\n      <!-- 2.0 -->\n      <g transform=\"translate(18.931562 17.837812) scale(0.14 -0.14)\">\n       <use xlink:href=\"#DejaVuSans-32\"/>\n       <use xlink:href=\"#DejaVuSans-2e\" x=\"63.623047\"/>\n       <use xlink:href=\"#DejaVuSans-30\" x=\"95.410156\"/>\n      </g>\n     </g>\n    </g>\n   </g>\n   <g id=\"PolyCollection_1\">\n    <defs>\n     <path id=\"ma7f6b7230d\" d=\"M 74.585218 -251.486916 \nL 74.585218 -173.801581 \nL 137.543156 -194.297929 \nL 200.501094 -192.702704 \nL 263.459031 -179.051444 \nL 326.416969 -231.857254 \nL 389.374906 -259.796326 \nL 452.332844 -247.015237 \nL 515.290781 -230.585039 \nL 578.248719 -288.122472 \nL 641.206657 -298.162167 \nL 641.206657 -166.75082 \nL 641.206657 -166.75082 \nL 578.248719 -176.165941 \nL 515.290781 -185.581063 \nL 452.332844 -194.996185 \nL 389.374906 -204.411307 \nL 326.416969 -213.826429 \nL 263.459031 -223.24155 \nL 200.501094 -232.656672 \nL 137.543156 -242.071794 \nL 74.585218 -251.486916 \nz\n\" style=\"stroke: #ff0000; stroke-opacity: 0.25; stroke-width: 0.5\"/>\n    </defs>\n    <g clip-path=\"url(#p884dde0ebe)\">\n     <use xlink:href=\"#ma7f6b7230d\" x=\"0\" y=\"386.688281\" style=\"fill: #ff0000; fill-opacity: 0.25; stroke: #ff0000; stroke-opacity: 0.25; stroke-width: 0.5\"/>\n    </g>\n   </g>\n   <g id=\"patch_3\">\n    <path d=\"M 73.168665 135.201366 \nL 76.001772 135.201366 \nL 76.001772 212.8867 \nL 73.168665 212.8867 \nz\n\" clip-path=\"url(#p884dde0ebe)\" style=\"fill: #ff0000; opacity: 0.25\"/>\n   </g>\n   <g id=\"patch_4\">\n    <path d=\"M 136.126602 144.616487 \nL 138.95971 144.616487 \nL 138.95971 192.390352 \nL 136.126602 192.390352 \nz\n\" clip-path=\"url(#p884dde0ebe)\" style=\"fill: #ff0000; opacity: 0.25\"/>\n   </g>\n   <g id=\"patch_5\">\n    <path d=\"M 199.08454 154.031609 \nL 201.917647 154.031609 \nL 201.917647 193.985577 \nL 199.08454 193.985577 \nz\n\" clip-path=\"url(#p884dde0ebe)\" style=\"fill: #ff0000; opacity: 0.25\"/>\n   </g>\n   <g id=\"patch_6\">\n    <path d=\"M 262.042478 163.446731 \nL 264.875585 163.446731 \nL 264.875585 207.636837 \nL 262.042478 207.636837 \nz\n\" clip-path=\"url(#p884dde0ebe)\" style=\"fill: #ff0000; opacity: 0.25\"/>\n   </g>\n   <g id=\"patch_7\">\n    <path d=\"M 325.000415 172.861853 \nL 327.833522 172.861853 \nL 327.833522 154.831027 \nL 325.000415 154.831027 \nz\n\" clip-path=\"url(#p884dde0ebe)\" style=\"fill: #ff0000; opacity: 0.25\"/>\n   </g>\n   <g id=\"patch_8\">\n    <path d=\"M 387.958353 182.276974 \nL 390.79146 182.276974 \nL 390.79146 126.891956 \nL 387.958353 126.891956 \nz\n\" clip-path=\"url(#p884dde0ebe)\" style=\"fill: #ff0000; opacity: 0.25\"/>\n   </g>\n   <g id=\"patch_9\">\n    <path d=\"M 450.91629 191.692096 \nL 453.749397 191.692096 \nL 453.749397 139.673045 \nL 450.91629 139.673045 \nz\n\" clip-path=\"url(#p884dde0ebe)\" style=\"fill: #ff0000; opacity: 0.25\"/>\n   </g>\n   <g id=\"patch_10\">\n    <path d=\"M 513.874228 201.107218 \nL 516.707335 201.107218 \nL 516.707335 156.103242 \nL 513.874228 156.103242 \nz\n\" clip-path=\"url(#p884dde0ebe)\" style=\"fill: #ff0000; opacity: 0.25\"/>\n   </g>\n   <g id=\"patch_11\">\n    <path d=\"M 576.832165 210.52234 \nL 579.665273 210.52234 \nL 579.665273 98.565809 \nL 576.832165 98.565809 \nz\n\" clip-path=\"url(#p884dde0ebe)\" style=\"fill: #ff0000; opacity: 0.25\"/>\n   </g>\n   <g id=\"patch_12\">\n    <path d=\"M 639.790103 219.937462 \nL 642.62321 219.937462 \nL 642.62321 88.526114 \nL 639.790103 88.526114 \nz\n\" clip-path=\"url(#p884dde0ebe)\" style=\"fill: #ff0000; opacity: 0.25\"/>\n   </g>\n   <g id=\"PathCollection_1\">\n    <defs>\n     <path id=\"m72af9c8a20\" d=\"M 0 5 \nC 1.326016 5 2.597899 4.473168 3.535534 3.535534 \nC 4.473168 2.597899 5 1.326016 5 0 \nC 5 -1.326016 4.473168 -2.597899 3.535534 -3.535534 \nC 2.597899 -4.473168 1.326016 -5 0 -5 \nC -1.326016 -5 -2.597899 -4.473168 -3.535534 -3.535534 \nC -4.473168 -2.597899 -5 -1.326016 -5 0 \nC -5 1.326016 -4.473168 2.597899 -3.535534 3.535534 \nC -2.597899 4.473168 -1.326016 5 0 5 \nz\n\" style=\"stroke: #008000; stroke-width: 0.5\"/>\n    </defs>\n    <g clip-path=\"url(#p884dde0ebe)\">\n     <use xlink:href=\"#m72af9c8a20\" x=\"74.585218\" y=\"212.8867\" style=\"fill: #008000; stroke: #008000; stroke-width: 0.5\"/>\n     <use xlink:href=\"#m72af9c8a20\" x=\"137.543156\" y=\"192.390352\" style=\"fill: #008000; stroke: #008000; stroke-width: 0.5\"/>\n     <use xlink:href=\"#m72af9c8a20\" x=\"200.501094\" y=\"193.985577\" style=\"fill: #008000; stroke: #008000; stroke-width: 0.5\"/>\n     <use xlink:href=\"#m72af9c8a20\" x=\"263.459031\" y=\"207.636837\" style=\"fill: #008000; stroke: #008000; stroke-width: 0.5\"/>\n     <use xlink:href=\"#m72af9c8a20\" x=\"326.416969\" y=\"154.831027\" style=\"fill: #008000; stroke: #008000; stroke-width: 0.5\"/>\n     <use xlink:href=\"#m72af9c8a20\" x=\"389.374906\" y=\"126.891956\" style=\"fill: #008000; stroke: #008000; stroke-width: 0.5\"/>\n     <use xlink:href=\"#m72af9c8a20\" x=\"452.332844\" y=\"139.673045\" style=\"fill: #008000; stroke: #008000; stroke-width: 0.5\"/>\n     <use xlink:href=\"#m72af9c8a20\" x=\"515.290781\" y=\"156.103242\" style=\"fill: #008000; stroke: #008000; stroke-width: 0.5\"/>\n     <use xlink:href=\"#m72af9c8a20\" x=\"578.248719\" y=\"98.565809\" style=\"fill: #008000; stroke: #008000; stroke-width: 0.5\"/>\n     <use xlink:href=\"#m72af9c8a20\" x=\"641.206657\" y=\"88.526114\" style=\"fill: #008000; stroke: #008000; stroke-width: 0.5\"/>\n    </g>\n   </g>\n   <g id=\"line2d_31\">\n    <path d=\"M 74.585218 135.201366 \nL 137.543156 144.616487 \nL 200.501094 154.031609 \nL 263.459031 163.446731 \nL 326.416969 172.861853 \nL 389.374906 182.276974 \nL 452.332844 191.692096 \nL 515.290781 201.107218 \nL 578.248719 210.52234 \nL 641.206657 219.937462 \n\" clip-path=\"url(#p884dde0ebe)\" style=\"fill: none; stroke-dasharray: 14.8,6.4; stroke-dashoffset: 0; stroke: #008fd5; stroke-width: 4\"/>\n   </g>\n   <g id=\"patch_13\">\n    <path d=\"M 44.695937 362.438906 \nL 44.695937 12.518906 \n\" style=\"fill: none; stroke: #f0f0f0; stroke-width: 3; stroke-linejoin: miter; stroke-linecap: square\"/>\n   </g>\n   <g id=\"patch_14\">\n    <path d=\"M 671.095937 362.438906 \nL 671.095937 12.518906 \n\" style=\"fill: none; stroke: #f0f0f0; stroke-width: 3; stroke-linejoin: miter; stroke-linecap: square\"/>\n   </g>\n   <g id=\"patch_15\">\n    <path d=\"M 44.695937 362.438906 \nL 671.095937 362.438906 \n\" style=\"fill: none; stroke: #f0f0f0; stroke-width: 3; stroke-linejoin: miter; stroke-linecap: square\"/>\n   </g>\n   <g id=\"patch_16\">\n    <path d=\"M 44.695937 12.518906 \nL 671.095937 12.518906 \n\" style=\"fill: none; stroke: #f0f0f0; stroke-width: 3; stroke-linejoin: miter; stroke-linecap: square\"/>\n   </g>\n   <g id=\"legend_1\">\n    <g id=\"patch_17\">\n     <path d=\"M 485.388125 85.367031 \nL 661.295938 85.367031 \nQ 664.095937 85.367031 664.095937 82.567031 \nL 664.095937 22.318906 \nQ 664.095937 19.518906 661.295938 19.518906 \nL 485.388125 19.518906 \nQ 482.588125 19.518906 482.588125 22.318906 \nL 482.588125 82.567031 \nQ 482.588125 85.367031 485.388125 85.367031 \nz\n\" style=\"fill: #f0f0f0; opacity: 0.8; stroke: #cccccc; stroke-width: 0.5; stroke-linejoin: miter\"/>\n    </g>\n    <g id=\"patch_18\">\n     <path d=\"M 488.188125 35.756719 \nL 516.188125 35.756719 \nL 516.188125 25.956719 \nL 488.188125 25.956719 \nz\n\" style=\"fill: #ff0000; fill-opacity: 0.25; stroke: #ff0000; stroke-opacity: 0.25; stroke-width: 0.5; stroke-linejoin: miter\"/>\n    </g>\n    <g id=\"text_16\">\n     <!-- Error (MSE = 0.33) -->\n     <g transform=\"translate(527.388125 35.756719) scale(0.14 -0.14)\">\n      <defs>\n       <path id=\"DejaVuSans-45\" d=\"M 628 4666 \nL 3578 4666 \nL 3578 4134 \nL 1259 4134 \nL 1259 2753 \nL 3481 2753 \nL 3481 2222 \nL 1259 2222 \nL 1259 531 \nL 3634 531 \nL 3634 0 \nL 628 0 \nL 628 4666 \nz\n\" transform=\"scale(0.015625)\"/>\n       <path id=\"DejaVuSans-72\" d=\"M 2631 2963 \nQ 2534 3019 2420 3045 \nQ 2306 3072 2169 3072 \nQ 1681 3072 1420 2755 \nQ 1159 2438 1159 1844 \nL 1159 0 \nL 581 0 \nL 581 3500 \nL 1159 3500 \nL 1159 2956 \nQ 1341 3275 1631 3429 \nQ 1922 3584 2338 3584 \nQ 2397 3584 2469 3576 \nQ 2541 3569 2628 3553 \nL 2631 2963 \nz\n\" transform=\"scale(0.015625)\"/>\n       <path id=\"DejaVuSans-6f\" d=\"M 1959 3097 \nQ 1497 3097 1228 2736 \nQ 959 2375 959 1747 \nQ 959 1119 1226 758 \nQ 1494 397 1959 397 \nQ 2419 397 2687 759 \nQ 2956 1122 2956 1747 \nQ 2956 2369 2687 2733 \nQ 2419 3097 1959 3097 \nz\nM 1959 3584 \nQ 2709 3584 3137 3096 \nQ 3566 2609 3566 1747 \nQ 3566 888 3137 398 \nQ 2709 -91 1959 -91 \nQ 1206 -91 779 398 \nQ 353 888 353 1747 \nQ 353 2609 779 3096 \nQ 1206 3584 1959 3584 \nz\n\" transform=\"scale(0.015625)\"/>\n       <path id=\"DejaVuSans-20\" transform=\"scale(0.015625)\"/>\n       <path id=\"DejaVuSans-28\" d=\"M 1984 4856 \nQ 1566 4138 1362 3434 \nQ 1159 2731 1159 2009 \nQ 1159 1288 1364 580 \nQ 1569 -128 1984 -844 \nL 1484 -844 \nQ 1016 -109 783 600 \nQ 550 1309 550 2009 \nQ 550 2706 781 3412 \nQ 1013 4119 1484 4856 \nL 1984 4856 \nz\n\" transform=\"scale(0.015625)\"/>\n       <path id=\"DejaVuSans-4d\" d=\"M 628 4666 \nL 1569 4666 \nL 2759 1491 \nL 3956 4666 \nL 4897 4666 \nL 4897 0 \nL 4281 0 \nL 4281 4097 \nL 3078 897 \nL 2444 897 \nL 1241 4097 \nL 1241 0 \nL 628 0 \nL 628 4666 \nz\n\" transform=\"scale(0.015625)\"/>\n       <path id=\"DejaVuSans-53\" d=\"M 3425 4513 \nL 3425 3897 \nQ 3066 4069 2747 4153 \nQ 2428 4238 2131 4238 \nQ 1616 4238 1336 4038 \nQ 1056 3838 1056 3469 \nQ 1056 3159 1242 3001 \nQ 1428 2844 1947 2747 \nL 2328 2669 \nQ 3034 2534 3370 2195 \nQ 3706 1856 3706 1288 \nQ 3706 609 3251 259 \nQ 2797 -91 1919 -91 \nQ 1588 -91 1214 -16 \nQ 841 59 441 206 \nL 441 856 \nQ 825 641 1194 531 \nQ 1563 422 1919 422 \nQ 2459 422 2753 634 \nQ 3047 847 3047 1241 \nQ 3047 1584 2836 1778 \nQ 2625 1972 2144 2069 \nL 1759 2144 \nQ 1053 2284 737 2584 \nQ 422 2884 422 3419 \nQ 422 4038 858 4394 \nQ 1294 4750 2059 4750 \nQ 2388 4750 2728 4690 \nQ 3069 4631 3425 4513 \nz\n\" transform=\"scale(0.015625)\"/>\n       <path id=\"DejaVuSans-3d\" d=\"M 678 2906 \nL 4684 2906 \nL 4684 2381 \nL 678 2381 \nL 678 2906 \nz\nM 678 1631 \nL 4684 1631 \nL 4684 1100 \nL 678 1100 \nL 678 1631 \nz\n\" transform=\"scale(0.015625)\"/>\n       <path id=\"DejaVuSans-33\" d=\"M 2597 2516 \nQ 3050 2419 3304 2112 \nQ 3559 1806 3559 1356 \nQ 3559 666 3084 287 \nQ 2609 -91 1734 -91 \nQ 1441 -91 1130 -33 \nQ 819 25 488 141 \nL 488 750 \nQ 750 597 1062 519 \nQ 1375 441 1716 441 \nQ 2309 441 2620 675 \nQ 2931 909 2931 1356 \nQ 2931 1769 2642 2001 \nQ 2353 2234 1838 2234 \nL 1294 2234 \nL 1294 2753 \nL 1863 2753 \nQ 2328 2753 2575 2939 \nQ 2822 3125 2822 3475 \nQ 2822 3834 2567 4026 \nQ 2313 4219 1838 4219 \nQ 1578 4219 1281 4162 \nQ 984 4106 628 3988 \nL 628 4550 \nQ 988 4650 1302 4700 \nQ 1616 4750 1894 4750 \nQ 2613 4750 3031 4423 \nQ 3450 4097 3450 3541 \nQ 3450 3153 3228 2886 \nQ 3006 2619 2597 2516 \nz\n\" transform=\"scale(0.015625)\"/>\n       <path id=\"DejaVuSans-29\" d=\"M 513 4856 \nL 1013 4856 \nQ 1481 4119 1714 3412 \nQ 1947 2706 1947 2009 \nQ 1947 1309 1714 600 \nQ 1481 -109 1013 -844 \nL 513 -844 \nQ 928 -128 1133 580 \nQ 1338 1288 1338 2009 \nQ 1338 2731 1133 3434 \nQ 928 4138 513 4856 \nz\n\" transform=\"scale(0.015625)\"/>\n      </defs>\n      <use xlink:href=\"#DejaVuSans-45\"/>\n      <use xlink:href=\"#DejaVuSans-72\" x=\"63.183594\"/>\n      <use xlink:href=\"#DejaVuSans-72\" x=\"102.546875\"/>\n      <use xlink:href=\"#DejaVuSans-6f\" x=\"141.410156\"/>\n      <use xlink:href=\"#DejaVuSans-72\" x=\"202.591797\"/>\n      <use xlink:href=\"#DejaVuSans-20\" x=\"243.705078\"/>\n      <use xlink:href=\"#DejaVuSans-28\" x=\"275.492188\"/>\n      <use xlink:href=\"#DejaVuSans-4d\" x=\"314.505859\"/>\n      <use xlink:href=\"#DejaVuSans-53\" x=\"400.785156\"/>\n      <use xlink:href=\"#DejaVuSans-45\" x=\"464.261719\"/>\n      <use xlink:href=\"#DejaVuSans-20\" x=\"527.445312\"/>\n      <use xlink:href=\"#DejaVuSans-3d\" x=\"559.232422\"/>\n      <use xlink:href=\"#DejaVuSans-20\" x=\"643.021484\"/>\n      <use xlink:href=\"#DejaVuSans-30\" x=\"674.808594\"/>\n      <use xlink:href=\"#DejaVuSans-2e\" x=\"738.431641\"/>\n      <use xlink:href=\"#DejaVuSans-33\" x=\"770.21875\"/>\n      <use xlink:href=\"#DejaVuSans-33\" x=\"833.841797\"/>\n      <use xlink:href=\"#DejaVuSans-29\" x=\"897.464844\"/>\n     </g>\n    </g>\n    <g id=\"PathCollection_2\">\n     <g>\n      <use xlink:href=\"#m72af9c8a20\" x=\"502.188125\" y=\"52.631094\" style=\"fill: #008000; stroke: #008000; stroke-width: 0.5\"/>\n     </g>\n    </g>\n    <g id=\"text_17\">\n     <!-- Data points -->\n     <g transform=\"translate(527.388125 56.306094) scale(0.14 -0.14)\">\n      <defs>\n       <path id=\"DejaVuSans-44\" d=\"M 1259 4147 \nL 1259 519 \nL 2022 519 \nQ 2988 519 3436 956 \nQ 3884 1394 3884 2338 \nQ 3884 3275 3436 3711 \nQ 2988 4147 2022 4147 \nL 1259 4147 \nz\nM 628 4666 \nL 1925 4666 \nQ 3281 4666 3915 4102 \nQ 4550 3538 4550 2338 \nQ 4550 1131 3912 565 \nQ 3275 0 1925 0 \nL 628 0 \nL 628 4666 \nz\n\" transform=\"scale(0.015625)\"/>\n       <path id=\"DejaVuSans-61\" d=\"M 2194 1759 \nQ 1497 1759 1228 1600 \nQ 959 1441 959 1056 \nQ 959 750 1161 570 \nQ 1363 391 1709 391 \nQ 2188 391 2477 730 \nQ 2766 1069 2766 1631 \nL 2766 1759 \nL 2194 1759 \nz\nM 3341 1997 \nL 3341 0 \nL 2766 0 \nL 2766 531 \nQ 2569 213 2275 61 \nQ 1981 -91 1556 -91 \nQ 1019 -91 701 211 \nQ 384 513 384 1019 \nQ 384 1609 779 1909 \nQ 1175 2209 1959 2209 \nL 2766 2209 \nL 2766 2266 \nQ 2766 2663 2505 2880 \nQ 2244 3097 1772 3097 \nQ 1472 3097 1187 3025 \nQ 903 2953 641 2809 \nL 641 3341 \nQ 956 3463 1253 3523 \nQ 1550 3584 1831 3584 \nQ 2591 3584 2966 3190 \nQ 3341 2797 3341 1997 \nz\n\" transform=\"scale(0.015625)\"/>\n       <path id=\"DejaVuSans-74\" d=\"M 1172 4494 \nL 1172 3500 \nL 2356 3500 \nL 2356 3053 \nL 1172 3053 \nL 1172 1153 \nQ 1172 725 1289 603 \nQ 1406 481 1766 481 \nL 2356 481 \nL 2356 0 \nL 1766 0 \nQ 1100 0 847 248 \nQ 594 497 594 1153 \nL 594 3053 \nL 172 3053 \nL 172 3500 \nL 594 3500 \nL 594 4494 \nL 1172 4494 \nz\n\" transform=\"scale(0.015625)\"/>\n       <path id=\"DejaVuSans-70\" d=\"M 1159 525 \nL 1159 -1331 \nL 581 -1331 \nL 581 3500 \nL 1159 3500 \nL 1159 2969 \nQ 1341 3281 1617 3432 \nQ 1894 3584 2278 3584 \nQ 2916 3584 3314 3078 \nQ 3713 2572 3713 1747 \nQ 3713 922 3314 415 \nQ 2916 -91 2278 -91 \nQ 1894 -91 1617 61 \nQ 1341 213 1159 525 \nz\nM 3116 1747 \nQ 3116 2381 2855 2742 \nQ 2594 3103 2138 3103 \nQ 1681 3103 1420 2742 \nQ 1159 2381 1159 1747 \nQ 1159 1113 1420 752 \nQ 1681 391 2138 391 \nQ 2594 391 2855 752 \nQ 3116 1113 3116 1747 \nz\n\" transform=\"scale(0.015625)\"/>\n       <path id=\"DejaVuSans-69\" d=\"M 603 3500 \nL 1178 3500 \nL 1178 0 \nL 603 0 \nL 603 3500 \nz\nM 603 4863 \nL 1178 4863 \nL 1178 4134 \nL 603 4134 \nL 603 4863 \nz\n\" transform=\"scale(0.015625)\"/>\n       <path id=\"DejaVuSans-6e\" d=\"M 3513 2113 \nL 3513 0 \nL 2938 0 \nL 2938 2094 \nQ 2938 2591 2744 2837 \nQ 2550 3084 2163 3084 \nQ 1697 3084 1428 2787 \nQ 1159 2491 1159 1978 \nL 1159 0 \nL 581 0 \nL 581 3500 \nL 1159 3500 \nL 1159 2956 \nQ 1366 3272 1645 3428 \nQ 1925 3584 2291 3584 \nQ 2894 3584 3203 3211 \nQ 3513 2838 3513 2113 \nz\n\" transform=\"scale(0.015625)\"/>\n       <path id=\"DejaVuSans-73\" d=\"M 2834 3397 \nL 2834 2853 \nQ 2591 2978 2328 3040 \nQ 2066 3103 1784 3103 \nQ 1356 3103 1142 2972 \nQ 928 2841 928 2578 \nQ 928 2378 1081 2264 \nQ 1234 2150 1697 2047 \nL 1894 2003 \nQ 2506 1872 2764 1633 \nQ 3022 1394 3022 966 \nQ 3022 478 2636 193 \nQ 2250 -91 1575 -91 \nQ 1294 -91 989 -36 \nQ 684 19 347 128 \nL 347 722 \nQ 666 556 975 473 \nQ 1284 391 1588 391 \nQ 1994 391 2212 530 \nQ 2431 669 2431 922 \nQ 2431 1156 2273 1281 \nQ 2116 1406 1581 1522 \nL 1381 1569 \nQ 847 1681 609 1914 \nQ 372 2147 372 2553 \nQ 372 3047 722 3315 \nQ 1072 3584 1716 3584 \nQ 2034 3584 2315 3537 \nQ 2597 3491 2834 3397 \nz\n\" transform=\"scale(0.015625)\"/>\n      </defs>\n      <use xlink:href=\"#DejaVuSans-44\"/>\n      <use xlink:href=\"#DejaVuSans-61\" x=\"77.001953\"/>\n      <use xlink:href=\"#DejaVuSans-74\" x=\"138.28125\"/>\n      <use xlink:href=\"#DejaVuSans-61\" x=\"177.490234\"/>\n      <use xlink:href=\"#DejaVuSans-20\" x=\"238.769531\"/>\n      <use xlink:href=\"#DejaVuSans-70\" x=\"270.556641\"/>\n      <use xlink:href=\"#DejaVuSans-6f\" x=\"334.033203\"/>\n      <use xlink:href=\"#DejaVuSans-69\" x=\"395.214844\"/>\n      <use xlink:href=\"#DejaVuSans-6e\" x=\"422.998047\"/>\n      <use xlink:href=\"#DejaVuSans-74\" x=\"486.376953\"/>\n      <use xlink:href=\"#DejaVuSans-73\" x=\"525.585938\"/>\n     </g>\n    </g>\n    <g id=\"line2d_32\">\n     <path d=\"M 488.188125 71.955469 \nL 502.188125 71.955469 \nL 516.188125 71.955469 \n\" style=\"fill: none; stroke-dasharray: 14.8,6.4; stroke-dashoffset: 0; stroke: #008fd5; stroke-width: 4\"/>\n    </g>\n    <g id=\"text_18\">\n     <!-- Linear regression -->\n     <g transform=\"translate(527.388125 76.855469) scale(0.14 -0.14)\">\n      <defs>\n       <path id=\"DejaVuSans-4c\" d=\"M 628 4666 \nL 1259 4666 \nL 1259 531 \nL 3531 531 \nL 3531 0 \nL 628 0 \nL 628 4666 \nz\n\" transform=\"scale(0.015625)\"/>\n       <path id=\"DejaVuSans-65\" d=\"M 3597 1894 \nL 3597 1613 \nL 953 1613 \nQ 991 1019 1311 708 \nQ 1631 397 2203 397 \nQ 2534 397 2845 478 \nQ 3156 559 3463 722 \nL 3463 178 \nQ 3153 47 2828 -22 \nQ 2503 -91 2169 -91 \nQ 1331 -91 842 396 \nQ 353 884 353 1716 \nQ 353 2575 817 3079 \nQ 1281 3584 2069 3584 \nQ 2775 3584 3186 3129 \nQ 3597 2675 3597 1894 \nz\nM 3022 2063 \nQ 3016 2534 2758 2815 \nQ 2500 3097 2075 3097 \nQ 1594 3097 1305 2825 \nQ 1016 2553 972 2059 \nL 3022 2063 \nz\n\" transform=\"scale(0.015625)\"/>\n       <path id=\"DejaVuSans-67\" d=\"M 2906 1791 \nQ 2906 2416 2648 2759 \nQ 2391 3103 1925 3103 \nQ 1463 3103 1205 2759 \nQ 947 2416 947 1791 \nQ 947 1169 1205 825 \nQ 1463 481 1925 481 \nQ 2391 481 2648 825 \nQ 2906 1169 2906 1791 \nz\nM 3481 434 \nQ 3481 -459 3084 -895 \nQ 2688 -1331 1869 -1331 \nQ 1566 -1331 1297 -1286 \nQ 1028 -1241 775 -1147 \nL 775 -588 \nQ 1028 -725 1275 -790 \nQ 1522 -856 1778 -856 \nQ 2344 -856 2625 -561 \nQ 2906 -266 2906 331 \nL 2906 616 \nQ 2728 306 2450 153 \nQ 2172 0 1784 0 \nQ 1141 0 747 490 \nQ 353 981 353 1791 \nQ 353 2603 747 3093 \nQ 1141 3584 1784 3584 \nQ 2172 3584 2450 3431 \nQ 2728 3278 2906 2969 \nL 2906 3500 \nL 3481 3500 \nL 3481 434 \nz\n\" transform=\"scale(0.015625)\"/>\n      </defs>\n      <use xlink:href=\"#DejaVuSans-4c\"/>\n      <use xlink:href=\"#DejaVuSans-69\" x=\"55.712891\"/>\n      <use xlink:href=\"#DejaVuSans-6e\" x=\"83.496094\"/>\n      <use xlink:href=\"#DejaVuSans-65\" x=\"146.875\"/>\n      <use xlink:href=\"#DejaVuSans-61\" x=\"208.398438\"/>\n      <use xlink:href=\"#DejaVuSans-72\" x=\"269.677734\"/>\n      <use xlink:href=\"#DejaVuSans-20\" x=\"310.791016\"/>\n      <use xlink:href=\"#DejaVuSans-72\" x=\"342.578125\"/>\n      <use xlink:href=\"#DejaVuSans-65\" x=\"381.441406\"/>\n      <use xlink:href=\"#DejaVuSans-67\" x=\"442.964844\"/>\n      <use xlink:href=\"#DejaVuSans-72\" x=\"506.441406\"/>\n      <use xlink:href=\"#DejaVuSans-65\" x=\"545.304688\"/>\n      <use xlink:href=\"#DejaVuSans-73\" x=\"606.828125\"/>\n      <use xlink:href=\"#DejaVuSans-73\" x=\"658.927734\"/>\n      <use xlink:href=\"#DejaVuSans-69\" x=\"711.027344\"/>\n      <use xlink:href=\"#DejaVuSans-6f\" x=\"738.810547\"/>\n      <use xlink:href=\"#DejaVuSans-6e\" x=\"799.992188\"/>\n     </g>\n    </g>\n   </g>\n  </g>\n </g>\n <defs>\n  <clipPath id=\"p884dde0ebe\">\n   <rect x=\"44.695937\" y=\"12.518906\" width=\"626.4\" height=\"349.92\"/>\n  </clipPath>\n </defs>\n</svg>\n"
          },
          "metadata": {}
        }
      ]
    },
    {
      "cell_type": "code",
      "metadata": {
        "id": "86svq8lneNqQ"
      },
      "source": [
        "def gradient_descent(x, y, w_0, b_0, learning_rate, iterations=10):\n",
        "  weights = [(w_0, b_0)]\n",
        "  errors = []\n",
        "  for i in range(iterations):\n",
        "    w, b = weights[-1]\n",
        "    # We calculate the model's prediction / error with the latest weights.\n",
        "    y_pred = linear_regression(x, w, b)\n",
        "    error = mean_squared_error(y, y_pred)\n",
        "    # We update the weights based on the error at this step.\n",
        "    w = w - learning_rate * np.dot(x, y_pred - y) / len(x)\n",
        "    b = b - learning_rate * (y_pred - y).mean()\n",
        "    # We store the weights/error for later use.\n",
        "    weights.append((w, b))\n",
        "    errors.append(error)\n",
        "  w, b = weights[-1]\n",
        "  errors.append(mean_squared_error(y, linear_regression(x, w, b)))\n",
        "  return weights, errors"
      ],
      "execution_count": null,
      "outputs": []
    },
    {
      "cell_type": "code",
      "metadata": {
        "id": "H1BTIpPncIBG",
        "outputId": "cf434c01-fc9d-4683-c538-98992abbf381",
        "colab": {
          "base_uri": "https://localhost:8080/",
          "height": 563
        }
      },
      "source": [
        "#@title Visualize the evolution of the error throughout the gradient descent process.\n",
        "iterations = 50\n",
        "weights, errors = gradient_descent(x, y, w_0, b_0, learning_rate=1.0, iterations=iterations)\n",
        "plt.plot(range(iterations + 1), errors)\n",
        "plt.xlabel(\"Iteration\")\n",
        "plt.ylabel(\"Error\")\n",
        "_ = plt.ylim((0, 1.0))"
      ],
      "execution_count": null,
      "outputs": [
        {
          "output_type": "display_data",
          "data": {
            "text/plain": [
              "<Figure size 1000x600 with 1 Axes>"
            ],
            "image/svg+xml": "<?xml version=\"1.0\" encoding=\"utf-8\" standalone=\"no\"?>\n<!DOCTYPE svg PUBLIC \"-//W3C//DTD SVG 1.1//EN\"\n  \"http://www.w3.org/Graphics/SVG/1.1/DTD/svg11.dtd\">\n<svg xmlns:xlink=\"http://www.w3.org/1999/xlink\" width=\"686.823625pt\" height=\"406.947531pt\" viewBox=\"0 0 686.823625 406.947531\" xmlns=\"http://www.w3.org/2000/svg\" version=\"1.1\">\n <metadata>\n  <rdf:RDF xmlns:dc=\"http://purl.org/dc/elements/1.1/\" xmlns:cc=\"http://creativecommons.org/ns#\" xmlns:rdf=\"http://www.w3.org/1999/02/22-rdf-syntax-ns#\">\n   <cc:Work>\n    <dc:type rdf:resource=\"http://purl.org/dc/dcmitype/StillImage\"/>\n    <dc:date>2023-11-27T11:50:13.057370</dc:date>\n    <dc:format>image/svg+xml</dc:format>\n    <dc:creator>\n     <cc:Agent>\n      <dc:title>Matplotlib v3.7.1, https://matplotlib.org/</dc:title>\n     </cc:Agent>\n    </dc:creator>\n   </cc:Work>\n  </rdf:RDF>\n </metadata>\n <defs>\n  <style type=\"text/css\">*{stroke-linejoin: round; stroke-linecap: butt}</style>\n </defs>\n <g id=\"figure_1\">\n  <g id=\"patch_1\">\n   <path d=\"M 0 406.947531 \nL 686.823625 406.947531 \nL 686.823625 0 \nL 0 0 \nz\n\" style=\"fill: #f0f0f0\"/>\n  </g>\n  <g id=\"axes_1\">\n   <g id=\"patch_2\">\n    <path d=\"M 53.223625 362.438906 \nL 679.623625 362.438906 \nL 679.623625 12.518906 \nL 53.223625 12.518906 \nz\n\" style=\"fill: #f0f0f0\"/>\n   </g>\n   <g id=\"matplotlib.axis_1\">\n    <g id=\"xtick_1\">\n     <g id=\"line2d_1\">\n      <path d=\"M 81.696352 362.438906 \nL 81.696352 12.518906 \n\" clip-path=\"url(#p2c147e58e3)\" style=\"fill: none; stroke: #cbcbcb\"/>\n     </g>\n     <g id=\"line2d_2\"/>\n     <g id=\"text_1\">\n      <!-- 0 -->\n      <g transform=\"translate(77.242602 376.576719) scale(0.14 -0.14)\">\n       <defs>\n        <path id=\"DejaVuSans-30\" d=\"M 2034 4250 \nQ 1547 4250 1301 3770 \nQ 1056 3291 1056 2328 \nQ 1056 1369 1301 889 \nQ 1547 409 2034 409 \nQ 2525 409 2770 889 \nQ 3016 1369 3016 2328 \nQ 3016 3291 2770 3770 \nQ 2525 4250 2034 4250 \nz\nM 2034 4750 \nQ 2819 4750 3233 4129 \nQ 3647 3509 3647 2328 \nQ 3647 1150 3233 529 \nQ 2819 -91 2034 -91 \nQ 1250 -91 836 529 \nQ 422 1150 422 2328 \nQ 422 3509 836 4129 \nQ 1250 4750 2034 4750 \nz\n\" transform=\"scale(0.015625)\"/>\n       </defs>\n       <use xlink:href=\"#DejaVuSans-30\"/>\n      </g>\n     </g>\n    </g>\n    <g id=\"xtick_2\">\n     <g id=\"line2d_3\">\n      <path d=\"M 195.587261 362.438906 \nL 195.587261 12.518906 \n\" clip-path=\"url(#p2c147e58e3)\" style=\"fill: none; stroke: #cbcbcb\"/>\n     </g>\n     <g id=\"line2d_4\"/>\n     <g id=\"text_2\">\n      <!-- 10 -->\n      <g transform=\"translate(186.679761 376.576719) scale(0.14 -0.14)\">\n       <defs>\n        <path id=\"DejaVuSans-31\" d=\"M 794 531 \nL 1825 531 \nL 1825 4091 \nL 703 3866 \nL 703 4441 \nL 1819 4666 \nL 2450 4666 \nL 2450 531 \nL 3481 531 \nL 3481 0 \nL 794 0 \nL 794 531 \nz\n\" transform=\"scale(0.015625)\"/>\n       </defs>\n       <use xlink:href=\"#DejaVuSans-31\"/>\n       <use xlink:href=\"#DejaVuSans-30\" x=\"63.623047\"/>\n      </g>\n     </g>\n    </g>\n    <g id=\"xtick_3\">\n     <g id=\"line2d_5\">\n      <path d=\"M 309.47817 362.438906 \nL 309.47817 12.518906 \n\" clip-path=\"url(#p2c147e58e3)\" style=\"fill: none; stroke: #cbcbcb\"/>\n     </g>\n     <g id=\"line2d_6\"/>\n     <g id=\"text_3\">\n      <!-- 20 -->\n      <g transform=\"translate(300.57067 376.576719) scale(0.14 -0.14)\">\n       <defs>\n        <path id=\"DejaVuSans-32\" d=\"M 1228 531 \nL 3431 531 \nL 3431 0 \nL 469 0 \nL 469 531 \nQ 828 903 1448 1529 \nQ 2069 2156 2228 2338 \nQ 2531 2678 2651 2914 \nQ 2772 3150 2772 3378 \nQ 2772 3750 2511 3984 \nQ 2250 4219 1831 4219 \nQ 1534 4219 1204 4116 \nQ 875 4013 500 3803 \nL 500 4441 \nQ 881 4594 1212 4672 \nQ 1544 4750 1819 4750 \nQ 2544 4750 2975 4387 \nQ 3406 4025 3406 3419 \nQ 3406 3131 3298 2873 \nQ 3191 2616 2906 2266 \nQ 2828 2175 2409 1742 \nQ 1991 1309 1228 531 \nz\n\" transform=\"scale(0.015625)\"/>\n       </defs>\n       <use xlink:href=\"#DejaVuSans-32\"/>\n       <use xlink:href=\"#DejaVuSans-30\" x=\"63.623047\"/>\n      </g>\n     </g>\n    </g>\n    <g id=\"xtick_4\">\n     <g id=\"line2d_7\">\n      <path d=\"M 423.36908 362.438906 \nL 423.36908 12.518906 \n\" clip-path=\"url(#p2c147e58e3)\" style=\"fill: none; stroke: #cbcbcb\"/>\n     </g>\n     <g id=\"line2d_8\"/>\n     <g id=\"text_4\">\n      <!-- 30 -->\n      <g transform=\"translate(414.46158 376.576719) scale(0.14 -0.14)\">\n       <defs>\n        <path id=\"DejaVuSans-33\" d=\"M 2597 2516 \nQ 3050 2419 3304 2112 \nQ 3559 1806 3559 1356 \nQ 3559 666 3084 287 \nQ 2609 -91 1734 -91 \nQ 1441 -91 1130 -33 \nQ 819 25 488 141 \nL 488 750 \nQ 750 597 1062 519 \nQ 1375 441 1716 441 \nQ 2309 441 2620 675 \nQ 2931 909 2931 1356 \nQ 2931 1769 2642 2001 \nQ 2353 2234 1838 2234 \nL 1294 2234 \nL 1294 2753 \nL 1863 2753 \nQ 2328 2753 2575 2939 \nQ 2822 3125 2822 3475 \nQ 2822 3834 2567 4026 \nQ 2313 4219 1838 4219 \nQ 1578 4219 1281 4162 \nQ 984 4106 628 3988 \nL 628 4550 \nQ 988 4650 1302 4700 \nQ 1616 4750 1894 4750 \nQ 2613 4750 3031 4423 \nQ 3450 4097 3450 3541 \nQ 3450 3153 3228 2886 \nQ 3006 2619 2597 2516 \nz\n\" transform=\"scale(0.015625)\"/>\n       </defs>\n       <use xlink:href=\"#DejaVuSans-33\"/>\n       <use xlink:href=\"#DejaVuSans-30\" x=\"63.623047\"/>\n      </g>\n     </g>\n    </g>\n    <g id=\"xtick_5\">\n     <g id=\"line2d_9\">\n      <path d=\"M 537.259989 362.438906 \nL 537.259989 12.518906 \n\" clip-path=\"url(#p2c147e58e3)\" style=\"fill: none; stroke: #cbcbcb\"/>\n     </g>\n     <g id=\"line2d_10\"/>\n     <g id=\"text_5\">\n      <!-- 40 -->\n      <g transform=\"translate(528.352489 376.576719) scale(0.14 -0.14)\">\n       <defs>\n        <path id=\"DejaVuSans-34\" d=\"M 2419 4116 \nL 825 1625 \nL 2419 1625 \nL 2419 4116 \nz\nM 2253 4666 \nL 3047 4666 \nL 3047 1625 \nL 3713 1625 \nL 3713 1100 \nL 3047 1100 \nL 3047 0 \nL 2419 0 \nL 2419 1100 \nL 313 1100 \nL 313 1709 \nL 2253 4666 \nz\n\" transform=\"scale(0.015625)\"/>\n       </defs>\n       <use xlink:href=\"#DejaVuSans-34\"/>\n       <use xlink:href=\"#DejaVuSans-30\" x=\"63.623047\"/>\n      </g>\n     </g>\n    </g>\n    <g id=\"xtick_6\">\n     <g id=\"line2d_11\">\n      <path d=\"M 651.150898 362.438906 \nL 651.150898 12.518906 \n\" clip-path=\"url(#p2c147e58e3)\" style=\"fill: none; stroke: #cbcbcb\"/>\n     </g>\n     <g id=\"line2d_12\"/>\n     <g id=\"text_6\">\n      <!-- 50 -->\n      <g transform=\"translate(642.243398 376.576719) scale(0.14 -0.14)\">\n       <defs>\n        <path id=\"DejaVuSans-35\" d=\"M 691 4666 \nL 3169 4666 \nL 3169 4134 \nL 1269 4134 \nL 1269 2991 \nQ 1406 3038 1543 3061 \nQ 1681 3084 1819 3084 \nQ 2600 3084 3056 2656 \nQ 3513 2228 3513 1497 \nQ 3513 744 3044 326 \nQ 2575 -91 1722 -91 \nQ 1428 -91 1123 -41 \nQ 819 9 494 109 \nL 494 744 \nQ 775 591 1075 516 \nQ 1375 441 1709 441 \nQ 2250 441 2565 725 \nQ 2881 1009 2881 1497 \nQ 2881 1984 2565 2268 \nQ 2250 2553 1709 2553 \nQ 1456 2553 1204 2497 \nQ 953 2441 691 2322 \nL 691 4666 \nz\n\" transform=\"scale(0.015625)\"/>\n       </defs>\n       <use xlink:href=\"#DejaVuSans-35\"/>\n       <use xlink:href=\"#DejaVuSans-30\" x=\"63.623047\"/>\n      </g>\n     </g>\n    </g>\n    <g id=\"text_7\">\n     <!-- Iteration -->\n     <g transform=\"translate(330.793188 396.253656) scale(0.168 -0.168)\">\n      <defs>\n       <path id=\"DejaVuSans-49\" d=\"M 628 4666 \nL 1259 4666 \nL 1259 0 \nL 628 0 \nL 628 4666 \nz\n\" transform=\"scale(0.015625)\"/>\n       <path id=\"DejaVuSans-74\" d=\"M 1172 4494 \nL 1172 3500 \nL 2356 3500 \nL 2356 3053 \nL 1172 3053 \nL 1172 1153 \nQ 1172 725 1289 603 \nQ 1406 481 1766 481 \nL 2356 481 \nL 2356 0 \nL 1766 0 \nQ 1100 0 847 248 \nQ 594 497 594 1153 \nL 594 3053 \nL 172 3053 \nL 172 3500 \nL 594 3500 \nL 594 4494 \nL 1172 4494 \nz\n\" transform=\"scale(0.015625)\"/>\n       <path id=\"DejaVuSans-65\" d=\"M 3597 1894 \nL 3597 1613 \nL 953 1613 \nQ 991 1019 1311 708 \nQ 1631 397 2203 397 \nQ 2534 397 2845 478 \nQ 3156 559 3463 722 \nL 3463 178 \nQ 3153 47 2828 -22 \nQ 2503 -91 2169 -91 \nQ 1331 -91 842 396 \nQ 353 884 353 1716 \nQ 353 2575 817 3079 \nQ 1281 3584 2069 3584 \nQ 2775 3584 3186 3129 \nQ 3597 2675 3597 1894 \nz\nM 3022 2063 \nQ 3016 2534 2758 2815 \nQ 2500 3097 2075 3097 \nQ 1594 3097 1305 2825 \nQ 1016 2553 972 2059 \nL 3022 2063 \nz\n\" transform=\"scale(0.015625)\"/>\n       <path id=\"DejaVuSans-72\" d=\"M 2631 2963 \nQ 2534 3019 2420 3045 \nQ 2306 3072 2169 3072 \nQ 1681 3072 1420 2755 \nQ 1159 2438 1159 1844 \nL 1159 0 \nL 581 0 \nL 581 3500 \nL 1159 3500 \nL 1159 2956 \nQ 1341 3275 1631 3429 \nQ 1922 3584 2338 3584 \nQ 2397 3584 2469 3576 \nQ 2541 3569 2628 3553 \nL 2631 2963 \nz\n\" transform=\"scale(0.015625)\"/>\n       <path id=\"DejaVuSans-61\" d=\"M 2194 1759 \nQ 1497 1759 1228 1600 \nQ 959 1441 959 1056 \nQ 959 750 1161 570 \nQ 1363 391 1709 391 \nQ 2188 391 2477 730 \nQ 2766 1069 2766 1631 \nL 2766 1759 \nL 2194 1759 \nz\nM 3341 1997 \nL 3341 0 \nL 2766 0 \nL 2766 531 \nQ 2569 213 2275 61 \nQ 1981 -91 1556 -91 \nQ 1019 -91 701 211 \nQ 384 513 384 1019 \nQ 384 1609 779 1909 \nQ 1175 2209 1959 2209 \nL 2766 2209 \nL 2766 2266 \nQ 2766 2663 2505 2880 \nQ 2244 3097 1772 3097 \nQ 1472 3097 1187 3025 \nQ 903 2953 641 2809 \nL 641 3341 \nQ 956 3463 1253 3523 \nQ 1550 3584 1831 3584 \nQ 2591 3584 2966 3190 \nQ 3341 2797 3341 1997 \nz\n\" transform=\"scale(0.015625)\"/>\n       <path id=\"DejaVuSans-69\" d=\"M 603 3500 \nL 1178 3500 \nL 1178 0 \nL 603 0 \nL 603 3500 \nz\nM 603 4863 \nL 1178 4863 \nL 1178 4134 \nL 603 4134 \nL 603 4863 \nz\n\" transform=\"scale(0.015625)\"/>\n       <path id=\"DejaVuSans-6f\" d=\"M 1959 3097 \nQ 1497 3097 1228 2736 \nQ 959 2375 959 1747 \nQ 959 1119 1226 758 \nQ 1494 397 1959 397 \nQ 2419 397 2687 759 \nQ 2956 1122 2956 1747 \nQ 2956 2369 2687 2733 \nQ 2419 3097 1959 3097 \nz\nM 1959 3584 \nQ 2709 3584 3137 3096 \nQ 3566 2609 3566 1747 \nQ 3566 888 3137 398 \nQ 2709 -91 1959 -91 \nQ 1206 -91 779 398 \nQ 353 888 353 1747 \nQ 353 2609 779 3096 \nQ 1206 3584 1959 3584 \nz\n\" transform=\"scale(0.015625)\"/>\n       <path id=\"DejaVuSans-6e\" d=\"M 3513 2113 \nL 3513 0 \nL 2938 0 \nL 2938 2094 \nQ 2938 2591 2744 2837 \nQ 2550 3084 2163 3084 \nQ 1697 3084 1428 2787 \nQ 1159 2491 1159 1978 \nL 1159 0 \nL 581 0 \nL 581 3500 \nL 1159 3500 \nL 1159 2956 \nQ 1366 3272 1645 3428 \nQ 1925 3584 2291 3584 \nQ 2894 3584 3203 3211 \nQ 3513 2838 3513 2113 \nz\n\" transform=\"scale(0.015625)\"/>\n      </defs>\n      <use xlink:href=\"#DejaVuSans-49\"/>\n      <use xlink:href=\"#DejaVuSans-74\" x=\"29.492188\"/>\n      <use xlink:href=\"#DejaVuSans-65\" x=\"68.701172\"/>\n      <use xlink:href=\"#DejaVuSans-72\" x=\"130.224609\"/>\n      <use xlink:href=\"#DejaVuSans-61\" x=\"171.337891\"/>\n      <use xlink:href=\"#DejaVuSans-74\" x=\"232.617188\"/>\n      <use xlink:href=\"#DejaVuSans-69\" x=\"271.826172\"/>\n      <use xlink:href=\"#DejaVuSans-6f\" x=\"299.609375\"/>\n      <use xlink:href=\"#DejaVuSans-6e\" x=\"360.791016\"/>\n     </g>\n    </g>\n   </g>\n   <g id=\"matplotlib.axis_2\">\n    <g id=\"ytick_1\">\n     <g id=\"line2d_13\">\n      <path d=\"M 53.223625 362.438906 \nL 679.623625 362.438906 \n\" clip-path=\"url(#p2c147e58e3)\" style=\"fill: none; stroke: #cbcbcb\"/>\n     </g>\n     <g id=\"line2d_14\"/>\n     <g id=\"text_8\">\n      <!-- 0.0 -->\n      <g transform=\"translate(27.45925 367.757813) scale(0.14 -0.14)\">\n       <defs>\n        <path id=\"DejaVuSans-2e\" d=\"M 684 794 \nL 1344 794 \nL 1344 0 \nL 684 0 \nL 684 794 \nz\n\" transform=\"scale(0.015625)\"/>\n       </defs>\n       <use xlink:href=\"#DejaVuSans-30\"/>\n       <use xlink:href=\"#DejaVuSans-2e\" x=\"63.623047\"/>\n       <use xlink:href=\"#DejaVuSans-30\" x=\"95.410156\"/>\n      </g>\n     </g>\n    </g>\n    <g id=\"ytick_2\">\n     <g id=\"line2d_15\">\n      <path d=\"M 53.223625 292.454906 \nL 679.623625 292.454906 \n\" clip-path=\"url(#p2c147e58e3)\" style=\"fill: none; stroke: #cbcbcb\"/>\n     </g>\n     <g id=\"line2d_16\"/>\n     <g id=\"text_9\">\n      <!-- 0.2 -->\n      <g transform=\"translate(27.45925 297.773813) scale(0.14 -0.14)\">\n       <use xlink:href=\"#DejaVuSans-30\"/>\n       <use xlink:href=\"#DejaVuSans-2e\" x=\"63.623047\"/>\n       <use xlink:href=\"#DejaVuSans-32\" x=\"95.410156\"/>\n      </g>\n     </g>\n    </g>\n    <g id=\"ytick_3\">\n     <g id=\"line2d_17\">\n      <path d=\"M 53.223625 222.470906 \nL 679.623625 222.470906 \n\" clip-path=\"url(#p2c147e58e3)\" style=\"fill: none; stroke: #cbcbcb\"/>\n     </g>\n     <g id=\"line2d_18\"/>\n     <g id=\"text_10\">\n      <!-- 0.4 -->\n      <g transform=\"translate(27.45925 227.789813) scale(0.14 -0.14)\">\n       <use xlink:href=\"#DejaVuSans-30\"/>\n       <use xlink:href=\"#DejaVuSans-2e\" x=\"63.623047\"/>\n       <use xlink:href=\"#DejaVuSans-34\" x=\"95.410156\"/>\n      </g>\n     </g>\n    </g>\n    <g id=\"ytick_4\">\n     <g id=\"line2d_19\">\n      <path d=\"M 53.223625 152.486906 \nL 679.623625 152.486906 \n\" clip-path=\"url(#p2c147e58e3)\" style=\"fill: none; stroke: #cbcbcb\"/>\n     </g>\n     <g id=\"line2d_20\"/>\n     <g id=\"text_11\">\n      <!-- 0.6 -->\n      <g transform=\"translate(27.45925 157.805812) scale(0.14 -0.14)\">\n       <defs>\n        <path id=\"DejaVuSans-36\" d=\"M 2113 2584 \nQ 1688 2584 1439 2293 \nQ 1191 2003 1191 1497 \nQ 1191 994 1439 701 \nQ 1688 409 2113 409 \nQ 2538 409 2786 701 \nQ 3034 994 3034 1497 \nQ 3034 2003 2786 2293 \nQ 2538 2584 2113 2584 \nz\nM 3366 4563 \nL 3366 3988 \nQ 3128 4100 2886 4159 \nQ 2644 4219 2406 4219 \nQ 1781 4219 1451 3797 \nQ 1122 3375 1075 2522 \nQ 1259 2794 1537 2939 \nQ 1816 3084 2150 3084 \nQ 2853 3084 3261 2657 \nQ 3669 2231 3669 1497 \nQ 3669 778 3244 343 \nQ 2819 -91 2113 -91 \nQ 1303 -91 875 529 \nQ 447 1150 447 2328 \nQ 447 3434 972 4092 \nQ 1497 4750 2381 4750 \nQ 2619 4750 2861 4703 \nQ 3103 4656 3366 4563 \nz\n\" transform=\"scale(0.015625)\"/>\n       </defs>\n       <use xlink:href=\"#DejaVuSans-30\"/>\n       <use xlink:href=\"#DejaVuSans-2e\" x=\"63.623047\"/>\n       <use xlink:href=\"#DejaVuSans-36\" x=\"95.410156\"/>\n      </g>\n     </g>\n    </g>\n    <g id=\"ytick_5\">\n     <g id=\"line2d_21\">\n      <path d=\"M 53.223625 82.502906 \nL 679.623625 82.502906 \n\" clip-path=\"url(#p2c147e58e3)\" style=\"fill: none; stroke: #cbcbcb\"/>\n     </g>\n     <g id=\"line2d_22\"/>\n     <g id=\"text_12\">\n      <!-- 0.8 -->\n      <g transform=\"translate(27.45925 87.821812) scale(0.14 -0.14)\">\n       <defs>\n        <path id=\"DejaVuSans-38\" d=\"M 2034 2216 \nQ 1584 2216 1326 1975 \nQ 1069 1734 1069 1313 \nQ 1069 891 1326 650 \nQ 1584 409 2034 409 \nQ 2484 409 2743 651 \nQ 3003 894 3003 1313 \nQ 3003 1734 2745 1975 \nQ 2488 2216 2034 2216 \nz\nM 1403 2484 \nQ 997 2584 770 2862 \nQ 544 3141 544 3541 \nQ 544 4100 942 4425 \nQ 1341 4750 2034 4750 \nQ 2731 4750 3128 4425 \nQ 3525 4100 3525 3541 \nQ 3525 3141 3298 2862 \nQ 3072 2584 2669 2484 \nQ 3125 2378 3379 2068 \nQ 3634 1759 3634 1313 \nQ 3634 634 3220 271 \nQ 2806 -91 2034 -91 \nQ 1263 -91 848 271 \nQ 434 634 434 1313 \nQ 434 1759 690 2068 \nQ 947 2378 1403 2484 \nz\nM 1172 3481 \nQ 1172 3119 1398 2916 \nQ 1625 2713 2034 2713 \nQ 2441 2713 2670 2916 \nQ 2900 3119 2900 3481 \nQ 2900 3844 2670 4047 \nQ 2441 4250 2034 4250 \nQ 1625 4250 1398 4047 \nQ 1172 3844 1172 3481 \nz\n\" transform=\"scale(0.015625)\"/>\n       </defs>\n       <use xlink:href=\"#DejaVuSans-30\"/>\n       <use xlink:href=\"#DejaVuSans-2e\" x=\"63.623047\"/>\n       <use xlink:href=\"#DejaVuSans-38\" x=\"95.410156\"/>\n      </g>\n     </g>\n    </g>\n    <g id=\"ytick_6\">\n     <g id=\"line2d_23\">\n      <path d=\"M 53.223625 12.518906 \nL 679.623625 12.518906 \n\" clip-path=\"url(#p2c147e58e3)\" style=\"fill: none; stroke: #cbcbcb\"/>\n     </g>\n     <g id=\"line2d_24\"/>\n     <g id=\"text_13\">\n      <!-- 1.0 -->\n      <g transform=\"translate(27.45925 17.837812) scale(0.14 -0.14)\">\n       <use xlink:href=\"#DejaVuSans-31\"/>\n       <use xlink:href=\"#DejaVuSans-2e\" x=\"63.623047\"/>\n       <use xlink:href=\"#DejaVuSans-30\" x=\"95.410156\"/>\n      </g>\n     </g>\n    </g>\n    <g id=\"text_14\">\n     <!-- Error -->\n     <g transform=\"translate(19.965375 207.949969) rotate(-90) scale(0.168 -0.168)\">\n      <defs>\n       <path id=\"DejaVuSans-45\" d=\"M 628 4666 \nL 3578 4666 \nL 3578 4134 \nL 1259 4134 \nL 1259 2753 \nL 3481 2753 \nL 3481 2222 \nL 1259 2222 \nL 1259 531 \nL 3634 531 \nL 3634 0 \nL 628 0 \nL 628 4666 \nz\n\" transform=\"scale(0.015625)\"/>\n      </defs>\n      <use xlink:href=\"#DejaVuSans-45\"/>\n      <use xlink:href=\"#DejaVuSans-72\" x=\"63.183594\"/>\n      <use xlink:href=\"#DejaVuSans-72\" x=\"102.546875\"/>\n      <use xlink:href=\"#DejaVuSans-6f\" x=\"141.410156\"/>\n      <use xlink:href=\"#DejaVuSans-72\" x=\"202.591797\"/>\n     </g>\n    </g>\n   </g>\n   <g id=\"line2d_25\">\n    <path d=\"M 81.696352 248.598952 \nL 93.085443 279.960039 \nL 104.474534 292.691026 \nL 115.863625 302.44469 \nL 127.252716 310.62331 \nL 138.641807 317.538821 \nL 150.030898 323.390593 \nL 161.419989 328.342564 \nL 172.80908 332.533118 \nL 184.19817 336.079332 \nL 195.587261 339.08028 \nL 206.976352 341.619801 \nL 218.365443 343.768846 \nL 229.754534 345.587453 \nL 241.143625 347.126431 \nL 252.532716 348.428775 \nL 263.921807 349.530871 \nL 275.310898 350.463509 \nL 286.699989 351.252744 \nL 298.08908 351.920626 \nL 309.47817 352.485815 \nL 320.867261 352.9641 \nL 332.256352 353.368844 \nL 343.645443 353.711354 \nL 355.034534 354.0012 \nL 366.423625 354.246479 \nL 377.812716 354.454044 \nL 389.201807 354.629694 \nL 400.590898 354.778336 \nL 411.979989 354.904123 \nL 423.36908 355.010569 \nL 434.75817 355.100647 \nL 446.147261 355.176876 \nL 457.536352 355.241383 \nL 468.925443 355.295971 \nL 480.314534 355.342167 \nL 491.703625 355.381259 \nL 503.092716 355.41434 \nL 514.481807 355.442335 \nL 525.870898 355.466025 \nL 537.259989 355.486073 \nL 548.64908 355.503038 \nL 560.03817 355.517394 \nL 571.427261 355.529543 \nL 582.816352 355.539824 \nL 594.205443 355.548525 \nL 605.594534 355.555887 \nL 616.983625 355.562118 \nL 628.372716 355.56739 \nL 639.761807 355.571852 \nL 651.150898 355.575628 \n\" clip-path=\"url(#p2c147e58e3)\" style=\"fill: none; stroke: #008fd5; stroke-width: 4\"/>\n   </g>\n   <g id=\"patch_3\">\n    <path d=\"M 53.223625 362.438906 \nL 53.223625 12.518906 \n\" style=\"fill: none; stroke: #f0f0f0; stroke-width: 3; stroke-linejoin: miter; stroke-linecap: square\"/>\n   </g>\n   <g id=\"patch_4\">\n    <path d=\"M 679.623625 362.438906 \nL 679.623625 12.518906 \n\" style=\"fill: none; stroke: #f0f0f0; stroke-width: 3; stroke-linejoin: miter; stroke-linecap: square\"/>\n   </g>\n   <g id=\"patch_5\">\n    <path d=\"M 53.223625 362.438906 \nL 679.623625 362.438906 \n\" style=\"fill: none; stroke: #f0f0f0; stroke-width: 3; stroke-linejoin: miter; stroke-linecap: square\"/>\n   </g>\n   <g id=\"patch_6\">\n    <path d=\"M 53.223625 12.518906 \nL 679.623625 12.518906 \n\" style=\"fill: none; stroke: #f0f0f0; stroke-width: 3; stroke-linejoin: miter; stroke-linecap: square\"/>\n   </g>\n  </g>\n </g>\n <defs>\n  <clipPath id=\"p2c147e58e3\">\n   <rect x=\"53.223625\" y=\"12.518906\" width=\"626.4\" height=\"349.92\"/>\n  </clipPath>\n </defs>\n</svg>\n"
          },
          "metadata": {}
        }
      ]
    },
    {
      "cell_type": "code",
      "metadata": {
        "id": "99OkJjPhjc_r",
        "outputId": "292a51b3-b632-4f21-fe74-ab5a9a83a6a8",
        "colab": {
          "base_uri": "https://localhost:8080/",
          "height": 558
        }
      },
      "source": [
        "#@title Visualize the weights at different iterations.\n",
        "from IPython.display import clear_output\n",
        "import time\n",
        "\n",
        "for n_iter, ((w, b), error) in enumerate(zip(weights, errors)):\n",
        "  clear_output(wait=True)\n",
        "  y_pred = linear_regression(x, w, b)\n",
        "  plot_linear_regression(x, y, y_pred)\n",
        "  plt.title(f\"Iteration {n_iter}\")\n",
        "  plt.show()\n",
        "  time.sleep(1.0 if n_iter < 10 else 0.0)"
      ],
      "execution_count": null,
      "outputs": [
        {
          "output_type": "display_data",
          "data": {
            "text/plain": [
              "<Figure size 1000x600 with 1 Axes>"
            ],
            "image/svg+xml": "<?xml version=\"1.0\" encoding=\"utf-8\" standalone=\"no\"?>\n<!DOCTYPE svg PUBLIC \"-//W3C//DTD SVG 1.1//EN\"\n  \"http://www.w3.org/Graphics/SVG/1.1/DTD/svg11.dtd\">\n<svg xmlns:xlink=\"http://www.w3.org/1999/xlink\" width=\"678.295937pt\" height=\"402.687825pt\" viewBox=\"0 0 678.295937 402.687825\" xmlns=\"http://www.w3.org/2000/svg\" version=\"1.1\">\n <metadata>\n  <rdf:RDF xmlns:dc=\"http://purl.org/dc/elements/1.1/\" xmlns:cc=\"http://creativecommons.org/ns#\" xmlns:rdf=\"http://www.w3.org/1999/02/22-rdf-syntax-ns#\">\n   <cc:Work>\n    <dc:type rdf:resource=\"http://purl.org/dc/dcmitype/StillImage\"/>\n    <dc:date>2023-11-27T11:50:47.280496</dc:date>\n    <dc:format>image/svg+xml</dc:format>\n    <dc:creator>\n     <cc:Agent>\n      <dc:title>Matplotlib v3.7.1, https://matplotlib.org/</dc:title>\n     </cc:Agent>\n    </dc:creator>\n   </cc:Work>\n  </rdf:RDF>\n </metadata>\n <defs>\n  <style type=\"text/css\">*{stroke-linejoin: round; stroke-linecap: butt}</style>\n </defs>\n <g id=\"figure_1\">\n  <g id=\"patch_1\">\n   <path d=\"M -0 402.687825 \nL 678.295937 402.687825 \nL 678.295937 0 \nL -0 0 \nz\n\" style=\"fill: #f0f0f0\"/>\n  </g>\n  <g id=\"axes_1\">\n   <g id=\"patch_2\">\n    <path d=\"M 44.695937 378.43845 \nL 671.095937 378.43845 \nL 671.095937 28.51845 \nL 44.695937 28.51845 \nz\n\" style=\"fill: #f0f0f0\"/>\n   </g>\n   <g id=\"matplotlib.axis_1\">\n    <g id=\"xtick_1\">\n     <g id=\"line2d_1\">\n      <path d=\"M 74.585218 378.43845 \nL 74.585218 28.51845 \n\" clip-path=\"url(#p6fcfeb5752)\" style=\"fill: none; stroke: #cbcbcb\"/>\n     </g>\n     <g id=\"line2d_2\"/>\n     <g id=\"text_1\">\n      <!-- 0.0 -->\n      <g transform=\"translate(63.453031 392.576263) scale(0.14 -0.14)\">\n       <defs>\n        <path id=\"DejaVuSans-30\" d=\"M 2034 4250 \nQ 1547 4250 1301 3770 \nQ 1056 3291 1056 2328 \nQ 1056 1369 1301 889 \nQ 1547 409 2034 409 \nQ 2525 409 2770 889 \nQ 3016 1369 3016 2328 \nQ 3016 3291 2770 3770 \nQ 2525 4250 2034 4250 \nz\nM 2034 4750 \nQ 2819 4750 3233 4129 \nQ 3647 3509 3647 2328 \nQ 3647 1150 3233 529 \nQ 2819 -91 2034 -91 \nQ 1250 -91 836 529 \nQ 422 1150 422 2328 \nQ 422 3509 836 4129 \nQ 1250 4750 2034 4750 \nz\n\" transform=\"scale(0.015625)\"/>\n        <path id=\"DejaVuSans-2e\" d=\"M 684 794 \nL 1344 794 \nL 1344 0 \nL 684 0 \nL 684 794 \nz\n\" transform=\"scale(0.015625)\"/>\n       </defs>\n       <use xlink:href=\"#DejaVuSans-30\"/>\n       <use xlink:href=\"#DejaVuSans-2e\" x=\"63.623047\"/>\n       <use xlink:href=\"#DejaVuSans-30\" x=\"95.410156\"/>\n      </g>\n     </g>\n    </g>\n    <g id=\"xtick_2\">\n     <g id=\"line2d_3\">\n      <path d=\"M 187.909506 378.43845 \nL 187.909506 28.51845 \n\" clip-path=\"url(#p6fcfeb5752)\" style=\"fill: none; stroke: #cbcbcb\"/>\n     </g>\n     <g id=\"line2d_4\"/>\n     <g id=\"text_2\">\n      <!-- 0.2 -->\n      <g transform=\"translate(176.777319 392.576263) scale(0.14 -0.14)\">\n       <defs>\n        <path id=\"DejaVuSans-32\" d=\"M 1228 531 \nL 3431 531 \nL 3431 0 \nL 469 0 \nL 469 531 \nQ 828 903 1448 1529 \nQ 2069 2156 2228 2338 \nQ 2531 2678 2651 2914 \nQ 2772 3150 2772 3378 \nQ 2772 3750 2511 3984 \nQ 2250 4219 1831 4219 \nQ 1534 4219 1204 4116 \nQ 875 4013 500 3803 \nL 500 4441 \nQ 881 4594 1212 4672 \nQ 1544 4750 1819 4750 \nQ 2544 4750 2975 4387 \nQ 3406 4025 3406 3419 \nQ 3406 3131 3298 2873 \nQ 3191 2616 2906 2266 \nQ 2828 2175 2409 1742 \nQ 1991 1309 1228 531 \nz\n\" transform=\"scale(0.015625)\"/>\n       </defs>\n       <use xlink:href=\"#DejaVuSans-30\"/>\n       <use xlink:href=\"#DejaVuSans-2e\" x=\"63.623047\"/>\n       <use xlink:href=\"#DejaVuSans-32\" x=\"95.410156\"/>\n      </g>\n     </g>\n    </g>\n    <g id=\"xtick_3\">\n     <g id=\"line2d_5\">\n      <path d=\"M 301.233794 378.43845 \nL 301.233794 28.51845 \n\" clip-path=\"url(#p6fcfeb5752)\" style=\"fill: none; stroke: #cbcbcb\"/>\n     </g>\n     <g id=\"line2d_6\"/>\n     <g id=\"text_3\">\n      <!-- 0.4 -->\n      <g transform=\"translate(290.101606 392.576263) scale(0.14 -0.14)\">\n       <defs>\n        <path id=\"DejaVuSans-34\" d=\"M 2419 4116 \nL 825 1625 \nL 2419 1625 \nL 2419 4116 \nz\nM 2253 4666 \nL 3047 4666 \nL 3047 1625 \nL 3713 1625 \nL 3713 1100 \nL 3047 1100 \nL 3047 0 \nL 2419 0 \nL 2419 1100 \nL 313 1100 \nL 313 1709 \nL 2253 4666 \nz\n\" transform=\"scale(0.015625)\"/>\n       </defs>\n       <use xlink:href=\"#DejaVuSans-30\"/>\n       <use xlink:href=\"#DejaVuSans-2e\" x=\"63.623047\"/>\n       <use xlink:href=\"#DejaVuSans-34\" x=\"95.410156\"/>\n      </g>\n     </g>\n    </g>\n    <g id=\"xtick_4\">\n     <g id=\"line2d_7\">\n      <path d=\"M 414.558081 378.43845 \nL 414.558081 28.51845 \n\" clip-path=\"url(#p6fcfeb5752)\" style=\"fill: none; stroke: #cbcbcb\"/>\n     </g>\n     <g id=\"line2d_8\"/>\n     <g id=\"text_4\">\n      <!-- 0.6 -->\n      <g transform=\"translate(403.425894 392.576263) scale(0.14 -0.14)\">\n       <defs>\n        <path id=\"DejaVuSans-36\" d=\"M 2113 2584 \nQ 1688 2584 1439 2293 \nQ 1191 2003 1191 1497 \nQ 1191 994 1439 701 \nQ 1688 409 2113 409 \nQ 2538 409 2786 701 \nQ 3034 994 3034 1497 \nQ 3034 2003 2786 2293 \nQ 2538 2584 2113 2584 \nz\nM 3366 4563 \nL 3366 3988 \nQ 3128 4100 2886 4159 \nQ 2644 4219 2406 4219 \nQ 1781 4219 1451 3797 \nQ 1122 3375 1075 2522 \nQ 1259 2794 1537 2939 \nQ 1816 3084 2150 3084 \nQ 2853 3084 3261 2657 \nQ 3669 2231 3669 1497 \nQ 3669 778 3244 343 \nQ 2819 -91 2113 -91 \nQ 1303 -91 875 529 \nQ 447 1150 447 2328 \nQ 447 3434 972 4092 \nQ 1497 4750 2381 4750 \nQ 2619 4750 2861 4703 \nQ 3103 4656 3366 4563 \nz\n\" transform=\"scale(0.015625)\"/>\n       </defs>\n       <use xlink:href=\"#DejaVuSans-30\"/>\n       <use xlink:href=\"#DejaVuSans-2e\" x=\"63.623047\"/>\n       <use xlink:href=\"#DejaVuSans-36\" x=\"95.410156\"/>\n      </g>\n     </g>\n    </g>\n    <g id=\"xtick_5\">\n     <g id=\"line2d_9\">\n      <path d=\"M 527.882369 378.43845 \nL 527.882369 28.51845 \n\" clip-path=\"url(#p6fcfeb5752)\" style=\"fill: none; stroke: #cbcbcb\"/>\n     </g>\n     <g id=\"line2d_10\"/>\n     <g id=\"text_5\">\n      <!-- 0.8 -->\n      <g transform=\"translate(516.750181 392.576263) scale(0.14 -0.14)\">\n       <defs>\n        <path id=\"DejaVuSans-38\" d=\"M 2034 2216 \nQ 1584 2216 1326 1975 \nQ 1069 1734 1069 1313 \nQ 1069 891 1326 650 \nQ 1584 409 2034 409 \nQ 2484 409 2743 651 \nQ 3003 894 3003 1313 \nQ 3003 1734 2745 1975 \nQ 2488 2216 2034 2216 \nz\nM 1403 2484 \nQ 997 2584 770 2862 \nQ 544 3141 544 3541 \nQ 544 4100 942 4425 \nQ 1341 4750 2034 4750 \nQ 2731 4750 3128 4425 \nQ 3525 4100 3525 3541 \nQ 3525 3141 3298 2862 \nQ 3072 2584 2669 2484 \nQ 3125 2378 3379 2068 \nQ 3634 1759 3634 1313 \nQ 3634 634 3220 271 \nQ 2806 -91 2034 -91 \nQ 1263 -91 848 271 \nQ 434 634 434 1313 \nQ 434 1759 690 2068 \nQ 947 2378 1403 2484 \nz\nM 1172 3481 \nQ 1172 3119 1398 2916 \nQ 1625 2713 2034 2713 \nQ 2441 2713 2670 2916 \nQ 2900 3119 2900 3481 \nQ 2900 3844 2670 4047 \nQ 2441 4250 2034 4250 \nQ 1625 4250 1398 4047 \nQ 1172 3844 1172 3481 \nz\n\" transform=\"scale(0.015625)\"/>\n       </defs>\n       <use xlink:href=\"#DejaVuSans-30\"/>\n       <use xlink:href=\"#DejaVuSans-2e\" x=\"63.623047\"/>\n       <use xlink:href=\"#DejaVuSans-38\" x=\"95.410156\"/>\n      </g>\n     </g>\n    </g>\n    <g id=\"xtick_6\">\n     <g id=\"line2d_11\">\n      <path d=\"M 641.206657 378.43845 \nL 641.206657 28.51845 \n\" clip-path=\"url(#p6fcfeb5752)\" style=\"fill: none; stroke: #cbcbcb\"/>\n     </g>\n     <g id=\"line2d_12\"/>\n     <g id=\"text_6\">\n      <!-- 1.0 -->\n      <g transform=\"translate(630.074469 392.576263) scale(0.14 -0.14)\">\n       <defs>\n        <path id=\"DejaVuSans-31\" d=\"M 794 531 \nL 1825 531 \nL 1825 4091 \nL 703 3866 \nL 703 4441 \nL 1819 4666 \nL 2450 4666 \nL 2450 531 \nL 3481 531 \nL 3481 0 \nL 794 0 \nL 794 531 \nz\n\" transform=\"scale(0.015625)\"/>\n       </defs>\n       <use xlink:href=\"#DejaVuSans-31\"/>\n       <use xlink:href=\"#DejaVuSans-2e\" x=\"63.623047\"/>\n       <use xlink:href=\"#DejaVuSans-30\" x=\"95.410156\"/>\n      </g>\n     </g>\n    </g>\n   </g>\n   <g id=\"matplotlib.axis_2\">\n    <g id=\"ytick_1\">\n     <g id=\"line2d_13\">\n      <path d=\"M 44.695937 378.43845 \nL 671.095937 378.43845 \n\" clip-path=\"url(#p6fcfeb5752)\" style=\"fill: none; stroke: #cbcbcb\"/>\n     </g>\n     <g id=\"line2d_14\"/>\n     <g id=\"text_7\">\n      <!-- −2.0 -->\n      <g transform=\"translate(7.2 383.757356) scale(0.14 -0.14)\">\n       <defs>\n        <path id=\"DejaVuSans-2212\" d=\"M 678 2272 \nL 4684 2272 \nL 4684 1741 \nL 678 1741 \nL 678 2272 \nz\n\" transform=\"scale(0.015625)\"/>\n       </defs>\n       <use xlink:href=\"#DejaVuSans-2212\"/>\n       <use xlink:href=\"#DejaVuSans-32\" x=\"83.789062\"/>\n       <use xlink:href=\"#DejaVuSans-2e\" x=\"147.412109\"/>\n       <use xlink:href=\"#DejaVuSans-30\" x=\"179.199219\"/>\n      </g>\n     </g>\n    </g>\n    <g id=\"ytick_2\">\n     <g id=\"line2d_15\">\n      <path d=\"M 44.695937 334.69845 \nL 671.095937 334.69845 \n\" clip-path=\"url(#p6fcfeb5752)\" style=\"fill: none; stroke: #cbcbcb\"/>\n     </g>\n     <g id=\"line2d_16\"/>\n     <g id=\"text_8\">\n      <!-- −1.5 -->\n      <g transform=\"translate(7.2 340.017356) scale(0.14 -0.14)\">\n       <defs>\n        <path id=\"DejaVuSans-35\" d=\"M 691 4666 \nL 3169 4666 \nL 3169 4134 \nL 1269 4134 \nL 1269 2991 \nQ 1406 3038 1543 3061 \nQ 1681 3084 1819 3084 \nQ 2600 3084 3056 2656 \nQ 3513 2228 3513 1497 \nQ 3513 744 3044 326 \nQ 2575 -91 1722 -91 \nQ 1428 -91 1123 -41 \nQ 819 9 494 109 \nL 494 744 \nQ 775 591 1075 516 \nQ 1375 441 1709 441 \nQ 2250 441 2565 725 \nQ 2881 1009 2881 1497 \nQ 2881 1984 2565 2268 \nQ 2250 2553 1709 2553 \nQ 1456 2553 1204 2497 \nQ 953 2441 691 2322 \nL 691 4666 \nz\n\" transform=\"scale(0.015625)\"/>\n       </defs>\n       <use xlink:href=\"#DejaVuSans-2212\"/>\n       <use xlink:href=\"#DejaVuSans-31\" x=\"83.789062\"/>\n       <use xlink:href=\"#DejaVuSans-2e\" x=\"147.412109\"/>\n       <use xlink:href=\"#DejaVuSans-35\" x=\"179.199219\"/>\n      </g>\n     </g>\n    </g>\n    <g id=\"ytick_3\">\n     <g id=\"line2d_17\">\n      <path d=\"M 44.695937 290.95845 \nL 671.095937 290.95845 \n\" clip-path=\"url(#p6fcfeb5752)\" style=\"fill: none; stroke: #cbcbcb\"/>\n     </g>\n     <g id=\"line2d_18\"/>\n     <g id=\"text_9\">\n      <!-- −1.0 -->\n      <g transform=\"translate(7.2 296.277356) scale(0.14 -0.14)\">\n       <use xlink:href=\"#DejaVuSans-2212\"/>\n       <use xlink:href=\"#DejaVuSans-31\" x=\"83.789062\"/>\n       <use xlink:href=\"#DejaVuSans-2e\" x=\"147.412109\"/>\n       <use xlink:href=\"#DejaVuSans-30\" x=\"179.199219\"/>\n      </g>\n     </g>\n    </g>\n    <g id=\"ytick_4\">\n     <g id=\"line2d_19\">\n      <path d=\"M 44.695937 247.21845 \nL 671.095937 247.21845 \n\" clip-path=\"url(#p6fcfeb5752)\" style=\"fill: none; stroke: #cbcbcb\"/>\n     </g>\n     <g id=\"line2d_20\"/>\n     <g id=\"text_10\">\n      <!-- −0.5 -->\n      <g transform=\"translate(7.2 252.537356) scale(0.14 -0.14)\">\n       <use xlink:href=\"#DejaVuSans-2212\"/>\n       <use xlink:href=\"#DejaVuSans-30\" x=\"83.789062\"/>\n       <use xlink:href=\"#DejaVuSans-2e\" x=\"147.412109\"/>\n       <use xlink:href=\"#DejaVuSans-35\" x=\"179.199219\"/>\n      </g>\n     </g>\n    </g>\n    <g id=\"ytick_5\">\n     <g id=\"line2d_21\">\n      <path d=\"M 44.695937 203.47845 \nL 671.095937 203.47845 \n\" clip-path=\"url(#p6fcfeb5752)\" style=\"fill: none; stroke: #cbcbcb\"/>\n     </g>\n     <g id=\"line2d_22\"/>\n     <g id=\"text_11\">\n      <!-- 0.0 -->\n      <g transform=\"translate(18.931562 208.797356) scale(0.14 -0.14)\">\n       <use xlink:href=\"#DejaVuSans-30\"/>\n       <use xlink:href=\"#DejaVuSans-2e\" x=\"63.623047\"/>\n       <use xlink:href=\"#DejaVuSans-30\" x=\"95.410156\"/>\n      </g>\n     </g>\n    </g>\n    <g id=\"ytick_6\">\n     <g id=\"line2d_23\">\n      <path d=\"M 44.695937 159.73845 \nL 671.095937 159.73845 \n\" clip-path=\"url(#p6fcfeb5752)\" style=\"fill: none; stroke: #cbcbcb\"/>\n     </g>\n     <g id=\"line2d_24\"/>\n     <g id=\"text_12\">\n      <!-- 0.5 -->\n      <g transform=\"translate(18.931562 165.057356) scale(0.14 -0.14)\">\n       <use xlink:href=\"#DejaVuSans-30\"/>\n       <use xlink:href=\"#DejaVuSans-2e\" x=\"63.623047\"/>\n       <use xlink:href=\"#DejaVuSans-35\" x=\"95.410156\"/>\n      </g>\n     </g>\n    </g>\n    <g id=\"ytick_7\">\n     <g id=\"line2d_25\">\n      <path d=\"M 44.695937 115.99845 \nL 671.095937 115.99845 \n\" clip-path=\"url(#p6fcfeb5752)\" style=\"fill: none; stroke: #cbcbcb\"/>\n     </g>\n     <g id=\"line2d_26\"/>\n     <g id=\"text_13\">\n      <!-- 1.0 -->\n      <g transform=\"translate(18.931562 121.317356) scale(0.14 -0.14)\">\n       <use xlink:href=\"#DejaVuSans-31\"/>\n       <use xlink:href=\"#DejaVuSans-2e\" x=\"63.623047\"/>\n       <use xlink:href=\"#DejaVuSans-30\" x=\"95.410156\"/>\n      </g>\n     </g>\n    </g>\n    <g id=\"ytick_8\">\n     <g id=\"line2d_27\">\n      <path d=\"M 44.695937 72.25845 \nL 671.095937 72.25845 \n\" clip-path=\"url(#p6fcfeb5752)\" style=\"fill: none; stroke: #cbcbcb\"/>\n     </g>\n     <g id=\"line2d_28\"/>\n     <g id=\"text_14\">\n      <!-- 1.5 -->\n      <g transform=\"translate(18.931562 77.577356) scale(0.14 -0.14)\">\n       <use xlink:href=\"#DejaVuSans-31\"/>\n       <use xlink:href=\"#DejaVuSans-2e\" x=\"63.623047\"/>\n       <use xlink:href=\"#DejaVuSans-35\" x=\"95.410156\"/>\n      </g>\n     </g>\n    </g>\n    <g id=\"ytick_9\">\n     <g id=\"line2d_29\">\n      <path d=\"M 44.695937 28.51845 \nL 671.095937 28.51845 \n\" clip-path=\"url(#p6fcfeb5752)\" style=\"fill: none; stroke: #cbcbcb\"/>\n     </g>\n     <g id=\"line2d_30\"/>\n     <g id=\"text_15\">\n      <!-- 2.0 -->\n      <g transform=\"translate(18.931562 33.837356) scale(0.14 -0.14)\">\n       <use xlink:href=\"#DejaVuSans-32\"/>\n       <use xlink:href=\"#DejaVuSans-2e\" x=\"63.623047\"/>\n       <use xlink:href=\"#DejaVuSans-30\" x=\"95.410156\"/>\n      </g>\n     </g>\n    </g>\n   </g>\n   <g id=\"PolyCollection_1\">\n    <defs>\n     <path id=\"m30a2deb342\" d=\"M 74.585218 -171.222755 \nL 74.585218 -173.801581 \nL 137.543156 -194.297929 \nL 200.501094 -192.702704 \nL 263.459031 -179.051444 \nL 326.416969 -231.857254 \nL 389.374906 -259.796326 \nL 452.332844 -247.015237 \nL 515.290781 -230.585039 \nL 578.248719 -288.122472 \nL 641.206657 -298.162167 \nL 641.206657 -288.113362 \nL 641.206657 -288.113362 \nL 578.248719 -275.125517 \nL 515.290781 -262.137672 \nL 452.332844 -249.149826 \nL 389.374906 -236.161981 \nL 326.416969 -223.174136 \nL 263.459031 -210.186291 \nL 200.501094 -197.198446 \nL 137.543156 -184.2106 \nL 74.585218 -171.222755 \nz\n\" style=\"stroke: #ff0000; stroke-opacity: 0.25; stroke-width: 0.5\"/>\n    </defs>\n    <g clip-path=\"url(#p6fcfeb5752)\">\n     <use xlink:href=\"#m30a2deb342\" x=\"0\" y=\"402.687825\" style=\"fill: #ff0000; fill-opacity: 0.25; stroke: #ff0000; stroke-opacity: 0.25; stroke-width: 0.5\"/>\n    </g>\n   </g>\n   <g id=\"patch_3\">\n    <path d=\"M 73.168665 231.46507 \nL 76.001772 231.46507 \nL 76.001772 228.886244 \nL 73.168665 228.886244 \nz\n\" clip-path=\"url(#p6fcfeb5752)\" style=\"fill: #ff0000; opacity: 0.25\"/>\n   </g>\n   <g id=\"patch_4\">\n    <path d=\"M 136.126602 218.477225 \nL 138.95971 218.477225 \nL 138.95971 208.389896 \nL 136.126602 208.389896 \nz\n\" clip-path=\"url(#p6fcfeb5752)\" style=\"fill: #ff0000; opacity: 0.25\"/>\n   </g>\n   <g id=\"patch_5\">\n    <path d=\"M 199.08454 205.489379 \nL 201.917647 205.489379 \nL 201.917647 209.985121 \nL 199.08454 209.985121 \nz\n\" clip-path=\"url(#p6fcfeb5752)\" style=\"fill: #ff0000; opacity: 0.25\"/>\n   </g>\n   <g id=\"patch_6\">\n    <path d=\"M 262.042478 192.501534 \nL 264.875585 192.501534 \nL 264.875585 223.636381 \nL 262.042478 223.636381 \nz\n\" clip-path=\"url(#p6fcfeb5752)\" style=\"fill: #ff0000; opacity: 0.25\"/>\n   </g>\n   <g id=\"patch_7\">\n    <path d=\"M 325.000415 179.513689 \nL 327.833522 179.513689 \nL 327.833522 170.830571 \nL 325.000415 170.830571 \nz\n\" clip-path=\"url(#p6fcfeb5752)\" style=\"fill: #ff0000; opacity: 0.25\"/>\n   </g>\n   <g id=\"patch_8\">\n    <path d=\"M 387.958353 166.525844 \nL 390.79146 166.525844 \nL 390.79146 142.891499 \nL 387.958353 142.891499 \nz\n\" clip-path=\"url(#p6fcfeb5752)\" style=\"fill: #ff0000; opacity: 0.25\"/>\n   </g>\n   <g id=\"patch_9\">\n    <path d=\"M 450.91629 153.537999 \nL 453.749397 153.537999 \nL 453.749397 155.672588 \nL 450.91629 155.672588 \nz\n\" clip-path=\"url(#p6fcfeb5752)\" style=\"fill: #ff0000; opacity: 0.25\"/>\n   </g>\n   <g id=\"patch_10\">\n    <path d=\"M 513.874228 140.550153 \nL 516.707335 140.550153 \nL 516.707335 172.102786 \nL 513.874228 172.102786 \nz\n\" clip-path=\"url(#p6fcfeb5752)\" style=\"fill: #ff0000; opacity: 0.25\"/>\n   </g>\n   <g id=\"patch_11\">\n    <path d=\"M 576.832165 127.562308 \nL 579.665273 127.562308 \nL 579.665273 114.565353 \nL 576.832165 114.565353 \nz\n\" clip-path=\"url(#p6fcfeb5752)\" style=\"fill: #ff0000; opacity: 0.25\"/>\n   </g>\n   <g id=\"patch_12\">\n    <path d=\"M 639.790103 114.574463 \nL 642.62321 114.574463 \nL 642.62321 104.525658 \nL 639.790103 104.525658 \nz\n\" clip-path=\"url(#p6fcfeb5752)\" style=\"fill: #ff0000; opacity: 0.25\"/>\n   </g>\n   <g id=\"PathCollection_1\">\n    <defs>\n     <path id=\"m88beaca417\" d=\"M 0 5 \nC 1.326016 5 2.597899 4.473168 3.535534 3.535534 \nC 4.473168 2.597899 5 1.326016 5 0 \nC 5 -1.326016 4.473168 -2.597899 3.535534 -3.535534 \nC 2.597899 -4.473168 1.326016 -5 0 -5 \nC -1.326016 -5 -2.597899 -4.473168 -3.535534 -3.535534 \nC -4.473168 -2.597899 -5 -1.326016 -5 0 \nC -5 1.326016 -4.473168 2.597899 -3.535534 3.535534 \nC -2.597899 4.473168 -1.326016 5 0 5 \nz\n\" style=\"stroke: #008000; stroke-width: 0.5\"/>\n    </defs>\n    <g clip-path=\"url(#p6fcfeb5752)\">\n     <use xlink:href=\"#m88beaca417\" x=\"74.585218\" y=\"228.886244\" style=\"fill: #008000; stroke: #008000; stroke-width: 0.5\"/>\n     <use xlink:href=\"#m88beaca417\" x=\"137.543156\" y=\"208.389896\" style=\"fill: #008000; stroke: #008000; stroke-width: 0.5\"/>\n     <use xlink:href=\"#m88beaca417\" x=\"200.501094\" y=\"209.985121\" style=\"fill: #008000; stroke: #008000; stroke-width: 0.5\"/>\n     <use xlink:href=\"#m88beaca417\" x=\"263.459031\" y=\"223.636381\" style=\"fill: #008000; stroke: #008000; stroke-width: 0.5\"/>\n     <use xlink:href=\"#m88beaca417\" x=\"326.416969\" y=\"170.830571\" style=\"fill: #008000; stroke: #008000; stroke-width: 0.5\"/>\n     <use xlink:href=\"#m88beaca417\" x=\"389.374906\" y=\"142.891499\" style=\"fill: #008000; stroke: #008000; stroke-width: 0.5\"/>\n     <use xlink:href=\"#m88beaca417\" x=\"452.332844\" y=\"155.672588\" style=\"fill: #008000; stroke: #008000; stroke-width: 0.5\"/>\n     <use xlink:href=\"#m88beaca417\" x=\"515.290781\" y=\"172.102786\" style=\"fill: #008000; stroke: #008000; stroke-width: 0.5\"/>\n     <use xlink:href=\"#m88beaca417\" x=\"578.248719\" y=\"114.565353\" style=\"fill: #008000; stroke: #008000; stroke-width: 0.5\"/>\n     <use xlink:href=\"#m88beaca417\" x=\"641.206657\" y=\"104.525658\" style=\"fill: #008000; stroke: #008000; stroke-width: 0.5\"/>\n    </g>\n   </g>\n   <g id=\"line2d_31\">\n    <path d=\"M 74.585218 231.46507 \nL 137.543156 218.477225 \nL 200.501094 205.489379 \nL 263.459031 192.501534 \nL 326.416969 179.513689 \nL 389.374906 166.525844 \nL 452.332844 153.537999 \nL 515.290781 140.550153 \nL 578.248719 127.562308 \nL 641.206657 114.574463 \n\" clip-path=\"url(#p6fcfeb5752)\" style=\"fill: none; stroke-dasharray: 14.8,6.4; stroke-dashoffset: 0; stroke: #008fd5; stroke-width: 4\"/>\n   </g>\n   <g id=\"patch_13\">\n    <path d=\"M 44.695937 378.43845 \nL 44.695937 28.51845 \n\" style=\"fill: none; stroke: #f0f0f0; stroke-width: 3; stroke-linejoin: miter; stroke-linecap: square\"/>\n   </g>\n   <g id=\"patch_14\">\n    <path d=\"M 671.095937 378.43845 \nL 671.095937 28.51845 \n\" style=\"fill: none; stroke: #f0f0f0; stroke-width: 3; stroke-linejoin: miter; stroke-linecap: square\"/>\n   </g>\n   <g id=\"patch_15\">\n    <path d=\"M 44.695937 378.43845 \nL 671.095937 378.43845 \n\" style=\"fill: none; stroke: #f0f0f0; stroke-width: 3; stroke-linejoin: miter; stroke-linecap: square\"/>\n   </g>\n   <g id=\"patch_16\">\n    <path d=\"M 44.695937 28.51845 \nL 671.095937 28.51845 \n\" style=\"fill: none; stroke: #f0f0f0; stroke-width: 3; stroke-linejoin: miter; stroke-linecap: square\"/>\n   </g>\n   <g id=\"text_16\">\n    <!-- Iteration 50 -->\n    <g transform=\"translate(299.109062 22.51845) scale(0.2016 -0.2016)\">\n     <defs>\n      <path id=\"DejaVuSans-49\" d=\"M 628 4666 \nL 1259 4666 \nL 1259 0 \nL 628 0 \nL 628 4666 \nz\n\" transform=\"scale(0.015625)\"/>\n      <path id=\"DejaVuSans-74\" d=\"M 1172 4494 \nL 1172 3500 \nL 2356 3500 \nL 2356 3053 \nL 1172 3053 \nL 1172 1153 \nQ 1172 725 1289 603 \nQ 1406 481 1766 481 \nL 2356 481 \nL 2356 0 \nL 1766 0 \nQ 1100 0 847 248 \nQ 594 497 594 1153 \nL 594 3053 \nL 172 3053 \nL 172 3500 \nL 594 3500 \nL 594 4494 \nL 1172 4494 \nz\n\" transform=\"scale(0.015625)\"/>\n      <path id=\"DejaVuSans-65\" d=\"M 3597 1894 \nL 3597 1613 \nL 953 1613 \nQ 991 1019 1311 708 \nQ 1631 397 2203 397 \nQ 2534 397 2845 478 \nQ 3156 559 3463 722 \nL 3463 178 \nQ 3153 47 2828 -22 \nQ 2503 -91 2169 -91 \nQ 1331 -91 842 396 \nQ 353 884 353 1716 \nQ 353 2575 817 3079 \nQ 1281 3584 2069 3584 \nQ 2775 3584 3186 3129 \nQ 3597 2675 3597 1894 \nz\nM 3022 2063 \nQ 3016 2534 2758 2815 \nQ 2500 3097 2075 3097 \nQ 1594 3097 1305 2825 \nQ 1016 2553 972 2059 \nL 3022 2063 \nz\n\" transform=\"scale(0.015625)\"/>\n      <path id=\"DejaVuSans-72\" d=\"M 2631 2963 \nQ 2534 3019 2420 3045 \nQ 2306 3072 2169 3072 \nQ 1681 3072 1420 2755 \nQ 1159 2438 1159 1844 \nL 1159 0 \nL 581 0 \nL 581 3500 \nL 1159 3500 \nL 1159 2956 \nQ 1341 3275 1631 3429 \nQ 1922 3584 2338 3584 \nQ 2397 3584 2469 3576 \nQ 2541 3569 2628 3553 \nL 2631 2963 \nz\n\" transform=\"scale(0.015625)\"/>\n      <path id=\"DejaVuSans-61\" d=\"M 2194 1759 \nQ 1497 1759 1228 1600 \nQ 959 1441 959 1056 \nQ 959 750 1161 570 \nQ 1363 391 1709 391 \nQ 2188 391 2477 730 \nQ 2766 1069 2766 1631 \nL 2766 1759 \nL 2194 1759 \nz\nM 3341 1997 \nL 3341 0 \nL 2766 0 \nL 2766 531 \nQ 2569 213 2275 61 \nQ 1981 -91 1556 -91 \nQ 1019 -91 701 211 \nQ 384 513 384 1019 \nQ 384 1609 779 1909 \nQ 1175 2209 1959 2209 \nL 2766 2209 \nL 2766 2266 \nQ 2766 2663 2505 2880 \nQ 2244 3097 1772 3097 \nQ 1472 3097 1187 3025 \nQ 903 2953 641 2809 \nL 641 3341 \nQ 956 3463 1253 3523 \nQ 1550 3584 1831 3584 \nQ 2591 3584 2966 3190 \nQ 3341 2797 3341 1997 \nz\n\" transform=\"scale(0.015625)\"/>\n      <path id=\"DejaVuSans-69\" d=\"M 603 3500 \nL 1178 3500 \nL 1178 0 \nL 603 0 \nL 603 3500 \nz\nM 603 4863 \nL 1178 4863 \nL 1178 4134 \nL 603 4134 \nL 603 4863 \nz\n\" transform=\"scale(0.015625)\"/>\n      <path id=\"DejaVuSans-6f\" d=\"M 1959 3097 \nQ 1497 3097 1228 2736 \nQ 959 2375 959 1747 \nQ 959 1119 1226 758 \nQ 1494 397 1959 397 \nQ 2419 397 2687 759 \nQ 2956 1122 2956 1747 \nQ 2956 2369 2687 2733 \nQ 2419 3097 1959 3097 \nz\nM 1959 3584 \nQ 2709 3584 3137 3096 \nQ 3566 2609 3566 1747 \nQ 3566 888 3137 398 \nQ 2709 -91 1959 -91 \nQ 1206 -91 779 398 \nQ 353 888 353 1747 \nQ 353 2609 779 3096 \nQ 1206 3584 1959 3584 \nz\n\" transform=\"scale(0.015625)\"/>\n      <path id=\"DejaVuSans-6e\" d=\"M 3513 2113 \nL 3513 0 \nL 2938 0 \nL 2938 2094 \nQ 2938 2591 2744 2837 \nQ 2550 3084 2163 3084 \nQ 1697 3084 1428 2787 \nQ 1159 2491 1159 1978 \nL 1159 0 \nL 581 0 \nL 581 3500 \nL 1159 3500 \nL 1159 2956 \nQ 1366 3272 1645 3428 \nQ 1925 3584 2291 3584 \nQ 2894 3584 3203 3211 \nQ 3513 2838 3513 2113 \nz\n\" transform=\"scale(0.015625)\"/>\n      <path id=\"DejaVuSans-20\" transform=\"scale(0.015625)\"/>\n     </defs>\n     <use xlink:href=\"#DejaVuSans-49\"/>\n     <use xlink:href=\"#DejaVuSans-74\" x=\"29.492188\"/>\n     <use xlink:href=\"#DejaVuSans-65\" x=\"68.701172\"/>\n     <use xlink:href=\"#DejaVuSans-72\" x=\"130.224609\"/>\n     <use xlink:href=\"#DejaVuSans-61\" x=\"171.337891\"/>\n     <use xlink:href=\"#DejaVuSans-74\" x=\"232.617188\"/>\n     <use xlink:href=\"#DejaVuSans-69\" x=\"271.826172\"/>\n     <use xlink:href=\"#DejaVuSans-6f\" x=\"299.609375\"/>\n     <use xlink:href=\"#DejaVuSans-6e\" x=\"360.791016\"/>\n     <use xlink:href=\"#DejaVuSans-20\" x=\"424.169922\"/>\n     <use xlink:href=\"#DejaVuSans-35\" x=\"455.957031\"/>\n     <use xlink:href=\"#DejaVuSans-30\" x=\"519.580078\"/>\n    </g>\n   </g>\n   <g id=\"legend_1\">\n    <g id=\"patch_17\">\n     <path d=\"M 485.388125 101.366575 \nL 661.295938 101.366575 \nQ 664.095937 101.366575 664.095937 98.566575 \nL 664.095937 38.31845 \nQ 664.095937 35.51845 661.295938 35.51845 \nL 485.388125 35.51845 \nQ 482.588125 35.51845 482.588125 38.31845 \nL 482.588125 98.566575 \nQ 482.588125 101.366575 485.388125 101.366575 \nz\n\" style=\"fill: #f0f0f0; opacity: 0.8; stroke: #cccccc; stroke-width: 0.5; stroke-linejoin: miter\"/>\n    </g>\n    <g id=\"patch_18\">\n     <path d=\"M 488.188125 51.756262 \nL 516.188125 51.756262 \nL 516.188125 41.956262 \nL 488.188125 41.956262 \nz\n\" style=\"fill: #ff0000; fill-opacity: 0.25; stroke: #ff0000; stroke-opacity: 0.25; stroke-width: 0.5; stroke-linejoin: miter\"/>\n    </g>\n    <g id=\"text_17\">\n     <!-- Error (MSE = 0.02) -->\n     <g transform=\"translate(527.388125 51.756262) scale(0.14 -0.14)\">\n      <defs>\n       <path id=\"DejaVuSans-45\" d=\"M 628 4666 \nL 3578 4666 \nL 3578 4134 \nL 1259 4134 \nL 1259 2753 \nL 3481 2753 \nL 3481 2222 \nL 1259 2222 \nL 1259 531 \nL 3634 531 \nL 3634 0 \nL 628 0 \nL 628 4666 \nz\n\" transform=\"scale(0.015625)\"/>\n       <path id=\"DejaVuSans-28\" d=\"M 1984 4856 \nQ 1566 4138 1362 3434 \nQ 1159 2731 1159 2009 \nQ 1159 1288 1364 580 \nQ 1569 -128 1984 -844 \nL 1484 -844 \nQ 1016 -109 783 600 \nQ 550 1309 550 2009 \nQ 550 2706 781 3412 \nQ 1013 4119 1484 4856 \nL 1984 4856 \nz\n\" transform=\"scale(0.015625)\"/>\n       <path id=\"DejaVuSans-4d\" d=\"M 628 4666 \nL 1569 4666 \nL 2759 1491 \nL 3956 4666 \nL 4897 4666 \nL 4897 0 \nL 4281 0 \nL 4281 4097 \nL 3078 897 \nL 2444 897 \nL 1241 4097 \nL 1241 0 \nL 628 0 \nL 628 4666 \nz\n\" transform=\"scale(0.015625)\"/>\n       <path id=\"DejaVuSans-53\" d=\"M 3425 4513 \nL 3425 3897 \nQ 3066 4069 2747 4153 \nQ 2428 4238 2131 4238 \nQ 1616 4238 1336 4038 \nQ 1056 3838 1056 3469 \nQ 1056 3159 1242 3001 \nQ 1428 2844 1947 2747 \nL 2328 2669 \nQ 3034 2534 3370 2195 \nQ 3706 1856 3706 1288 \nQ 3706 609 3251 259 \nQ 2797 -91 1919 -91 \nQ 1588 -91 1214 -16 \nQ 841 59 441 206 \nL 441 856 \nQ 825 641 1194 531 \nQ 1563 422 1919 422 \nQ 2459 422 2753 634 \nQ 3047 847 3047 1241 \nQ 3047 1584 2836 1778 \nQ 2625 1972 2144 2069 \nL 1759 2144 \nQ 1053 2284 737 2584 \nQ 422 2884 422 3419 \nQ 422 4038 858 4394 \nQ 1294 4750 2059 4750 \nQ 2388 4750 2728 4690 \nQ 3069 4631 3425 4513 \nz\n\" transform=\"scale(0.015625)\"/>\n       <path id=\"DejaVuSans-3d\" d=\"M 678 2906 \nL 4684 2906 \nL 4684 2381 \nL 678 2381 \nL 678 2906 \nz\nM 678 1631 \nL 4684 1631 \nL 4684 1100 \nL 678 1100 \nL 678 1631 \nz\n\" transform=\"scale(0.015625)\"/>\n       <path id=\"DejaVuSans-29\" d=\"M 513 4856 \nL 1013 4856 \nQ 1481 4119 1714 3412 \nQ 1947 2706 1947 2009 \nQ 1947 1309 1714 600 \nQ 1481 -109 1013 -844 \nL 513 -844 \nQ 928 -128 1133 580 \nQ 1338 1288 1338 2009 \nQ 1338 2731 1133 3434 \nQ 928 4138 513 4856 \nz\n\" transform=\"scale(0.015625)\"/>\n      </defs>\n      <use xlink:href=\"#DejaVuSans-45\"/>\n      <use xlink:href=\"#DejaVuSans-72\" x=\"63.183594\"/>\n      <use xlink:href=\"#DejaVuSans-72\" x=\"102.546875\"/>\n      <use xlink:href=\"#DejaVuSans-6f\" x=\"141.410156\"/>\n      <use xlink:href=\"#DejaVuSans-72\" x=\"202.591797\"/>\n      <use xlink:href=\"#DejaVuSans-20\" x=\"243.705078\"/>\n      <use xlink:href=\"#DejaVuSans-28\" x=\"275.492188\"/>\n      <use xlink:href=\"#DejaVuSans-4d\" x=\"314.505859\"/>\n      <use xlink:href=\"#DejaVuSans-53\" x=\"400.785156\"/>\n      <use xlink:href=\"#DejaVuSans-45\" x=\"464.261719\"/>\n      <use xlink:href=\"#DejaVuSans-20\" x=\"527.445312\"/>\n      <use xlink:href=\"#DejaVuSans-3d\" x=\"559.232422\"/>\n      <use xlink:href=\"#DejaVuSans-20\" x=\"643.021484\"/>\n      <use xlink:href=\"#DejaVuSans-30\" x=\"674.808594\"/>\n      <use xlink:href=\"#DejaVuSans-2e\" x=\"738.431641\"/>\n      <use xlink:href=\"#DejaVuSans-30\" x=\"770.21875\"/>\n      <use xlink:href=\"#DejaVuSans-32\" x=\"833.841797\"/>\n      <use xlink:href=\"#DejaVuSans-29\" x=\"897.464844\"/>\n     </g>\n    </g>\n    <g id=\"PathCollection_2\">\n     <g>\n      <use xlink:href=\"#m88beaca417\" x=\"502.188125\" y=\"68.630637\" style=\"fill: #008000; stroke: #008000; stroke-width: 0.5\"/>\n     </g>\n    </g>\n    <g id=\"text_18\">\n     <!-- Data points -->\n     <g transform=\"translate(527.388125 72.305637) scale(0.14 -0.14)\">\n      <defs>\n       <path id=\"DejaVuSans-44\" d=\"M 1259 4147 \nL 1259 519 \nL 2022 519 \nQ 2988 519 3436 956 \nQ 3884 1394 3884 2338 \nQ 3884 3275 3436 3711 \nQ 2988 4147 2022 4147 \nL 1259 4147 \nz\nM 628 4666 \nL 1925 4666 \nQ 3281 4666 3915 4102 \nQ 4550 3538 4550 2338 \nQ 4550 1131 3912 565 \nQ 3275 0 1925 0 \nL 628 0 \nL 628 4666 \nz\n\" transform=\"scale(0.015625)\"/>\n       <path id=\"DejaVuSans-70\" d=\"M 1159 525 \nL 1159 -1331 \nL 581 -1331 \nL 581 3500 \nL 1159 3500 \nL 1159 2969 \nQ 1341 3281 1617 3432 \nQ 1894 3584 2278 3584 \nQ 2916 3584 3314 3078 \nQ 3713 2572 3713 1747 \nQ 3713 922 3314 415 \nQ 2916 -91 2278 -91 \nQ 1894 -91 1617 61 \nQ 1341 213 1159 525 \nz\nM 3116 1747 \nQ 3116 2381 2855 2742 \nQ 2594 3103 2138 3103 \nQ 1681 3103 1420 2742 \nQ 1159 2381 1159 1747 \nQ 1159 1113 1420 752 \nQ 1681 391 2138 391 \nQ 2594 391 2855 752 \nQ 3116 1113 3116 1747 \nz\n\" transform=\"scale(0.015625)\"/>\n       <path id=\"DejaVuSans-73\" d=\"M 2834 3397 \nL 2834 2853 \nQ 2591 2978 2328 3040 \nQ 2066 3103 1784 3103 \nQ 1356 3103 1142 2972 \nQ 928 2841 928 2578 \nQ 928 2378 1081 2264 \nQ 1234 2150 1697 2047 \nL 1894 2003 \nQ 2506 1872 2764 1633 \nQ 3022 1394 3022 966 \nQ 3022 478 2636 193 \nQ 2250 -91 1575 -91 \nQ 1294 -91 989 -36 \nQ 684 19 347 128 \nL 347 722 \nQ 666 556 975 473 \nQ 1284 391 1588 391 \nQ 1994 391 2212 530 \nQ 2431 669 2431 922 \nQ 2431 1156 2273 1281 \nQ 2116 1406 1581 1522 \nL 1381 1569 \nQ 847 1681 609 1914 \nQ 372 2147 372 2553 \nQ 372 3047 722 3315 \nQ 1072 3584 1716 3584 \nQ 2034 3584 2315 3537 \nQ 2597 3491 2834 3397 \nz\n\" transform=\"scale(0.015625)\"/>\n      </defs>\n      <use xlink:href=\"#DejaVuSans-44\"/>\n      <use xlink:href=\"#DejaVuSans-61\" x=\"77.001953\"/>\n      <use xlink:href=\"#DejaVuSans-74\" x=\"138.28125\"/>\n      <use xlink:href=\"#DejaVuSans-61\" x=\"177.490234\"/>\n      <use xlink:href=\"#DejaVuSans-20\" x=\"238.769531\"/>\n      <use xlink:href=\"#DejaVuSans-70\" x=\"270.556641\"/>\n      <use xlink:href=\"#DejaVuSans-6f\" x=\"334.033203\"/>\n      <use xlink:href=\"#DejaVuSans-69\" x=\"395.214844\"/>\n      <use xlink:href=\"#DejaVuSans-6e\" x=\"422.998047\"/>\n      <use xlink:href=\"#DejaVuSans-74\" x=\"486.376953\"/>\n      <use xlink:href=\"#DejaVuSans-73\" x=\"525.585938\"/>\n     </g>\n    </g>\n    <g id=\"line2d_32\">\n     <path d=\"M 488.188125 87.955012 \nL 502.188125 87.955012 \nL 516.188125 87.955012 \n\" style=\"fill: none; stroke-dasharray: 14.8,6.4; stroke-dashoffset: 0; stroke: #008fd5; stroke-width: 4\"/>\n    </g>\n    <g id=\"text_19\">\n     <!-- Linear regression -->\n     <g transform=\"translate(527.388125 92.855012) scale(0.14 -0.14)\">\n      <defs>\n       <path id=\"DejaVuSans-4c\" d=\"M 628 4666 \nL 1259 4666 \nL 1259 531 \nL 3531 531 \nL 3531 0 \nL 628 0 \nL 628 4666 \nz\n\" transform=\"scale(0.015625)\"/>\n       <path id=\"DejaVuSans-67\" d=\"M 2906 1791 \nQ 2906 2416 2648 2759 \nQ 2391 3103 1925 3103 \nQ 1463 3103 1205 2759 \nQ 947 2416 947 1791 \nQ 947 1169 1205 825 \nQ 1463 481 1925 481 \nQ 2391 481 2648 825 \nQ 2906 1169 2906 1791 \nz\nM 3481 434 \nQ 3481 -459 3084 -895 \nQ 2688 -1331 1869 -1331 \nQ 1566 -1331 1297 -1286 \nQ 1028 -1241 775 -1147 \nL 775 -588 \nQ 1028 -725 1275 -790 \nQ 1522 -856 1778 -856 \nQ 2344 -856 2625 -561 \nQ 2906 -266 2906 331 \nL 2906 616 \nQ 2728 306 2450 153 \nQ 2172 0 1784 0 \nQ 1141 0 747 490 \nQ 353 981 353 1791 \nQ 353 2603 747 3093 \nQ 1141 3584 1784 3584 \nQ 2172 3584 2450 3431 \nQ 2728 3278 2906 2969 \nL 2906 3500 \nL 3481 3500 \nL 3481 434 \nz\n\" transform=\"scale(0.015625)\"/>\n      </defs>\n      <use xlink:href=\"#DejaVuSans-4c\"/>\n      <use xlink:href=\"#DejaVuSans-69\" x=\"55.712891\"/>\n      <use xlink:href=\"#DejaVuSans-6e\" x=\"83.496094\"/>\n      <use xlink:href=\"#DejaVuSans-65\" x=\"146.875\"/>\n      <use xlink:href=\"#DejaVuSans-61\" x=\"208.398438\"/>\n      <use xlink:href=\"#DejaVuSans-72\" x=\"269.677734\"/>\n      <use xlink:href=\"#DejaVuSans-20\" x=\"310.791016\"/>\n      <use xlink:href=\"#DejaVuSans-72\" x=\"342.578125\"/>\n      <use xlink:href=\"#DejaVuSans-65\" x=\"381.441406\"/>\n      <use xlink:href=\"#DejaVuSans-67\" x=\"442.964844\"/>\n      <use xlink:href=\"#DejaVuSans-72\" x=\"506.441406\"/>\n      <use xlink:href=\"#DejaVuSans-65\" x=\"545.304688\"/>\n      <use xlink:href=\"#DejaVuSans-73\" x=\"606.828125\"/>\n      <use xlink:href=\"#DejaVuSans-73\" x=\"658.927734\"/>\n      <use xlink:href=\"#DejaVuSans-69\" x=\"711.027344\"/>\n      <use xlink:href=\"#DejaVuSans-6f\" x=\"738.810547\"/>\n      <use xlink:href=\"#DejaVuSans-6e\" x=\"799.992188\"/>\n     </g>\n    </g>\n   </g>\n  </g>\n </g>\n <defs>\n  <clipPath id=\"p6fcfeb5752\">\n   <rect x=\"44.695937\" y=\"28.51845\" width=\"626.4\" height=\"349.92\"/>\n  </clipPath>\n </defs>\n</svg>\n"
          },
          "metadata": {}
        }
      ]
    },
    {
      "cell_type": "markdown",
      "metadata": {
        "id": "AbPqFjJXVwbp"
      },
      "source": [
        "## Linear Regression on real-world data."
      ]
    },
    {
      "cell_type": "code",
      "metadata": {
        "id": "X4JQm5RiPZWs",
        "outputId": "bc61f6ec-86c3-4702-fa90-9b56a056bc10",
        "colab": {
          "base_uri": "https://localhost:8080/",
          "height": 289
        }
      },
      "source": [
        "!wget https://github.com/Harshal2894/-House-Prices-Advanced-Regression-Techniques/raw/master/train.csv"
      ],
      "execution_count": null,
      "outputs": [
        {
          "output_type": "stream",
          "text": [
            "--2020-05-20 17:49:58--  https://github.com/Harshal2894/-House-Prices-Advanced-Regression-Techniques/raw/master/train.csv\n",
            "Resolving github.com (github.com)... 140.82.113.3\n",
            "Connecting to github.com (github.com)|140.82.113.3|:443... connected.\n",
            "HTTP request sent, awaiting response... 302 Found\n",
            "Location: https://raw.githubusercontent.com/Harshal2894/-House-Prices-Advanced-Regression-Techniques/master/train.csv [following]\n",
            "--2020-05-20 17:49:58--  https://raw.githubusercontent.com/Harshal2894/-House-Prices-Advanced-Regression-Techniques/master/train.csv\n",
            "Resolving raw.githubusercontent.com (raw.githubusercontent.com)... 151.101.0.133, 151.101.64.133, 151.101.128.133, ...\n",
            "Connecting to raw.githubusercontent.com (raw.githubusercontent.com)|151.101.0.133|:443... connected.\n",
            "HTTP request sent, awaiting response... 200 OK\n",
            "Length: 460676 (450K) [text/plain]\n",
            "Saving to: ‘train.csv.1’\n",
            "\n",
            "\rtrain.csv.1           0%[                    ]       0  --.-KB/s               \rtrain.csv.1         100%[===================>] 449.88K  --.-KB/s    in 0.07s   \n",
            "\n",
            "2020-05-20 17:49:59 (6.74 MB/s) - ‘train.csv.1’ saved [460676/460676]\n",
            "\n"
          ],
          "name": "stdout"
        }
      ]
    },
    {
      "cell_type": "code",
      "metadata": {
        "id": "hzMhE-MDPKLA",
        "outputId": "5732fc22-a60b-4f6d-8eef-90a253cd8e8a",
        "colab": {
          "base_uri": "https://localhost:8080/",
          "height": 253
        }
      },
      "source": [
        "df = pd.read_csv('train.csv')\n",
        "df.sample(5)"
      ],
      "execution_count": null,
      "outputs": [
        {
          "output_type": "execute_result",
          "data": {
            "text/html": [
              "<div>\n",
              "<style scoped>\n",
              "    .dataframe tbody tr th:only-of-type {\n",
              "        vertical-align: middle;\n",
              "    }\n",
              "\n",
              "    .dataframe tbody tr th {\n",
              "        vertical-align: top;\n",
              "    }\n",
              "\n",
              "    .dataframe thead th {\n",
              "        text-align: right;\n",
              "    }\n",
              "</style>\n",
              "<table border=\"1\" class=\"dataframe\">\n",
              "  <thead>\n",
              "    <tr style=\"text-align: right;\">\n",
              "      <th></th>\n",
              "      <th>Id</th>\n",
              "      <th>MSSubClass</th>\n",
              "      <th>MSZoning</th>\n",
              "      <th>LotFrontage</th>\n",
              "      <th>LotArea</th>\n",
              "      <th>Street</th>\n",
              "      <th>Alley</th>\n",
              "      <th>LotShape</th>\n",
              "      <th>LandContour</th>\n",
              "      <th>Utilities</th>\n",
              "      <th>LotConfig</th>\n",
              "      <th>LandSlope</th>\n",
              "      <th>Neighborhood</th>\n",
              "      <th>Condition1</th>\n",
              "      <th>Condition2</th>\n",
              "      <th>BldgType</th>\n",
              "      <th>HouseStyle</th>\n",
              "      <th>OverallQual</th>\n",
              "      <th>OverallCond</th>\n",
              "      <th>YearBuilt</th>\n",
              "      <th>YearRemodAdd</th>\n",
              "      <th>RoofStyle</th>\n",
              "      <th>RoofMatl</th>\n",
              "      <th>Exterior1st</th>\n",
              "      <th>Exterior2nd</th>\n",
              "      <th>MasVnrType</th>\n",
              "      <th>MasVnrArea</th>\n",
              "      <th>ExterQual</th>\n",
              "      <th>ExterCond</th>\n",
              "      <th>Foundation</th>\n",
              "      <th>BsmtQual</th>\n",
              "      <th>BsmtCond</th>\n",
              "      <th>BsmtExposure</th>\n",
              "      <th>BsmtFinType1</th>\n",
              "      <th>BsmtFinSF1</th>\n",
              "      <th>BsmtFinType2</th>\n",
              "      <th>BsmtFinSF2</th>\n",
              "      <th>BsmtUnfSF</th>\n",
              "      <th>TotalBsmtSF</th>\n",
              "      <th>Heating</th>\n",
              "      <th>...</th>\n",
              "      <th>CentralAir</th>\n",
              "      <th>Electrical</th>\n",
              "      <th>1stFlrSF</th>\n",
              "      <th>2ndFlrSF</th>\n",
              "      <th>LowQualFinSF</th>\n",
              "      <th>GrLivArea</th>\n",
              "      <th>BsmtFullBath</th>\n",
              "      <th>BsmtHalfBath</th>\n",
              "      <th>FullBath</th>\n",
              "      <th>HalfBath</th>\n",
              "      <th>BedroomAbvGr</th>\n",
              "      <th>KitchenAbvGr</th>\n",
              "      <th>KitchenQual</th>\n",
              "      <th>TotRmsAbvGrd</th>\n",
              "      <th>Functional</th>\n",
              "      <th>Fireplaces</th>\n",
              "      <th>FireplaceQu</th>\n",
              "      <th>GarageType</th>\n",
              "      <th>GarageYrBlt</th>\n",
              "      <th>GarageFinish</th>\n",
              "      <th>GarageCars</th>\n",
              "      <th>GarageArea</th>\n",
              "      <th>GarageQual</th>\n",
              "      <th>GarageCond</th>\n",
              "      <th>PavedDrive</th>\n",
              "      <th>WoodDeckSF</th>\n",
              "      <th>OpenPorchSF</th>\n",
              "      <th>EnclosedPorch</th>\n",
              "      <th>3SsnPorch</th>\n",
              "      <th>ScreenPorch</th>\n",
              "      <th>PoolArea</th>\n",
              "      <th>PoolQC</th>\n",
              "      <th>Fence</th>\n",
              "      <th>MiscFeature</th>\n",
              "      <th>MiscVal</th>\n",
              "      <th>MoSold</th>\n",
              "      <th>YrSold</th>\n",
              "      <th>SaleType</th>\n",
              "      <th>SaleCondition</th>\n",
              "      <th>SalePrice</th>\n",
              "    </tr>\n",
              "  </thead>\n",
              "  <tbody>\n",
              "    <tr>\n",
              "      <th>838</th>\n",
              "      <td>839</td>\n",
              "      <td>20</td>\n",
              "      <td>RL</td>\n",
              "      <td>75.0</td>\n",
              "      <td>9525</td>\n",
              "      <td>Pave</td>\n",
              "      <td>NaN</td>\n",
              "      <td>Reg</td>\n",
              "      <td>Lvl</td>\n",
              "      <td>AllPub</td>\n",
              "      <td>Inside</td>\n",
              "      <td>Gtl</td>\n",
              "      <td>CollgCr</td>\n",
              "      <td>Norm</td>\n",
              "      <td>Norm</td>\n",
              "      <td>1Fam</td>\n",
              "      <td>1Story</td>\n",
              "      <td>5</td>\n",
              "      <td>6</td>\n",
              "      <td>1995</td>\n",
              "      <td>2006</td>\n",
              "      <td>Gable</td>\n",
              "      <td>CompShg</td>\n",
              "      <td>VinylSd</td>\n",
              "      <td>VinylSd</td>\n",
              "      <td>None</td>\n",
              "      <td>0.0</td>\n",
              "      <td>TA</td>\n",
              "      <td>TA</td>\n",
              "      <td>PConc</td>\n",
              "      <td>Gd</td>\n",
              "      <td>TA</td>\n",
              "      <td>No</td>\n",
              "      <td>Unf</td>\n",
              "      <td>0</td>\n",
              "      <td>Unf</td>\n",
              "      <td>0</td>\n",
              "      <td>1099</td>\n",
              "      <td>1099</td>\n",
              "      <td>GasA</td>\n",
              "      <td>...</td>\n",
              "      <td>Y</td>\n",
              "      <td>SBrkr</td>\n",
              "      <td>1099</td>\n",
              "      <td>0</td>\n",
              "      <td>0</td>\n",
              "      <td>1099</td>\n",
              "      <td>0</td>\n",
              "      <td>0</td>\n",
              "      <td>1</td>\n",
              "      <td>1</td>\n",
              "      <td>3</td>\n",
              "      <td>1</td>\n",
              "      <td>Gd</td>\n",
              "      <td>6</td>\n",
              "      <td>Typ</td>\n",
              "      <td>0</td>\n",
              "      <td>NaN</td>\n",
              "      <td>Attchd</td>\n",
              "      <td>1999.0</td>\n",
              "      <td>Unf</td>\n",
              "      <td>1</td>\n",
              "      <td>352</td>\n",
              "      <td>TA</td>\n",
              "      <td>TA</td>\n",
              "      <td>Y</td>\n",
              "      <td>278</td>\n",
              "      <td>0</td>\n",
              "      <td>0</td>\n",
              "      <td>0</td>\n",
              "      <td>0</td>\n",
              "      <td>0</td>\n",
              "      <td>NaN</td>\n",
              "      <td>NaN</td>\n",
              "      <td>NaN</td>\n",
              "      <td>0</td>\n",
              "      <td>6</td>\n",
              "      <td>2008</td>\n",
              "      <td>WD</td>\n",
              "      <td>Normal</td>\n",
              "      <td>144000</td>\n",
              "    </tr>\n",
              "    <tr>\n",
              "      <th>1268</th>\n",
              "      <td>1269</td>\n",
              "      <td>50</td>\n",
              "      <td>RL</td>\n",
              "      <td>NaN</td>\n",
              "      <td>14100</td>\n",
              "      <td>Pave</td>\n",
              "      <td>NaN</td>\n",
              "      <td>IR1</td>\n",
              "      <td>Lvl</td>\n",
              "      <td>AllPub</td>\n",
              "      <td>Inside</td>\n",
              "      <td>Mod</td>\n",
              "      <td>Crawfor</td>\n",
              "      <td>Norm</td>\n",
              "      <td>Norm</td>\n",
              "      <td>1Fam</td>\n",
              "      <td>1.5Fin</td>\n",
              "      <td>8</td>\n",
              "      <td>9</td>\n",
              "      <td>1935</td>\n",
              "      <td>1997</td>\n",
              "      <td>Gable</td>\n",
              "      <td>CompShg</td>\n",
              "      <td>Stucco</td>\n",
              "      <td>Stucco</td>\n",
              "      <td>BrkFace</td>\n",
              "      <td>632.0</td>\n",
              "      <td>TA</td>\n",
              "      <td>Gd</td>\n",
              "      <td>CBlock</td>\n",
              "      <td>TA</td>\n",
              "      <td>TA</td>\n",
              "      <td>Mn</td>\n",
              "      <td>Rec</td>\n",
              "      <td>192</td>\n",
              "      <td>Unf</td>\n",
              "      <td>0</td>\n",
              "      <td>536</td>\n",
              "      <td>728</td>\n",
              "      <td>GasA</td>\n",
              "      <td>...</td>\n",
              "      <td>Y</td>\n",
              "      <td>SBrkr</td>\n",
              "      <td>1968</td>\n",
              "      <td>1479</td>\n",
              "      <td>0</td>\n",
              "      <td>3447</td>\n",
              "      <td>0</td>\n",
              "      <td>0</td>\n",
              "      <td>3</td>\n",
              "      <td>1</td>\n",
              "      <td>4</td>\n",
              "      <td>1</td>\n",
              "      <td>Gd</td>\n",
              "      <td>11</td>\n",
              "      <td>Typ</td>\n",
              "      <td>2</td>\n",
              "      <td>Gd</td>\n",
              "      <td>BuiltIn</td>\n",
              "      <td>1982.0</td>\n",
              "      <td>Unf</td>\n",
              "      <td>3</td>\n",
              "      <td>1014</td>\n",
              "      <td>TA</td>\n",
              "      <td>TA</td>\n",
              "      <td>Y</td>\n",
              "      <td>314</td>\n",
              "      <td>12</td>\n",
              "      <td>0</td>\n",
              "      <td>0</td>\n",
              "      <td>0</td>\n",
              "      <td>0</td>\n",
              "      <td>NaN</td>\n",
              "      <td>GdWo</td>\n",
              "      <td>NaN</td>\n",
              "      <td>0</td>\n",
              "      <td>5</td>\n",
              "      <td>2008</td>\n",
              "      <td>WD</td>\n",
              "      <td>Normal</td>\n",
              "      <td>381000</td>\n",
              "    </tr>\n",
              "    <tr>\n",
              "      <th>219</th>\n",
              "      <td>220</td>\n",
              "      <td>120</td>\n",
              "      <td>RL</td>\n",
              "      <td>43.0</td>\n",
              "      <td>3010</td>\n",
              "      <td>Pave</td>\n",
              "      <td>NaN</td>\n",
              "      <td>Reg</td>\n",
              "      <td>Lvl</td>\n",
              "      <td>AllPub</td>\n",
              "      <td>Inside</td>\n",
              "      <td>Gtl</td>\n",
              "      <td>Blmngtn</td>\n",
              "      <td>Norm</td>\n",
              "      <td>Norm</td>\n",
              "      <td>TwnhsE</td>\n",
              "      <td>1Story</td>\n",
              "      <td>7</td>\n",
              "      <td>5</td>\n",
              "      <td>2005</td>\n",
              "      <td>2006</td>\n",
              "      <td>Gable</td>\n",
              "      <td>CompShg</td>\n",
              "      <td>VinylSd</td>\n",
              "      <td>VinylSd</td>\n",
              "      <td>BrkFace</td>\n",
              "      <td>16.0</td>\n",
              "      <td>Gd</td>\n",
              "      <td>TA</td>\n",
              "      <td>PConc</td>\n",
              "      <td>Gd</td>\n",
              "      <td>TA</td>\n",
              "      <td>Av</td>\n",
              "      <td>GLQ</td>\n",
              "      <td>16</td>\n",
              "      <td>Unf</td>\n",
              "      <td>0</td>\n",
              "      <td>1232</td>\n",
              "      <td>1248</td>\n",
              "      <td>GasA</td>\n",
              "      <td>...</td>\n",
              "      <td>Y</td>\n",
              "      <td>SBrkr</td>\n",
              "      <td>1248</td>\n",
              "      <td>0</td>\n",
              "      <td>0</td>\n",
              "      <td>1248</td>\n",
              "      <td>0</td>\n",
              "      <td>0</td>\n",
              "      <td>2</td>\n",
              "      <td>0</td>\n",
              "      <td>2</td>\n",
              "      <td>1</td>\n",
              "      <td>Gd</td>\n",
              "      <td>5</td>\n",
              "      <td>Typ</td>\n",
              "      <td>0</td>\n",
              "      <td>NaN</td>\n",
              "      <td>Attchd</td>\n",
              "      <td>2005.0</td>\n",
              "      <td>Fin</td>\n",
              "      <td>2</td>\n",
              "      <td>438</td>\n",
              "      <td>TA</td>\n",
              "      <td>TA</td>\n",
              "      <td>Y</td>\n",
              "      <td>108</td>\n",
              "      <td>0</td>\n",
              "      <td>0</td>\n",
              "      <td>0</td>\n",
              "      <td>0</td>\n",
              "      <td>0</td>\n",
              "      <td>NaN</td>\n",
              "      <td>NaN</td>\n",
              "      <td>NaN</td>\n",
              "      <td>0</td>\n",
              "      <td>3</td>\n",
              "      <td>2006</td>\n",
              "      <td>New</td>\n",
              "      <td>Partial</td>\n",
              "      <td>167240</td>\n",
              "    </tr>\n",
              "    <tr>\n",
              "      <th>1433</th>\n",
              "      <td>1434</td>\n",
              "      <td>60</td>\n",
              "      <td>RL</td>\n",
              "      <td>93.0</td>\n",
              "      <td>10261</td>\n",
              "      <td>Pave</td>\n",
              "      <td>NaN</td>\n",
              "      <td>IR1</td>\n",
              "      <td>Lvl</td>\n",
              "      <td>AllPub</td>\n",
              "      <td>Inside</td>\n",
              "      <td>Gtl</td>\n",
              "      <td>Gilbert</td>\n",
              "      <td>Norm</td>\n",
              "      <td>Norm</td>\n",
              "      <td>1Fam</td>\n",
              "      <td>2Story</td>\n",
              "      <td>6</td>\n",
              "      <td>5</td>\n",
              "      <td>2000</td>\n",
              "      <td>2000</td>\n",
              "      <td>Gable</td>\n",
              "      <td>CompShg</td>\n",
              "      <td>VinylSd</td>\n",
              "      <td>VinylSd</td>\n",
              "      <td>BrkFace</td>\n",
              "      <td>318.0</td>\n",
              "      <td>TA</td>\n",
              "      <td>TA</td>\n",
              "      <td>PConc</td>\n",
              "      <td>Gd</td>\n",
              "      <td>TA</td>\n",
              "      <td>No</td>\n",
              "      <td>Unf</td>\n",
              "      <td>0</td>\n",
              "      <td>Unf</td>\n",
              "      <td>0</td>\n",
              "      <td>936</td>\n",
              "      <td>936</td>\n",
              "      <td>GasA</td>\n",
              "      <td>...</td>\n",
              "      <td>Y</td>\n",
              "      <td>SBrkr</td>\n",
              "      <td>962</td>\n",
              "      <td>830</td>\n",
              "      <td>0</td>\n",
              "      <td>1792</td>\n",
              "      <td>1</td>\n",
              "      <td>0</td>\n",
              "      <td>2</td>\n",
              "      <td>1</td>\n",
              "      <td>3</td>\n",
              "      <td>1</td>\n",
              "      <td>TA</td>\n",
              "      <td>8</td>\n",
              "      <td>Typ</td>\n",
              "      <td>1</td>\n",
              "      <td>TA</td>\n",
              "      <td>Attchd</td>\n",
              "      <td>2000.0</td>\n",
              "      <td>Fin</td>\n",
              "      <td>2</td>\n",
              "      <td>451</td>\n",
              "      <td>TA</td>\n",
              "      <td>TA</td>\n",
              "      <td>Y</td>\n",
              "      <td>0</td>\n",
              "      <td>0</td>\n",
              "      <td>0</td>\n",
              "      <td>0</td>\n",
              "      <td>0</td>\n",
              "      <td>0</td>\n",
              "      <td>NaN</td>\n",
              "      <td>NaN</td>\n",
              "      <td>NaN</td>\n",
              "      <td>0</td>\n",
              "      <td>5</td>\n",
              "      <td>2008</td>\n",
              "      <td>WD</td>\n",
              "      <td>Normal</td>\n",
              "      <td>186500</td>\n",
              "    </tr>\n",
              "    <tr>\n",
              "      <th>506</th>\n",
              "      <td>507</td>\n",
              "      <td>60</td>\n",
              "      <td>RL</td>\n",
              "      <td>80.0</td>\n",
              "      <td>9554</td>\n",
              "      <td>Pave</td>\n",
              "      <td>NaN</td>\n",
              "      <td>IR1</td>\n",
              "      <td>Lvl</td>\n",
              "      <td>AllPub</td>\n",
              "      <td>Inside</td>\n",
              "      <td>Gtl</td>\n",
              "      <td>SawyerW</td>\n",
              "      <td>Norm</td>\n",
              "      <td>Norm</td>\n",
              "      <td>1Fam</td>\n",
              "      <td>2Story</td>\n",
              "      <td>8</td>\n",
              "      <td>5</td>\n",
              "      <td>1993</td>\n",
              "      <td>1994</td>\n",
              "      <td>Gable</td>\n",
              "      <td>CompShg</td>\n",
              "      <td>VinylSd</td>\n",
              "      <td>VinylSd</td>\n",
              "      <td>BrkFace</td>\n",
              "      <td>125.0</td>\n",
              "      <td>Gd</td>\n",
              "      <td>TA</td>\n",
              "      <td>PConc</td>\n",
              "      <td>Gd</td>\n",
              "      <td>TA</td>\n",
              "      <td>No</td>\n",
              "      <td>GLQ</td>\n",
              "      <td>380</td>\n",
              "      <td>Unf</td>\n",
              "      <td>0</td>\n",
              "      <td>397</td>\n",
              "      <td>777</td>\n",
              "      <td>GasA</td>\n",
              "      <td>...</td>\n",
              "      <td>Y</td>\n",
              "      <td>SBrkr</td>\n",
              "      <td>1065</td>\n",
              "      <td>846</td>\n",
              "      <td>0</td>\n",
              "      <td>1911</td>\n",
              "      <td>0</td>\n",
              "      <td>0</td>\n",
              "      <td>2</td>\n",
              "      <td>1</td>\n",
              "      <td>3</td>\n",
              "      <td>1</td>\n",
              "      <td>Gd</td>\n",
              "      <td>8</td>\n",
              "      <td>Typ</td>\n",
              "      <td>1</td>\n",
              "      <td>TA</td>\n",
              "      <td>Attchd</td>\n",
              "      <td>1993.0</td>\n",
              "      <td>RFn</td>\n",
              "      <td>2</td>\n",
              "      <td>471</td>\n",
              "      <td>TA</td>\n",
              "      <td>TA</td>\n",
              "      <td>Y</td>\n",
              "      <td>182</td>\n",
              "      <td>81</td>\n",
              "      <td>0</td>\n",
              "      <td>0</td>\n",
              "      <td>0</td>\n",
              "      <td>0</td>\n",
              "      <td>NaN</td>\n",
              "      <td>NaN</td>\n",
              "      <td>NaN</td>\n",
              "      <td>0</td>\n",
              "      <td>9</td>\n",
              "      <td>2006</td>\n",
              "      <td>WD</td>\n",
              "      <td>Normal</td>\n",
              "      <td>215000</td>\n",
              "    </tr>\n",
              "  </tbody>\n",
              "</table>\n",
              "<p>5 rows × 81 columns</p>\n",
              "</div>"
            ],
            "text/plain": [
              "        Id  MSSubClass MSZoning  ...  SaleType  SaleCondition SalePrice\n",
              "838    839          20       RL  ...        WD         Normal    144000\n",
              "1268  1269          50       RL  ...        WD         Normal    381000\n",
              "219    220         120       RL  ...       New        Partial    167240\n",
              "1433  1434          60       RL  ...        WD         Normal    186500\n",
              "506    507          60       RL  ...        WD         Normal    215000\n",
              "\n",
              "[5 rows x 81 columns]"
            ]
          },
          "metadata": {
            "tags": []
          },
          "execution_count": 430
        }
      ]
    },
    {
      "cell_type": "code",
      "metadata": {
        "id": "S2zP9Oi8ReFz",
        "outputId": "871ebf1d-16ed-44c5-fe34-98a8f1b21b82",
        "colab": {
          "base_uri": "https://localhost:8080/",
          "height": 546
        }
      },
      "source": [
        "df.SalePrice.plot.hist(bins=100)"
      ],
      "execution_count": null,
      "outputs": [
        {
          "output_type": "execute_result",
          "data": {
            "text/plain": [
              "<matplotlib.axes._subplots.AxesSubplot at 0x7fbac3009b70>"
            ]
          },
          "metadata": {
            "tags": []
          },
          "execution_count": 431
        },
        {
          "output_type": "display_data",
          "data": {
            "text/plain": [
              "<Figure size 720x432 with 1 Axes>"
            ],
            "image/svg+xml": "<?xml version=\"1.0\" encoding=\"utf-8\" standalone=\"no\"?>\n<!DOCTYPE svg PUBLIC \"-//W3C//DTD SVG 1.1//EN\"\n  \"http://www.w3.org/Graphics/SVG/1.1/DTD/svg11.dtd\">\n<!-- Created with matplotlib (https://matplotlib.org/) -->\n<svg height=\"381.369375pt\" version=\"1.1\" viewBox=\"0 0 682.37425 381.369375\" width=\"682.37425pt\" xmlns=\"http://www.w3.org/2000/svg\" xmlns:xlink=\"http://www.w3.org/1999/xlink\">\n <defs>\n  <style type=\"text/css\">\n*{stroke-linecap:butt;stroke-linejoin:round;}\n  </style>\n </defs>\n <g id=\"figure_1\">\n  <g id=\"patch_1\">\n   <path d=\"M 0 381.369375 \nL 682.37425 381.369375 \nL 682.37425 0 \nL 0 0 \nz\n\" style=\"fill:#f0f0f0;\"/>\n  </g>\n  <g id=\"axes_1\">\n   <g id=\"patch_2\">\n    <path d=\"M 48.77425 357.12 \nL 675.17425 357.12 \nL 675.17425 7.2 \nL 48.77425 7.2 \nz\n\" style=\"fill:#f0f0f0;\"/>\n   </g>\n   <g id=\"matplotlib.axis_1\">\n    <g id=\"xtick_1\">\n     <g id=\"line2d_1\">\n      <path clip-path=\"url(#pddb1e6d093)\" d=\"M 49.648083 357.12 \nL 49.648083 7.2 \n\" style=\"fill:none;stroke:#cbcbcb;\"/>\n     </g>\n     <g id=\"line2d_2\"/>\n     <g id=\"text_1\">\n      <!-- 0 -->\n      <defs>\n       <path d=\"M 31.78125 66.40625 \nQ 24.171875 66.40625 20.328125 58.90625 \nQ 16.5 51.421875 16.5 36.375 \nQ 16.5 21.390625 20.328125 13.890625 \nQ 24.171875 6.390625 31.78125 6.390625 \nQ 39.453125 6.390625 43.28125 13.890625 \nQ 47.125 21.390625 47.125 36.375 \nQ 47.125 51.421875 43.28125 58.90625 \nQ 39.453125 66.40625 31.78125 66.40625 \nz\nM 31.78125 74.21875 \nQ 44.046875 74.21875 50.515625 64.515625 \nQ 56.984375 54.828125 56.984375 36.375 \nQ 56.984375 17.96875 50.515625 8.265625 \nQ 44.046875 -1.421875 31.78125 -1.421875 \nQ 19.53125 -1.421875 13.0625 8.265625 \nQ 6.59375 17.96875 6.59375 36.375 \nQ 6.59375 54.828125 13.0625 64.515625 \nQ 19.53125 74.21875 31.78125 74.21875 \nz\n\" id=\"DejaVuSans-48\"/>\n      </defs>\n      <g transform=\"translate(45.194333 371.257813)scale(0.14 -0.14)\">\n       <use xlink:href=\"#DejaVuSans-48\"/>\n      </g>\n     </g>\n    </g>\n    <g id=\"xtick_2\">\n     <g id=\"line2d_3\">\n      <path clip-path=\"url(#pddb1e6d093)\" d=\"M 128.728009 357.12 \nL 128.728009 7.2 \n\" style=\"fill:none;stroke:#cbcbcb;\"/>\n     </g>\n     <g id=\"line2d_4\"/>\n     <g id=\"text_2\">\n      <!-- 100000 -->\n      <defs>\n       <path d=\"M 12.40625 8.296875 \nL 28.515625 8.296875 \nL 28.515625 63.921875 \nL 10.984375 60.40625 \nL 10.984375 69.390625 \nL 28.421875 72.90625 \nL 38.28125 72.90625 \nL 38.28125 8.296875 \nL 54.390625 8.296875 \nL 54.390625 0 \nL 12.40625 0 \nz\n\" id=\"DejaVuSans-49\"/>\n      </defs>\n      <g transform=\"translate(102.005509 371.257813)scale(0.14 -0.14)\">\n       <use xlink:href=\"#DejaVuSans-49\"/>\n       <use x=\"63.623047\" xlink:href=\"#DejaVuSans-48\"/>\n       <use x=\"127.246094\" xlink:href=\"#DejaVuSans-48\"/>\n       <use x=\"190.869141\" xlink:href=\"#DejaVuSans-48\"/>\n       <use x=\"254.492188\" xlink:href=\"#DejaVuSans-48\"/>\n       <use x=\"318.115234\" xlink:href=\"#DejaVuSans-48\"/>\n      </g>\n     </g>\n    </g>\n    <g id=\"xtick_3\">\n     <g id=\"line2d_5\">\n      <path clip-path=\"url(#pddb1e6d093)\" d=\"M 207.807935 357.12 \nL 207.807935 7.2 \n\" style=\"fill:none;stroke:#cbcbcb;\"/>\n     </g>\n     <g id=\"line2d_6\"/>\n     <g id=\"text_3\">\n      <!-- 200000 -->\n      <defs>\n       <path d=\"M 19.1875 8.296875 \nL 53.609375 8.296875 \nL 53.609375 0 \nL 7.328125 0 \nL 7.328125 8.296875 \nQ 12.9375 14.109375 22.625 23.890625 \nQ 32.328125 33.6875 34.8125 36.53125 \nQ 39.546875 41.84375 41.421875 45.53125 \nQ 43.3125 49.21875 43.3125 52.78125 \nQ 43.3125 58.59375 39.234375 62.25 \nQ 35.15625 65.921875 28.609375 65.921875 \nQ 23.96875 65.921875 18.8125 64.3125 \nQ 13.671875 62.703125 7.8125 59.421875 \nL 7.8125 69.390625 \nQ 13.765625 71.78125 18.9375 73 \nQ 24.125 74.21875 28.421875 74.21875 \nQ 39.75 74.21875 46.484375 68.546875 \nQ 53.21875 62.890625 53.21875 53.421875 \nQ 53.21875 48.921875 51.53125 44.890625 \nQ 49.859375 40.875 45.40625 35.40625 \nQ 44.1875 33.984375 37.640625 27.21875 \nQ 31.109375 20.453125 19.1875 8.296875 \nz\n\" id=\"DejaVuSans-50\"/>\n      </defs>\n      <g transform=\"translate(181.085435 371.257813)scale(0.14 -0.14)\">\n       <use xlink:href=\"#DejaVuSans-50\"/>\n       <use x=\"63.623047\" xlink:href=\"#DejaVuSans-48\"/>\n       <use x=\"127.246094\" xlink:href=\"#DejaVuSans-48\"/>\n       <use x=\"190.869141\" xlink:href=\"#DejaVuSans-48\"/>\n       <use x=\"254.492188\" xlink:href=\"#DejaVuSans-48\"/>\n       <use x=\"318.115234\" xlink:href=\"#DejaVuSans-48\"/>\n      </g>\n     </g>\n    </g>\n    <g id=\"xtick_4\">\n     <g id=\"line2d_7\">\n      <path clip-path=\"url(#pddb1e6d093)\" d=\"M 286.88786 357.12 \nL 286.88786 7.2 \n\" style=\"fill:none;stroke:#cbcbcb;\"/>\n     </g>\n     <g id=\"line2d_8\"/>\n     <g id=\"text_4\">\n      <!-- 300000 -->\n      <defs>\n       <path d=\"M 40.578125 39.3125 \nQ 47.65625 37.796875 51.625 33 \nQ 55.609375 28.21875 55.609375 21.1875 \nQ 55.609375 10.40625 48.1875 4.484375 \nQ 40.765625 -1.421875 27.09375 -1.421875 \nQ 22.515625 -1.421875 17.65625 -0.515625 \nQ 12.796875 0.390625 7.625 2.203125 \nL 7.625 11.71875 \nQ 11.71875 9.328125 16.59375 8.109375 \nQ 21.484375 6.890625 26.8125 6.890625 \nQ 36.078125 6.890625 40.9375 10.546875 \nQ 45.796875 14.203125 45.796875 21.1875 \nQ 45.796875 27.640625 41.28125 31.265625 \nQ 36.765625 34.90625 28.71875 34.90625 \nL 20.21875 34.90625 \nL 20.21875 43.015625 \nL 29.109375 43.015625 \nQ 36.375 43.015625 40.234375 45.921875 \nQ 44.09375 48.828125 44.09375 54.296875 \nQ 44.09375 59.90625 40.109375 62.90625 \nQ 36.140625 65.921875 28.71875 65.921875 \nQ 24.65625 65.921875 20.015625 65.03125 \nQ 15.375 64.15625 9.8125 62.3125 \nL 9.8125 71.09375 \nQ 15.4375 72.65625 20.34375 73.4375 \nQ 25.25 74.21875 29.59375 74.21875 \nQ 40.828125 74.21875 47.359375 69.109375 \nQ 53.90625 64.015625 53.90625 55.328125 \nQ 53.90625 49.265625 50.4375 45.09375 \nQ 46.96875 40.921875 40.578125 39.3125 \nz\n\" id=\"DejaVuSans-51\"/>\n      </defs>\n      <g transform=\"translate(260.16536 371.257813)scale(0.14 -0.14)\">\n       <use xlink:href=\"#DejaVuSans-51\"/>\n       <use x=\"63.623047\" xlink:href=\"#DejaVuSans-48\"/>\n       <use x=\"127.246094\" xlink:href=\"#DejaVuSans-48\"/>\n       <use x=\"190.869141\" xlink:href=\"#DejaVuSans-48\"/>\n       <use x=\"254.492188\" xlink:href=\"#DejaVuSans-48\"/>\n       <use x=\"318.115234\" xlink:href=\"#DejaVuSans-48\"/>\n      </g>\n     </g>\n    </g>\n    <g id=\"xtick_5\">\n     <g id=\"line2d_9\">\n      <path clip-path=\"url(#pddb1e6d093)\" d=\"M 365.967786 357.12 \nL 365.967786 7.2 \n\" style=\"fill:none;stroke:#cbcbcb;\"/>\n     </g>\n     <g id=\"line2d_10\"/>\n     <g id=\"text_5\">\n      <!-- 400000 -->\n      <defs>\n       <path d=\"M 37.796875 64.3125 \nL 12.890625 25.390625 \nL 37.796875 25.390625 \nz\nM 35.203125 72.90625 \nL 47.609375 72.90625 \nL 47.609375 25.390625 \nL 58.015625 25.390625 \nL 58.015625 17.1875 \nL 47.609375 17.1875 \nL 47.609375 0 \nL 37.796875 0 \nL 37.796875 17.1875 \nL 4.890625 17.1875 \nL 4.890625 26.703125 \nz\n\" id=\"DejaVuSans-52\"/>\n      </defs>\n      <g transform=\"translate(339.245286 371.257813)scale(0.14 -0.14)\">\n       <use xlink:href=\"#DejaVuSans-52\"/>\n       <use x=\"63.623047\" xlink:href=\"#DejaVuSans-48\"/>\n       <use x=\"127.246094\" xlink:href=\"#DejaVuSans-48\"/>\n       <use x=\"190.869141\" xlink:href=\"#DejaVuSans-48\"/>\n       <use x=\"254.492188\" xlink:href=\"#DejaVuSans-48\"/>\n       <use x=\"318.115234\" xlink:href=\"#DejaVuSans-48\"/>\n      </g>\n     </g>\n    </g>\n    <g id=\"xtick_6\">\n     <g id=\"line2d_11\">\n      <path clip-path=\"url(#pddb1e6d093)\" d=\"M 445.047712 357.12 \nL 445.047712 7.2 \n\" style=\"fill:none;stroke:#cbcbcb;\"/>\n     </g>\n     <g id=\"line2d_12\"/>\n     <g id=\"text_6\">\n      <!-- 500000 -->\n      <defs>\n       <path d=\"M 10.796875 72.90625 \nL 49.515625 72.90625 \nL 49.515625 64.59375 \nL 19.828125 64.59375 \nL 19.828125 46.734375 \nQ 21.96875 47.46875 24.109375 47.828125 \nQ 26.265625 48.1875 28.421875 48.1875 \nQ 40.625 48.1875 47.75 41.5 \nQ 54.890625 34.8125 54.890625 23.390625 \nQ 54.890625 11.625 47.5625 5.09375 \nQ 40.234375 -1.421875 26.90625 -1.421875 \nQ 22.3125 -1.421875 17.546875 -0.640625 \nQ 12.796875 0.140625 7.71875 1.703125 \nL 7.71875 11.625 \nQ 12.109375 9.234375 16.796875 8.0625 \nQ 21.484375 6.890625 26.703125 6.890625 \nQ 35.15625 6.890625 40.078125 11.328125 \nQ 45.015625 15.765625 45.015625 23.390625 \nQ 45.015625 31 40.078125 35.4375 \nQ 35.15625 39.890625 26.703125 39.890625 \nQ 22.75 39.890625 18.8125 39.015625 \nQ 14.890625 38.140625 10.796875 36.28125 \nz\n\" id=\"DejaVuSans-53\"/>\n      </defs>\n      <g transform=\"translate(418.325212 371.257813)scale(0.14 -0.14)\">\n       <use xlink:href=\"#DejaVuSans-53\"/>\n       <use x=\"63.623047\" xlink:href=\"#DejaVuSans-48\"/>\n       <use x=\"127.246094\" xlink:href=\"#DejaVuSans-48\"/>\n       <use x=\"190.869141\" xlink:href=\"#DejaVuSans-48\"/>\n       <use x=\"254.492188\" xlink:href=\"#DejaVuSans-48\"/>\n       <use x=\"318.115234\" xlink:href=\"#DejaVuSans-48\"/>\n      </g>\n     </g>\n    </g>\n    <g id=\"xtick_7\">\n     <g id=\"line2d_13\">\n      <path clip-path=\"url(#pddb1e6d093)\" d=\"M 524.127638 357.12 \nL 524.127638 7.2 \n\" style=\"fill:none;stroke:#cbcbcb;\"/>\n     </g>\n     <g id=\"line2d_14\"/>\n     <g id=\"text_7\">\n      <!-- 600000 -->\n      <defs>\n       <path d=\"M 33.015625 40.375 \nQ 26.375 40.375 22.484375 35.828125 \nQ 18.609375 31.296875 18.609375 23.390625 \nQ 18.609375 15.53125 22.484375 10.953125 \nQ 26.375 6.390625 33.015625 6.390625 \nQ 39.65625 6.390625 43.53125 10.953125 \nQ 47.40625 15.53125 47.40625 23.390625 \nQ 47.40625 31.296875 43.53125 35.828125 \nQ 39.65625 40.375 33.015625 40.375 \nz\nM 52.59375 71.296875 \nL 52.59375 62.3125 \nQ 48.875 64.0625 45.09375 64.984375 \nQ 41.3125 65.921875 37.59375 65.921875 \nQ 27.828125 65.921875 22.671875 59.328125 \nQ 17.53125 52.734375 16.796875 39.40625 \nQ 19.671875 43.65625 24.015625 45.921875 \nQ 28.375 48.1875 33.59375 48.1875 \nQ 44.578125 48.1875 50.953125 41.515625 \nQ 57.328125 34.859375 57.328125 23.390625 \nQ 57.328125 12.15625 50.6875 5.359375 \nQ 44.046875 -1.421875 33.015625 -1.421875 \nQ 20.359375 -1.421875 13.671875 8.265625 \nQ 6.984375 17.96875 6.984375 36.375 \nQ 6.984375 53.65625 15.1875 63.9375 \nQ 23.390625 74.21875 37.203125 74.21875 \nQ 40.921875 74.21875 44.703125 73.484375 \nQ 48.484375 72.75 52.59375 71.296875 \nz\n\" id=\"DejaVuSans-54\"/>\n      </defs>\n      <g transform=\"translate(497.405138 371.257813)scale(0.14 -0.14)\">\n       <use xlink:href=\"#DejaVuSans-54\"/>\n       <use x=\"63.623047\" xlink:href=\"#DejaVuSans-48\"/>\n       <use x=\"127.246094\" xlink:href=\"#DejaVuSans-48\"/>\n       <use x=\"190.869141\" xlink:href=\"#DejaVuSans-48\"/>\n       <use x=\"254.492188\" xlink:href=\"#DejaVuSans-48\"/>\n       <use x=\"318.115234\" xlink:href=\"#DejaVuSans-48\"/>\n      </g>\n     </g>\n    </g>\n    <g id=\"xtick_8\">\n     <g id=\"line2d_15\">\n      <path clip-path=\"url(#pddb1e6d093)\" d=\"M 603.207564 357.12 \nL 603.207564 7.2 \n\" style=\"fill:none;stroke:#cbcbcb;\"/>\n     </g>\n     <g id=\"line2d_16\"/>\n     <g id=\"text_8\">\n      <!-- 700000 -->\n      <defs>\n       <path d=\"M 8.203125 72.90625 \nL 55.078125 72.90625 \nL 55.078125 68.703125 \nL 28.609375 0 \nL 18.3125 0 \nL 43.21875 64.59375 \nL 8.203125 64.59375 \nz\n\" id=\"DejaVuSans-55\"/>\n      </defs>\n      <g transform=\"translate(576.485064 371.257813)scale(0.14 -0.14)\">\n       <use xlink:href=\"#DejaVuSans-55\"/>\n       <use x=\"63.623047\" xlink:href=\"#DejaVuSans-48\"/>\n       <use x=\"127.246094\" xlink:href=\"#DejaVuSans-48\"/>\n       <use x=\"190.869141\" xlink:href=\"#DejaVuSans-48\"/>\n       <use x=\"254.492188\" xlink:href=\"#DejaVuSans-48\"/>\n       <use x=\"318.115234\" xlink:href=\"#DejaVuSans-48\"/>\n      </g>\n     </g>\n    </g>\n   </g>\n   <g id=\"matplotlib.axis_2\">\n    <g id=\"ytick_1\">\n     <g id=\"line2d_17\">\n      <path clip-path=\"url(#pddb1e6d093)\" d=\"M 48.77425 357.12 \nL 675.17425 357.12 \n\" style=\"fill:none;stroke:#cbcbcb;\"/>\n     </g>\n     <g id=\"line2d_18\"/>\n     <g id=\"text_9\">\n      <!-- 0 -->\n      <g transform=\"translate(36.36675 362.438906)scale(0.14 -0.14)\">\n       <use xlink:href=\"#DejaVuSans-48\"/>\n      </g>\n     </g>\n    </g>\n    <g id=\"ytick_2\">\n     <g id=\"line2d_19\">\n      <path clip-path=\"url(#pddb1e6d093)\" d=\"M 48.77425 284.672795 \nL 675.17425 284.672795 \n\" style=\"fill:none;stroke:#cbcbcb;\"/>\n     </g>\n     <g id=\"line2d_20\"/>\n     <g id=\"text_10\">\n      <!-- 20 -->\n      <g transform=\"translate(27.45925 289.991701)scale(0.14 -0.14)\">\n       <use xlink:href=\"#DejaVuSans-50\"/>\n       <use x=\"63.623047\" xlink:href=\"#DejaVuSans-48\"/>\n      </g>\n     </g>\n    </g>\n    <g id=\"ytick_3\">\n     <g id=\"line2d_21\">\n      <path clip-path=\"url(#pddb1e6d093)\" d=\"M 48.77425 212.22559 \nL 675.17425 212.22559 \n\" style=\"fill:none;stroke:#cbcbcb;\"/>\n     </g>\n     <g id=\"line2d_22\"/>\n     <g id=\"text_11\">\n      <!-- 40 -->\n      <g transform=\"translate(27.45925 217.544496)scale(0.14 -0.14)\">\n       <use xlink:href=\"#DejaVuSans-52\"/>\n       <use x=\"63.623047\" xlink:href=\"#DejaVuSans-48\"/>\n      </g>\n     </g>\n    </g>\n    <g id=\"ytick_4\">\n     <g id=\"line2d_23\">\n      <path clip-path=\"url(#pddb1e6d093)\" d=\"M 48.77425 139.778385 \nL 675.17425 139.778385 \n\" style=\"fill:none;stroke:#cbcbcb;\"/>\n     </g>\n     <g id=\"line2d_24\"/>\n     <g id=\"text_12\">\n      <!-- 60 -->\n      <g transform=\"translate(27.45925 145.097291)scale(0.14 -0.14)\">\n       <use xlink:href=\"#DejaVuSans-54\"/>\n       <use x=\"63.623047\" xlink:href=\"#DejaVuSans-48\"/>\n      </g>\n     </g>\n    </g>\n    <g id=\"ytick_5\">\n     <g id=\"line2d_25\">\n      <path clip-path=\"url(#pddb1e6d093)\" d=\"M 48.77425 67.33118 \nL 675.17425 67.33118 \n\" style=\"fill:none;stroke:#cbcbcb;\"/>\n     </g>\n     <g id=\"line2d_26\"/>\n     <g id=\"text_13\">\n      <!-- 80 -->\n      <defs>\n       <path d=\"M 31.78125 34.625 \nQ 24.75 34.625 20.71875 30.859375 \nQ 16.703125 27.09375 16.703125 20.515625 \nQ 16.703125 13.921875 20.71875 10.15625 \nQ 24.75 6.390625 31.78125 6.390625 \nQ 38.8125 6.390625 42.859375 10.171875 \nQ 46.921875 13.96875 46.921875 20.515625 \nQ 46.921875 27.09375 42.890625 30.859375 \nQ 38.875 34.625 31.78125 34.625 \nz\nM 21.921875 38.8125 \nQ 15.578125 40.375 12.03125 44.71875 \nQ 8.5 49.078125 8.5 55.328125 \nQ 8.5 64.0625 14.71875 69.140625 \nQ 20.953125 74.21875 31.78125 74.21875 \nQ 42.671875 74.21875 48.875 69.140625 \nQ 55.078125 64.0625 55.078125 55.328125 \nQ 55.078125 49.078125 51.53125 44.71875 \nQ 48 40.375 41.703125 38.8125 \nQ 48.828125 37.15625 52.796875 32.3125 \nQ 56.78125 27.484375 56.78125 20.515625 \nQ 56.78125 9.90625 50.3125 4.234375 \nQ 43.84375 -1.421875 31.78125 -1.421875 \nQ 19.734375 -1.421875 13.25 4.234375 \nQ 6.78125 9.90625 6.78125 20.515625 \nQ 6.78125 27.484375 10.78125 32.3125 \nQ 14.796875 37.15625 21.921875 38.8125 \nz\nM 18.3125 54.390625 \nQ 18.3125 48.734375 21.84375 45.5625 \nQ 25.390625 42.390625 31.78125 42.390625 \nQ 38.140625 42.390625 41.71875 45.5625 \nQ 45.3125 48.734375 45.3125 54.390625 \nQ 45.3125 60.0625 41.71875 63.234375 \nQ 38.140625 66.40625 31.78125 66.40625 \nQ 25.390625 66.40625 21.84375 63.234375 \nQ 18.3125 60.0625 18.3125 54.390625 \nz\n\" id=\"DejaVuSans-56\"/>\n      </defs>\n      <g transform=\"translate(27.45925 72.650086)scale(0.14 -0.14)\">\n       <use xlink:href=\"#DejaVuSans-56\"/>\n       <use x=\"63.623047\" xlink:href=\"#DejaVuSans-48\"/>\n      </g>\n     </g>\n    </g>\n    <g id=\"text_14\">\n     <!-- Frequency -->\n     <defs>\n      <path d=\"M 9.8125 72.90625 \nL 51.703125 72.90625 \nL 51.703125 64.59375 \nL 19.671875 64.59375 \nL 19.671875 43.109375 \nL 48.578125 43.109375 \nL 48.578125 34.8125 \nL 19.671875 34.8125 \nL 19.671875 0 \nL 9.8125 0 \nz\n\" id=\"DejaVuSans-70\"/>\n      <path d=\"M 41.109375 46.296875 \nQ 39.59375 47.171875 37.8125 47.578125 \nQ 36.03125 48 33.890625 48 \nQ 26.265625 48 22.1875 43.046875 \nQ 18.109375 38.09375 18.109375 28.8125 \nL 18.109375 0 \nL 9.078125 0 \nL 9.078125 54.6875 \nL 18.109375 54.6875 \nL 18.109375 46.1875 \nQ 20.953125 51.171875 25.484375 53.578125 \nQ 30.03125 56 36.53125 56 \nQ 37.453125 56 38.578125 55.875 \nQ 39.703125 55.765625 41.0625 55.515625 \nz\n\" id=\"DejaVuSans-114\"/>\n      <path d=\"M 56.203125 29.59375 \nL 56.203125 25.203125 \nL 14.890625 25.203125 \nQ 15.484375 15.921875 20.484375 11.0625 \nQ 25.484375 6.203125 34.421875 6.203125 \nQ 39.59375 6.203125 44.453125 7.46875 \nQ 49.3125 8.734375 54.109375 11.28125 \nL 54.109375 2.78125 \nQ 49.265625 0.734375 44.1875 -0.34375 \nQ 39.109375 -1.421875 33.890625 -1.421875 \nQ 20.796875 -1.421875 13.15625 6.1875 \nQ 5.515625 13.8125 5.515625 26.8125 \nQ 5.515625 40.234375 12.765625 48.109375 \nQ 20.015625 56 32.328125 56 \nQ 43.359375 56 49.78125 48.890625 \nQ 56.203125 41.796875 56.203125 29.59375 \nz\nM 47.21875 32.234375 \nQ 47.125 39.59375 43.09375 43.984375 \nQ 39.0625 48.390625 32.421875 48.390625 \nQ 24.90625 48.390625 20.390625 44.140625 \nQ 15.875 39.890625 15.1875 32.171875 \nz\n\" id=\"DejaVuSans-101\"/>\n      <path d=\"M 14.796875 27.296875 \nQ 14.796875 17.390625 18.875 11.75 \nQ 22.953125 6.109375 30.078125 6.109375 \nQ 37.203125 6.109375 41.296875 11.75 \nQ 45.40625 17.390625 45.40625 27.296875 \nQ 45.40625 37.203125 41.296875 42.84375 \nQ 37.203125 48.484375 30.078125 48.484375 \nQ 22.953125 48.484375 18.875 42.84375 \nQ 14.796875 37.203125 14.796875 27.296875 \nz\nM 45.40625 8.203125 \nQ 42.578125 3.328125 38.25 0.953125 \nQ 33.9375 -1.421875 27.875 -1.421875 \nQ 17.96875 -1.421875 11.734375 6.484375 \nQ 5.515625 14.40625 5.515625 27.296875 \nQ 5.515625 40.1875 11.734375 48.09375 \nQ 17.96875 56 27.875 56 \nQ 33.9375 56 38.25 53.625 \nQ 42.578125 51.265625 45.40625 46.390625 \nL 45.40625 54.6875 \nL 54.390625 54.6875 \nL 54.390625 -20.796875 \nL 45.40625 -20.796875 \nz\n\" id=\"DejaVuSans-113\"/>\n      <path d=\"M 8.5 21.578125 \nL 8.5 54.6875 \nL 17.484375 54.6875 \nL 17.484375 21.921875 \nQ 17.484375 14.15625 20.5 10.265625 \nQ 23.53125 6.390625 29.59375 6.390625 \nQ 36.859375 6.390625 41.078125 11.03125 \nQ 45.3125 15.671875 45.3125 23.6875 \nL 45.3125 54.6875 \nL 54.296875 54.6875 \nL 54.296875 0 \nL 45.3125 0 \nL 45.3125 8.40625 \nQ 42.046875 3.421875 37.71875 1 \nQ 33.40625 -1.421875 27.6875 -1.421875 \nQ 18.265625 -1.421875 13.375 4.4375 \nQ 8.5 10.296875 8.5 21.578125 \nz\nM 31.109375 56 \nz\n\" id=\"DejaVuSans-117\"/>\n      <path d=\"M 54.890625 33.015625 \nL 54.890625 0 \nL 45.90625 0 \nL 45.90625 32.71875 \nQ 45.90625 40.484375 42.875 44.328125 \nQ 39.84375 48.1875 33.796875 48.1875 \nQ 26.515625 48.1875 22.3125 43.546875 \nQ 18.109375 38.921875 18.109375 30.90625 \nL 18.109375 0 \nL 9.078125 0 \nL 9.078125 54.6875 \nL 18.109375 54.6875 \nL 18.109375 46.1875 \nQ 21.34375 51.125 25.703125 53.5625 \nQ 30.078125 56 35.796875 56 \nQ 45.21875 56 50.046875 50.171875 \nQ 54.890625 44.34375 54.890625 33.015625 \nz\n\" id=\"DejaVuSans-110\"/>\n      <path d=\"M 48.78125 52.59375 \nL 48.78125 44.1875 \nQ 44.96875 46.296875 41.140625 47.34375 \nQ 37.3125 48.390625 33.40625 48.390625 \nQ 24.65625 48.390625 19.8125 42.84375 \nQ 14.984375 37.3125 14.984375 27.296875 \nQ 14.984375 17.28125 19.8125 11.734375 \nQ 24.65625 6.203125 33.40625 6.203125 \nQ 37.3125 6.203125 41.140625 7.25 \nQ 44.96875 8.296875 48.78125 10.40625 \nL 48.78125 2.09375 \nQ 45.015625 0.34375 40.984375 -0.53125 \nQ 36.96875 -1.421875 32.421875 -1.421875 \nQ 20.0625 -1.421875 12.78125 6.34375 \nQ 5.515625 14.109375 5.515625 27.296875 \nQ 5.515625 40.671875 12.859375 48.328125 \nQ 20.21875 56 33.015625 56 \nQ 37.15625 56 41.109375 55.140625 \nQ 45.0625 54.296875 48.78125 52.59375 \nz\n\" id=\"DejaVuSans-99\"/>\n      <path d=\"M 32.171875 -5.078125 \nQ 28.375 -14.84375 24.75 -17.8125 \nQ 21.140625 -20.796875 15.09375 -20.796875 \nL 7.90625 -20.796875 \nL 7.90625 -13.28125 \nL 13.1875 -13.28125 \nQ 16.890625 -13.28125 18.9375 -11.515625 \nQ 21 -9.765625 23.484375 -3.21875 \nL 25.09375 0.875 \nL 2.984375 54.6875 \nL 12.5 54.6875 \nL 29.59375 11.921875 \nL 46.6875 54.6875 \nL 56.203125 54.6875 \nz\n\" id=\"DejaVuSans-121\"/>\n     </defs>\n     <g transform=\"translate(19.965375 225.553875)rotate(-90)scale(0.168 -0.168)\">\n      <use xlink:href=\"#DejaVuSans-70\"/>\n      <use x=\"50.269531\" xlink:href=\"#DejaVuSans-114\"/>\n      <use x=\"89.132812\" xlink:href=\"#DejaVuSans-101\"/>\n      <use x=\"150.65625\" xlink:href=\"#DejaVuSans-113\"/>\n      <use x=\"214.132812\" xlink:href=\"#DejaVuSans-117\"/>\n      <use x=\"277.511719\" xlink:href=\"#DejaVuSans-101\"/>\n      <use x=\"339.035156\" xlink:href=\"#DejaVuSans-110\"/>\n      <use x=\"402.414062\" xlink:href=\"#DejaVuSans-99\"/>\n      <use x=\"457.394531\" xlink:href=\"#DejaVuSans-121\"/>\n     </g>\n    </g>\n   </g>\n   <g id=\"patch_3\">\n    <path clip-path=\"url(#pddb1e6d093)\" d=\"M 77.246977 357.12 \nL 82.941523 357.12 \nL 82.941523 339.008199 \nL 77.246977 339.008199 \nz\n\" style=\"fill:#008fd5;\"/>\n   </g>\n   <g id=\"patch_4\">\n    <path clip-path=\"url(#pddb1e6d093)\" d=\"M 82.941523 357.12 \nL 88.636068 357.12 \nL 88.636068 357.12 \nL 82.941523 357.12 \nz\n\" style=\"fill:#008fd5;\"/>\n   </g>\n   <g id=\"patch_5\">\n    <path clip-path=\"url(#pddb1e6d093)\" d=\"M 88.636068 357.12 \nL 94.330614 357.12 \nL 94.330614 339.008199 \nL 88.636068 339.008199 \nz\n\" style=\"fill:#008fd5;\"/>\n   </g>\n   <g id=\"patch_6\">\n    <path clip-path=\"url(#pddb1e6d093)\" d=\"M 94.330614 357.12 \nL 100.025159 357.12 \nL 100.025159 335.385839 \nL 94.330614 335.385839 \nz\n\" style=\"fill:#008fd5;\"/>\n   </g>\n   <g id=\"patch_7\">\n    <path clip-path=\"url(#pddb1e6d093)\" d=\"M 100.025159 357.12 \nL 105.719705 357.12 \nL 105.719705 335.385839 \nL 100.025159 335.385839 \nz\n\" style=\"fill:#008fd5;\"/>\n   </g>\n   <g id=\"patch_8\">\n    <path clip-path=\"url(#pddb1e6d093)\" d=\"M 105.719705 357.12 \nL 111.41425 357.12 \nL 111.41425 331.763478 \nL 105.719705 331.763478 \nz\n\" style=\"fill:#008fd5;\"/>\n   </g>\n   <g id=\"patch_9\">\n    <path clip-path=\"url(#pddb1e6d093)\" d=\"M 111.41425 357.12 \nL 117.108795 357.12 \nL 117.108795 241.204472 \nL 111.41425 241.204472 \nz\n\" style=\"fill:#008fd5;\"/>\n   </g>\n   <g id=\"patch_10\">\n    <path clip-path=\"url(#pddb1e6d093)\" d=\"M 117.108795 357.12 \nL 122.803341 357.12 \nL 122.803341 252.071553 \nL 117.108795 252.071553 \nz\n\" style=\"fill:#008fd5;\"/>\n   </g>\n   <g id=\"patch_11\">\n    <path clip-path=\"url(#pddb1e6d093)\" d=\"M 122.803341 357.12 \nL 128.497886 357.12 \nL 128.497886 273.805714 \nL 122.803341 273.805714 \nz\n\" style=\"fill:#008fd5;\"/>\n   </g>\n   <g id=\"patch_12\">\n    <path clip-path=\"url(#pddb1e6d093)\" d=\"M 128.497886 357.12 \nL 134.192432 357.12 \nL 134.192432 230.337391 \nL 128.497886 230.337391 \nz\n\" style=\"fill:#008fd5;\"/>\n   </g>\n   <g id=\"patch_13\">\n    <path clip-path=\"url(#pddb1e6d093)\" d=\"M 134.192432 357.12 \nL 139.886977 357.12 \nL 139.886977 143.400745 \nL 134.192432 143.400745 \nz\n\" style=\"fill:#008fd5;\"/>\n   </g>\n   <g id=\"patch_14\">\n    <path clip-path=\"url(#pddb1e6d093)\" d=\"M 139.886977 357.12 \nL 145.581523 357.12 \nL 145.581523 114.421863 \nL 139.886977 114.421863 \nz\n\" style=\"fill:#008fd5;\"/>\n   </g>\n   <g id=\"patch_15\">\n    <path clip-path=\"url(#pddb1e6d093)\" d=\"M 145.581523 357.12 \nL 151.276068 357.12 \nL 151.276068 92.687702 \nL 145.581523 92.687702 \nz\n\" style=\"fill:#008fd5;\"/>\n   </g>\n   <g id=\"patch_16\">\n    <path clip-path=\"url(#pddb1e6d093)\" d=\"M 151.276068 357.12 \nL 156.970614 357.12 \nL 156.970614 23.862857 \nL 151.276068 23.862857 \nz\n\" style=\"fill:#008fd5;\"/>\n   </g>\n   <g id=\"patch_17\">\n    <path clip-path=\"url(#pddb1e6d093)\" d=\"M 156.970614 357.12 \nL 162.665159 357.12 \nL 162.665159 34.729938 \nL 156.970614 34.729938 \nz\n\" style=\"fill:#008fd5;\"/>\n   </g>\n   <g id=\"patch_18\">\n    <path clip-path=\"url(#pddb1e6d093)\" d=\"M 162.665159 357.12 \nL 168.359705 357.12 \nL 168.359705 27.485217 \nL 162.665159 27.485217 \nz\n\" style=\"fill:#008fd5;\"/>\n   </g>\n   <g id=\"patch_19\">\n    <path clip-path=\"url(#pddb1e6d093)\" d=\"M 168.359705 357.12 \nL 174.05425 357.12 \nL 174.05425 132.533665 \nL 168.359705 132.533665 \nz\n\" style=\"fill:#008fd5;\"/>\n   </g>\n   <g id=\"patch_20\">\n    <path clip-path=\"url(#pddb1e6d093)\" d=\"M 174.05425 357.12 \nL 179.748795 357.12 \nL 179.748795 139.778385 \nL 174.05425 139.778385 \nz\n\" style=\"fill:#008fd5;\"/>\n   </g>\n   <g id=\"patch_21\">\n    <path clip-path=\"url(#pddb1e6d093)\" d=\"M 179.748795 357.12 \nL 185.443341 357.12 \nL 185.443341 150.645466 \nL 179.748795 150.645466 \nz\n\" style=\"fill:#008fd5;\"/>\n   </g>\n   <g id=\"patch_22\">\n    <path clip-path=\"url(#pddb1e6d093)\" d=\"M 185.443341 357.12 \nL 191.137886 357.12 \nL 191.137886 92.687702 \nL 185.443341 92.687702 \nz\n\" style=\"fill:#008fd5;\"/>\n   </g>\n   <g id=\"patch_23\">\n    <path clip-path=\"url(#pddb1e6d093)\" d=\"M 191.137886 357.12 \nL 196.832432 357.12 \nL 196.832432 114.421863 \nL 191.137886 114.421863 \nz\n\" style=\"fill:#008fd5;\"/>\n   </g>\n   <g id=\"patch_24\">\n    <path clip-path=\"url(#pddb1e6d093)\" d=\"M 196.832432 357.12 \nL 202.526977 357.12 \nL 202.526977 161.512547 \nL 196.832432 161.512547 \nz\n\" style=\"fill:#008fd5;\"/>\n   </g>\n   <g id=\"patch_25\">\n    <path clip-path=\"url(#pddb1e6d093)\" d=\"M 202.526977 357.12 \nL 208.221523 357.12 \nL 208.221523 194.113789 \nL 202.526977 194.113789 \nz\n\" style=\"fill:#008fd5;\"/>\n   </g>\n   <g id=\"patch_26\">\n    <path clip-path=\"url(#pddb1e6d093)\" d=\"M 208.221523 357.12 \nL 213.916068 357.12 \nL 213.916068 237.582112 \nL 208.221523 237.582112 \nz\n\" style=\"fill:#008fd5;\"/>\n   </g>\n   <g id=\"patch_27\">\n    <path clip-path=\"url(#pddb1e6d093)\" d=\"M 213.916068 357.12 \nL 219.610614 357.12 \nL 219.610614 248.449193 \nL 213.916068 248.449193 \nz\n\" style=\"fill:#008fd5;\"/>\n   </g>\n   <g id=\"patch_28\">\n    <path clip-path=\"url(#pddb1e6d093)\" d=\"M 219.610614 357.12 \nL 225.305159 357.12 \nL 225.305159 244.826832 \nL 219.610614 244.826832 \nz\n\" style=\"fill:#008fd5;\"/>\n   </g>\n   <g id=\"patch_29\">\n    <path clip-path=\"url(#pddb1e6d093)\" d=\"M 225.305159 357.12 \nL 230.999705 357.12 \nL 230.999705 244.826832 \nL 225.305159 244.826832 \nz\n\" style=\"fill:#008fd5;\"/>\n   </g>\n   <g id=\"patch_30\">\n    <path clip-path=\"url(#pddb1e6d093)\" d=\"M 230.999705 357.12 \nL 236.69425 357.12 \nL 236.69425 237.582112 \nL 230.999705 237.582112 \nz\n\" style=\"fill:#008fd5;\"/>\n   </g>\n   <g id=\"patch_31\">\n    <path clip-path=\"url(#pddb1e6d093)\" d=\"M 236.69425 357.12 \nL 242.388795 357.12 \nL 242.388795 262.938634 \nL 236.69425 262.938634 \nz\n\" style=\"fill:#008fd5;\"/>\n   </g>\n   <g id=\"patch_32\">\n    <path clip-path=\"url(#pddb1e6d093)\" d=\"M 242.388795 357.12 \nL 248.083341 357.12 \nL 248.083341 273.805714 \nL 242.388795 273.805714 \nz\n\" style=\"fill:#008fd5;\"/>\n   </g>\n   <g id=\"patch_33\">\n    <path clip-path=\"url(#pddb1e6d093)\" d=\"M 248.083341 357.12 \nL 253.777886 357.12 \nL 253.777886 295.539876 \nL 248.083341 295.539876 \nz\n\" style=\"fill:#008fd5;\"/>\n   </g>\n   <g id=\"patch_34\">\n    <path clip-path=\"url(#pddb1e6d093)\" d=\"M 253.777886 357.12 \nL 259.472432 357.12 \nL 259.472432 288.295155 \nL 253.777886 288.295155 \nz\n\" style=\"fill:#008fd5;\"/>\n   </g>\n   <g id=\"patch_35\">\n    <path clip-path=\"url(#pddb1e6d093)\" d=\"M 259.472432 357.12 \nL 265.166977 357.12 \nL 265.166977 291.917516 \nL 259.472432 291.917516 \nz\n\" style=\"fill:#008fd5;\"/>\n   </g>\n   <g id=\"patch_36\">\n    <path clip-path=\"url(#pddb1e6d093)\" d=\"M 265.166977 357.12 \nL 270.861523 357.12 \nL 270.861523 291.917516 \nL 265.166977 291.917516 \nz\n\" style=\"fill:#008fd5;\"/>\n   </g>\n   <g id=\"patch_37\">\n    <path clip-path=\"url(#pddb1e6d093)\" d=\"M 270.861523 357.12 \nL 276.556068 357.12 \nL 276.556068 306.406957 \nL 270.861523 306.406957 \nz\n\" style=\"fill:#008fd5;\"/>\n   </g>\n   <g id=\"patch_38\">\n    <path clip-path=\"url(#pddb1e6d093)\" d=\"M 276.556068 357.12 \nL 282.250614 357.12 \nL 282.250614 317.274037 \nL 276.556068 317.274037 \nz\n\" style=\"fill:#008fd5;\"/>\n   </g>\n   <g id=\"patch_39\">\n    <path clip-path=\"url(#pddb1e6d093)\" d=\"M 282.250614 357.12 \nL 287.945159 357.12 \nL 287.945159 339.008199 \nL 282.250614 339.008199 \nz\n\" style=\"fill:#008fd5;\"/>\n   </g>\n   <g id=\"patch_40\">\n    <path clip-path=\"url(#pddb1e6d093)\" d=\"M 287.945159 357.12 \nL 293.639705 357.12 \nL 293.639705 328.141118 \nL 287.945159 328.141118 \nz\n\" style=\"fill:#008fd5;\"/>\n   </g>\n   <g id=\"patch_41\">\n    <path clip-path=\"url(#pddb1e6d093)\" d=\"M 293.639705 357.12 \nL 299.33425 357.12 \nL 299.33425 310.029317 \nL 293.639705 310.029317 \nz\n\" style=\"fill:#008fd5;\"/>\n   </g>\n   <g id=\"patch_42\">\n    <path clip-path=\"url(#pddb1e6d093)\" d=\"M 299.33425 357.12 \nL 305.028795 357.12 \nL 305.028795 313.651677 \nL 299.33425 313.651677 \nz\n\" style=\"fill:#008fd5;\"/>\n   </g>\n   <g id=\"patch_43\">\n    <path clip-path=\"url(#pddb1e6d093)\" d=\"M 305.028795 357.12 \nL 310.723341 357.12 \nL 310.723341 320.896398 \nL 305.028795 320.896398 \nz\n\" style=\"fill:#008fd5;\"/>\n   </g>\n   <g id=\"patch_44\">\n    <path clip-path=\"url(#pddb1e6d093)\" d=\"M 310.723341 357.12 \nL 316.417886 357.12 \nL 316.417886 335.385839 \nL 310.723341 335.385839 \nz\n\" style=\"fill:#008fd5;\"/>\n   </g>\n   <g id=\"patch_45\">\n    <path clip-path=\"url(#pddb1e6d093)\" d=\"M 316.417886 357.12 \nL 322.112432 357.12 \nL 322.112432 335.385839 \nL 316.417886 335.385839 \nz\n\" style=\"fill:#008fd5;\"/>\n   </g>\n   <g id=\"patch_46\">\n    <path clip-path=\"url(#pddb1e6d093)\" d=\"M 322.112432 357.12 \nL 327.806977 357.12 \nL 327.806977 339.008199 \nL 322.112432 339.008199 \nz\n\" style=\"fill:#008fd5;\"/>\n   </g>\n   <g id=\"patch_47\">\n    <path clip-path=\"url(#pddb1e6d093)\" d=\"M 327.806977 357.12 \nL 333.501523 357.12 \nL 333.501523 353.49764 \nL 327.806977 353.49764 \nz\n\" style=\"fill:#008fd5;\"/>\n   </g>\n   <g id=\"patch_48\">\n    <path clip-path=\"url(#pddb1e6d093)\" d=\"M 333.501523 357.12 \nL 339.196068 357.12 \nL 339.196068 346.252919 \nL 333.501523 346.252919 \nz\n\" style=\"fill:#008fd5;\"/>\n   </g>\n   <g id=\"patch_49\">\n    <path clip-path=\"url(#pddb1e6d093)\" d=\"M 339.196068 357.12 \nL 344.890614 357.12 \nL 344.890614 339.008199 \nL 339.196068 339.008199 \nz\n\" style=\"fill:#008fd5;\"/>\n   </g>\n   <g id=\"patch_50\">\n    <path clip-path=\"url(#pddb1e6d093)\" d=\"M 344.890614 357.12 \nL 350.585159 357.12 \nL 350.585159 335.385839 \nL 344.890614 335.385839 \nz\n\" style=\"fill:#008fd5;\"/>\n   </g>\n   <g id=\"patch_51\">\n    <path clip-path=\"url(#pddb1e6d093)\" d=\"M 350.585159 357.12 \nL 356.279705 357.12 \nL 356.279705 339.008199 \nL 350.585159 339.008199 \nz\n\" style=\"fill:#008fd5;\"/>\n   </g>\n   <g id=\"patch_52\">\n    <path clip-path=\"url(#pddb1e6d093)\" d=\"M 356.279705 357.12 \nL 361.97425 357.12 \nL 361.97425 342.630559 \nL 356.279705 342.630559 \nz\n\" style=\"fill:#008fd5;\"/>\n   </g>\n   <g id=\"patch_53\">\n    <path clip-path=\"url(#pddb1e6d093)\" d=\"M 361.97425 357.12 \nL 367.668795 357.12 \nL 367.668795 346.252919 \nL 361.97425 346.252919 \nz\n\" style=\"fill:#008fd5;\"/>\n   </g>\n   <g id=\"patch_54\">\n    <path clip-path=\"url(#pddb1e6d093)\" d=\"M 367.668795 357.12 \nL 373.363341 357.12 \nL 373.363341 349.87528 \nL 367.668795 349.87528 \nz\n\" style=\"fill:#008fd5;\"/>\n   </g>\n   <g id=\"patch_55\">\n    <path clip-path=\"url(#pddb1e6d093)\" d=\"M 373.363341 357.12 \nL 379.057886 357.12 \nL 379.057886 346.252919 \nL 373.363341 346.252919 \nz\n\" style=\"fill:#008fd5;\"/>\n   </g>\n   <g id=\"patch_56\">\n    <path clip-path=\"url(#pddb1e6d093)\" d=\"M 379.057886 357.12 \nL 384.752432 357.12 \nL 384.752432 353.49764 \nL 379.057886 353.49764 \nz\n\" style=\"fill:#008fd5;\"/>\n   </g>\n   <g id=\"patch_57\">\n    <path clip-path=\"url(#pddb1e6d093)\" d=\"M 384.752432 357.12 \nL 390.446977 357.12 \nL 390.446977 346.252919 \nL 384.752432 346.252919 \nz\n\" style=\"fill:#008fd5;\"/>\n   </g>\n   <g id=\"patch_58\">\n    <path clip-path=\"url(#pddb1e6d093)\" d=\"M 390.446977 357.12 \nL 396.141523 357.12 \nL 396.141523 353.49764 \nL 390.446977 353.49764 \nz\n\" style=\"fill:#008fd5;\"/>\n   </g>\n   <g id=\"patch_59\">\n    <path clip-path=\"url(#pddb1e6d093)\" d=\"M 396.141523 357.12 \nL 401.836068 357.12 \nL 401.836068 349.87528 \nL 396.141523 349.87528 \nz\n\" style=\"fill:#008fd5;\"/>\n   </g>\n   <g id=\"patch_60\">\n    <path clip-path=\"url(#pddb1e6d093)\" d=\"M 401.836068 357.12 \nL 407.530614 357.12 \nL 407.530614 349.87528 \nL 401.836068 349.87528 \nz\n\" style=\"fill:#008fd5;\"/>\n   </g>\n   <g id=\"patch_61\">\n    <path clip-path=\"url(#pddb1e6d093)\" d=\"M 407.530614 357.12 \nL 413.225159 357.12 \nL 413.225159 357.12 \nL 407.530614 357.12 \nz\n\" style=\"fill:#008fd5;\"/>\n   </g>\n   <g id=\"patch_62\">\n    <path clip-path=\"url(#pddb1e6d093)\" d=\"M 413.225159 357.12 \nL 418.919705 357.12 \nL 418.919705 349.87528 \nL 413.225159 349.87528 \nz\n\" style=\"fill:#008fd5;\"/>\n   </g>\n   <g id=\"patch_63\">\n    <path clip-path=\"url(#pddb1e6d093)\" d=\"M 418.919705 357.12 \nL 424.61425 357.12 \nL 424.61425 357.12 \nL 418.919705 357.12 \nz\n\" style=\"fill:#008fd5;\"/>\n   </g>\n   <g id=\"patch_64\">\n    <path clip-path=\"url(#pddb1e6d093)\" d=\"M 424.61425 357.12 \nL 430.308795 357.12 \nL 430.308795 353.49764 \nL 424.61425 353.49764 \nz\n\" style=\"fill:#008fd5;\"/>\n   </g>\n   <g id=\"patch_65\">\n    <path clip-path=\"url(#pddb1e6d093)\" d=\"M 430.308795 357.12 \nL 436.003341 357.12 \nL 436.003341 353.49764 \nL 430.308795 353.49764 \nz\n\" style=\"fill:#008fd5;\"/>\n   </g>\n   <g id=\"patch_66\">\n    <path clip-path=\"url(#pddb1e6d093)\" d=\"M 436.003341 357.12 \nL 441.697886 357.12 \nL 441.697886 357.12 \nL 436.003341 357.12 \nz\n\" style=\"fill:#008fd5;\"/>\n   </g>\n   <g id=\"patch_67\">\n    <path clip-path=\"url(#pddb1e6d093)\" d=\"M 441.697886 357.12 \nL 447.392432 357.12 \nL 447.392432 353.49764 \nL 441.697886 353.49764 \nz\n\" style=\"fill:#008fd5;\"/>\n   </g>\n   <g id=\"patch_68\">\n    <path clip-path=\"url(#pddb1e6d093)\" d=\"M 447.392432 357.12 \nL 453.086977 357.12 \nL 453.086977 357.12 \nL 447.392432 357.12 \nz\n\" style=\"fill:#008fd5;\"/>\n   </g>\n   <g id=\"patch_69\">\n    <path clip-path=\"url(#pddb1e6d093)\" d=\"M 453.086977 357.12 \nL 458.781523 357.12 \nL 458.781523 357.12 \nL 453.086977 357.12 \nz\n\" style=\"fill:#008fd5;\"/>\n   </g>\n   <g id=\"patch_70\">\n    <path clip-path=\"url(#pddb1e6d093)\" d=\"M 458.781523 357.12 \nL 464.476068 357.12 \nL 464.476068 357.12 \nL 458.781523 357.12 \nz\n\" style=\"fill:#008fd5;\"/>\n   </g>\n   <g id=\"patch_71\">\n    <path clip-path=\"url(#pddb1e6d093)\" d=\"M 464.476068 357.12 \nL 470.170614 357.12 \nL 470.170614 357.12 \nL 464.476068 357.12 \nz\n\" style=\"fill:#008fd5;\"/>\n   </g>\n   <g id=\"patch_72\">\n    <path clip-path=\"url(#pddb1e6d093)\" d=\"M 470.170614 357.12 \nL 475.865159 357.12 \nL 475.865159 353.49764 \nL 470.170614 353.49764 \nz\n\" style=\"fill:#008fd5;\"/>\n   </g>\n   <g id=\"patch_73\">\n    <path clip-path=\"url(#pddb1e6d093)\" d=\"M 475.865159 357.12 \nL 481.559705 357.12 \nL 481.559705 357.12 \nL 475.865159 357.12 \nz\n\" style=\"fill:#008fd5;\"/>\n   </g>\n   <g id=\"patch_74\">\n    <path clip-path=\"url(#pddb1e6d093)\" d=\"M 481.559705 357.12 \nL 487.25425 357.12 \nL 487.25425 357.12 \nL 481.559705 357.12 \nz\n\" style=\"fill:#008fd5;\"/>\n   </g>\n   <g id=\"patch_75\">\n    <path clip-path=\"url(#pddb1e6d093)\" d=\"M 487.25425 357.12 \nL 492.948795 357.12 \nL 492.948795 349.87528 \nL 487.25425 349.87528 \nz\n\" style=\"fill:#008fd5;\"/>\n   </g>\n   <g id=\"patch_76\">\n    <path clip-path=\"url(#pddb1e6d093)\" d=\"M 492.948795 357.12 \nL 498.643341 357.12 \nL 498.643341 357.12 \nL 492.948795 357.12 \nz\n\" style=\"fill:#008fd5;\"/>\n   </g>\n   <g id=\"patch_77\">\n    <path clip-path=\"url(#pddb1e6d093)\" d=\"M 498.643341 357.12 \nL 504.337886 357.12 \nL 504.337886 357.12 \nL 498.643341 357.12 \nz\n\" style=\"fill:#008fd5;\"/>\n   </g>\n   <g id=\"patch_78\">\n    <path clip-path=\"url(#pddb1e6d093)\" d=\"M 504.337886 357.12 \nL 510.032432 357.12 \nL 510.032432 357.12 \nL 504.337886 357.12 \nz\n\" style=\"fill:#008fd5;\"/>\n   </g>\n   <g id=\"patch_79\">\n    <path clip-path=\"url(#pddb1e6d093)\" d=\"M 510.032432 357.12 \nL 515.726977 357.12 \nL 515.726977 353.49764 \nL 510.032432 353.49764 \nz\n\" style=\"fill:#008fd5;\"/>\n   </g>\n   <g id=\"patch_80\">\n    <path clip-path=\"url(#pddb1e6d093)\" d=\"M 515.726977 357.12 \nL 521.421523 357.12 \nL 521.421523 357.12 \nL 515.726977 357.12 \nz\n\" style=\"fill:#008fd5;\"/>\n   </g>\n   <g id=\"patch_81\">\n    <path clip-path=\"url(#pddb1e6d093)\" d=\"M 521.421523 357.12 \nL 527.116068 357.12 \nL 527.116068 357.12 \nL 521.421523 357.12 \nz\n\" style=\"fill:#008fd5;\"/>\n   </g>\n   <g id=\"patch_82\">\n    <path clip-path=\"url(#pddb1e6d093)\" d=\"M 527.116068 357.12 \nL 532.810614 357.12 \nL 532.810614 357.12 \nL 527.116068 357.12 \nz\n\" style=\"fill:#008fd5;\"/>\n   </g>\n   <g id=\"patch_83\">\n    <path clip-path=\"url(#pddb1e6d093)\" d=\"M 532.810614 357.12 \nL 538.505159 357.12 \nL 538.505159 353.49764 \nL 532.810614 353.49764 \nz\n\" style=\"fill:#008fd5;\"/>\n   </g>\n   <g id=\"patch_84\">\n    <path clip-path=\"url(#pddb1e6d093)\" d=\"M 538.505159 357.12 \nL 544.199705 357.12 \nL 544.199705 353.49764 \nL 538.505159 353.49764 \nz\n\" style=\"fill:#008fd5;\"/>\n   </g>\n   <g id=\"patch_85\">\n    <path clip-path=\"url(#pddb1e6d093)\" d=\"M 544.199705 357.12 \nL 549.89425 357.12 \nL 549.89425 357.12 \nL 544.199705 357.12 \nz\n\" style=\"fill:#008fd5;\"/>\n   </g>\n   <g id=\"patch_86\">\n    <path clip-path=\"url(#pddb1e6d093)\" d=\"M 549.89425 357.12 \nL 555.588795 357.12 \nL 555.588795 357.12 \nL 549.89425 357.12 \nz\n\" style=\"fill:#008fd5;\"/>\n   </g>\n   <g id=\"patch_87\">\n    <path clip-path=\"url(#pddb1e6d093)\" d=\"M 555.588795 357.12 \nL 561.283341 357.12 \nL 561.283341 357.12 \nL 555.588795 357.12 \nz\n\" style=\"fill:#008fd5;\"/>\n   </g>\n   <g id=\"patch_88\">\n    <path clip-path=\"url(#pddb1e6d093)\" d=\"M 561.283341 357.12 \nL 566.977886 357.12 \nL 566.977886 357.12 \nL 561.283341 357.12 \nz\n\" style=\"fill:#008fd5;\"/>\n   </g>\n   <g id=\"patch_89\">\n    <path clip-path=\"url(#pddb1e6d093)\" d=\"M 566.977886 357.12 \nL 572.672432 357.12 \nL 572.672432 357.12 \nL 566.977886 357.12 \nz\n\" style=\"fill:#008fd5;\"/>\n   </g>\n   <g id=\"patch_90\">\n    <path clip-path=\"url(#pddb1e6d093)\" d=\"M 572.672432 357.12 \nL 578.366977 357.12 \nL 578.366977 357.12 \nL 572.672432 357.12 \nz\n\" style=\"fill:#008fd5;\"/>\n   </g>\n   <g id=\"patch_91\">\n    <path clip-path=\"url(#pddb1e6d093)\" d=\"M 578.366977 357.12 \nL 584.061523 357.12 \nL 584.061523 357.12 \nL 578.366977 357.12 \nz\n\" style=\"fill:#008fd5;\"/>\n   </g>\n   <g id=\"patch_92\">\n    <path clip-path=\"url(#pddb1e6d093)\" d=\"M 584.061523 357.12 \nL 589.756068 357.12 \nL 589.756068 357.12 \nL 584.061523 357.12 \nz\n\" style=\"fill:#008fd5;\"/>\n   </g>\n   <g id=\"patch_93\">\n    <path clip-path=\"url(#pddb1e6d093)\" d=\"M 589.756068 357.12 \nL 595.450614 357.12 \nL 595.450614 357.12 \nL 589.756068 357.12 \nz\n\" style=\"fill:#008fd5;\"/>\n   </g>\n   <g id=\"patch_94\">\n    <path clip-path=\"url(#pddb1e6d093)\" d=\"M 595.450614 357.12 \nL 601.145159 357.12 \nL 601.145159 357.12 \nL 595.450614 357.12 \nz\n\" style=\"fill:#008fd5;\"/>\n   </g>\n   <g id=\"patch_95\">\n    <path clip-path=\"url(#pddb1e6d093)\" d=\"M 601.145159 357.12 \nL 606.839705 357.12 \nL 606.839705 357.12 \nL 601.145159 357.12 \nz\n\" style=\"fill:#008fd5;\"/>\n   </g>\n   <g id=\"patch_96\">\n    <path clip-path=\"url(#pddb1e6d093)\" d=\"M 606.839705 357.12 \nL 612.53425 357.12 \nL 612.53425 357.12 \nL 606.839705 357.12 \nz\n\" style=\"fill:#008fd5;\"/>\n   </g>\n   <g id=\"patch_97\">\n    <path clip-path=\"url(#pddb1e6d093)\" d=\"M 612.53425 357.12 \nL 618.228795 357.12 \nL 618.228795 357.12 \nL 612.53425 357.12 \nz\n\" style=\"fill:#008fd5;\"/>\n   </g>\n   <g id=\"patch_98\">\n    <path clip-path=\"url(#pddb1e6d093)\" d=\"M 618.228795 357.12 \nL 623.923341 357.12 \nL 623.923341 357.12 \nL 618.228795 357.12 \nz\n\" style=\"fill:#008fd5;\"/>\n   </g>\n   <g id=\"patch_99\">\n    <path clip-path=\"url(#pddb1e6d093)\" d=\"M 623.923341 357.12 \nL 629.617886 357.12 \nL 629.617886 357.12 \nL 623.923341 357.12 \nz\n\" style=\"fill:#008fd5;\"/>\n   </g>\n   <g id=\"patch_100\">\n    <path clip-path=\"url(#pddb1e6d093)\" d=\"M 629.617886 357.12 \nL 635.312432 357.12 \nL 635.312432 357.12 \nL 629.617886 357.12 \nz\n\" style=\"fill:#008fd5;\"/>\n   </g>\n   <g id=\"patch_101\">\n    <path clip-path=\"url(#pddb1e6d093)\" d=\"M 635.312432 357.12 \nL 641.006977 357.12 \nL 641.006977 353.49764 \nL 635.312432 353.49764 \nz\n\" style=\"fill:#008fd5;\"/>\n   </g>\n   <g id=\"patch_102\">\n    <path clip-path=\"url(#pddb1e6d093)\" d=\"M 641.006977 357.12 \nL 646.701523 357.12 \nL 646.701523 353.49764 \nL 641.006977 353.49764 \nz\n\" style=\"fill:#008fd5;\"/>\n   </g>\n   <g id=\"patch_103\">\n    <path d=\"M 48.77425 357.12 \nL 48.77425 7.2 \n\" style=\"fill:none;stroke:#f0f0f0;stroke-linecap:square;stroke-linejoin:miter;stroke-width:3;\"/>\n   </g>\n   <g id=\"patch_104\">\n    <path d=\"M 675.17425 357.12 \nL 675.17425 7.2 \n\" style=\"fill:none;stroke:#f0f0f0;stroke-linecap:square;stroke-linejoin:miter;stroke-width:3;\"/>\n   </g>\n   <g id=\"patch_105\">\n    <path d=\"M 48.77425 357.12 \nL 675.17425 357.12 \n\" style=\"fill:none;stroke:#f0f0f0;stroke-linecap:square;stroke-linejoin:miter;stroke-width:3;\"/>\n   </g>\n   <g id=\"patch_106\">\n    <path d=\"M 48.77425 7.2 \nL 675.17425 7.2 \n\" style=\"fill:none;stroke:#f0f0f0;stroke-linecap:square;stroke-linejoin:miter;stroke-width:3;\"/>\n   </g>\n  </g>\n </g>\n <defs>\n  <clipPath id=\"pddb1e6d093\">\n   <rect height=\"349.92\" width=\"626.4\" x=\"48.77425\" y=\"7.2\"/>\n  </clipPath>\n </defs>\n</svg>\n"
          },
          "metadata": {
            "tags": []
          }
        }
      ]
    },
    {
      "cell_type": "code",
      "metadata": {
        "id": "ECD5OEJyRjF9",
        "outputId": "2b8db872-c8ab-4ea4-db5d-9b4b64b8fc59",
        "colab": {
          "base_uri": "https://localhost:8080/",
          "height": 546
        }
      },
      "source": [
        "target = np.log(df['SalePrice'])\n",
        "target.plot.hist()"
      ],
      "execution_count": null,
      "outputs": [
        {
          "output_type": "execute_result",
          "data": {
            "text/plain": [
              "<matplotlib.axes._subplots.AxesSubplot at 0x7fbac2f141d0>"
            ]
          },
          "metadata": {
            "tags": []
          },
          "execution_count": 432
        },
        {
          "output_type": "display_data",
          "data": {
            "text/plain": [
              "<Figure size 720x432 with 1 Axes>"
            ],
            "image/svg+xml": "<?xml version=\"1.0\" encoding=\"utf-8\" standalone=\"no\"?>\n<!DOCTYPE svg PUBLIC \"-//W3C//DTD SVG 1.1//EN\"\n  \"http://www.w3.org/Graphics/SVG/1.1/DTD/svg11.dtd\">\n<!-- Created with matplotlib (https://matplotlib.org/) -->\n<svg height=\"381.369375pt\" version=\"1.1\" viewBox=\"0 0 691.28175 381.369375\" width=\"691.28175pt\" xmlns=\"http://www.w3.org/2000/svg\" xmlns:xlink=\"http://www.w3.org/1999/xlink\">\n <defs>\n  <style type=\"text/css\">\n*{stroke-linecap:butt;stroke-linejoin:round;}\n  </style>\n </defs>\n <g id=\"figure_1\">\n  <g id=\"patch_1\">\n   <path d=\"M 0 381.369375 \nL 691.28175 381.369375 \nL 691.28175 0 \nL 0 0 \nz\n\" style=\"fill:#f0f0f0;\"/>\n  </g>\n  <g id=\"axes_1\">\n   <g id=\"patch_2\">\n    <path d=\"M 57.68175 357.12 \nL 684.08175 357.12 \nL 684.08175 7.2 \nL 57.68175 7.2 \nz\n\" style=\"fill:#f0f0f0;\"/>\n   </g>\n   <g id=\"matplotlib.axis_1\">\n    <g id=\"xtick_1\">\n     <g id=\"line2d_1\">\n      <path clip-path=\"url(#p2bd09c14f7)\" d=\"M 93.519022 357.12 \nL 93.519022 7.2 \n\" style=\"fill:none;stroke:#cbcbcb;\"/>\n     </g>\n     <g id=\"line2d_2\"/>\n     <g id=\"text_1\">\n      <!-- 10.5 -->\n      <defs>\n       <path d=\"M 12.40625 8.296875 \nL 28.515625 8.296875 \nL 28.515625 63.921875 \nL 10.984375 60.40625 \nL 10.984375 69.390625 \nL 28.421875 72.90625 \nL 38.28125 72.90625 \nL 38.28125 8.296875 \nL 54.390625 8.296875 \nL 54.390625 0 \nL 12.40625 0 \nz\n\" id=\"DejaVuSans-49\"/>\n       <path d=\"M 31.78125 66.40625 \nQ 24.171875 66.40625 20.328125 58.90625 \nQ 16.5 51.421875 16.5 36.375 \nQ 16.5 21.390625 20.328125 13.890625 \nQ 24.171875 6.390625 31.78125 6.390625 \nQ 39.453125 6.390625 43.28125 13.890625 \nQ 47.125 21.390625 47.125 36.375 \nQ 47.125 51.421875 43.28125 58.90625 \nQ 39.453125 66.40625 31.78125 66.40625 \nz\nM 31.78125 74.21875 \nQ 44.046875 74.21875 50.515625 64.515625 \nQ 56.984375 54.828125 56.984375 36.375 \nQ 56.984375 17.96875 50.515625 8.265625 \nQ 44.046875 -1.421875 31.78125 -1.421875 \nQ 19.53125 -1.421875 13.0625 8.265625 \nQ 6.59375 17.96875 6.59375 36.375 \nQ 6.59375 54.828125 13.0625 64.515625 \nQ 19.53125 74.21875 31.78125 74.21875 \nz\n\" id=\"DejaVuSans-48\"/>\n       <path d=\"M 10.6875 12.40625 \nL 21 12.40625 \nL 21 0 \nL 10.6875 0 \nz\n\" id=\"DejaVuSans-46\"/>\n       <path d=\"M 10.796875 72.90625 \nL 49.515625 72.90625 \nL 49.515625 64.59375 \nL 19.828125 64.59375 \nL 19.828125 46.734375 \nQ 21.96875 47.46875 24.109375 47.828125 \nQ 26.265625 48.1875 28.421875 48.1875 \nQ 40.625 48.1875 47.75 41.5 \nQ 54.890625 34.8125 54.890625 23.390625 \nQ 54.890625 11.625 47.5625 5.09375 \nQ 40.234375 -1.421875 26.90625 -1.421875 \nQ 22.3125 -1.421875 17.546875 -0.640625 \nQ 12.796875 0.140625 7.71875 1.703125 \nL 7.71875 11.625 \nQ 12.109375 9.234375 16.796875 8.0625 \nQ 21.484375 6.890625 26.703125 6.890625 \nQ 35.15625 6.890625 40.078125 11.328125 \nQ 45.015625 15.765625 45.015625 23.390625 \nQ 45.015625 31 40.078125 35.4375 \nQ 35.15625 39.890625 26.703125 39.890625 \nQ 22.75 39.890625 18.8125 39.015625 \nQ 14.890625 38.140625 10.796875 36.28125 \nz\n\" id=\"DejaVuSans-53\"/>\n      </defs>\n      <g transform=\"translate(77.933085 371.257813)scale(0.14 -0.14)\">\n       <use xlink:href=\"#DejaVuSans-49\"/>\n       <use x=\"63.623047\" xlink:href=\"#DejaVuSans-48\"/>\n       <use x=\"127.246094\" xlink:href=\"#DejaVuSans-46\"/>\n       <use x=\"159.033203\" xlink:href=\"#DejaVuSans-53\"/>\n      </g>\n     </g>\n    </g>\n    <g id=\"xtick_2\">\n     <g id=\"line2d_3\">\n      <path clip-path=\"url(#p2bd09c14f7)\" d=\"M 186.136422 357.12 \nL 186.136422 7.2 \n\" style=\"fill:none;stroke:#cbcbcb;\"/>\n     </g>\n     <g id=\"line2d_4\"/>\n     <g id=\"text_2\">\n      <!-- 11.0 -->\n      <g transform=\"translate(170.550484 371.257813)scale(0.14 -0.14)\">\n       <use xlink:href=\"#DejaVuSans-49\"/>\n       <use x=\"63.623047\" xlink:href=\"#DejaVuSans-49\"/>\n       <use x=\"127.246094\" xlink:href=\"#DejaVuSans-46\"/>\n       <use x=\"159.033203\" xlink:href=\"#DejaVuSans-48\"/>\n      </g>\n     </g>\n    </g>\n    <g id=\"xtick_3\">\n     <g id=\"line2d_5\">\n      <path clip-path=\"url(#p2bd09c14f7)\" d=\"M 278.753821 357.12 \nL 278.753821 7.2 \n\" style=\"fill:none;stroke:#cbcbcb;\"/>\n     </g>\n     <g id=\"line2d_6\"/>\n     <g id=\"text_3\">\n      <!-- 11.5 -->\n      <g transform=\"translate(263.167883 371.257813)scale(0.14 -0.14)\">\n       <use xlink:href=\"#DejaVuSans-49\"/>\n       <use x=\"63.623047\" xlink:href=\"#DejaVuSans-49\"/>\n       <use x=\"127.246094\" xlink:href=\"#DejaVuSans-46\"/>\n       <use x=\"159.033203\" xlink:href=\"#DejaVuSans-53\"/>\n      </g>\n     </g>\n    </g>\n    <g id=\"xtick_4\">\n     <g id=\"line2d_7\">\n      <path clip-path=\"url(#p2bd09c14f7)\" d=\"M 371.37122 357.12 \nL 371.37122 7.2 \n\" style=\"fill:none;stroke:#cbcbcb;\"/>\n     </g>\n     <g id=\"line2d_8\"/>\n     <g id=\"text_4\">\n      <!-- 12.0 -->\n      <defs>\n       <path d=\"M 19.1875 8.296875 \nL 53.609375 8.296875 \nL 53.609375 0 \nL 7.328125 0 \nL 7.328125 8.296875 \nQ 12.9375 14.109375 22.625 23.890625 \nQ 32.328125 33.6875 34.8125 36.53125 \nQ 39.546875 41.84375 41.421875 45.53125 \nQ 43.3125 49.21875 43.3125 52.78125 \nQ 43.3125 58.59375 39.234375 62.25 \nQ 35.15625 65.921875 28.609375 65.921875 \nQ 23.96875 65.921875 18.8125 64.3125 \nQ 13.671875 62.703125 7.8125 59.421875 \nL 7.8125 69.390625 \nQ 13.765625 71.78125 18.9375 73 \nQ 24.125 74.21875 28.421875 74.21875 \nQ 39.75 74.21875 46.484375 68.546875 \nQ 53.21875 62.890625 53.21875 53.421875 \nQ 53.21875 48.921875 51.53125 44.890625 \nQ 49.859375 40.875 45.40625 35.40625 \nQ 44.1875 33.984375 37.640625 27.21875 \nQ 31.109375 20.453125 19.1875 8.296875 \nz\n\" id=\"DejaVuSans-50\"/>\n      </defs>\n      <g transform=\"translate(355.785283 371.257813)scale(0.14 -0.14)\">\n       <use xlink:href=\"#DejaVuSans-49\"/>\n       <use x=\"63.623047\" xlink:href=\"#DejaVuSans-50\"/>\n       <use x=\"127.246094\" xlink:href=\"#DejaVuSans-46\"/>\n       <use x=\"159.033203\" xlink:href=\"#DejaVuSans-48\"/>\n      </g>\n     </g>\n    </g>\n    <g id=\"xtick_5\">\n     <g id=\"line2d_9\">\n      <path clip-path=\"url(#p2bd09c14f7)\" d=\"M 463.98862 357.12 \nL 463.98862 7.2 \n\" style=\"fill:none;stroke:#cbcbcb;\"/>\n     </g>\n     <g id=\"line2d_10\"/>\n     <g id=\"text_5\">\n      <!-- 12.5 -->\n      <g transform=\"translate(448.402682 371.257813)scale(0.14 -0.14)\">\n       <use xlink:href=\"#DejaVuSans-49\"/>\n       <use x=\"63.623047\" xlink:href=\"#DejaVuSans-50\"/>\n       <use x=\"127.246094\" xlink:href=\"#DejaVuSans-46\"/>\n       <use x=\"159.033203\" xlink:href=\"#DejaVuSans-53\"/>\n      </g>\n     </g>\n    </g>\n    <g id=\"xtick_6\">\n     <g id=\"line2d_11\">\n      <path clip-path=\"url(#p2bd09c14f7)\" d=\"M 556.606019 357.12 \nL 556.606019 7.2 \n\" style=\"fill:none;stroke:#cbcbcb;\"/>\n     </g>\n     <g id=\"line2d_12\"/>\n     <g id=\"text_6\">\n      <!-- 13.0 -->\n      <defs>\n       <path d=\"M 40.578125 39.3125 \nQ 47.65625 37.796875 51.625 33 \nQ 55.609375 28.21875 55.609375 21.1875 \nQ 55.609375 10.40625 48.1875 4.484375 \nQ 40.765625 -1.421875 27.09375 -1.421875 \nQ 22.515625 -1.421875 17.65625 -0.515625 \nQ 12.796875 0.390625 7.625 2.203125 \nL 7.625 11.71875 \nQ 11.71875 9.328125 16.59375 8.109375 \nQ 21.484375 6.890625 26.8125 6.890625 \nQ 36.078125 6.890625 40.9375 10.546875 \nQ 45.796875 14.203125 45.796875 21.1875 \nQ 45.796875 27.640625 41.28125 31.265625 \nQ 36.765625 34.90625 28.71875 34.90625 \nL 20.21875 34.90625 \nL 20.21875 43.015625 \nL 29.109375 43.015625 \nQ 36.375 43.015625 40.234375 45.921875 \nQ 44.09375 48.828125 44.09375 54.296875 \nQ 44.09375 59.90625 40.109375 62.90625 \nQ 36.140625 65.921875 28.71875 65.921875 \nQ 24.65625 65.921875 20.015625 65.03125 \nQ 15.375 64.15625 9.8125 62.3125 \nL 9.8125 71.09375 \nQ 15.4375 72.65625 20.34375 73.4375 \nQ 25.25 74.21875 29.59375 74.21875 \nQ 40.828125 74.21875 47.359375 69.109375 \nQ 53.90625 64.015625 53.90625 55.328125 \nQ 53.90625 49.265625 50.4375 45.09375 \nQ 46.96875 40.921875 40.578125 39.3125 \nz\n\" id=\"DejaVuSans-51\"/>\n      </defs>\n      <g transform=\"translate(541.020081 371.257813)scale(0.14 -0.14)\">\n       <use xlink:href=\"#DejaVuSans-49\"/>\n       <use x=\"63.623047\" xlink:href=\"#DejaVuSans-51\"/>\n       <use x=\"127.246094\" xlink:href=\"#DejaVuSans-46\"/>\n       <use x=\"159.033203\" xlink:href=\"#DejaVuSans-48\"/>\n      </g>\n     </g>\n    </g>\n    <g id=\"xtick_7\">\n     <g id=\"line2d_13\">\n      <path clip-path=\"url(#p2bd09c14f7)\" d=\"M 649.223418 357.12 \nL 649.223418 7.2 \n\" style=\"fill:none;stroke:#cbcbcb;\"/>\n     </g>\n     <g id=\"line2d_14\"/>\n     <g id=\"text_7\">\n      <!-- 13.5 -->\n      <g transform=\"translate(633.637481 371.257813)scale(0.14 -0.14)\">\n       <use xlink:href=\"#DejaVuSans-49\"/>\n       <use x=\"63.623047\" xlink:href=\"#DejaVuSans-51\"/>\n       <use x=\"127.246094\" xlink:href=\"#DejaVuSans-46\"/>\n       <use x=\"159.033203\" xlink:href=\"#DejaVuSans-53\"/>\n      </g>\n     </g>\n    </g>\n   </g>\n   <g id=\"matplotlib.axis_2\">\n    <g id=\"ytick_1\">\n     <g id=\"line2d_15\">\n      <path clip-path=\"url(#p2bd09c14f7)\" d=\"M 57.68175 357.12 \nL 684.08175 357.12 \n\" style=\"fill:none;stroke:#cbcbcb;\"/>\n     </g>\n     <g id=\"line2d_16\"/>\n     <g id=\"text_8\">\n      <!-- 0 -->\n      <g transform=\"translate(45.27425 362.438906)scale(0.14 -0.14)\">\n       <use xlink:href=\"#DejaVuSans-48\"/>\n      </g>\n     </g>\n    </g>\n    <g id=\"ytick_2\">\n     <g id=\"line2d_17\">\n      <path clip-path=\"url(#p2bd09c14f7)\" d=\"M 57.68175 286.214225 \nL 684.08175 286.214225 \n\" style=\"fill:none;stroke:#cbcbcb;\"/>\n     </g>\n     <g id=\"line2d_18\"/>\n     <g id=\"text_9\">\n      <!-- 100 -->\n      <g transform=\"translate(27.45925 291.533131)scale(0.14 -0.14)\">\n       <use xlink:href=\"#DejaVuSans-49\"/>\n       <use x=\"63.623047\" xlink:href=\"#DejaVuSans-48\"/>\n       <use x=\"127.246094\" xlink:href=\"#DejaVuSans-48\"/>\n      </g>\n     </g>\n    </g>\n    <g id=\"ytick_3\">\n     <g id=\"line2d_19\">\n      <path clip-path=\"url(#p2bd09c14f7)\" d=\"M 57.68175 215.30845 \nL 684.08175 215.30845 \n\" style=\"fill:none;stroke:#cbcbcb;\"/>\n     </g>\n     <g id=\"line2d_20\"/>\n     <g id=\"text_10\">\n      <!-- 200 -->\n      <g transform=\"translate(27.45925 220.627356)scale(0.14 -0.14)\">\n       <use xlink:href=\"#DejaVuSans-50\"/>\n       <use x=\"63.623047\" xlink:href=\"#DejaVuSans-48\"/>\n       <use x=\"127.246094\" xlink:href=\"#DejaVuSans-48\"/>\n      </g>\n     </g>\n    </g>\n    <g id=\"ytick_4\">\n     <g id=\"line2d_21\">\n      <path clip-path=\"url(#p2bd09c14f7)\" d=\"M 57.68175 144.402675 \nL 684.08175 144.402675 \n\" style=\"fill:none;stroke:#cbcbcb;\"/>\n     </g>\n     <g id=\"line2d_22\"/>\n     <g id=\"text_11\">\n      <!-- 300 -->\n      <g transform=\"translate(27.45925 149.721581)scale(0.14 -0.14)\">\n       <use xlink:href=\"#DejaVuSans-51\"/>\n       <use x=\"63.623047\" xlink:href=\"#DejaVuSans-48\"/>\n       <use x=\"127.246094\" xlink:href=\"#DejaVuSans-48\"/>\n      </g>\n     </g>\n    </g>\n    <g id=\"ytick_5\">\n     <g id=\"line2d_23\">\n      <path clip-path=\"url(#p2bd09c14f7)\" d=\"M 57.68175 73.4969 \nL 684.08175 73.4969 \n\" style=\"fill:none;stroke:#cbcbcb;\"/>\n     </g>\n     <g id=\"line2d_24\"/>\n     <g id=\"text_12\">\n      <!-- 400 -->\n      <defs>\n       <path d=\"M 37.796875 64.3125 \nL 12.890625 25.390625 \nL 37.796875 25.390625 \nz\nM 35.203125 72.90625 \nL 47.609375 72.90625 \nL 47.609375 25.390625 \nL 58.015625 25.390625 \nL 58.015625 17.1875 \nL 47.609375 17.1875 \nL 47.609375 0 \nL 37.796875 0 \nL 37.796875 17.1875 \nL 4.890625 17.1875 \nL 4.890625 26.703125 \nz\n\" id=\"DejaVuSans-52\"/>\n      </defs>\n      <g transform=\"translate(27.45925 78.815806)scale(0.14 -0.14)\">\n       <use xlink:href=\"#DejaVuSans-52\"/>\n       <use x=\"63.623047\" xlink:href=\"#DejaVuSans-48\"/>\n       <use x=\"127.246094\" xlink:href=\"#DejaVuSans-48\"/>\n      </g>\n     </g>\n    </g>\n    <g id=\"text_13\">\n     <!-- Frequency -->\n     <defs>\n      <path d=\"M 9.8125 72.90625 \nL 51.703125 72.90625 \nL 51.703125 64.59375 \nL 19.671875 64.59375 \nL 19.671875 43.109375 \nL 48.578125 43.109375 \nL 48.578125 34.8125 \nL 19.671875 34.8125 \nL 19.671875 0 \nL 9.8125 0 \nz\n\" id=\"DejaVuSans-70\"/>\n      <path d=\"M 41.109375 46.296875 \nQ 39.59375 47.171875 37.8125 47.578125 \nQ 36.03125 48 33.890625 48 \nQ 26.265625 48 22.1875 43.046875 \nQ 18.109375 38.09375 18.109375 28.8125 \nL 18.109375 0 \nL 9.078125 0 \nL 9.078125 54.6875 \nL 18.109375 54.6875 \nL 18.109375 46.1875 \nQ 20.953125 51.171875 25.484375 53.578125 \nQ 30.03125 56 36.53125 56 \nQ 37.453125 56 38.578125 55.875 \nQ 39.703125 55.765625 41.0625 55.515625 \nz\n\" id=\"DejaVuSans-114\"/>\n      <path d=\"M 56.203125 29.59375 \nL 56.203125 25.203125 \nL 14.890625 25.203125 \nQ 15.484375 15.921875 20.484375 11.0625 \nQ 25.484375 6.203125 34.421875 6.203125 \nQ 39.59375 6.203125 44.453125 7.46875 \nQ 49.3125 8.734375 54.109375 11.28125 \nL 54.109375 2.78125 \nQ 49.265625 0.734375 44.1875 -0.34375 \nQ 39.109375 -1.421875 33.890625 -1.421875 \nQ 20.796875 -1.421875 13.15625 6.1875 \nQ 5.515625 13.8125 5.515625 26.8125 \nQ 5.515625 40.234375 12.765625 48.109375 \nQ 20.015625 56 32.328125 56 \nQ 43.359375 56 49.78125 48.890625 \nQ 56.203125 41.796875 56.203125 29.59375 \nz\nM 47.21875 32.234375 \nQ 47.125 39.59375 43.09375 43.984375 \nQ 39.0625 48.390625 32.421875 48.390625 \nQ 24.90625 48.390625 20.390625 44.140625 \nQ 15.875 39.890625 15.1875 32.171875 \nz\n\" id=\"DejaVuSans-101\"/>\n      <path d=\"M 14.796875 27.296875 \nQ 14.796875 17.390625 18.875 11.75 \nQ 22.953125 6.109375 30.078125 6.109375 \nQ 37.203125 6.109375 41.296875 11.75 \nQ 45.40625 17.390625 45.40625 27.296875 \nQ 45.40625 37.203125 41.296875 42.84375 \nQ 37.203125 48.484375 30.078125 48.484375 \nQ 22.953125 48.484375 18.875 42.84375 \nQ 14.796875 37.203125 14.796875 27.296875 \nz\nM 45.40625 8.203125 \nQ 42.578125 3.328125 38.25 0.953125 \nQ 33.9375 -1.421875 27.875 -1.421875 \nQ 17.96875 -1.421875 11.734375 6.484375 \nQ 5.515625 14.40625 5.515625 27.296875 \nQ 5.515625 40.1875 11.734375 48.09375 \nQ 17.96875 56 27.875 56 \nQ 33.9375 56 38.25 53.625 \nQ 42.578125 51.265625 45.40625 46.390625 \nL 45.40625 54.6875 \nL 54.390625 54.6875 \nL 54.390625 -20.796875 \nL 45.40625 -20.796875 \nz\n\" id=\"DejaVuSans-113\"/>\n      <path d=\"M 8.5 21.578125 \nL 8.5 54.6875 \nL 17.484375 54.6875 \nL 17.484375 21.921875 \nQ 17.484375 14.15625 20.5 10.265625 \nQ 23.53125 6.390625 29.59375 6.390625 \nQ 36.859375 6.390625 41.078125 11.03125 \nQ 45.3125 15.671875 45.3125 23.6875 \nL 45.3125 54.6875 \nL 54.296875 54.6875 \nL 54.296875 0 \nL 45.3125 0 \nL 45.3125 8.40625 \nQ 42.046875 3.421875 37.71875 1 \nQ 33.40625 -1.421875 27.6875 -1.421875 \nQ 18.265625 -1.421875 13.375 4.4375 \nQ 8.5 10.296875 8.5 21.578125 \nz\nM 31.109375 56 \nz\n\" id=\"DejaVuSans-117\"/>\n      <path d=\"M 54.890625 33.015625 \nL 54.890625 0 \nL 45.90625 0 \nL 45.90625 32.71875 \nQ 45.90625 40.484375 42.875 44.328125 \nQ 39.84375 48.1875 33.796875 48.1875 \nQ 26.515625 48.1875 22.3125 43.546875 \nQ 18.109375 38.921875 18.109375 30.90625 \nL 18.109375 0 \nL 9.078125 0 \nL 9.078125 54.6875 \nL 18.109375 54.6875 \nL 18.109375 46.1875 \nQ 21.34375 51.125 25.703125 53.5625 \nQ 30.078125 56 35.796875 56 \nQ 45.21875 56 50.046875 50.171875 \nQ 54.890625 44.34375 54.890625 33.015625 \nz\n\" id=\"DejaVuSans-110\"/>\n      <path d=\"M 48.78125 52.59375 \nL 48.78125 44.1875 \nQ 44.96875 46.296875 41.140625 47.34375 \nQ 37.3125 48.390625 33.40625 48.390625 \nQ 24.65625 48.390625 19.8125 42.84375 \nQ 14.984375 37.3125 14.984375 27.296875 \nQ 14.984375 17.28125 19.8125 11.734375 \nQ 24.65625 6.203125 33.40625 6.203125 \nQ 37.3125 6.203125 41.140625 7.25 \nQ 44.96875 8.296875 48.78125 10.40625 \nL 48.78125 2.09375 \nQ 45.015625 0.34375 40.984375 -0.53125 \nQ 36.96875 -1.421875 32.421875 -1.421875 \nQ 20.0625 -1.421875 12.78125 6.34375 \nQ 5.515625 14.109375 5.515625 27.296875 \nQ 5.515625 40.671875 12.859375 48.328125 \nQ 20.21875 56 33.015625 56 \nQ 37.15625 56 41.109375 55.140625 \nQ 45.0625 54.296875 48.78125 52.59375 \nz\n\" id=\"DejaVuSans-99\"/>\n      <path d=\"M 32.171875 -5.078125 \nQ 28.375 -14.84375 24.75 -17.8125 \nQ 21.140625 -20.796875 15.09375 -20.796875 \nL 7.90625 -20.796875 \nL 7.90625 -13.28125 \nL 13.1875 -13.28125 \nQ 16.890625 -13.28125 18.9375 -11.515625 \nQ 21 -9.765625 23.484375 -3.21875 \nL 25.09375 0.875 \nL 2.984375 54.6875 \nL 12.5 54.6875 \nL 29.59375 11.921875 \nL 46.6875 54.6875 \nL 56.203125 54.6875 \nz\n\" id=\"DejaVuSans-121\"/>\n     </defs>\n     <g transform=\"translate(19.965375 225.553875)rotate(-90)scale(0.168 -0.168)\">\n      <use xlink:href=\"#DejaVuSans-70\"/>\n      <use x=\"50.269531\" xlink:href=\"#DejaVuSans-114\"/>\n      <use x=\"89.132812\" xlink:href=\"#DejaVuSans-101\"/>\n      <use x=\"150.65625\" xlink:href=\"#DejaVuSans-113\"/>\n      <use x=\"214.132812\" xlink:href=\"#DejaVuSans-117\"/>\n      <use x=\"277.511719\" xlink:href=\"#DejaVuSans-101\"/>\n      <use x=\"339.035156\" xlink:href=\"#DejaVuSans-110\"/>\n      <use x=\"402.414062\" xlink:href=\"#DejaVuSans-99\"/>\n      <use x=\"457.394531\" xlink:href=\"#DejaVuSans-121\"/>\n     </g>\n    </g>\n   </g>\n   <g id=\"patch_3\">\n    <path clip-path=\"url(#p2bd09c14f7)\" d=\"M 86.154477 357.12 \nL 143.099932 357.12 \nL 143.099932 353.574711 \nL 86.154477 353.574711 \nz\n\" style=\"fill:#008fd5;\"/>\n   </g>\n   <g id=\"patch_4\">\n    <path clip-path=\"url(#p2bd09c14f7)\" d=\"M 143.099932 357.12 \nL 200.045386 357.12 \nL 200.045386 348.611307 \nL 143.099932 348.611307 \nz\n\" style=\"fill:#008fd5;\"/>\n   </g>\n   <g id=\"patch_5\">\n    <path clip-path=\"url(#p2bd09c14f7)\" d=\"M 200.045386 357.12 \nL 256.990841 357.12 \nL 256.990841 318.830881 \nL 200.045386 318.830881 \nz\n\" style=\"fill:#008fd5;\"/>\n   </g>\n   <g id=\"patch_6\">\n    <path clip-path=\"url(#p2bd09c14f7)\" d=\"M 256.990841 357.12 \nL 313.936295 357.12 \nL 313.936295 226.653374 \nL 256.990841 226.653374 \nz\n\" style=\"fill:#008fd5;\"/>\n   </g>\n   <g id=\"patch_7\">\n    <path clip-path=\"url(#p2bd09c14f7)\" d=\"M 313.936295 357.12 \nL 370.88175 357.12 \nL 370.88175 23.862857 \nL 313.936295 23.862857 \nz\n\" style=\"fill:#008fd5;\"/>\n   </g>\n   <g id=\"patch_8\">\n    <path clip-path=\"url(#p2bd09c14f7)\" d=\"M 370.88175 357.12 \nL 427.827205 357.12 \nL 427.827205 73.4969 \nL 370.88175 73.4969 \nz\n\" style=\"fill:#008fd5;\"/>\n   </g>\n   <g id=\"patch_9\">\n    <path clip-path=\"url(#p2bd09c14f7)\" d=\"M 427.827205 357.12 \nL 484.772659 357.12 \nL 484.772659 201.127295 \nL 427.827205 201.127295 \nz\n\" style=\"fill:#008fd5;\"/>\n   </g>\n   <g id=\"patch_10\">\n    <path clip-path=\"url(#p2bd09c14f7)\" d=\"M 484.772659 357.12 \nL 541.718114 357.12 \nL 541.718114 293.304802 \nL 484.772659 293.304802 \nz\n\" style=\"fill:#008fd5;\"/>\n   </g>\n   <g id=\"patch_11\">\n    <path clip-path=\"url(#p2bd09c14f7)\" d=\"M 541.718114 357.12 \nL 598.663568 357.12 \nL 598.663568 343.647903 \nL 541.718114 343.647903 \nz\n\" style=\"fill:#008fd5;\"/>\n   </g>\n   <g id=\"patch_12\">\n    <path clip-path=\"url(#p2bd09c14f7)\" d=\"M 598.663568 357.12 \nL 655.609023 357.12 \nL 655.609023 352.865653 \nL 598.663568 352.865653 \nz\n\" style=\"fill:#008fd5;\"/>\n   </g>\n   <g id=\"patch_13\">\n    <path d=\"M 57.68175 357.12 \nL 57.68175 7.2 \n\" style=\"fill:none;stroke:#f0f0f0;stroke-linecap:square;stroke-linejoin:miter;stroke-width:3;\"/>\n   </g>\n   <g id=\"patch_14\">\n    <path d=\"M 684.08175 357.12 \nL 684.08175 7.2 \n\" style=\"fill:none;stroke:#f0f0f0;stroke-linecap:square;stroke-linejoin:miter;stroke-width:3;\"/>\n   </g>\n   <g id=\"patch_15\">\n    <path d=\"M 57.68175 357.12 \nL 684.08175 357.12 \n\" style=\"fill:none;stroke:#f0f0f0;stroke-linecap:square;stroke-linejoin:miter;stroke-width:3;\"/>\n   </g>\n   <g id=\"patch_16\">\n    <path d=\"M 57.68175 7.2 \nL 684.08175 7.2 \n\" style=\"fill:none;stroke:#f0f0f0;stroke-linecap:square;stroke-linejoin:miter;stroke-width:3;\"/>\n   </g>\n  </g>\n </g>\n <defs>\n  <clipPath id=\"p2bd09c14f7\">\n   <rect height=\"349.92\" width=\"626.4\" x=\"57.68175\" y=\"7.2\"/>\n  </clipPath>\n </defs>\n</svg>\n"
          },
          "metadata": {
            "tags": []
          }
        }
      ]
    },
    {
      "cell_type": "code",
      "metadata": {
        "id": "dcIOxrsmPe6n",
        "outputId": "57ad8662-fb86-41da-f00c-1fa44d29975f",
        "colab": {
          "base_uri": "https://localhost:8080/",
          "height": 204
        }
      },
      "source": [
        "numeric_features = df[['OverallQual', 'GrLivArea']]\n",
        "numeric_features.sample(5)"
      ],
      "execution_count": null,
      "outputs": [
        {
          "output_type": "execute_result",
          "data": {
            "text/html": [
              "<div>\n",
              "<style scoped>\n",
              "    .dataframe tbody tr th:only-of-type {\n",
              "        vertical-align: middle;\n",
              "    }\n",
              "\n",
              "    .dataframe tbody tr th {\n",
              "        vertical-align: top;\n",
              "    }\n",
              "\n",
              "    .dataframe thead th {\n",
              "        text-align: right;\n",
              "    }\n",
              "</style>\n",
              "<table border=\"1\" class=\"dataframe\">\n",
              "  <thead>\n",
              "    <tr style=\"text-align: right;\">\n",
              "      <th></th>\n",
              "      <th>OverallQual</th>\n",
              "      <th>GrLivArea</th>\n",
              "    </tr>\n",
              "  </thead>\n",
              "  <tbody>\n",
              "    <tr>\n",
              "      <th>709</th>\n",
              "      <td>5</td>\n",
              "      <td>904</td>\n",
              "    </tr>\n",
              "    <tr>\n",
              "      <th>854</th>\n",
              "      <td>5</td>\n",
              "      <td>1779</td>\n",
              "    </tr>\n",
              "    <tr>\n",
              "      <th>1080</th>\n",
              "      <td>6</td>\n",
              "      <td>1258</td>\n",
              "    </tr>\n",
              "    <tr>\n",
              "      <th>764</th>\n",
              "      <td>8</td>\n",
              "      <td>1494</td>\n",
              "    </tr>\n",
              "    <tr>\n",
              "      <th>985</th>\n",
              "      <td>5</td>\n",
              "      <td>1164</td>\n",
              "    </tr>\n",
              "  </tbody>\n",
              "</table>\n",
              "</div>"
            ],
            "text/plain": [
              "      OverallQual  GrLivArea\n",
              "709             5        904\n",
              "854             5       1779\n",
              "1080            6       1258\n",
              "764             8       1494\n",
              "985             5       1164"
            ]
          },
          "metadata": {
            "tags": []
          },
          "execution_count": 433
        }
      ]
    },
    {
      "cell_type": "code",
      "metadata": {
        "id": "UCvk86GjPvem",
        "outputId": "f7fbd493-0567-4665-93b7-ff21d483a4b2",
        "colab": {
          "base_uri": "https://localhost:8080/",
          "height": 204
        }
      },
      "source": [
        "categorical_features = df[['MSZoning', 'Neighborhood']]\n",
        "categorical_features.head()"
      ],
      "execution_count": null,
      "outputs": [
        {
          "output_type": "execute_result",
          "data": {
            "text/html": [
              "<div>\n",
              "<style scoped>\n",
              "    .dataframe tbody tr th:only-of-type {\n",
              "        vertical-align: middle;\n",
              "    }\n",
              "\n",
              "    .dataframe tbody tr th {\n",
              "        vertical-align: top;\n",
              "    }\n",
              "\n",
              "    .dataframe thead th {\n",
              "        text-align: right;\n",
              "    }\n",
              "</style>\n",
              "<table border=\"1\" class=\"dataframe\">\n",
              "  <thead>\n",
              "    <tr style=\"text-align: right;\">\n",
              "      <th></th>\n",
              "      <th>MSZoning</th>\n",
              "      <th>Neighborhood</th>\n",
              "    </tr>\n",
              "  </thead>\n",
              "  <tbody>\n",
              "    <tr>\n",
              "      <th>0</th>\n",
              "      <td>RL</td>\n",
              "      <td>CollgCr</td>\n",
              "    </tr>\n",
              "    <tr>\n",
              "      <th>1</th>\n",
              "      <td>RL</td>\n",
              "      <td>Veenker</td>\n",
              "    </tr>\n",
              "    <tr>\n",
              "      <th>2</th>\n",
              "      <td>RL</td>\n",
              "      <td>CollgCr</td>\n",
              "    </tr>\n",
              "    <tr>\n",
              "      <th>3</th>\n",
              "      <td>RL</td>\n",
              "      <td>Crawfor</td>\n",
              "    </tr>\n",
              "    <tr>\n",
              "      <th>4</th>\n",
              "      <td>RL</td>\n",
              "      <td>NoRidge</td>\n",
              "    </tr>\n",
              "  </tbody>\n",
              "</table>\n",
              "</div>"
            ],
            "text/plain": [
              "  MSZoning Neighborhood\n",
              "0       RL      CollgCr\n",
              "1       RL      Veenker\n",
              "2       RL      CollgCr\n",
              "3       RL      Crawfor\n",
              "4       RL      NoRidge"
            ]
          },
          "metadata": {
            "tags": []
          },
          "execution_count": 434
        }
      ]
    },
    {
      "cell_type": "code",
      "metadata": {
        "id": "jbim4UeSP__E",
        "outputId": "2dc89d28-5358-48a2-895f-869a030f5c96",
        "colab": {
          "base_uri": "https://localhost:8080/",
          "height": 241
        }
      },
      "source": [
        "features = pd.concat([numeric_features, pd.get_dummies(categorical_features)], axis=1)\n",
        "features = (features - features.mean()) / features.std()\n",
        "features.head()"
      ],
      "execution_count": null,
      "outputs": [
        {
          "output_type": "execute_result",
          "data": {
            "text/html": [
              "<div>\n",
              "<style scoped>\n",
              "    .dataframe tbody tr th:only-of-type {\n",
              "        vertical-align: middle;\n",
              "    }\n",
              "\n",
              "    .dataframe tbody tr th {\n",
              "        vertical-align: top;\n",
              "    }\n",
              "\n",
              "    .dataframe thead th {\n",
              "        text-align: right;\n",
              "    }\n",
              "</style>\n",
              "<table border=\"1\" class=\"dataframe\">\n",
              "  <thead>\n",
              "    <tr style=\"text-align: right;\">\n",
              "      <th></th>\n",
              "      <th>OverallQual</th>\n",
              "      <th>GrLivArea</th>\n",
              "      <th>MSZoning_C (all)</th>\n",
              "      <th>MSZoning_FV</th>\n",
              "      <th>MSZoning_RH</th>\n",
              "      <th>MSZoning_RL</th>\n",
              "      <th>MSZoning_RM</th>\n",
              "      <th>Neighborhood_Blmngtn</th>\n",
              "      <th>Neighborhood_Blueste</th>\n",
              "      <th>Neighborhood_BrDale</th>\n",
              "      <th>Neighborhood_BrkSide</th>\n",
              "      <th>Neighborhood_ClearCr</th>\n",
              "      <th>Neighborhood_CollgCr</th>\n",
              "      <th>Neighborhood_Crawfor</th>\n",
              "      <th>Neighborhood_Edwards</th>\n",
              "      <th>Neighborhood_Gilbert</th>\n",
              "      <th>Neighborhood_IDOTRR</th>\n",
              "      <th>Neighborhood_MeadowV</th>\n",
              "      <th>Neighborhood_Mitchel</th>\n",
              "      <th>Neighborhood_NAmes</th>\n",
              "      <th>Neighborhood_NPkVill</th>\n",
              "      <th>Neighborhood_NWAmes</th>\n",
              "      <th>Neighborhood_NoRidge</th>\n",
              "      <th>Neighborhood_NridgHt</th>\n",
              "      <th>Neighborhood_OldTown</th>\n",
              "      <th>Neighborhood_SWISU</th>\n",
              "      <th>Neighborhood_Sawyer</th>\n",
              "      <th>Neighborhood_SawyerW</th>\n",
              "      <th>Neighborhood_Somerst</th>\n",
              "      <th>Neighborhood_StoneBr</th>\n",
              "      <th>Neighborhood_Timber</th>\n",
              "      <th>Neighborhood_Veenker</th>\n",
              "    </tr>\n",
              "  </thead>\n",
              "  <tbody>\n",
              "    <tr>\n",
              "      <th>0</th>\n",
              "      <td>0.651256</td>\n",
              "      <td>0.370207</td>\n",
              "      <td>-0.083017</td>\n",
              "      <td>-0.215785</td>\n",
              "      <td>-0.105227</td>\n",
              "      <td>0.517956</td>\n",
              "      <td>-0.418812</td>\n",
              "      <td>-0.108503</td>\n",
              "      <td>-0.037024</td>\n",
              "      <td>-0.105227</td>\n",
              "      <td>-0.203325</td>\n",
              "      <td>-0.139784</td>\n",
              "      <td>2.954209</td>\n",
              "      <td>-0.190187</td>\n",
              "      <td>-0.27107</td>\n",
              "      <td>-0.239094</td>\n",
              "      <td>-0.161194</td>\n",
              "      <td>-0.108503</td>\n",
              "      <td>-0.186288</td>\n",
              "      <td>-0.426687</td>\n",
              "      <td>-0.07873</td>\n",
              "      <td>-0.229337</td>\n",
              "      <td>-0.169923</td>\n",
              "      <td>-0.235877</td>\n",
              "      <td>-0.289539</td>\n",
              "      <td>-0.131946</td>\n",
              "      <td>-0.230986</td>\n",
              "      <td>-0.205144</td>\n",
              "      <td>-0.250096</td>\n",
              "      <td>-0.131946</td>\n",
              "      <td>-0.163415</td>\n",
              "      <td>-0.087099</td>\n",
              "    </tr>\n",
              "    <tr>\n",
              "      <th>1</th>\n",
              "      <td>-0.071812</td>\n",
              "      <td>-0.482347</td>\n",
              "      <td>-0.083017</td>\n",
              "      <td>-0.215785</td>\n",
              "      <td>-0.105227</td>\n",
              "      <td>0.517956</td>\n",
              "      <td>-0.418812</td>\n",
              "      <td>-0.108503</td>\n",
              "      <td>-0.037024</td>\n",
              "      <td>-0.105227</td>\n",
              "      <td>-0.203325</td>\n",
              "      <td>-0.139784</td>\n",
              "      <td>-0.338268</td>\n",
              "      <td>-0.190187</td>\n",
              "      <td>-0.27107</td>\n",
              "      <td>-0.239094</td>\n",
              "      <td>-0.161194</td>\n",
              "      <td>-0.108503</td>\n",
              "      <td>-0.186288</td>\n",
              "      <td>-0.426687</td>\n",
              "      <td>-0.07873</td>\n",
              "      <td>-0.229337</td>\n",
              "      <td>-0.169923</td>\n",
              "      <td>-0.235877</td>\n",
              "      <td>-0.289539</td>\n",
              "      <td>-0.131946</td>\n",
              "      <td>-0.230986</td>\n",
              "      <td>-0.205144</td>\n",
              "      <td>-0.250096</td>\n",
              "      <td>-0.131946</td>\n",
              "      <td>-0.163415</td>\n",
              "      <td>11.473319</td>\n",
              "    </tr>\n",
              "    <tr>\n",
              "      <th>2</th>\n",
              "      <td>0.651256</td>\n",
              "      <td>0.514836</td>\n",
              "      <td>-0.083017</td>\n",
              "      <td>-0.215785</td>\n",
              "      <td>-0.105227</td>\n",
              "      <td>0.517956</td>\n",
              "      <td>-0.418812</td>\n",
              "      <td>-0.108503</td>\n",
              "      <td>-0.037024</td>\n",
              "      <td>-0.105227</td>\n",
              "      <td>-0.203325</td>\n",
              "      <td>-0.139784</td>\n",
              "      <td>2.954209</td>\n",
              "      <td>-0.190187</td>\n",
              "      <td>-0.27107</td>\n",
              "      <td>-0.239094</td>\n",
              "      <td>-0.161194</td>\n",
              "      <td>-0.108503</td>\n",
              "      <td>-0.186288</td>\n",
              "      <td>-0.426687</td>\n",
              "      <td>-0.07873</td>\n",
              "      <td>-0.229337</td>\n",
              "      <td>-0.169923</td>\n",
              "      <td>-0.235877</td>\n",
              "      <td>-0.289539</td>\n",
              "      <td>-0.131946</td>\n",
              "      <td>-0.230986</td>\n",
              "      <td>-0.205144</td>\n",
              "      <td>-0.250096</td>\n",
              "      <td>-0.131946</td>\n",
              "      <td>-0.163415</td>\n",
              "      <td>-0.087099</td>\n",
              "    </tr>\n",
              "    <tr>\n",
              "      <th>3</th>\n",
              "      <td>0.651256</td>\n",
              "      <td>0.383528</td>\n",
              "      <td>-0.083017</td>\n",
              "      <td>-0.215785</td>\n",
              "      <td>-0.105227</td>\n",
              "      <td>0.517956</td>\n",
              "      <td>-0.418812</td>\n",
              "      <td>-0.108503</td>\n",
              "      <td>-0.037024</td>\n",
              "      <td>-0.105227</td>\n",
              "      <td>-0.203325</td>\n",
              "      <td>-0.139784</td>\n",
              "      <td>-0.338268</td>\n",
              "      <td>5.254382</td>\n",
              "      <td>-0.27107</td>\n",
              "      <td>-0.239094</td>\n",
              "      <td>-0.161194</td>\n",
              "      <td>-0.108503</td>\n",
              "      <td>-0.186288</td>\n",
              "      <td>-0.426687</td>\n",
              "      <td>-0.07873</td>\n",
              "      <td>-0.229337</td>\n",
              "      <td>-0.169923</td>\n",
              "      <td>-0.235877</td>\n",
              "      <td>-0.289539</td>\n",
              "      <td>-0.131946</td>\n",
              "      <td>-0.230986</td>\n",
              "      <td>-0.205144</td>\n",
              "      <td>-0.250096</td>\n",
              "      <td>-0.131946</td>\n",
              "      <td>-0.163415</td>\n",
              "      <td>-0.087099</td>\n",
              "    </tr>\n",
              "    <tr>\n",
              "      <th>4</th>\n",
              "      <td>1.374324</td>\n",
              "      <td>1.298881</td>\n",
              "      <td>-0.083017</td>\n",
              "      <td>-0.215785</td>\n",
              "      <td>-0.105227</td>\n",
              "      <td>0.517956</td>\n",
              "      <td>-0.418812</td>\n",
              "      <td>-0.108503</td>\n",
              "      <td>-0.037024</td>\n",
              "      <td>-0.105227</td>\n",
              "      <td>-0.203325</td>\n",
              "      <td>-0.139784</td>\n",
              "      <td>-0.338268</td>\n",
              "      <td>-0.190187</td>\n",
              "      <td>-0.27107</td>\n",
              "      <td>-0.239094</td>\n",
              "      <td>-0.161194</td>\n",
              "      <td>-0.108503</td>\n",
              "      <td>-0.186288</td>\n",
              "      <td>-0.426687</td>\n",
              "      <td>-0.07873</td>\n",
              "      <td>-0.229337</td>\n",
              "      <td>5.880991</td>\n",
              "      <td>-0.235877</td>\n",
              "      <td>-0.289539</td>\n",
              "      <td>-0.131946</td>\n",
              "      <td>-0.230986</td>\n",
              "      <td>-0.205144</td>\n",
              "      <td>-0.250096</td>\n",
              "      <td>-0.131946</td>\n",
              "      <td>-0.163415</td>\n",
              "      <td>-0.087099</td>\n",
              "    </tr>\n",
              "  </tbody>\n",
              "</table>\n",
              "</div>"
            ],
            "text/plain": [
              "   OverallQual  GrLivArea  ...  Neighborhood_Timber  Neighborhood_Veenker\n",
              "0     0.651256   0.370207  ...            -0.163415             -0.087099\n",
              "1    -0.071812  -0.482347  ...            -0.163415             11.473319\n",
              "2     0.651256   0.514836  ...            -0.163415             -0.087099\n",
              "3     0.651256   0.383528  ...            -0.163415             -0.087099\n",
              "4     1.374324   1.298881  ...            -0.163415             -0.087099\n",
              "\n",
              "[5 rows x 32 columns]"
            ]
          },
          "metadata": {
            "tags": []
          },
          "execution_count": 444
        }
      ]
    },
    {
      "cell_type": "code",
      "metadata": {
        "id": "ADOimGH2SzyW"
      },
      "source": [
        "from sklearn.model_selection import train_test_split\n",
        "x_train, x_test, y_train, y_test = train_test_split(features, target, random_state=0)"
      ],
      "execution_count": null,
      "outputs": []
    },
    {
      "cell_type": "code",
      "metadata": {
        "id": "ZpDdsMBjTDm3",
        "outputId": "16f31f6c-e6ed-473d-ac9a-549ac96ce968",
        "colab": {
          "base_uri": "https://localhost:8080/",
          "height": 34
        }
      },
      "source": [
        "from sklearn.dummy import DummyRegressor\n",
        "from sklearn.metrics import mean_squared_error\n",
        "\n",
        "baseline = DummyRegressor()\n",
        "baseline.fit(x_train, y_train)\n",
        "mean_squared_error(y_test, baseline.predict(x_test))"
      ],
      "execution_count": null,
      "outputs": [
        {
          "output_type": "execute_result",
          "data": {
            "text/plain": [
              "0.14877147033553434"
            ]
          },
          "metadata": {
            "tags": []
          },
          "execution_count": 446
        }
      ]
    },
    {
      "cell_type": "code",
      "metadata": {
        "id": "Cz9DkujXQSh6",
        "outputId": "b97eefae-0153-404b-c363-f90eab944e0f",
        "colab": {
          "base_uri": "https://localhost:8080/",
          "height": 34
        }
      },
      "source": [
        "from sklearn.linear_model import LinearRegression\n",
        "\n",
        "model = LinearRegression()\n",
        "model.fit(x_train, y_train)\n",
        "mean_squared_error(y_test, model.predict(x_test))"
      ],
      "execution_count": null,
      "outputs": [
        {
          "output_type": "execute_result",
          "data": {
            "text/plain": [
              "0.030544521778323667"
            ]
          },
          "metadata": {
            "tags": []
          },
          "execution_count": 447
        }
      ]
    },
    {
      "cell_type": "code",
      "metadata": {
        "id": "ZAQDWvvdPGUX",
        "outputId": "3bd49bc9-1d48-4300-d640-a96c7d601530",
        "colab": {
          "base_uri": "https://localhost:8080/",
          "height": 34
        }
      },
      "source": [
        "len(features.columns)"
      ],
      "execution_count": null,
      "outputs": [
        {
          "output_type": "execute_result",
          "data": {
            "text/plain": [
              "32"
            ]
          },
          "metadata": {
            "tags": []
          },
          "execution_count": 448
        }
      ]
    },
    {
      "cell_type": "code",
      "metadata": {
        "id": "IFqwnlghPILF",
        "outputId": "0fed5b39-47d7-4952-bd18-686fab6f2c43",
        "colab": {
          "base_uri": "https://localhost:8080/",
          "height": 34
        }
      },
      "source": [
        "len(model.coef_)"
      ],
      "execution_count": null,
      "outputs": [
        {
          "output_type": "execute_result",
          "data": {
            "text/plain": [
              "32"
            ]
          },
          "metadata": {
            "tags": []
          },
          "execution_count": 449
        }
      ]
    },
    {
      "cell_type": "code",
      "metadata": {
        "id": "qKqSc_1FTXCz",
        "outputId": "0c448584-fb49-41b7-9f81-216c710197ad",
        "colab": {
          "base_uri": "https://localhost:8080/",
          "height": 153
        }
      },
      "source": [
        "model.coef_"
      ],
      "execution_count": null,
      "outputs": [
        {
          "output_type": "execute_result",
          "data": {
            "text/plain": [
              "array([ 1.53635827e-01,  1.51958575e-01, -1.18948064e+11, -2.97452182e+11,\n",
              "       -1.50147106e+11, -5.89101703e+11, -5.13999174e+11,  9.89401207e+10,\n",
              "        3.41121089e+10,  9.60192695e+10,  1.80136953e+11,  1.26492663e+11,\n",
              "        2.80024537e+11,  1.69338378e+11,  2.32961559e+11,  2.08653270e+11,\n",
              "        1.44949967e+11,  9.89401207e+10,  1.66102572e+11,  3.32996407e+11,\n",
              "        7.21887914e+10,  2.01008522e+11,  1.52369463e+11,  2.06144268e+11,\n",
              "        2.46455111e+11,  1.19649466e+11,  2.02307640e+11,  1.81618416e+11,\n",
              "        2.17148784e+11,  1.19649466e+11,  1.46844068e+11,  7.97526909e+10])"
            ]
          },
          "metadata": {
            "tags": []
          },
          "execution_count": 450
        }
      ]
    },
    {
      "cell_type": "code",
      "metadata": {
        "id": "kBzWtcvrTX-z",
        "outputId": "27da7a54-325a-416a-ac69-b1f3316cd0b1",
        "colab": {
          "base_uri": "https://localhost:8080/",
          "height": 573
        }
      },
      "source": [
        "top_n = 20\n",
        "top_feature_indices = np.abs(model.coef_).argsort()[-top_n:]\n",
        "top_coefficients = model.coef_[top_feature_indices]\n",
        "plt.barh(range(top_n), top_coefficients, color=['r' if v < 0 else 'g' for v in top_coefficients])\n",
        "_ = plt.yticks(range(top_n), features.columns[top_feature_indices])\n",
        "plt.xlabel(\"Variable coefficient\")"
      ],
      "execution_count": null,
      "outputs": [
        {
          "output_type": "execute_result",
          "data": {
            "text/plain": [
              "Text(0.5, 0, 'Variable coefficient')"
            ]
          },
          "metadata": {
            "tags": []
          },
          "execution_count": 451
        },
        {
          "output_type": "display_data",
          "data": {
            "text/plain": [
              "<Figure size 720x432 with 1 Axes>"
            ],
            "image/svg+xml": "<?xml version=\"1.0\" encoding=\"utf-8\" standalone=\"no\"?>\n<!DOCTYPE svg PUBLIC \"-//W3C//DTD SVG 1.1//EN\"\n  \"http://www.w3.org/Graphics/SVG/1.1/DTD/svg11.dtd\">\n<!-- Created with matplotlib (https://matplotlib.org/) -->\n<svg height=\"401.628625pt\" version=\"1.1\" viewBox=\"0 0 815.31 401.628625\" width=\"815.31pt\" xmlns=\"http://www.w3.org/2000/svg\" xmlns:xlink=\"http://www.w3.org/1999/xlink\">\n <defs>\n  <style type=\"text/css\">\n*{stroke-linecap:butt;stroke-linejoin:round;}\n  </style>\n </defs>\n <g id=\"figure_1\">\n  <g id=\"patch_1\">\n   <path d=\"M 0 401.628625 \nL 815.31 401.628625 \nL 815.31 0 \nL 0 0 \nz\n\" style=\"fill:#f0f0f0;\"/>\n  </g>\n  <g id=\"axes_1\">\n   <g id=\"patch_2\">\n    <path d=\"M 181.71 357.12 \nL 808.11 357.12 \nL 808.11 7.2 \nL 181.71 7.2 \nz\n\" style=\"fill:#f0f0f0;\"/>\n   </g>\n   <g id=\"matplotlib.axis_1\">\n    <g id=\"xtick_1\">\n     <g id=\"line2d_1\">\n      <path clip-path=\"url(#pfa1e0c774d)\" d=\"M 203.452332 357.12 \nL 203.452332 7.2 \n\" style=\"fill:none;stroke:#cbcbcb;\"/>\n     </g>\n     <g id=\"line2d_2\"/>\n     <g id=\"text_1\">\n      <!-- −6 -->\n      <defs>\n       <path d=\"M 10.59375 35.5 \nL 73.1875 35.5 \nL 73.1875 27.203125 \nL 10.59375 27.203125 \nz\n\" id=\"DejaVuSans-8722\"/>\n       <path d=\"M 33.015625 40.375 \nQ 26.375 40.375 22.484375 35.828125 \nQ 18.609375 31.296875 18.609375 23.390625 \nQ 18.609375 15.53125 22.484375 10.953125 \nQ 26.375 6.390625 33.015625 6.390625 \nQ 39.65625 6.390625 43.53125 10.953125 \nQ 47.40625 15.53125 47.40625 23.390625 \nQ 47.40625 31.296875 43.53125 35.828125 \nQ 39.65625 40.375 33.015625 40.375 \nz\nM 52.59375 71.296875 \nL 52.59375 62.3125 \nQ 48.875 64.0625 45.09375 64.984375 \nQ 41.3125 65.921875 37.59375 65.921875 \nQ 27.828125 65.921875 22.671875 59.328125 \nQ 17.53125 52.734375 16.796875 39.40625 \nQ 19.671875 43.65625 24.015625 45.921875 \nQ 28.375 48.1875 33.59375 48.1875 \nQ 44.578125 48.1875 50.953125 41.515625 \nQ 57.328125 34.859375 57.328125 23.390625 \nQ 57.328125 12.15625 50.6875 5.359375 \nQ 44.046875 -1.421875 33.015625 -1.421875 \nQ 20.359375 -1.421875 13.671875 8.265625 \nQ 6.984375 17.96875 6.984375 36.375 \nQ 6.984375 53.65625 15.1875 63.9375 \nQ 23.390625 74.21875 37.203125 74.21875 \nQ 40.921875 74.21875 44.703125 73.484375 \nQ 48.484375 72.75 52.59375 71.296875 \nz\n\" id=\"DejaVuSans-54\"/>\n      </defs>\n      <g transform=\"translate(193.132801 371.257813)scale(0.14 -0.14)\">\n       <use xlink:href=\"#DejaVuSans-8722\"/>\n       <use x=\"83.789062\" xlink:href=\"#DejaVuSans-54\"/>\n      </g>\n     </g>\n    </g>\n    <g id=\"xtick_2\">\n     <g id=\"line2d_3\">\n      <path clip-path=\"url(#pfa1e0c774d)\" d=\"M 326.965121 357.12 \nL 326.965121 7.2 \n\" style=\"fill:none;stroke:#cbcbcb;\"/>\n     </g>\n     <g id=\"line2d_4\"/>\n     <g id=\"text_2\">\n      <!-- −4 -->\n      <defs>\n       <path d=\"M 37.796875 64.3125 \nL 12.890625 25.390625 \nL 37.796875 25.390625 \nz\nM 35.203125 72.90625 \nL 47.609375 72.90625 \nL 47.609375 25.390625 \nL 58.015625 25.390625 \nL 58.015625 17.1875 \nL 47.609375 17.1875 \nL 47.609375 0 \nL 37.796875 0 \nL 37.796875 17.1875 \nL 4.890625 17.1875 \nL 4.890625 26.703125 \nz\n\" id=\"DejaVuSans-52\"/>\n      </defs>\n      <g transform=\"translate(316.64559 371.257813)scale(0.14 -0.14)\">\n       <use xlink:href=\"#DejaVuSans-8722\"/>\n       <use x=\"83.789062\" xlink:href=\"#DejaVuSans-52\"/>\n      </g>\n     </g>\n    </g>\n    <g id=\"xtick_3\">\n     <g id=\"line2d_5\">\n      <path clip-path=\"url(#pfa1e0c774d)\" d=\"M 450.47791 357.12 \nL 450.47791 7.2 \n\" style=\"fill:none;stroke:#cbcbcb;\"/>\n     </g>\n     <g id=\"line2d_6\"/>\n     <g id=\"text_3\">\n      <!-- −2 -->\n      <defs>\n       <path d=\"M 19.1875 8.296875 \nL 53.609375 8.296875 \nL 53.609375 0 \nL 7.328125 0 \nL 7.328125 8.296875 \nQ 12.9375 14.109375 22.625 23.890625 \nQ 32.328125 33.6875 34.8125 36.53125 \nQ 39.546875 41.84375 41.421875 45.53125 \nQ 43.3125 49.21875 43.3125 52.78125 \nQ 43.3125 58.59375 39.234375 62.25 \nQ 35.15625 65.921875 28.609375 65.921875 \nQ 23.96875 65.921875 18.8125 64.3125 \nQ 13.671875 62.703125 7.8125 59.421875 \nL 7.8125 69.390625 \nQ 13.765625 71.78125 18.9375 73 \nQ 24.125 74.21875 28.421875 74.21875 \nQ 39.75 74.21875 46.484375 68.546875 \nQ 53.21875 62.890625 53.21875 53.421875 \nQ 53.21875 48.921875 51.53125 44.890625 \nQ 49.859375 40.875 45.40625 35.40625 \nQ 44.1875 33.984375 37.640625 27.21875 \nQ 31.109375 20.453125 19.1875 8.296875 \nz\n\" id=\"DejaVuSans-50\"/>\n      </defs>\n      <g transform=\"translate(440.158378 371.257813)scale(0.14 -0.14)\">\n       <use xlink:href=\"#DejaVuSans-8722\"/>\n       <use x=\"83.789062\" xlink:href=\"#DejaVuSans-50\"/>\n      </g>\n     </g>\n    </g>\n    <g id=\"xtick_4\">\n     <g id=\"line2d_7\">\n      <path clip-path=\"url(#pfa1e0c774d)\" d=\"M 573.990698 357.12 \nL 573.990698 7.2 \n\" style=\"fill:none;stroke:#cbcbcb;\"/>\n     </g>\n     <g id=\"line2d_8\"/>\n     <g id=\"text_4\">\n      <!-- 0 -->\n      <defs>\n       <path d=\"M 31.78125 66.40625 \nQ 24.171875 66.40625 20.328125 58.90625 \nQ 16.5 51.421875 16.5 36.375 \nQ 16.5 21.390625 20.328125 13.890625 \nQ 24.171875 6.390625 31.78125 6.390625 \nQ 39.453125 6.390625 43.28125 13.890625 \nQ 47.125 21.390625 47.125 36.375 \nQ 47.125 51.421875 43.28125 58.90625 \nQ 39.453125 66.40625 31.78125 66.40625 \nz\nM 31.78125 74.21875 \nQ 44.046875 74.21875 50.515625 64.515625 \nQ 56.984375 54.828125 56.984375 36.375 \nQ 56.984375 17.96875 50.515625 8.265625 \nQ 44.046875 -1.421875 31.78125 -1.421875 \nQ 19.53125 -1.421875 13.0625 8.265625 \nQ 6.59375 17.96875 6.59375 36.375 \nQ 6.59375 54.828125 13.0625 64.515625 \nQ 19.53125 74.21875 31.78125 74.21875 \nz\n\" id=\"DejaVuSans-48\"/>\n      </defs>\n      <g transform=\"translate(569.536948 371.257813)scale(0.14 -0.14)\">\n       <use xlink:href=\"#DejaVuSans-48\"/>\n      </g>\n     </g>\n    </g>\n    <g id=\"xtick_5\">\n     <g id=\"line2d_9\">\n      <path clip-path=\"url(#pfa1e0c774d)\" d=\"M 697.503487 357.12 \nL 697.503487 7.2 \n\" style=\"fill:none;stroke:#cbcbcb;\"/>\n     </g>\n     <g id=\"line2d_10\"/>\n     <g id=\"text_5\">\n      <!-- 2 -->\n      <g transform=\"translate(693.049737 371.257813)scale(0.14 -0.14)\">\n       <use xlink:href=\"#DejaVuSans-50\"/>\n      </g>\n     </g>\n    </g>\n    <g id=\"text_6\">\n     <!-- Variable coefficient -->\n     <defs>\n      <path d=\"M 28.609375 0 \nL 0.78125 72.90625 \nL 11.078125 72.90625 \nL 34.1875 11.53125 \nL 57.328125 72.90625 \nL 67.578125 72.90625 \nL 39.796875 0 \nz\n\" id=\"DejaVuSans-86\"/>\n      <path d=\"M 34.28125 27.484375 \nQ 23.390625 27.484375 19.1875 25 \nQ 14.984375 22.515625 14.984375 16.5 \nQ 14.984375 11.71875 18.140625 8.90625 \nQ 21.296875 6.109375 26.703125 6.109375 \nQ 34.1875 6.109375 38.703125 11.40625 \nQ 43.21875 16.703125 43.21875 25.484375 \nL 43.21875 27.484375 \nz\nM 52.203125 31.203125 \nL 52.203125 0 \nL 43.21875 0 \nL 43.21875 8.296875 \nQ 40.140625 3.328125 35.546875 0.953125 \nQ 30.953125 -1.421875 24.3125 -1.421875 \nQ 15.921875 -1.421875 10.953125 3.296875 \nQ 6 8.015625 6 15.921875 \nQ 6 25.140625 12.171875 29.828125 \nQ 18.359375 34.515625 30.609375 34.515625 \nL 43.21875 34.515625 \nL 43.21875 35.40625 \nQ 43.21875 41.609375 39.140625 45 \nQ 35.0625 48.390625 27.6875 48.390625 \nQ 23 48.390625 18.546875 47.265625 \nQ 14.109375 46.140625 10.015625 43.890625 \nL 10.015625 52.203125 \nQ 14.9375 54.109375 19.578125 55.046875 \nQ 24.21875 56 28.609375 56 \nQ 40.484375 56 46.34375 49.84375 \nQ 52.203125 43.703125 52.203125 31.203125 \nz\n\" id=\"DejaVuSans-97\"/>\n      <path d=\"M 41.109375 46.296875 \nQ 39.59375 47.171875 37.8125 47.578125 \nQ 36.03125 48 33.890625 48 \nQ 26.265625 48 22.1875 43.046875 \nQ 18.109375 38.09375 18.109375 28.8125 \nL 18.109375 0 \nL 9.078125 0 \nL 9.078125 54.6875 \nL 18.109375 54.6875 \nL 18.109375 46.1875 \nQ 20.953125 51.171875 25.484375 53.578125 \nQ 30.03125 56 36.53125 56 \nQ 37.453125 56 38.578125 55.875 \nQ 39.703125 55.765625 41.0625 55.515625 \nz\n\" id=\"DejaVuSans-114\"/>\n      <path d=\"M 9.421875 54.6875 \nL 18.40625 54.6875 \nL 18.40625 0 \nL 9.421875 0 \nz\nM 9.421875 75.984375 \nL 18.40625 75.984375 \nL 18.40625 64.59375 \nL 9.421875 64.59375 \nz\n\" id=\"DejaVuSans-105\"/>\n      <path d=\"M 48.6875 27.296875 \nQ 48.6875 37.203125 44.609375 42.84375 \nQ 40.53125 48.484375 33.40625 48.484375 \nQ 26.265625 48.484375 22.1875 42.84375 \nQ 18.109375 37.203125 18.109375 27.296875 \nQ 18.109375 17.390625 22.1875 11.75 \nQ 26.265625 6.109375 33.40625 6.109375 \nQ 40.53125 6.109375 44.609375 11.75 \nQ 48.6875 17.390625 48.6875 27.296875 \nz\nM 18.109375 46.390625 \nQ 20.953125 51.265625 25.265625 53.625 \nQ 29.59375 56 35.59375 56 \nQ 45.5625 56 51.78125 48.09375 \nQ 58.015625 40.1875 58.015625 27.296875 \nQ 58.015625 14.40625 51.78125 6.484375 \nQ 45.5625 -1.421875 35.59375 -1.421875 \nQ 29.59375 -1.421875 25.265625 0.953125 \nQ 20.953125 3.328125 18.109375 8.203125 \nL 18.109375 0 \nL 9.078125 0 \nL 9.078125 75.984375 \nL 18.109375 75.984375 \nz\n\" id=\"DejaVuSans-98\"/>\n      <path d=\"M 9.421875 75.984375 \nL 18.40625 75.984375 \nL 18.40625 0 \nL 9.421875 0 \nz\n\" id=\"DejaVuSans-108\"/>\n      <path d=\"M 56.203125 29.59375 \nL 56.203125 25.203125 \nL 14.890625 25.203125 \nQ 15.484375 15.921875 20.484375 11.0625 \nQ 25.484375 6.203125 34.421875 6.203125 \nQ 39.59375 6.203125 44.453125 7.46875 \nQ 49.3125 8.734375 54.109375 11.28125 \nL 54.109375 2.78125 \nQ 49.265625 0.734375 44.1875 -0.34375 \nQ 39.109375 -1.421875 33.890625 -1.421875 \nQ 20.796875 -1.421875 13.15625 6.1875 \nQ 5.515625 13.8125 5.515625 26.8125 \nQ 5.515625 40.234375 12.765625 48.109375 \nQ 20.015625 56 32.328125 56 \nQ 43.359375 56 49.78125 48.890625 \nQ 56.203125 41.796875 56.203125 29.59375 \nz\nM 47.21875 32.234375 \nQ 47.125 39.59375 43.09375 43.984375 \nQ 39.0625 48.390625 32.421875 48.390625 \nQ 24.90625 48.390625 20.390625 44.140625 \nQ 15.875 39.890625 15.1875 32.171875 \nz\n\" id=\"DejaVuSans-101\"/>\n      <path id=\"DejaVuSans-32\"/>\n      <path d=\"M 48.78125 52.59375 \nL 48.78125 44.1875 \nQ 44.96875 46.296875 41.140625 47.34375 \nQ 37.3125 48.390625 33.40625 48.390625 \nQ 24.65625 48.390625 19.8125 42.84375 \nQ 14.984375 37.3125 14.984375 27.296875 \nQ 14.984375 17.28125 19.8125 11.734375 \nQ 24.65625 6.203125 33.40625 6.203125 \nQ 37.3125 6.203125 41.140625 7.25 \nQ 44.96875 8.296875 48.78125 10.40625 \nL 48.78125 2.09375 \nQ 45.015625 0.34375 40.984375 -0.53125 \nQ 36.96875 -1.421875 32.421875 -1.421875 \nQ 20.0625 -1.421875 12.78125 6.34375 \nQ 5.515625 14.109375 5.515625 27.296875 \nQ 5.515625 40.671875 12.859375 48.328125 \nQ 20.21875 56 33.015625 56 \nQ 37.15625 56 41.109375 55.140625 \nQ 45.0625 54.296875 48.78125 52.59375 \nz\n\" id=\"DejaVuSans-99\"/>\n      <path d=\"M 30.609375 48.390625 \nQ 23.390625 48.390625 19.1875 42.75 \nQ 14.984375 37.109375 14.984375 27.296875 \nQ 14.984375 17.484375 19.15625 11.84375 \nQ 23.34375 6.203125 30.609375 6.203125 \nQ 37.796875 6.203125 41.984375 11.859375 \nQ 46.1875 17.53125 46.1875 27.296875 \nQ 46.1875 37.015625 41.984375 42.703125 \nQ 37.796875 48.390625 30.609375 48.390625 \nz\nM 30.609375 56 \nQ 42.328125 56 49.015625 48.375 \nQ 55.71875 40.765625 55.71875 27.296875 \nQ 55.71875 13.875 49.015625 6.21875 \nQ 42.328125 -1.421875 30.609375 -1.421875 \nQ 18.84375 -1.421875 12.171875 6.21875 \nQ 5.515625 13.875 5.515625 27.296875 \nQ 5.515625 40.765625 12.171875 48.375 \nQ 18.84375 56 30.609375 56 \nz\n\" id=\"DejaVuSans-111\"/>\n      <path d=\"M 37.109375 75.984375 \nL 37.109375 68.5 \nL 28.515625 68.5 \nQ 23.6875 68.5 21.796875 66.546875 \nQ 19.921875 64.59375 19.921875 59.515625 \nL 19.921875 54.6875 \nL 34.71875 54.6875 \nL 34.71875 47.703125 \nL 19.921875 47.703125 \nL 19.921875 0 \nL 10.890625 0 \nL 10.890625 47.703125 \nL 2.296875 47.703125 \nL 2.296875 54.6875 \nL 10.890625 54.6875 \nL 10.890625 58.5 \nQ 10.890625 67.625 15.140625 71.796875 \nQ 19.390625 75.984375 28.609375 75.984375 \nz\n\" id=\"DejaVuSans-102\"/>\n      <path d=\"M 54.890625 33.015625 \nL 54.890625 0 \nL 45.90625 0 \nL 45.90625 32.71875 \nQ 45.90625 40.484375 42.875 44.328125 \nQ 39.84375 48.1875 33.796875 48.1875 \nQ 26.515625 48.1875 22.3125 43.546875 \nQ 18.109375 38.921875 18.109375 30.90625 \nL 18.109375 0 \nL 9.078125 0 \nL 9.078125 54.6875 \nL 18.109375 54.6875 \nL 18.109375 46.1875 \nQ 21.34375 51.125 25.703125 53.5625 \nQ 30.078125 56 35.796875 56 \nQ 45.21875 56 50.046875 50.171875 \nQ 54.890625 44.34375 54.890625 33.015625 \nz\n\" id=\"DejaVuSans-110\"/>\n      <path d=\"M 18.3125 70.21875 \nL 18.3125 54.6875 \nL 36.8125 54.6875 \nL 36.8125 47.703125 \nL 18.3125 47.703125 \nL 18.3125 18.015625 \nQ 18.3125 11.328125 20.140625 9.421875 \nQ 21.96875 7.515625 27.59375 7.515625 \nL 36.8125 7.515625 \nL 36.8125 0 \nL 27.59375 0 \nQ 17.1875 0 13.234375 3.875 \nQ 9.28125 7.765625 9.28125 18.015625 \nL 9.28125 47.703125 \nL 2.6875 47.703125 \nL 2.6875 54.6875 \nL 9.28125 54.6875 \nL 9.28125 70.21875 \nz\n\" id=\"DejaVuSans-116\"/>\n     </defs>\n     <g transform=\"translate(414.315938 390.93475)scale(0.168 -0.168)\">\n      <use xlink:href=\"#DejaVuSans-86\"/>\n      <use x=\"60.658203\" xlink:href=\"#DejaVuSans-97\"/>\n      <use x=\"121.9375\" xlink:href=\"#DejaVuSans-114\"/>\n      <use x=\"163.050781\" xlink:href=\"#DejaVuSans-105\"/>\n      <use x=\"190.833984\" xlink:href=\"#DejaVuSans-97\"/>\n      <use x=\"252.113281\" xlink:href=\"#DejaVuSans-98\"/>\n      <use x=\"315.589844\" xlink:href=\"#DejaVuSans-108\"/>\n      <use x=\"343.373047\" xlink:href=\"#DejaVuSans-101\"/>\n      <use x=\"404.896484\" xlink:href=\"#DejaVuSans-32\"/>\n      <use x=\"436.683594\" xlink:href=\"#DejaVuSans-99\"/>\n      <use x=\"491.664062\" xlink:href=\"#DejaVuSans-111\"/>\n      <use x=\"552.845703\" xlink:href=\"#DejaVuSans-101\"/>\n      <use x=\"614.369141\" xlink:href=\"#DejaVuSans-102\"/>\n      <use x=\"649.574219\" xlink:href=\"#DejaVuSans-102\"/>\n      <use x=\"684.779297\" xlink:href=\"#DejaVuSans-105\"/>\n      <use x=\"712.5625\" xlink:href=\"#DejaVuSans-99\"/>\n      <use x=\"767.542969\" xlink:href=\"#DejaVuSans-105\"/>\n      <use x=\"795.326172\" xlink:href=\"#DejaVuSans-101\"/>\n      <use x=\"856.849609\" xlink:href=\"#DejaVuSans-110\"/>\n      <use x=\"920.228516\" xlink:href=\"#DejaVuSans-116\"/>\n     </g>\n    </g>\n    <g id=\"text_7\">\n     <!-- 1e11 -->\n     <defs>\n      <path d=\"M 12.40625 8.296875 \nL 28.515625 8.296875 \nL 28.515625 63.921875 \nL 10.984375 60.40625 \nL 10.984375 69.390625 \nL 28.421875 72.90625 \nL 38.28125 72.90625 \nL 38.28125 8.296875 \nL 54.390625 8.296875 \nL 54.390625 0 \nL 12.40625 0 \nz\n\" id=\"DejaVuSans-49\"/>\n     </defs>\n     <g transform=\"translate(772.773125 387.807188)scale(0.14 -0.14)\">\n      <use xlink:href=\"#DejaVuSans-49\"/>\n      <use x=\"63.623047\" xlink:href=\"#DejaVuSans-101\"/>\n      <use x=\"125.146484\" xlink:href=\"#DejaVuSans-49\"/>\n      <use x=\"188.769531\" xlink:href=\"#DejaVuSans-49\"/>\n     </g>\n    </g>\n   </g>\n   <g id=\"matplotlib.axis_2\">\n    <g id=\"ytick_1\">\n     <g id=\"line2d_11\">\n      <path clip-path=\"url(#pfa1e0c774d)\" d=\"M 181.71 334.788099 \nL 808.11 334.788099 \n\" style=\"fill:none;stroke:#cbcbcb;\"/>\n     </g>\n     <g id=\"line2d_12\"/>\n     <g id=\"text_8\">\n      <!-- Neighborhood_IDOTRR -->\n      <defs>\n       <path d=\"M 9.8125 72.90625 \nL 23.09375 72.90625 \nL 55.421875 11.921875 \nL 55.421875 72.90625 \nL 64.984375 72.90625 \nL 64.984375 0 \nL 51.703125 0 \nL 19.390625 60.984375 \nL 19.390625 0 \nL 9.8125 0 \nz\n\" id=\"DejaVuSans-78\"/>\n       <path d=\"M 45.40625 27.984375 \nQ 45.40625 37.75 41.375 43.109375 \nQ 37.359375 48.484375 30.078125 48.484375 \nQ 22.859375 48.484375 18.828125 43.109375 \nQ 14.796875 37.75 14.796875 27.984375 \nQ 14.796875 18.265625 18.828125 12.890625 \nQ 22.859375 7.515625 30.078125 7.515625 \nQ 37.359375 7.515625 41.375 12.890625 \nQ 45.40625 18.265625 45.40625 27.984375 \nz\nM 54.390625 6.78125 \nQ 54.390625 -7.171875 48.1875 -13.984375 \nQ 42 -20.796875 29.203125 -20.796875 \nQ 24.46875 -20.796875 20.265625 -20.09375 \nQ 16.0625 -19.390625 12.109375 -17.921875 \nL 12.109375 -9.1875 \nQ 16.0625 -11.328125 19.921875 -12.34375 \nQ 23.78125 -13.375 27.78125 -13.375 \nQ 36.625 -13.375 41.015625 -8.765625 \nQ 45.40625 -4.15625 45.40625 5.171875 \nL 45.40625 9.625 \nQ 42.625 4.78125 38.28125 2.390625 \nQ 33.9375 0 27.875 0 \nQ 17.828125 0 11.671875 7.65625 \nQ 5.515625 15.328125 5.515625 27.984375 \nQ 5.515625 40.671875 11.671875 48.328125 \nQ 17.828125 56 27.875 56 \nQ 33.9375 56 38.28125 53.609375 \nQ 42.625 51.21875 45.40625 46.390625 \nL 45.40625 54.6875 \nL 54.390625 54.6875 \nz\n\" id=\"DejaVuSans-103\"/>\n       <path d=\"M 54.890625 33.015625 \nL 54.890625 0 \nL 45.90625 0 \nL 45.90625 32.71875 \nQ 45.90625 40.484375 42.875 44.328125 \nQ 39.84375 48.1875 33.796875 48.1875 \nQ 26.515625 48.1875 22.3125 43.546875 \nQ 18.109375 38.921875 18.109375 30.90625 \nL 18.109375 0 \nL 9.078125 0 \nL 9.078125 75.984375 \nL 18.109375 75.984375 \nL 18.109375 46.1875 \nQ 21.34375 51.125 25.703125 53.5625 \nQ 30.078125 56 35.796875 56 \nQ 45.21875 56 50.046875 50.171875 \nQ 54.890625 44.34375 54.890625 33.015625 \nz\n\" id=\"DejaVuSans-104\"/>\n       <path d=\"M 45.40625 46.390625 \nL 45.40625 75.984375 \nL 54.390625 75.984375 \nL 54.390625 0 \nL 45.40625 0 \nL 45.40625 8.203125 \nQ 42.578125 3.328125 38.25 0.953125 \nQ 33.9375 -1.421875 27.875 -1.421875 \nQ 17.96875 -1.421875 11.734375 6.484375 \nQ 5.515625 14.40625 5.515625 27.296875 \nQ 5.515625 40.1875 11.734375 48.09375 \nQ 17.96875 56 27.875 56 \nQ 33.9375 56 38.25 53.625 \nQ 42.578125 51.265625 45.40625 46.390625 \nz\nM 14.796875 27.296875 \nQ 14.796875 17.390625 18.875 11.75 \nQ 22.953125 6.109375 30.078125 6.109375 \nQ 37.203125 6.109375 41.296875 11.75 \nQ 45.40625 17.390625 45.40625 27.296875 \nQ 45.40625 37.203125 41.296875 42.84375 \nQ 37.203125 48.484375 30.078125 48.484375 \nQ 22.953125 48.484375 18.875 42.84375 \nQ 14.796875 37.203125 14.796875 27.296875 \nz\n\" id=\"DejaVuSans-100\"/>\n       <path d=\"M 50.984375 -16.609375 \nL 50.984375 -23.578125 \nL -0.984375 -23.578125 \nL -0.984375 -16.609375 \nz\n\" id=\"DejaVuSans-95\"/>\n       <path d=\"M 9.8125 72.90625 \nL 19.671875 72.90625 \nL 19.671875 0 \nL 9.8125 0 \nz\n\" id=\"DejaVuSans-73\"/>\n       <path d=\"M 19.671875 64.796875 \nL 19.671875 8.109375 \nL 31.59375 8.109375 \nQ 46.6875 8.109375 53.6875 14.9375 \nQ 60.6875 21.78125 60.6875 36.53125 \nQ 60.6875 51.171875 53.6875 57.984375 \nQ 46.6875 64.796875 31.59375 64.796875 \nz\nM 9.8125 72.90625 \nL 30.078125 72.90625 \nQ 51.265625 72.90625 61.171875 64.09375 \nQ 71.09375 55.28125 71.09375 36.53125 \nQ 71.09375 17.671875 61.125 8.828125 \nQ 51.171875 0 30.078125 0 \nL 9.8125 0 \nz\n\" id=\"DejaVuSans-68\"/>\n       <path d=\"M 39.40625 66.21875 \nQ 28.65625 66.21875 22.328125 58.203125 \nQ 16.015625 50.203125 16.015625 36.375 \nQ 16.015625 22.609375 22.328125 14.59375 \nQ 28.65625 6.59375 39.40625 6.59375 \nQ 50.140625 6.59375 56.421875 14.59375 \nQ 62.703125 22.609375 62.703125 36.375 \nQ 62.703125 50.203125 56.421875 58.203125 \nQ 50.140625 66.21875 39.40625 66.21875 \nz\nM 39.40625 74.21875 \nQ 54.734375 74.21875 63.90625 63.9375 \nQ 73.09375 53.65625 73.09375 36.375 \nQ 73.09375 19.140625 63.90625 8.859375 \nQ 54.734375 -1.421875 39.40625 -1.421875 \nQ 24.03125 -1.421875 14.8125 8.828125 \nQ 5.609375 19.09375 5.609375 36.375 \nQ 5.609375 53.65625 14.8125 63.9375 \nQ 24.03125 74.21875 39.40625 74.21875 \nz\n\" id=\"DejaVuSans-79\"/>\n       <path d=\"M -0.296875 72.90625 \nL 61.375 72.90625 \nL 61.375 64.59375 \nL 35.5 64.59375 \nL 35.5 0 \nL 25.59375 0 \nL 25.59375 64.59375 \nL -0.296875 64.59375 \nz\n\" id=\"DejaVuSans-84\"/>\n       <path d=\"M 44.390625 34.1875 \nQ 47.5625 33.109375 50.5625 29.59375 \nQ 53.5625 26.078125 56.59375 19.921875 \nL 66.609375 0 \nL 56 0 \nL 46.6875 18.703125 \nQ 43.0625 26.03125 39.671875 28.421875 \nQ 36.28125 30.8125 30.421875 30.8125 \nL 19.671875 30.8125 \nL 19.671875 0 \nL 9.8125 0 \nL 9.8125 72.90625 \nL 32.078125 72.90625 \nQ 44.578125 72.90625 50.734375 67.671875 \nQ 56.890625 62.453125 56.890625 51.90625 \nQ 56.890625 45.015625 53.6875 40.46875 \nQ 50.484375 35.9375 44.390625 34.1875 \nz\nM 19.671875 64.796875 \nL 19.671875 38.921875 \nL 32.078125 38.921875 \nQ 39.203125 38.921875 42.84375 42.21875 \nQ 46.484375 45.515625 46.484375 51.90625 \nQ 46.484375 58.296875 42.84375 61.546875 \nQ 39.203125 64.796875 32.078125 64.796875 \nz\n\" id=\"DejaVuSans-82\"/>\n      </defs>\n      <g transform=\"translate(18.677813 340.107005)scale(0.14 -0.14)\">\n       <use xlink:href=\"#DejaVuSans-78\"/>\n       <use x=\"74.804688\" xlink:href=\"#DejaVuSans-101\"/>\n       <use x=\"136.328125\" xlink:href=\"#DejaVuSans-105\"/>\n       <use x=\"164.111328\" xlink:href=\"#DejaVuSans-103\"/>\n       <use x=\"227.587891\" xlink:href=\"#DejaVuSans-104\"/>\n       <use x=\"290.966797\" xlink:href=\"#DejaVuSans-98\"/>\n       <use x=\"354.443359\" xlink:href=\"#DejaVuSans-111\"/>\n       <use x=\"415.625\" xlink:href=\"#DejaVuSans-114\"/>\n       <use x=\"454.988281\" xlink:href=\"#DejaVuSans-104\"/>\n       <use x=\"518.367188\" xlink:href=\"#DejaVuSans-111\"/>\n       <use x=\"579.548828\" xlink:href=\"#DejaVuSans-111\"/>\n       <use x=\"640.730469\" xlink:href=\"#DejaVuSans-100\"/>\n       <use x=\"704.207031\" xlink:href=\"#DejaVuSans-95\"/>\n       <use x=\"754.207031\" xlink:href=\"#DejaVuSans-73\"/>\n       <use x=\"783.699219\" xlink:href=\"#DejaVuSans-68\"/>\n       <use x=\"860.701172\" xlink:href=\"#DejaVuSans-79\"/>\n       <use x=\"939.412109\" xlink:href=\"#DejaVuSans-84\"/>\n       <use x=\"1000.496094\" xlink:href=\"#DejaVuSans-82\"/>\n       <use x=\"1069.978516\" xlink:href=\"#DejaVuSans-82\"/>\n      </g>\n     </g>\n    </g>\n    <g id=\"ytick_2\">\n     <g id=\"line2d_13\">\n      <path clip-path=\"url(#pfa1e0c774d)\" d=\"M 181.71 318.721983 \nL 808.11 318.721983 \n\" style=\"fill:none;stroke:#cbcbcb;\"/>\n     </g>\n     <g id=\"line2d_14\"/>\n     <g id=\"text_9\">\n      <!-- Neighborhood_Timber -->\n      <defs>\n       <path d=\"M 52 44.1875 \nQ 55.375 50.25 60.0625 53.125 \nQ 64.75 56 71.09375 56 \nQ 79.640625 56 84.28125 50.015625 \nQ 88.921875 44.046875 88.921875 33.015625 \nL 88.921875 0 \nL 79.890625 0 \nL 79.890625 32.71875 \nQ 79.890625 40.578125 77.09375 44.375 \nQ 74.3125 48.1875 68.609375 48.1875 \nQ 61.625 48.1875 57.5625 43.546875 \nQ 53.515625 38.921875 53.515625 30.90625 \nL 53.515625 0 \nL 44.484375 0 \nL 44.484375 32.71875 \nQ 44.484375 40.625 41.703125 44.40625 \nQ 38.921875 48.1875 33.109375 48.1875 \nQ 26.21875 48.1875 22.15625 43.53125 \nQ 18.109375 38.875 18.109375 30.90625 \nL 18.109375 0 \nL 9.078125 0 \nL 9.078125 54.6875 \nL 18.109375 54.6875 \nL 18.109375 46.1875 \nQ 21.1875 51.21875 25.484375 53.609375 \nQ 29.78125 56 35.6875 56 \nQ 41.65625 56 45.828125 52.96875 \nQ 50 49.953125 52 44.1875 \nz\n\" id=\"DejaVuSans-109\"/>\n      </defs>\n      <g transform=\"translate(23.717813 324.04089)scale(0.14 -0.14)\">\n       <use xlink:href=\"#DejaVuSans-78\"/>\n       <use x=\"74.804688\" xlink:href=\"#DejaVuSans-101\"/>\n       <use x=\"136.328125\" xlink:href=\"#DejaVuSans-105\"/>\n       <use x=\"164.111328\" xlink:href=\"#DejaVuSans-103\"/>\n       <use x=\"227.587891\" xlink:href=\"#DejaVuSans-104\"/>\n       <use x=\"290.966797\" xlink:href=\"#DejaVuSans-98\"/>\n       <use x=\"354.443359\" xlink:href=\"#DejaVuSans-111\"/>\n       <use x=\"415.625\" xlink:href=\"#DejaVuSans-114\"/>\n       <use x=\"454.988281\" xlink:href=\"#DejaVuSans-104\"/>\n       <use x=\"518.367188\" xlink:href=\"#DejaVuSans-111\"/>\n       <use x=\"579.548828\" xlink:href=\"#DejaVuSans-111\"/>\n       <use x=\"640.730469\" xlink:href=\"#DejaVuSans-100\"/>\n       <use x=\"704.207031\" xlink:href=\"#DejaVuSans-95\"/>\n       <use x=\"754.207031\" xlink:href=\"#DejaVuSans-84\"/>\n       <use x=\"812.166016\" xlink:href=\"#DejaVuSans-105\"/>\n       <use x=\"839.949219\" xlink:href=\"#DejaVuSans-109\"/>\n       <use x=\"937.361328\" xlink:href=\"#DejaVuSans-98\"/>\n       <use x=\"1000.837891\" xlink:href=\"#DejaVuSans-101\"/>\n       <use x=\"1062.361328\" xlink:href=\"#DejaVuSans-114\"/>\n      </g>\n     </g>\n    </g>\n    <g id=\"ytick_3\">\n     <g id=\"line2d_15\">\n      <path clip-path=\"url(#pfa1e0c774d)\" d=\"M 181.71 302.655868 \nL 808.11 302.655868 \n\" style=\"fill:none;stroke:#cbcbcb;\"/>\n     </g>\n     <g id=\"line2d_16\"/>\n     <g id=\"text_10\">\n      <!-- MSZoning_RH -->\n      <defs>\n       <path d=\"M 9.8125 72.90625 \nL 24.515625 72.90625 \nL 43.109375 23.296875 \nL 61.8125 72.90625 \nL 76.515625 72.90625 \nL 76.515625 0 \nL 66.890625 0 \nL 66.890625 64.015625 \nL 48.09375 14.015625 \nL 38.1875 14.015625 \nL 19.390625 64.015625 \nL 19.390625 0 \nL 9.8125 0 \nz\n\" id=\"DejaVuSans-77\"/>\n       <path d=\"M 53.515625 70.515625 \nL 53.515625 60.890625 \nQ 47.90625 63.578125 42.921875 64.890625 \nQ 37.9375 66.21875 33.296875 66.21875 \nQ 25.25 66.21875 20.875 63.09375 \nQ 16.5 59.96875 16.5 54.203125 \nQ 16.5 49.359375 19.40625 46.890625 \nQ 22.3125 44.4375 30.421875 42.921875 \nL 36.375 41.703125 \nQ 47.40625 39.59375 52.65625 34.296875 \nQ 57.90625 29 57.90625 20.125 \nQ 57.90625 9.515625 50.796875 4.046875 \nQ 43.703125 -1.421875 29.984375 -1.421875 \nQ 24.8125 -1.421875 18.96875 -0.25 \nQ 13.140625 0.921875 6.890625 3.21875 \nL 6.890625 13.375 \nQ 12.890625 10.015625 18.65625 8.296875 \nQ 24.421875 6.59375 29.984375 6.59375 \nQ 38.421875 6.59375 43.015625 9.90625 \nQ 47.609375 13.234375 47.609375 19.390625 \nQ 47.609375 24.75 44.3125 27.78125 \nQ 41.015625 30.8125 33.5 32.328125 \nL 27.484375 33.5 \nQ 16.453125 35.6875 11.515625 40.375 \nQ 6.59375 45.0625 6.59375 53.421875 \nQ 6.59375 63.09375 13.40625 68.65625 \nQ 20.21875 74.21875 32.171875 74.21875 \nQ 37.3125 74.21875 42.625 73.28125 \nQ 47.953125 72.359375 53.515625 70.515625 \nz\n\" id=\"DejaVuSans-83\"/>\n       <path d=\"M 5.609375 72.90625 \nL 62.890625 72.90625 \nL 62.890625 65.375 \nL 16.796875 8.296875 \nL 64.015625 8.296875 \nL 64.015625 0 \nL 4.5 0 \nL 4.5 7.515625 \nL 50.59375 64.59375 \nL 5.609375 64.59375 \nz\n\" id=\"DejaVuSans-90\"/>\n       <path d=\"M 9.8125 72.90625 \nL 19.671875 72.90625 \nL 19.671875 43.015625 \nL 55.515625 43.015625 \nL 55.515625 72.90625 \nL 65.375 72.90625 \nL 65.375 0 \nL 55.515625 0 \nL 55.515625 34.71875 \nL 19.671875 34.71875 \nL 19.671875 0 \nL 9.8125 0 \nz\n\" id=\"DejaVuSans-72\"/>\n      </defs>\n      <g transform=\"translate(81.308125 307.974774)scale(0.14 -0.14)\">\n       <use xlink:href=\"#DejaVuSans-77\"/>\n       <use x=\"86.279297\" xlink:href=\"#DejaVuSans-83\"/>\n       <use x=\"149.755859\" xlink:href=\"#DejaVuSans-90\"/>\n       <use x=\"218.261719\" xlink:href=\"#DejaVuSans-111\"/>\n       <use x=\"279.443359\" xlink:href=\"#DejaVuSans-110\"/>\n       <use x=\"342.822266\" xlink:href=\"#DejaVuSans-105\"/>\n       <use x=\"370.605469\" xlink:href=\"#DejaVuSans-110\"/>\n       <use x=\"433.984375\" xlink:href=\"#DejaVuSans-103\"/>\n       <use x=\"497.460938\" xlink:href=\"#DejaVuSans-95\"/>\n       <use x=\"547.460938\" xlink:href=\"#DejaVuSans-82\"/>\n       <use x=\"616.943359\" xlink:href=\"#DejaVuSans-72\"/>\n      </g>\n     </g>\n    </g>\n    <g id=\"ytick_4\">\n     <g id=\"line2d_17\">\n      <path clip-path=\"url(#pfa1e0c774d)\" d=\"M 181.71 286.589752 \nL 808.11 286.589752 \n\" style=\"fill:none;stroke:#cbcbcb;\"/>\n     </g>\n     <g id=\"line2d_18\"/>\n     <g id=\"text_11\">\n      <!-- Neighborhood_NoRidge -->\n      <g transform=\"translate(13.567813 291.908658)scale(0.14 -0.14)\">\n       <use xlink:href=\"#DejaVuSans-78\"/>\n       <use x=\"74.804688\" xlink:href=\"#DejaVuSans-101\"/>\n       <use x=\"136.328125\" xlink:href=\"#DejaVuSans-105\"/>\n       <use x=\"164.111328\" xlink:href=\"#DejaVuSans-103\"/>\n       <use x=\"227.587891\" xlink:href=\"#DejaVuSans-104\"/>\n       <use x=\"290.966797\" xlink:href=\"#DejaVuSans-98\"/>\n       <use x=\"354.443359\" xlink:href=\"#DejaVuSans-111\"/>\n       <use x=\"415.625\" xlink:href=\"#DejaVuSans-114\"/>\n       <use x=\"454.988281\" xlink:href=\"#DejaVuSans-104\"/>\n       <use x=\"518.367188\" xlink:href=\"#DejaVuSans-111\"/>\n       <use x=\"579.548828\" xlink:href=\"#DejaVuSans-111\"/>\n       <use x=\"640.730469\" xlink:href=\"#DejaVuSans-100\"/>\n       <use x=\"704.207031\" xlink:href=\"#DejaVuSans-95\"/>\n       <use x=\"754.207031\" xlink:href=\"#DejaVuSans-78\"/>\n       <use x=\"829.011719\" xlink:href=\"#DejaVuSans-111\"/>\n       <use x=\"890.193359\" xlink:href=\"#DejaVuSans-82\"/>\n       <use x=\"959.675781\" xlink:href=\"#DejaVuSans-105\"/>\n       <use x=\"987.458984\" xlink:href=\"#DejaVuSans-100\"/>\n       <use x=\"1050.935547\" xlink:href=\"#DejaVuSans-103\"/>\n       <use x=\"1114.412109\" xlink:href=\"#DejaVuSans-101\"/>\n      </g>\n     </g>\n    </g>\n    <g id=\"ytick_5\">\n     <g id=\"line2d_19\">\n      <path clip-path=\"url(#pfa1e0c774d)\" d=\"M 181.71 270.523636 \nL 808.11 270.523636 \n\" style=\"fill:none;stroke:#cbcbcb;\"/>\n     </g>\n     <g id=\"line2d_20\"/>\n     <g id=\"text_12\">\n      <!-- Neighborhood_Mitchel -->\n      <g transform=\"translate(22.08375 275.842543)scale(0.14 -0.14)\">\n       <use xlink:href=\"#DejaVuSans-78\"/>\n       <use x=\"74.804688\" xlink:href=\"#DejaVuSans-101\"/>\n       <use x=\"136.328125\" xlink:href=\"#DejaVuSans-105\"/>\n       <use x=\"164.111328\" xlink:href=\"#DejaVuSans-103\"/>\n       <use x=\"227.587891\" xlink:href=\"#DejaVuSans-104\"/>\n       <use x=\"290.966797\" xlink:href=\"#DejaVuSans-98\"/>\n       <use x=\"354.443359\" xlink:href=\"#DejaVuSans-111\"/>\n       <use x=\"415.625\" xlink:href=\"#DejaVuSans-114\"/>\n       <use x=\"454.988281\" xlink:href=\"#DejaVuSans-104\"/>\n       <use x=\"518.367188\" xlink:href=\"#DejaVuSans-111\"/>\n       <use x=\"579.548828\" xlink:href=\"#DejaVuSans-111\"/>\n       <use x=\"640.730469\" xlink:href=\"#DejaVuSans-100\"/>\n       <use x=\"704.207031\" xlink:href=\"#DejaVuSans-95\"/>\n       <use x=\"754.207031\" xlink:href=\"#DejaVuSans-77\"/>\n       <use x=\"840.486328\" xlink:href=\"#DejaVuSans-105\"/>\n       <use x=\"868.269531\" xlink:href=\"#DejaVuSans-116\"/>\n       <use x=\"907.478516\" xlink:href=\"#DejaVuSans-99\"/>\n       <use x=\"962.458984\" xlink:href=\"#DejaVuSans-104\"/>\n       <use x=\"1025.837891\" xlink:href=\"#DejaVuSans-101\"/>\n       <use x=\"1087.361328\" xlink:href=\"#DejaVuSans-108\"/>\n      </g>\n     </g>\n    </g>\n    <g id=\"ytick_6\">\n     <g id=\"line2d_21\">\n      <path clip-path=\"url(#pfa1e0c774d)\" d=\"M 181.71 254.457521 \nL 808.11 254.457521 \n\" style=\"fill:none;stroke:#cbcbcb;\"/>\n     </g>\n     <g id=\"line2d_22\"/>\n     <g id=\"text_13\">\n      <!-- Neighborhood_Crawfor -->\n      <defs>\n       <path d=\"M 64.40625 67.28125 \nL 64.40625 56.890625 \nQ 59.421875 61.53125 53.78125 63.8125 \nQ 48.140625 66.109375 41.796875 66.109375 \nQ 29.296875 66.109375 22.65625 58.46875 \nQ 16.015625 50.828125 16.015625 36.375 \nQ 16.015625 21.96875 22.65625 14.328125 \nQ 29.296875 6.6875 41.796875 6.6875 \nQ 48.140625 6.6875 53.78125 8.984375 \nQ 59.421875 11.28125 64.40625 15.921875 \nL 64.40625 5.609375 \nQ 59.234375 2.09375 53.4375 0.328125 \nQ 47.65625 -1.421875 41.21875 -1.421875 \nQ 24.65625 -1.421875 15.125 8.703125 \nQ 5.609375 18.84375 5.609375 36.375 \nQ 5.609375 53.953125 15.125 64.078125 \nQ 24.65625 74.21875 41.21875 74.21875 \nQ 47.75 74.21875 53.53125 72.484375 \nQ 59.328125 70.75 64.40625 67.28125 \nz\n\" id=\"DejaVuSans-67\"/>\n       <path d=\"M 4.203125 54.6875 \nL 13.1875 54.6875 \nL 24.421875 12.015625 \nL 35.59375 54.6875 \nL 46.1875 54.6875 \nL 57.421875 12.015625 \nL 68.609375 54.6875 \nL 77.59375 54.6875 \nL 63.28125 0 \nL 52.6875 0 \nL 40.921875 44.828125 \nL 29.109375 0 \nL 18.5 0 \nz\n\" id=\"DejaVuSans-119\"/>\n      </defs>\n      <g transform=\"translate(17.805 259.776427)scale(0.14 -0.14)\">\n       <use xlink:href=\"#DejaVuSans-78\"/>\n       <use x=\"74.804688\" xlink:href=\"#DejaVuSans-101\"/>\n       <use x=\"136.328125\" xlink:href=\"#DejaVuSans-105\"/>\n       <use x=\"164.111328\" xlink:href=\"#DejaVuSans-103\"/>\n       <use x=\"227.587891\" xlink:href=\"#DejaVuSans-104\"/>\n       <use x=\"290.966797\" xlink:href=\"#DejaVuSans-98\"/>\n       <use x=\"354.443359\" xlink:href=\"#DejaVuSans-111\"/>\n       <use x=\"415.625\" xlink:href=\"#DejaVuSans-114\"/>\n       <use x=\"454.988281\" xlink:href=\"#DejaVuSans-104\"/>\n       <use x=\"518.367188\" xlink:href=\"#DejaVuSans-111\"/>\n       <use x=\"579.548828\" xlink:href=\"#DejaVuSans-111\"/>\n       <use x=\"640.730469\" xlink:href=\"#DejaVuSans-100\"/>\n       <use x=\"704.207031\" xlink:href=\"#DejaVuSans-95\"/>\n       <use x=\"754.207031\" xlink:href=\"#DejaVuSans-67\"/>\n       <use x=\"824.03125\" xlink:href=\"#DejaVuSans-114\"/>\n       <use x=\"865.144531\" xlink:href=\"#DejaVuSans-97\"/>\n       <use x=\"926.423828\" xlink:href=\"#DejaVuSans-119\"/>\n       <use x=\"1008.210938\" xlink:href=\"#DejaVuSans-102\"/>\n       <use x=\"1043.416016\" xlink:href=\"#DejaVuSans-111\"/>\n       <use x=\"1104.597656\" xlink:href=\"#DejaVuSans-114\"/>\n      </g>\n     </g>\n    </g>\n    <g id=\"ytick_7\">\n     <g id=\"line2d_23\">\n      <path clip-path=\"url(#pfa1e0c774d)\" d=\"M 181.71 238.391405 \nL 808.11 238.391405 \n\" style=\"fill:none;stroke:#cbcbcb;\"/>\n     </g>\n     <g id=\"line2d_24\"/>\n     <g id=\"text_14\">\n      <!-- Neighborhood_BrkSide -->\n      <defs>\n       <path d=\"M 19.671875 34.8125 \nL 19.671875 8.109375 \nL 35.5 8.109375 \nQ 43.453125 8.109375 47.28125 11.40625 \nQ 51.125 14.703125 51.125 21.484375 \nQ 51.125 28.328125 47.28125 31.5625 \nQ 43.453125 34.8125 35.5 34.8125 \nz\nM 19.671875 64.796875 \nL 19.671875 42.828125 \nL 34.28125 42.828125 \nQ 41.5 42.828125 45.03125 45.53125 \nQ 48.578125 48.25 48.578125 53.8125 \nQ 48.578125 59.328125 45.03125 62.0625 \nQ 41.5 64.796875 34.28125 64.796875 \nz\nM 9.8125 72.90625 \nL 35.015625 72.90625 \nQ 46.296875 72.90625 52.390625 68.21875 \nQ 58.5 63.53125 58.5 54.890625 \nQ 58.5 48.1875 55.375 44.234375 \nQ 52.25 40.28125 46.1875 39.3125 \nQ 53.46875 37.75 57.5 32.78125 \nQ 61.53125 27.828125 61.53125 20.40625 \nQ 61.53125 10.640625 54.890625 5.3125 \nQ 48.25 0 35.984375 0 \nL 9.8125 0 \nz\n\" id=\"DejaVuSans-66\"/>\n       <path d=\"M 9.078125 75.984375 \nL 18.109375 75.984375 \nL 18.109375 31.109375 \nL 44.921875 54.6875 \nL 56.390625 54.6875 \nL 27.390625 29.109375 \nL 57.625 0 \nL 45.90625 0 \nL 18.109375 26.703125 \nL 18.109375 0 \nL 9.078125 0 \nz\n\" id=\"DejaVuSans-107\"/>\n      </defs>\n      <g transform=\"translate(18.868125 243.710311)scale(0.14 -0.14)\">\n       <use xlink:href=\"#DejaVuSans-78\"/>\n       <use x=\"74.804688\" xlink:href=\"#DejaVuSans-101\"/>\n       <use x=\"136.328125\" xlink:href=\"#DejaVuSans-105\"/>\n       <use x=\"164.111328\" xlink:href=\"#DejaVuSans-103\"/>\n       <use x=\"227.587891\" xlink:href=\"#DejaVuSans-104\"/>\n       <use x=\"290.966797\" xlink:href=\"#DejaVuSans-98\"/>\n       <use x=\"354.443359\" xlink:href=\"#DejaVuSans-111\"/>\n       <use x=\"415.625\" xlink:href=\"#DejaVuSans-114\"/>\n       <use x=\"454.988281\" xlink:href=\"#DejaVuSans-104\"/>\n       <use x=\"518.367188\" xlink:href=\"#DejaVuSans-111\"/>\n       <use x=\"579.548828\" xlink:href=\"#DejaVuSans-111\"/>\n       <use x=\"640.730469\" xlink:href=\"#DejaVuSans-100\"/>\n       <use x=\"704.207031\" xlink:href=\"#DejaVuSans-95\"/>\n       <use x=\"754.207031\" xlink:href=\"#DejaVuSans-66\"/>\n       <use x=\"822.810547\" xlink:href=\"#DejaVuSans-114\"/>\n       <use x=\"863.923828\" xlink:href=\"#DejaVuSans-107\"/>\n       <use x=\"921.833984\" xlink:href=\"#DejaVuSans-83\"/>\n       <use x=\"985.310547\" xlink:href=\"#DejaVuSans-105\"/>\n       <use x=\"1013.09375\" xlink:href=\"#DejaVuSans-100\"/>\n       <use x=\"1076.570312\" xlink:href=\"#DejaVuSans-101\"/>\n      </g>\n     </g>\n    </g>\n    <g id=\"ytick_8\">\n     <g id=\"line2d_25\">\n      <path clip-path=\"url(#pfa1e0c774d)\" d=\"M 181.71 222.325289 \nL 808.11 222.325289 \n\" style=\"fill:none;stroke:#cbcbcb;\"/>\n     </g>\n     <g id=\"line2d_26\"/>\n     <g id=\"text_15\">\n      <!-- Neighborhood_SawyerW -->\n      <defs>\n       <path d=\"M 32.171875 -5.078125 \nQ 28.375 -14.84375 24.75 -17.8125 \nQ 21.140625 -20.796875 15.09375 -20.796875 \nL 7.90625 -20.796875 \nL 7.90625 -13.28125 \nL 13.1875 -13.28125 \nQ 16.890625 -13.28125 18.9375 -11.515625 \nQ 21 -9.765625 23.484375 -3.21875 \nL 25.09375 0.875 \nL 2.984375 54.6875 \nL 12.5 54.6875 \nL 29.59375 11.921875 \nL 46.6875 54.6875 \nL 56.203125 54.6875 \nz\n\" id=\"DejaVuSans-121\"/>\n       <path d=\"M 3.328125 72.90625 \nL 13.28125 72.90625 \nL 28.609375 11.28125 \nL 43.890625 72.90625 \nL 54.984375 72.90625 \nL 70.3125 11.28125 \nL 85.59375 72.90625 \nL 95.609375 72.90625 \nL 77.296875 0 \nL 64.890625 0 \nL 49.515625 63.28125 \nL 33.984375 0 \nL 21.578125 0 \nz\n\" id=\"DejaVuSans-87\"/>\n      </defs>\n      <g transform=\"translate(7.2 227.644196)scale(0.14 -0.14)\">\n       <use xlink:href=\"#DejaVuSans-78\"/>\n       <use x=\"74.804688\" xlink:href=\"#DejaVuSans-101\"/>\n       <use x=\"136.328125\" xlink:href=\"#DejaVuSans-105\"/>\n       <use x=\"164.111328\" xlink:href=\"#DejaVuSans-103\"/>\n       <use x=\"227.587891\" xlink:href=\"#DejaVuSans-104\"/>\n       <use x=\"290.966797\" xlink:href=\"#DejaVuSans-98\"/>\n       <use x=\"354.443359\" xlink:href=\"#DejaVuSans-111\"/>\n       <use x=\"415.625\" xlink:href=\"#DejaVuSans-114\"/>\n       <use x=\"454.988281\" xlink:href=\"#DejaVuSans-104\"/>\n       <use x=\"518.367188\" xlink:href=\"#DejaVuSans-111\"/>\n       <use x=\"579.548828\" xlink:href=\"#DejaVuSans-111\"/>\n       <use x=\"640.730469\" xlink:href=\"#DejaVuSans-100\"/>\n       <use x=\"704.207031\" xlink:href=\"#DejaVuSans-95\"/>\n       <use x=\"754.207031\" xlink:href=\"#DejaVuSans-83\"/>\n       <use x=\"817.683594\" xlink:href=\"#DejaVuSans-97\"/>\n       <use x=\"878.962891\" xlink:href=\"#DejaVuSans-119\"/>\n       <use x=\"960.75\" xlink:href=\"#DejaVuSans-121\"/>\n       <use x=\"1019.929688\" xlink:href=\"#DejaVuSans-101\"/>\n       <use x=\"1081.453125\" xlink:href=\"#DejaVuSans-114\"/>\n       <use x=\"1122.566406\" xlink:href=\"#DejaVuSans-87\"/>\n      </g>\n     </g>\n    </g>\n    <g id=\"ytick_9\">\n     <g id=\"line2d_27\">\n      <path clip-path=\"url(#pfa1e0c774d)\" d=\"M 181.71 206.259174 \nL 808.11 206.259174 \n\" style=\"fill:none;stroke:#cbcbcb;\"/>\n     </g>\n     <g id=\"line2d_28\"/>\n     <g id=\"text_16\">\n      <!-- Neighborhood_NWAmes -->\n      <defs>\n       <path d=\"M 34.1875 63.1875 \nL 20.796875 26.90625 \nL 47.609375 26.90625 \nz\nM 28.609375 72.90625 \nL 39.796875 72.90625 \nL 67.578125 0 \nL 57.328125 0 \nL 50.6875 18.703125 \nL 17.828125 18.703125 \nL 11.1875 0 \nL 0.78125 0 \nz\n\" id=\"DejaVuSans-65\"/>\n       <path d=\"M 44.28125 53.078125 \nL 44.28125 44.578125 \nQ 40.484375 46.53125 36.375 47.5 \nQ 32.28125 48.484375 27.875 48.484375 \nQ 21.1875 48.484375 17.84375 46.4375 \nQ 14.5 44.390625 14.5 40.28125 \nQ 14.5 37.15625 16.890625 35.375 \nQ 19.28125 33.59375 26.515625 31.984375 \nL 29.59375 31.296875 \nQ 39.15625 29.25 43.1875 25.515625 \nQ 47.21875 21.78125 47.21875 15.09375 \nQ 47.21875 7.46875 41.1875 3.015625 \nQ 35.15625 -1.421875 24.609375 -1.421875 \nQ 20.21875 -1.421875 15.453125 -0.5625 \nQ 10.6875 0.296875 5.421875 2 \nL 5.421875 11.28125 \nQ 10.40625 8.6875 15.234375 7.390625 \nQ 20.0625 6.109375 24.8125 6.109375 \nQ 31.15625 6.109375 34.5625 8.28125 \nQ 37.984375 10.453125 37.984375 14.40625 \nQ 37.984375 18.0625 35.515625 20.015625 \nQ 33.0625 21.96875 24.703125 23.78125 \nL 21.578125 24.515625 \nQ 13.234375 26.265625 9.515625 29.90625 \nQ 5.8125 33.546875 5.8125 39.890625 \nQ 5.8125 47.609375 11.28125 51.796875 \nQ 16.75 56 26.8125 56 \nQ 31.78125 56 36.171875 55.265625 \nQ 40.578125 54.546875 44.28125 53.078125 \nz\n\" id=\"DejaVuSans-115\"/>\n      </defs>\n      <g transform=\"translate(9.9475 211.57808)scale(0.14 -0.14)\">\n       <use xlink:href=\"#DejaVuSans-78\"/>\n       <use x=\"74.804688\" xlink:href=\"#DejaVuSans-101\"/>\n       <use x=\"136.328125\" xlink:href=\"#DejaVuSans-105\"/>\n       <use x=\"164.111328\" xlink:href=\"#DejaVuSans-103\"/>\n       <use x=\"227.587891\" xlink:href=\"#DejaVuSans-104\"/>\n       <use x=\"290.966797\" xlink:href=\"#DejaVuSans-98\"/>\n       <use x=\"354.443359\" xlink:href=\"#DejaVuSans-111\"/>\n       <use x=\"415.625\" xlink:href=\"#DejaVuSans-114\"/>\n       <use x=\"454.988281\" xlink:href=\"#DejaVuSans-104\"/>\n       <use x=\"518.367188\" xlink:href=\"#DejaVuSans-111\"/>\n       <use x=\"579.548828\" xlink:href=\"#DejaVuSans-111\"/>\n       <use x=\"640.730469\" xlink:href=\"#DejaVuSans-100\"/>\n       <use x=\"704.207031\" xlink:href=\"#DejaVuSans-95\"/>\n       <use x=\"754.207031\" xlink:href=\"#DejaVuSans-78\"/>\n       <use x=\"829.011719\" xlink:href=\"#DejaVuSans-87\"/>\n       <use x=\"922.388672\" xlink:href=\"#DejaVuSans-65\"/>\n       <use x=\"990.796875\" xlink:href=\"#DejaVuSans-109\"/>\n       <use x=\"1088.208984\" xlink:href=\"#DejaVuSans-101\"/>\n       <use x=\"1149.732422\" xlink:href=\"#DejaVuSans-115\"/>\n      </g>\n     </g>\n    </g>\n    <g id=\"ytick_10\">\n     <g id=\"line2d_29\">\n      <path clip-path=\"url(#pfa1e0c774d)\" d=\"M 181.71 190.193058 \nL 808.11 190.193058 \n\" style=\"fill:none;stroke:#cbcbcb;\"/>\n     </g>\n     <g id=\"line2d_30\"/>\n     <g id=\"text_17\">\n      <!-- Neighborhood_Sawyer -->\n      <g transform=\"translate(21.0425 195.511964)scale(0.14 -0.14)\">\n       <use xlink:href=\"#DejaVuSans-78\"/>\n       <use x=\"74.804688\" xlink:href=\"#DejaVuSans-101\"/>\n       <use x=\"136.328125\" xlink:href=\"#DejaVuSans-105\"/>\n       <use x=\"164.111328\" xlink:href=\"#DejaVuSans-103\"/>\n       <use x=\"227.587891\" xlink:href=\"#DejaVuSans-104\"/>\n       <use x=\"290.966797\" xlink:href=\"#DejaVuSans-98\"/>\n       <use x=\"354.443359\" xlink:href=\"#DejaVuSans-111\"/>\n       <use x=\"415.625\" xlink:href=\"#DejaVuSans-114\"/>\n       <use x=\"454.988281\" xlink:href=\"#DejaVuSans-104\"/>\n       <use x=\"518.367188\" xlink:href=\"#DejaVuSans-111\"/>\n       <use x=\"579.548828\" xlink:href=\"#DejaVuSans-111\"/>\n       <use x=\"640.730469\" xlink:href=\"#DejaVuSans-100\"/>\n       <use x=\"704.207031\" xlink:href=\"#DejaVuSans-95\"/>\n       <use x=\"754.207031\" xlink:href=\"#DejaVuSans-83\"/>\n       <use x=\"817.683594\" xlink:href=\"#DejaVuSans-97\"/>\n       <use x=\"878.962891\" xlink:href=\"#DejaVuSans-119\"/>\n       <use x=\"960.75\" xlink:href=\"#DejaVuSans-121\"/>\n       <use x=\"1019.929688\" xlink:href=\"#DejaVuSans-101\"/>\n       <use x=\"1081.453125\" xlink:href=\"#DejaVuSans-114\"/>\n      </g>\n     </g>\n    </g>\n    <g id=\"ytick_11\">\n     <g id=\"line2d_31\">\n      <path clip-path=\"url(#pfa1e0c774d)\" d=\"M 181.71 174.126942 \nL 808.11 174.126942 \n\" style=\"fill:none;stroke:#cbcbcb;\"/>\n     </g>\n     <g id=\"line2d_32\"/>\n     <g id=\"text_18\">\n      <!-- Neighborhood_NridgHt -->\n      <g transform=\"translate(18.704063 179.445848)scale(0.14 -0.14)\">\n       <use xlink:href=\"#DejaVuSans-78\"/>\n       <use x=\"74.804688\" xlink:href=\"#DejaVuSans-101\"/>\n       <use x=\"136.328125\" xlink:href=\"#DejaVuSans-105\"/>\n       <use x=\"164.111328\" xlink:href=\"#DejaVuSans-103\"/>\n       <use x=\"227.587891\" xlink:href=\"#DejaVuSans-104\"/>\n       <use x=\"290.966797\" xlink:href=\"#DejaVuSans-98\"/>\n       <use x=\"354.443359\" xlink:href=\"#DejaVuSans-111\"/>\n       <use x=\"415.625\" xlink:href=\"#DejaVuSans-114\"/>\n       <use x=\"454.988281\" xlink:href=\"#DejaVuSans-104\"/>\n       <use x=\"518.367188\" xlink:href=\"#DejaVuSans-111\"/>\n       <use x=\"579.548828\" xlink:href=\"#DejaVuSans-111\"/>\n       <use x=\"640.730469\" xlink:href=\"#DejaVuSans-100\"/>\n       <use x=\"704.207031\" xlink:href=\"#DejaVuSans-95\"/>\n       <use x=\"754.207031\" xlink:href=\"#DejaVuSans-78\"/>\n       <use x=\"829.011719\" xlink:href=\"#DejaVuSans-114\"/>\n       <use x=\"870.125\" xlink:href=\"#DejaVuSans-105\"/>\n       <use x=\"897.908203\" xlink:href=\"#DejaVuSans-100\"/>\n       <use x=\"961.384766\" xlink:href=\"#DejaVuSans-103\"/>\n       <use x=\"1024.861328\" xlink:href=\"#DejaVuSans-72\"/>\n       <use x=\"1100.056641\" xlink:href=\"#DejaVuSans-116\"/>\n      </g>\n     </g>\n    </g>\n    <g id=\"ytick_12\">\n     <g id=\"line2d_33\">\n      <path clip-path=\"url(#pfa1e0c774d)\" d=\"M 181.71 158.060826 \nL 808.11 158.060826 \n\" style=\"fill:none;stroke:#cbcbcb;\"/>\n     </g>\n     <g id=\"line2d_34\"/>\n     <g id=\"text_19\">\n      <!-- Neighborhood_Gilbert -->\n      <defs>\n       <path d=\"M 59.515625 10.40625 \nL 59.515625 29.984375 \nL 43.40625 29.984375 \nL 43.40625 38.09375 \nL 69.28125 38.09375 \nL 69.28125 6.78125 \nQ 63.578125 2.734375 56.6875 0.65625 \nQ 49.8125 -1.421875 42 -1.421875 \nQ 24.90625 -1.421875 15.25 8.5625 \nQ 5.609375 18.5625 5.609375 36.375 \nQ 5.609375 54.25 15.25 64.234375 \nQ 24.90625 74.21875 42 74.21875 \nQ 49.125 74.21875 55.546875 72.453125 \nQ 61.96875 70.703125 67.390625 67.28125 \nL 67.390625 56.78125 \nQ 61.921875 61.421875 55.765625 63.765625 \nQ 49.609375 66.109375 42.828125 66.109375 \nQ 29.4375 66.109375 22.71875 58.640625 \nQ 16.015625 51.171875 16.015625 36.375 \nQ 16.015625 21.625 22.71875 14.15625 \nQ 29.4375 6.6875 42.828125 6.6875 \nQ 48.046875 6.6875 52.140625 7.59375 \nQ 56.25 8.5 59.515625 10.40625 \nz\n\" id=\"DejaVuSans-71\"/>\n      </defs>\n      <g transform=\"translate(25.2425 163.379733)scale(0.14 -0.14)\">\n       <use xlink:href=\"#DejaVuSans-78\"/>\n       <use x=\"74.804688\" xlink:href=\"#DejaVuSans-101\"/>\n       <use x=\"136.328125\" xlink:href=\"#DejaVuSans-105\"/>\n       <use x=\"164.111328\" xlink:href=\"#DejaVuSans-103\"/>\n       <use x=\"227.587891\" xlink:href=\"#DejaVuSans-104\"/>\n       <use x=\"290.966797\" xlink:href=\"#DejaVuSans-98\"/>\n       <use x=\"354.443359\" xlink:href=\"#DejaVuSans-111\"/>\n       <use x=\"415.625\" xlink:href=\"#DejaVuSans-114\"/>\n       <use x=\"454.988281\" xlink:href=\"#DejaVuSans-104\"/>\n       <use x=\"518.367188\" xlink:href=\"#DejaVuSans-111\"/>\n       <use x=\"579.548828\" xlink:href=\"#DejaVuSans-111\"/>\n       <use x=\"640.730469\" xlink:href=\"#DejaVuSans-100\"/>\n       <use x=\"704.207031\" xlink:href=\"#DejaVuSans-95\"/>\n       <use x=\"754.207031\" xlink:href=\"#DejaVuSans-71\"/>\n       <use x=\"831.697266\" xlink:href=\"#DejaVuSans-105\"/>\n       <use x=\"859.480469\" xlink:href=\"#DejaVuSans-108\"/>\n       <use x=\"887.263672\" xlink:href=\"#DejaVuSans-98\"/>\n       <use x=\"950.740234\" xlink:href=\"#DejaVuSans-101\"/>\n       <use x=\"1012.263672\" xlink:href=\"#DejaVuSans-114\"/>\n       <use x=\"1053.376953\" xlink:href=\"#DejaVuSans-116\"/>\n      </g>\n     </g>\n    </g>\n    <g id=\"ytick_13\">\n     <g id=\"line2d_35\">\n      <path clip-path=\"url(#pfa1e0c774d)\" d=\"M 181.71 141.994711 \nL 808.11 141.994711 \n\" style=\"fill:none;stroke:#cbcbcb;\"/>\n     </g>\n     <g id=\"line2d_36\"/>\n     <g id=\"text_20\">\n      <!-- Neighborhood_Somerst -->\n      <g transform=\"translate(14.372813 147.313617)scale(0.14 -0.14)\">\n       <use xlink:href=\"#DejaVuSans-78\"/>\n       <use x=\"74.804688\" xlink:href=\"#DejaVuSans-101\"/>\n       <use x=\"136.328125\" xlink:href=\"#DejaVuSans-105\"/>\n       <use x=\"164.111328\" xlink:href=\"#DejaVuSans-103\"/>\n       <use x=\"227.587891\" xlink:href=\"#DejaVuSans-104\"/>\n       <use x=\"290.966797\" xlink:href=\"#DejaVuSans-98\"/>\n       <use x=\"354.443359\" xlink:href=\"#DejaVuSans-111\"/>\n       <use x=\"415.625\" xlink:href=\"#DejaVuSans-114\"/>\n       <use x=\"454.988281\" xlink:href=\"#DejaVuSans-104\"/>\n       <use x=\"518.367188\" xlink:href=\"#DejaVuSans-111\"/>\n       <use x=\"579.548828\" xlink:href=\"#DejaVuSans-111\"/>\n       <use x=\"640.730469\" xlink:href=\"#DejaVuSans-100\"/>\n       <use x=\"704.207031\" xlink:href=\"#DejaVuSans-95\"/>\n       <use x=\"754.207031\" xlink:href=\"#DejaVuSans-83\"/>\n       <use x=\"817.683594\" xlink:href=\"#DejaVuSans-111\"/>\n       <use x=\"878.865234\" xlink:href=\"#DejaVuSans-109\"/>\n       <use x=\"976.277344\" xlink:href=\"#DejaVuSans-101\"/>\n       <use x=\"1037.800781\" xlink:href=\"#DejaVuSans-114\"/>\n       <use x=\"1078.914062\" xlink:href=\"#DejaVuSans-115\"/>\n       <use x=\"1131.013672\" xlink:href=\"#DejaVuSans-116\"/>\n      </g>\n     </g>\n    </g>\n    <g id=\"ytick_14\">\n     <g id=\"line2d_37\">\n      <path clip-path=\"url(#pfa1e0c774d)\" d=\"M 181.71 125.928595 \nL 808.11 125.928595 \n\" style=\"fill:none;stroke:#cbcbcb;\"/>\n     </g>\n     <g id=\"line2d_38\"/>\n     <g id=\"text_21\">\n      <!-- Neighborhood_Edwards -->\n      <defs>\n       <path d=\"M 9.8125 72.90625 \nL 55.90625 72.90625 \nL 55.90625 64.59375 \nL 19.671875 64.59375 \nL 19.671875 43.015625 \nL 54.390625 43.015625 \nL 54.390625 34.71875 \nL 19.671875 34.71875 \nL 19.671875 8.296875 \nL 56.78125 8.296875 \nL 56.78125 0 \nL 9.8125 0 \nz\n\" id=\"DejaVuSans-69\"/>\n      </defs>\n      <g transform=\"translate(13.160938 131.247501)scale(0.14 -0.14)\">\n       <use xlink:href=\"#DejaVuSans-78\"/>\n       <use x=\"74.804688\" xlink:href=\"#DejaVuSans-101\"/>\n       <use x=\"136.328125\" xlink:href=\"#DejaVuSans-105\"/>\n       <use x=\"164.111328\" xlink:href=\"#DejaVuSans-103\"/>\n       <use x=\"227.587891\" xlink:href=\"#DejaVuSans-104\"/>\n       <use x=\"290.966797\" xlink:href=\"#DejaVuSans-98\"/>\n       <use x=\"354.443359\" xlink:href=\"#DejaVuSans-111\"/>\n       <use x=\"415.625\" xlink:href=\"#DejaVuSans-114\"/>\n       <use x=\"454.988281\" xlink:href=\"#DejaVuSans-104\"/>\n       <use x=\"518.367188\" xlink:href=\"#DejaVuSans-111\"/>\n       <use x=\"579.548828\" xlink:href=\"#DejaVuSans-111\"/>\n       <use x=\"640.730469\" xlink:href=\"#DejaVuSans-100\"/>\n       <use x=\"704.207031\" xlink:href=\"#DejaVuSans-95\"/>\n       <use x=\"754.207031\" xlink:href=\"#DejaVuSans-69\"/>\n       <use x=\"817.390625\" xlink:href=\"#DejaVuSans-100\"/>\n       <use x=\"880.867188\" xlink:href=\"#DejaVuSans-119\"/>\n       <use x=\"962.654297\" xlink:href=\"#DejaVuSans-97\"/>\n       <use x=\"1023.933594\" xlink:href=\"#DejaVuSans-114\"/>\n       <use x=\"1063.296875\" xlink:href=\"#DejaVuSans-100\"/>\n       <use x=\"1126.773438\" xlink:href=\"#DejaVuSans-115\"/>\n      </g>\n     </g>\n    </g>\n    <g id=\"ytick_15\">\n     <g id=\"line2d_39\">\n      <path clip-path=\"url(#pfa1e0c774d)\" d=\"M 181.71 109.862479 \nL 808.11 109.862479 \n\" style=\"fill:none;stroke:#cbcbcb;\"/>\n     </g>\n     <g id=\"line2d_40\"/>\n     <g id=\"text_22\">\n      <!-- Neighborhood_OldTown -->\n      <g transform=\"translate(13.758125 115.181386)scale(0.14 -0.14)\">\n       <use xlink:href=\"#DejaVuSans-78\"/>\n       <use x=\"74.804688\" xlink:href=\"#DejaVuSans-101\"/>\n       <use x=\"136.328125\" xlink:href=\"#DejaVuSans-105\"/>\n       <use x=\"164.111328\" xlink:href=\"#DejaVuSans-103\"/>\n       <use x=\"227.587891\" xlink:href=\"#DejaVuSans-104\"/>\n       <use x=\"290.966797\" xlink:href=\"#DejaVuSans-98\"/>\n       <use x=\"354.443359\" xlink:href=\"#DejaVuSans-111\"/>\n       <use x=\"415.625\" xlink:href=\"#DejaVuSans-114\"/>\n       <use x=\"454.988281\" xlink:href=\"#DejaVuSans-104\"/>\n       <use x=\"518.367188\" xlink:href=\"#DejaVuSans-111\"/>\n       <use x=\"579.548828\" xlink:href=\"#DejaVuSans-111\"/>\n       <use x=\"640.730469\" xlink:href=\"#DejaVuSans-100\"/>\n       <use x=\"704.207031\" xlink:href=\"#DejaVuSans-95\"/>\n       <use x=\"754.207031\" xlink:href=\"#DejaVuSans-79\"/>\n       <use x=\"832.917969\" xlink:href=\"#DejaVuSans-108\"/>\n       <use x=\"860.701172\" xlink:href=\"#DejaVuSans-100\"/>\n       <use x=\"924.177734\" xlink:href=\"#DejaVuSans-84\"/>\n       <use x=\"968.261719\" xlink:href=\"#DejaVuSans-111\"/>\n       <use x=\"1029.443359\" xlink:href=\"#DejaVuSans-119\"/>\n       <use x=\"1111.230469\" xlink:href=\"#DejaVuSans-110\"/>\n      </g>\n     </g>\n    </g>\n    <g id=\"ytick_16\">\n     <g id=\"line2d_41\">\n      <path clip-path=\"url(#pfa1e0c774d)\" d=\"M 181.71 93.796364 \nL 808.11 93.796364 \n\" style=\"fill:none;stroke:#cbcbcb;\"/>\n     </g>\n     <g id=\"line2d_42\"/>\n     <g id=\"text_23\">\n      <!-- Neighborhood_CollgCr -->\n      <g transform=\"translate(22.075 99.11527)scale(0.14 -0.14)\">\n       <use xlink:href=\"#DejaVuSans-78\"/>\n       <use x=\"74.804688\" xlink:href=\"#DejaVuSans-101\"/>\n       <use x=\"136.328125\" xlink:href=\"#DejaVuSans-105\"/>\n       <use x=\"164.111328\" xlink:href=\"#DejaVuSans-103\"/>\n       <use x=\"227.587891\" xlink:href=\"#DejaVuSans-104\"/>\n       <use x=\"290.966797\" xlink:href=\"#DejaVuSans-98\"/>\n       <use x=\"354.443359\" xlink:href=\"#DejaVuSans-111\"/>\n       <use x=\"415.625\" xlink:href=\"#DejaVuSans-114\"/>\n       <use x=\"454.988281\" xlink:href=\"#DejaVuSans-104\"/>\n       <use x=\"518.367188\" xlink:href=\"#DejaVuSans-111\"/>\n       <use x=\"579.548828\" xlink:href=\"#DejaVuSans-111\"/>\n       <use x=\"640.730469\" xlink:href=\"#DejaVuSans-100\"/>\n       <use x=\"704.207031\" xlink:href=\"#DejaVuSans-95\"/>\n       <use x=\"754.207031\" xlink:href=\"#DejaVuSans-67\"/>\n       <use x=\"824.03125\" xlink:href=\"#DejaVuSans-111\"/>\n       <use x=\"885.212891\" xlink:href=\"#DejaVuSans-108\"/>\n       <use x=\"912.996094\" xlink:href=\"#DejaVuSans-108\"/>\n       <use x=\"940.779297\" xlink:href=\"#DejaVuSans-103\"/>\n       <use x=\"1004.255859\" xlink:href=\"#DejaVuSans-67\"/>\n       <use x=\"1074.080078\" xlink:href=\"#DejaVuSans-114\"/>\n      </g>\n     </g>\n    </g>\n    <g id=\"ytick_17\">\n     <g id=\"line2d_43\">\n      <path clip-path=\"url(#pfa1e0c774d)\" d=\"M 181.71 77.730248 \nL 808.11 77.730248 \n\" style=\"fill:none;stroke:#cbcbcb;\"/>\n     </g>\n     <g id=\"line2d_44\"/>\n     <g id=\"text_24\">\n      <!-- MSZoning_FV -->\n      <defs>\n       <path d=\"M 9.8125 72.90625 \nL 51.703125 72.90625 \nL 51.703125 64.59375 \nL 19.671875 64.59375 \nL 19.671875 43.109375 \nL 48.578125 43.109375 \nL 48.578125 34.8125 \nL 19.671875 34.8125 \nL 19.671875 0 \nL 9.8125 0 \nz\n\" id=\"DejaVuSans-70\"/>\n      </defs>\n      <g transform=\"translate(83.935313 83.049154)scale(0.14 -0.14)\">\n       <use xlink:href=\"#DejaVuSans-77\"/>\n       <use x=\"86.279297\" xlink:href=\"#DejaVuSans-83\"/>\n       <use x=\"149.755859\" xlink:href=\"#DejaVuSans-90\"/>\n       <use x=\"218.261719\" xlink:href=\"#DejaVuSans-111\"/>\n       <use x=\"279.443359\" xlink:href=\"#DejaVuSans-110\"/>\n       <use x=\"342.822266\" xlink:href=\"#DejaVuSans-105\"/>\n       <use x=\"370.605469\" xlink:href=\"#DejaVuSans-110\"/>\n       <use x=\"433.984375\" xlink:href=\"#DejaVuSans-103\"/>\n       <use x=\"497.460938\" xlink:href=\"#DejaVuSans-95\"/>\n       <use x=\"547.460938\" xlink:href=\"#DejaVuSans-70\"/>\n       <use x=\"604.980469\" xlink:href=\"#DejaVuSans-86\"/>\n      </g>\n     </g>\n    </g>\n    <g id=\"ytick_18\">\n     <g id=\"line2d_45\">\n      <path clip-path=\"url(#pfa1e0c774d)\" d=\"M 181.71 61.664132 \nL 808.11 61.664132 \n\" style=\"fill:none;stroke:#cbcbcb;\"/>\n     </g>\n     <g id=\"line2d_46\"/>\n     <g id=\"text_25\">\n      <!-- Neighborhood_NAmes -->\n      <g transform=\"translate(23.02 66.983038)scale(0.14 -0.14)\">\n       <use xlink:href=\"#DejaVuSans-78\"/>\n       <use x=\"74.804688\" xlink:href=\"#DejaVuSans-101\"/>\n       <use x=\"136.328125\" xlink:href=\"#DejaVuSans-105\"/>\n       <use x=\"164.111328\" xlink:href=\"#DejaVuSans-103\"/>\n       <use x=\"227.587891\" xlink:href=\"#DejaVuSans-104\"/>\n       <use x=\"290.966797\" xlink:href=\"#DejaVuSans-98\"/>\n       <use x=\"354.443359\" xlink:href=\"#DejaVuSans-111\"/>\n       <use x=\"415.625\" xlink:href=\"#DejaVuSans-114\"/>\n       <use x=\"454.988281\" xlink:href=\"#DejaVuSans-104\"/>\n       <use x=\"518.367188\" xlink:href=\"#DejaVuSans-111\"/>\n       <use x=\"579.548828\" xlink:href=\"#DejaVuSans-111\"/>\n       <use x=\"640.730469\" xlink:href=\"#DejaVuSans-100\"/>\n       <use x=\"704.207031\" xlink:href=\"#DejaVuSans-95\"/>\n       <use x=\"754.207031\" xlink:href=\"#DejaVuSans-78\"/>\n       <use x=\"829.011719\" xlink:href=\"#DejaVuSans-65\"/>\n       <use x=\"897.419922\" xlink:href=\"#DejaVuSans-109\"/>\n       <use x=\"994.832031\" xlink:href=\"#DejaVuSans-101\"/>\n       <use x=\"1056.355469\" xlink:href=\"#DejaVuSans-115\"/>\n      </g>\n     </g>\n    </g>\n    <g id=\"ytick_19\">\n     <g id=\"line2d_47\">\n      <path clip-path=\"url(#pfa1e0c774d)\" d=\"M 181.71 45.598017 \nL 808.11 45.598017 \n\" style=\"fill:none;stroke:#cbcbcb;\"/>\n     </g>\n     <g id=\"line2d_48\"/>\n     <g id=\"text_26\">\n      <!-- MSZoning_RM -->\n      <g transform=\"translate(79.757188 50.916923)scale(0.14 -0.14)\">\n       <use xlink:href=\"#DejaVuSans-77\"/>\n       <use x=\"86.279297\" xlink:href=\"#DejaVuSans-83\"/>\n       <use x=\"149.755859\" xlink:href=\"#DejaVuSans-90\"/>\n       <use x=\"218.261719\" xlink:href=\"#DejaVuSans-111\"/>\n       <use x=\"279.443359\" xlink:href=\"#DejaVuSans-110\"/>\n       <use x=\"342.822266\" xlink:href=\"#DejaVuSans-105\"/>\n       <use x=\"370.605469\" xlink:href=\"#DejaVuSans-110\"/>\n       <use x=\"433.984375\" xlink:href=\"#DejaVuSans-103\"/>\n       <use x=\"497.460938\" xlink:href=\"#DejaVuSans-95\"/>\n       <use x=\"547.460938\" xlink:href=\"#DejaVuSans-82\"/>\n       <use x=\"616.943359\" xlink:href=\"#DejaVuSans-77\"/>\n      </g>\n     </g>\n    </g>\n    <g id=\"ytick_20\">\n     <g id=\"line2d_49\">\n      <path clip-path=\"url(#pfa1e0c774d)\" d=\"M 181.71 29.531901 \nL 808.11 29.531901 \n\" style=\"fill:none;stroke:#cbcbcb;\"/>\n     </g>\n     <g id=\"line2d_50\"/>\n     <g id=\"text_27\">\n      <!-- MSZoning_RL -->\n      <defs>\n       <path d=\"M 9.8125 72.90625 \nL 19.671875 72.90625 \nL 19.671875 8.296875 \nL 55.171875 8.296875 \nL 55.171875 0 \nL 9.8125 0 \nz\n\" id=\"DejaVuSans-76\"/>\n      </defs>\n      <g transform=\"translate(84.035938 34.850807)scale(0.14 -0.14)\">\n       <use xlink:href=\"#DejaVuSans-77\"/>\n       <use x=\"86.279297\" xlink:href=\"#DejaVuSans-83\"/>\n       <use x=\"149.755859\" xlink:href=\"#DejaVuSans-90\"/>\n       <use x=\"218.261719\" xlink:href=\"#DejaVuSans-111\"/>\n       <use x=\"279.443359\" xlink:href=\"#DejaVuSans-110\"/>\n       <use x=\"342.822266\" xlink:href=\"#DejaVuSans-105\"/>\n       <use x=\"370.605469\" xlink:href=\"#DejaVuSans-110\"/>\n       <use x=\"433.984375\" xlink:href=\"#DejaVuSans-103\"/>\n       <use x=\"497.460938\" xlink:href=\"#DejaVuSans-95\"/>\n       <use x=\"547.460938\" xlink:href=\"#DejaVuSans-82\"/>\n       <use x=\"616.943359\" xlink:href=\"#DejaVuSans-76\"/>\n      </g>\n     </g>\n    </g>\n   </g>\n   <g id=\"patch_3\">\n    <path clip-path=\"url(#pfa1e0c774d)\" d=\"M 573.990698 341.214545 \nL 663.506572 341.214545 \nL 663.506572 328.361653 \nL 573.990698 328.361653 \nz\n\" style=\"fill:#008000;\"/>\n   </g>\n   <g id=\"patch_4\">\n    <path clip-path=\"url(#pfa1e0c774d)\" d=\"M 573.990698 325.14843 \nL 664.6763 325.14843 \nL 664.6763 312.295537 \nL 573.990698 312.295537 \nz\n\" style=\"fill:#008000;\"/>\n   </g>\n   <g id=\"patch_5\">\n    <path clip-path=\"url(#pfa1e0c774d)\" d=\"M 573.990698 309.082314 \nL 481.26526 309.082314 \nL 481.26526 296.229421 \nL 573.990698 296.229421 \nz\n\" style=\"fill:#ff0000;\"/>\n   </g>\n   <g id=\"patch_6\">\n    <path clip-path=\"url(#pfa1e0c774d)\" d=\"M 573.990698 293.016198 \nL 668.088585 293.016198 \nL 668.088585 280.163306 \nL 573.990698 280.163306 \nz\n\" style=\"fill:#008000;\"/>\n   </g>\n   <g id=\"patch_7\">\n    <path clip-path=\"url(#pfa1e0c774d)\" d=\"M 573.990698 276.950083 \nL 676.569658 276.950083 \nL 676.569658 264.09719 \nL 573.990698 264.09719 \nz\n\" style=\"fill:#008000;\"/>\n   </g>\n   <g id=\"patch_8\">\n    <path clip-path=\"url(#pfa1e0c774d)\" d=\"M 573.990698 260.883967 \nL 678.567975 260.883967 \nL 678.567975 248.031074 \nL 573.990698 248.031074 \nz\n\" style=\"fill:#008000;\"/>\n   </g>\n   <g id=\"patch_9\">\n    <path clip-path=\"url(#pfa1e0c774d)\" d=\"M 573.990698 244.817851 \nL 685.236786 244.817851 \nL 685.236786 231.964959 \nL 573.990698 231.964959 \nz\n\" style=\"fill:#008000;\"/>\n   </g>\n   <g id=\"patch_10\">\n    <path clip-path=\"url(#pfa1e0c774d)\" d=\"M 573.990698 228.751736 \nL 686.151683 228.751736 \nL 686.151683 215.898843 \nL 573.990698 215.898843 \nz\n\" style=\"fill:#008000;\"/>\n   </g>\n   <g id=\"patch_11\">\n    <path clip-path=\"url(#pfa1e0c774d)\" d=\"M 573.990698 212.68562 \nL 698.126314 212.68562 \nL 698.126314 199.832727 \nL 573.990698 199.832727 \nz\n\" style=\"fill:#008000;\"/>\n   </g>\n   <g id=\"patch_12\">\n    <path clip-path=\"url(#pfa1e0c774d)\" d=\"M 573.990698 196.619504 \nL 698.928603 196.619504 \nL 698.928603 183.766612 \nL 573.990698 183.766612 \nz\n\" style=\"fill:#008000;\"/>\n   </g>\n   <g id=\"patch_13\">\n    <path clip-path=\"url(#pfa1e0c774d)\" d=\"M 573.990698 180.553388 \nL 701.297965 180.553388 \nL 701.297965 167.700496 \nL 573.990698 167.700496 \nz\n\" style=\"fill:#008000;\"/>\n   </g>\n   <g id=\"patch_14\">\n    <path clip-path=\"url(#pfa1e0c774d)\" d=\"M 573.990698 164.487273 \nL 702.847434 164.487273 \nL 702.847434 151.63438 \nL 573.990698 151.63438 \nz\n\" style=\"fill:#008000;\"/>\n   </g>\n   <g id=\"patch_15\">\n    <path clip-path=\"url(#pfa1e0c774d)\" d=\"M 573.990698 148.421157 \nL 708.093958 148.421157 \nL 708.093958 135.568264 \nL 573.990698 135.568264 \nz\n\" style=\"fill:#008000;\"/>\n   </g>\n   <g id=\"patch_16\">\n    <path clip-path=\"url(#pfa1e0c774d)\" d=\"M 573.990698 132.355041 \nL 717.859357 132.355041 \nL 717.859357 119.502149 \nL 573.990698 119.502149 \nz\n\" style=\"fill:#008000;\"/>\n   </g>\n   <g id=\"patch_17\">\n    <path clip-path=\"url(#pfa1e0c774d)\" d=\"M 573.990698 116.288926 \nL 726.192489 116.288926 \nL 726.192489 103.436033 \nL 573.990698 103.436033 \nz\n\" style=\"fill:#008000;\"/>\n   </g>\n   <g id=\"patch_18\">\n    <path clip-path=\"url(#pfa1e0c774d)\" d=\"M 573.990698 100.22281 \nL 746.923755 100.22281 \nL 746.923755 87.369917 \nL 573.990698 87.369917 \nz\n\" style=\"fill:#008000;\"/>\n   </g>\n   <g id=\"patch_19\">\n    <path clip-path=\"url(#pfa1e0c774d)\" d=\"M 573.990698 84.156694 \nL 390.294956 84.156694 \nL 390.294956 71.303802 \nL 573.990698 71.303802 \nz\n\" style=\"fill:#ff0000;\"/>\n   </g>\n   <g id=\"patch_20\">\n    <path clip-path=\"url(#pfa1e0c774d)\" d=\"M 573.990698 68.090579 \nL 779.637273 68.090579 \nL 779.637273 55.237686 \nL 573.990698 55.237686 \nz\n\" style=\"fill:#008000;\"/>\n   </g>\n   <g id=\"patch_21\">\n    <path clip-path=\"url(#pfa1e0c774d)\" d=\"M 573.990698 52.024463 \nL 256.563341 52.024463 \nL 256.563341 39.17157 \nL 573.990698 39.17157 \nz\n\" style=\"fill:#ff0000;\"/>\n   </g>\n   <g id=\"patch_22\">\n    <path clip-path=\"url(#pfa1e0c774d)\" d=\"M 573.990698 35.958347 \nL 210.182727 35.958347 \nL 210.182727 23.105455 \nL 573.990698 23.105455 \nz\n\" style=\"fill:#ff0000;\"/>\n   </g>\n   <g id=\"patch_23\">\n    <path d=\"M 181.71 357.12 \nL 181.71 7.2 \n\" style=\"fill:none;stroke:#f0f0f0;stroke-linecap:square;stroke-linejoin:miter;stroke-width:3;\"/>\n   </g>\n   <g id=\"patch_24\">\n    <path d=\"M 808.11 357.12 \nL 808.11 7.2 \n\" style=\"fill:none;stroke:#f0f0f0;stroke-linecap:square;stroke-linejoin:miter;stroke-width:3;\"/>\n   </g>\n   <g id=\"patch_25\">\n    <path d=\"M 181.71 357.12 \nL 808.11 357.12 \n\" style=\"fill:none;stroke:#f0f0f0;stroke-linecap:square;stroke-linejoin:miter;stroke-width:3;\"/>\n   </g>\n   <g id=\"patch_26\">\n    <path d=\"M 181.71 7.2 \nL 808.11 7.2 \n\" style=\"fill:none;stroke:#f0f0f0;stroke-linecap:square;stroke-linejoin:miter;stroke-width:3;\"/>\n   </g>\n  </g>\n </g>\n <defs>\n  <clipPath id=\"pfa1e0c774d\">\n   <rect height=\"349.92\" width=\"626.4\" x=\"181.71\" y=\"7.2\"/>\n  </clipPath>\n </defs>\n</svg>\n"
          },
          "metadata": {
            "tags": []
          }
        }
      ]
    },
    {
      "cell_type": "code",
      "metadata": {
        "id": "SFG3Cbg6PL2c"
      },
      "source": [],
      "execution_count": null,
      "outputs": []
    }
  ]
}